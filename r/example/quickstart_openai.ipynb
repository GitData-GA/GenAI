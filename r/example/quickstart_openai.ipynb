{
  "nbformat": 4,
  "nbformat_minor": 0,
  "metadata": {
    "colab": {
      "provenance": [],
      "authorship_tag": "ABX9TyOr3pcrggW1wPhwygZN9SIV",
      "include_colab_link": true
    },
    "kernelspec": {
      "name": "ir",
      "display_name": "R"
    },
    "language_info": {
      "name": "R"
    }
  },
  "cells": [
    {
      "cell_type": "markdown",
      "metadata": {
        "id": "view-in-github",
        "colab_type": "text"
      },
      "source": [
        "<a href=\"https://colab.research.google.com/github/GitData-GA/GenAI/blob/gh-pages/r/example/quickstart_openai.ipynb\" target=\"_parent\"><img src=\"https://colab.research.google.com/assets/colab-badge.svg\" alt=\"Open In Colab\"/></a>"
      ]
    },
    {
      "cell_type": "markdown",
      "source": [
        "# GenAI quickstart for OpenAI's models"
      ],
      "metadata": {
        "id": "-vgD91x6XTCN"
      }
    },
    {
      "cell_type": "code",
      "execution_count": 1,
      "metadata": {
        "colab": {
          "base_uri": "https://localhost:8080/"
        },
        "id": "RJXEP3e7XEeN",
        "outputId": "9736b376-c185-4a20-9f21-e13f5dbb7424"
      },
      "outputs": [
        {
          "output_type": "stream",
          "name": "stderr",
          "text": [
            "Installing package into ‘/usr/local/lib/R/site-library’\n",
            "(as ‘lib’ is unspecified)\n",
            "\n"
          ]
        }
      ],
      "source": [
        "# Install the library\n",
        "install.packages(\"GenAI\")\n",
        "\n",
        "# Import the library\n",
        "library(\"GenAI\")\n",
        "\n",
        "# Get supported models\n",
        "models = available.models()\n",
        "\n",
        "# Select a model and connect, replace API_KEY with your api key\n",
        "openai.model = connect.genai(\"openai\",\n",
        "                             models$openai$model[1],\n",
        "                             models$openai$version[1],\n",
        "                             \"API_KEY\",\n",
        "                             FALSE)"
      ]
    },
    {
      "cell_type": "markdown",
      "source": [
        "# Text generation"
      ],
      "metadata": {
        "id": "wxVNEnr1XrXq"
      }
    },
    {
      "cell_type": "code",
      "source": [
        "openai.text = txt(openai.model,\n",
        "                  0.9,\n",
        "                  \"Write a story about a magic backpack.\")\n",
        "cat(openai.text)"
      ],
      "metadata": {
        "colab": {
          "base_uri": "https://localhost:8080/"
        },
        "id": "WzA6DO_KXgvb",
        "outputId": "c3ec421a-fa4f-4f99-948f-32744c302859"
      },
      "execution_count": 2,
      "outputs": [
        {
          "output_type": "stream",
          "name": "stdout",
          "text": [
            "Once upon a time, in a quiet little village nestled deep in the enchanted forest, lived a young girl named Lily. Lily was known for her thirst for adventure and her insatiable curiosity. She always yearned to explore the world beyond her village. One day, while wandering through the forest, she came across a mysterious old man. He was sitting beneath a tree, surrounded by colorful flowers.\n",
            "\n",
            "Intrigued, Lily approached the old man, who introduced himself as Mr. Merlin. He was a wise but eccentric wizard, known for his magical creations. Sensing Lily's curiosity, he smiled kindly and said, \"Ah, young girl, do you have an adventurous spirit?\"\n",
            "\n",
            "Lily's eyes sparkled with excitement as she nodded vigorously. \"Yes, Mr. Merlin! I long to explore new places and see the wonders of the world.\"\n",
            "\n",
            "Mr. Merlin chuckled softly and reached into his cloak, pulling out a weathered old backpack. It seemed ordinary at first glance, but Mr. Merlin whispered a spell, and suddenly, the backpack glowed with a vibrant blue light. \"This, my dear, is a magic backpack. It will grant you the ability to carry everything you need for your adventures.\"\n",
            "\n",
            "Amazed, Lily eagerly extended her hand, and Mr. Merlin placed the backpack gently into her palm. As soon as Lily put it on her back, she felt a surge of energy coursing through her. The backpack magically adjusted to fit her perfectly, as if it had been waiting for her all along.\n",
            "\n",
            "\"Now, Lily, listen closely,\" Mr. Merlin said. \"In order for your backpack to be truly magical, it needs to be filled with objects that hold special meaning to you. These items will unlock the true power of the backpack.\"\n",
            "\n",
            "Lily nodded, understanding the importance of the task ahead. She thanked Mr. Merlin and rushed back to her village, ready to search for the perfect objects. She carefully picked a seashell from a cherished trip to the beach, a feather from her favorite bird, and a key from her grandmother's jewelry box.\n",
            "\n",
            "With each addition, the backpack seemed to grow lighter and more radiant. Lily couldn't help but feel an extraordinary connection to it. She decided to embark on her first adventure right away. She filled her magical backpack with a map, a water canteen, her sketchbook, and a small pouch of snacks.\n",
            "\n",
            "Setting off into the unknown, Lily discovered breathtaking landscapes and encountered magnificent creatures. Her backpack proved its enchantment time and time again. Whenever she needed something, it would magically produce it from within. A flashlight to guide her through a dark cavern, a warm blanket for chilly nights, and even a compass to help her find her way home.\n",
            "\n",
            "As the years passed, Lily's magical backpack became her trustworthy companion. It held the memories of every daring journey she had undertaken, and it never failed to surprise and support her. Lily shared her stories with the villagers, inspiring others to seek their own adventures and discover their own magic.\n",
            "\n",
            "Lily's magical backpack not only empowered her to explore the world but also taught her valuable life lessons about resourcefulness, gratitude, and the extraordinary power of cherished memories. And so, with her magical backpack by her side, Lily continued to venture forth, spreading the joy of adventure and reminding everyone that the true magic lies within ourselves."
          ]
        }
      ]
    },
    {
      "cell_type": "markdown",
      "source": [
        "# Chat generation"
      ],
      "metadata": {
        "id": "QbhEYmGEXpj6"
      }
    },
    {
      "cell_type": "code",
      "source": [
        "# Setup a chat session\n",
        "openai.history = chat.setup(openai.model)\n",
        "\n",
        "# Send the first message and get the response\n",
        "openai.history = chat(openai.model,\n",
        "                      0.9,\n",
        "                      openai.history,\n",
        "                      \"Write a story about a magic backpack\")\n",
        "cat(chat.recent(openai.model, openai.history))"
      ],
      "metadata": {
        "colab": {
          "base_uri": "https://localhost:8080/"
        },
        "id": "hgD7nBLXXilS",
        "outputId": "49da97ac-11c0-4302-b171-99a474bf936a"
      },
      "execution_count": 3,
      "outputs": [
        {
          "output_type": "stream",
          "name": "stdout",
          "text": [
            "Once upon a time in a small village nestled deep within a lush forest, there lived a young girl named Emily. Emily was a curious and adventurous soul, always yearning for exciting new discoveries. One summer day, while exploring a hidden trail near her home, she stumbled upon an old and tattered backpack hidden amongst the dense foliage.\n",
            "\n",
            "With a glimmer of excitement in her eyes, Emily reached down and picked up the backpack. To her surprise, the moment her fingers touched the worn-out fabric, a magical aura shimmered around it. Intrigued, she gingerly opened the backpack, revealing a hidden compartment filled with an assortment of colorful potions, scrolls, and objects she had only ever read about in storybooks.\n",
            "\n",
            "Emily realized that she had stumbled upon a magic backpack, a mystical artifact with untold powers. Eager to uncover its secrets, she wasted no time in donning the backpack and setting off on her first adventure.\n",
            "\n",
            "As Emily ventured into the forest, she discovered that the backpack possessed the remarkable ability to transform its contents and grant her extraordinary abilities. Wanting to test its limits, she removed a small vial containing glowing liquid. She uncorked it, and upon drinking just a drop, she found herself floating effortlessly above the ground. Amazed, she soared through the sky, feeling as light as a feather.\n",
            "\n",
            "Her excitement grew as she tried more potions and used enchanted scrolls. With each discovery, Emily's world expanded. She could suddenly speak to animals, she could turn invisible at will, and she discovered a pair of magical boots that allowed her to run faster than the wind. It seemed as though the backpack held an unlimited supply of enchantments, waiting to be explored.\n",
            "\n",
            "Word of Emily's extraordinary abilities and her magic backpack soon spread throughout the village. People would gather to watch her perform astounding feats, and she became known as the village's young enchantress. Everyone marveled at her courage and creativity.\n",
            "\n",
            "But as time passed and Emily grew older, her adventures became less about impressing others and more about helping those in need. She would use her magic backpack to heal the injured, restore the environment, and bring joy to those who had lost hope. The backpack had transformed from a source of personal wonder into a tool for making the world a better place.\n",
            "\n",
            "Years went by, and Emily continued to embrace the responsibilities that came with her gift. She taught others about the importance of kindness, empathy, and the wonders of the natural world. The magic backpack served as a reminder of the power of imagination and the potential within each and every person to make a difference.\n",
            "\n",
            "And so, the story of Emily and her magic backpack became a legend in the village, passed down through generations as a symbol of hope and the limitless possibilities that lie within the hearts of those who dare to dream."
          ]
        }
      ]
    },
    {
      "cell_type": "code",
      "source": [
        "# Send the second message and get the response\n",
        "openai.history = chat(openai.model,\n",
        "                      0.9,\n",
        "                      openai.history,\n",
        "                      \"What is the word count of the story you just wrote?\")\n",
        "cat(chat.recent(openai.model, openai.history))"
      ],
      "metadata": {
        "colab": {
          "base_uri": "https://localhost:8080/"
        },
        "id": "WURXyDE_Xktq",
        "outputId": "ae2ea3ce-5b64-4118-f9f2-574bfece07cd"
      },
      "execution_count": 4,
      "outputs": [
        {
          "output_type": "stream",
          "name": "stdout",
          "text": [
            "The word count of the story I just wrote is 452 words."
          ]
        }
      ]
    }
  ]
}