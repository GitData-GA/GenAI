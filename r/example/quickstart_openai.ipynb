{
  "nbformat": 4,
  "nbformat_minor": 0,
  "metadata": {
    "colab": {
      "provenance": [],
      "authorship_tag": "ABX9TyPFFyge9As5V4eK2CGCJ+3o",
      "include_colab_link": true
    },
    "kernelspec": {
      "name": "ir",
      "display_name": "R"
    },
    "language_info": {
      "name": "R"
    }
  },
  "cells": [
    {
      "cell_type": "markdown",
      "metadata": {
        "id": "view-in-github",
        "colab_type": "text"
      },
      "source": [
        "<a href=\"https://colab.research.google.com/github/GitData-GA/GenAI/blob/gh-pages/r/example/quickstart_openai.ipynb\" target=\"_parent\"><img src=\"https://colab.research.google.com/assets/colab-badge.svg\" alt=\"Open In Colab\"/></a>"
      ]
    },
    {
      "cell_type": "markdown",
      "source": [
        "# Installation & Setup"
      ],
      "metadata": {
        "id": "-vgD91x6XTCN"
      }
    },
    {
      "cell_type": "code",
      "execution_count": null,
      "metadata": {
        "colab": {
          "base_uri": "https://localhost:8080/"
        },
        "id": "RJXEP3e7XEeN",
        "outputId": "5c369119-1f48-4ec6-832f-01be313ed35a"
      },
      "outputs": [
        {
          "output_type": "stream",
          "name": "stderr",
          "text": [
            "Installing package into ‘/usr/local/lib/R/site-library’\n",
            "(as ‘lib’ is unspecified)\n",
            "\n",
            "also installing the dependencies ‘Rcpp’, ‘gridGraphics’, ‘yulab.utils’, ‘listenv’, ‘magick’, ‘ggplotify’\n",
            "\n",
            "\n",
            "Loading required package: magrittr\n",
            "\n"
          ]
        }
      ],
      "source": [
        "# The following commands are for Colab only\n",
        "system('add-apt-repository -y ppa:cran/imagemagick')\n",
        "system('apt-get update')\n",
        "system(\"apt-get install libmagick++-dev\")\n",
        "\n",
        "# Install the library (usually 1 - 3 minutes in Colab)\n",
        "install.packages(\"GenAI\")\n",
        "\n",
        "# Import the library\n",
        "library(\"GenAI\")"
      ]
    },
    {
      "cell_type": "markdown",
      "source": [
        "# Get Available Models"
      ],
      "metadata": {
        "id": "iB-_Qu-yOZ-4"
      }
    },
    {
      "cell_type": "code",
      "source": [
        "all.models = available.models() %>% print()"
      ],
      "metadata": {
        "colab": {
          "base_uri": "https://localhost:8080/"
        },
        "id": "Sj0iwZZvOaaV",
        "outputId": "e0bdabb3-f1dc-4da4-d5ea-6ec4c339389d"
      },
      "execution_count": null,
      "outputs": [
        {
          "output_type": "stream",
          "name": "stdout",
          "text": [
            "$google\n",
            "$google$version\n",
            "[1] \"v1\"     \"v1beta\"\n",
            "\n",
            "$google$model\n",
            "[1] \"gemini-pro\"        \"gemini-pro-vision\"\n",
            "\n",
            "\n",
            "$openai\n",
            "$openai$version\n",
            "[1] \"v1\"\n",
            "\n",
            "$openai$model\n",
            "[1] \"gpt-3.5-turbo\"        \"gpt-3.5-turbo-1106\"   \"gpt-3.5-turbo-16k\"   \n",
            "[4] \"gpt-4\"                \"gpt-4-1106-preview\"   \"gpt-4-32k\"           \n",
            "[7] \"gpt-4-vision-preview\" \"dall-e-2\"             \"dall-e-3\"            \n",
            "\n",
            "\n",
            "$moonshot\n",
            "$moonshot$version\n",
            "[1] \"v1\"\n",
            "\n",
            "$moonshot$model\n",
            "[1] \"moonshot-v1-8k\"   \"moonshot-v1-32k\"  \"moonshot-v1-128k\"\n",
            "\n",
            "\n"
          ]
        }
      ]
    },
    {
      "cell_type": "markdown",
      "source": [
        "# Create an OpenAI object"
      ],
      "metadata": {
        "id": "l75fjcciOd3d"
      }
    },
    {
      "cell_type": "code",
      "source": [
        "# Please change YOUR_OPENAI_API to your own API key of OpenAI\n",
        "Sys.setenv(OPENAI_API = \"YOUR_OPENAI_API\")\n",
        "\n",
        "# (Optional) Please change YOUR_OPENAI_ORG to your own organization ID for OpenAI\n",
        "Sys.setenv(OPENAI_ORG = \"YOUR_OPENAI_ORG\")\n",
        "\n",
        "# Create an OpenAI object\n",
        "openai = genai.openai(api = Sys.getenv(\"OPENAI_API\"),\n",
        "                      model = all.models$openai$model[1],\n",
        "                      version = all.models$openai$version[1],\n",
        "                      proxy = FALSE,\n",
        "                      organization.id = Sys.getenv(\"OPENAI_ORG\"))"
      ],
      "metadata": {
        "id": "sLG0wC2cOf99"
      },
      "execution_count": null,
      "outputs": []
    },
    {
      "cell_type": "markdown",
      "source": [
        "# Text generation"
      ],
      "metadata": {
        "id": "wxVNEnr1XrXq"
      }
    },
    {
      "cell_type": "code",
      "source": [
        "openai %>%\n",
        "  txt(\"Please write a story about Mars in 50 words.\") %>%\n",
        "  cat()"
      ],
      "metadata": {
        "colab": {
          "base_uri": "https://localhost:8080/"
        },
        "id": "WzA6DO_KXgvb",
        "outputId": "801d9bde-6646-4bba-bb55-efa3a2a0488d"
      },
      "execution_count": null,
      "outputs": [
        {
          "output_type": "stream",
          "name": "stdout",
          "text": [
            "Mars, a mysterious red planet, beckons humanity with its barren landscape. Scientists tirelessly explore its ancient canyons and frozen poles, seeking signs of life or remnants of a forgotten civilization. Though challenging, the quest never wanes, for Mars may hold the key to our cosmic origins, waiting to unveil its secrets."
          ]
        }
      ]
    },
    {
      "cell_type": "markdown",
      "source": [
        "# Chat generation"
      ],
      "metadata": {
        "id": "QbhEYmGEXpj6"
      }
    },
    {
      "cell_type": "code",
      "source": [
        "openai %>%\n",
        "  chat(\"Please write a story about Mars in 50 words.\") %>%\n",
        "  cat()"
      ],
      "metadata": {
        "colab": {
          "base_uri": "https://localhost:8080/"
        },
        "id": "hgD7nBLXXilS",
        "outputId": "b2f6cdb2-df32-45f6-bde0-1c169fbf89aa"
      },
      "execution_count": null,
      "outputs": [
        {
          "output_type": "stream",
          "name": "stdout",
          "text": [
            "In the crimson depths of Mars, a lone rover explored its ancient terrain. It unearthed secrets buried for eons, whispering of lost civilizations and tantalizing possibilities. With each discovery, humanity's fascination grew, forever drawn to the enigma of Mars. And maybe, just maybe, they would stumble upon the answer to their ultimate question: are we alone?"
          ]
        }
      ]
    },
    {
      "cell_type": "code",
      "source": [
        "openai %>%\n",
        "  chat(\"Please write a story about Jupiter in 50 words.\") %>%\n",
        "  cat()"
      ],
      "metadata": {
        "colab": {
          "base_uri": "https://localhost:8080/"
        },
        "id": "JL97_yd_OsXE",
        "outputId": "5383eb5d-3e5d-401e-cf0e-bb02ff6f87ad"
      },
      "execution_count": null,
      "outputs": [
        {
          "output_type": "stream",
          "name": "stdout",
          "text": [
            "In the vast expanse of Jupiter's swirling storms, a spacecraft descended, defying the odds. Its crew marveled at the gas giant's beauty, the roaring tempests dancing in kaleidoscopic hues. As they delved deeper, the mysteries of Jupiter unraveled, leaving them in awe of its colossal power, a celestial wonder ever beyond human comprehension."
          ]
        }
      ]
    },
    {
      "cell_type": "code",
      "source": [
        "openai %>%\n",
        "  chat(\"Please write a story about Earth in 50 words.\") %>%\n",
        "  cat()"
      ],
      "metadata": {
        "colab": {
          "base_uri": "https://localhost:8080/"
        },
        "id": "ViH4mZ82Otw0",
        "outputId": "9edfd98f-ffe1-42d4-f9cd-d1b7ca9e96b0"
      },
      "execution_count": null,
      "outputs": [
        {
          "output_type": "stream",
          "name": "stdout",
          "text": [
            "On the pale blue dot called Earth, diverse lives intertwined. From bustling cities to serene forests, humanity thrived. But as time passed, wounds marred its beauty: pollution, greed, and inequality. Yet, pockets of hope persisted, inspiring change, reminding us of the fragile miracle beneath our feet, the planet we must safeguard for generations to come."
          ]
        }
      ]
    },
    {
      "cell_type": "markdown",
      "source": [
        "# Print the Chat History"
      ],
      "metadata": {
        "id": "BWedBfsTOvVU"
      }
    },
    {
      "cell_type": "code",
      "source": [
        "openai %>%\n",
        "  chat.history.print()"
      ],
      "metadata": {
        "colab": {
          "base_uri": "https://localhost:8080/"
        },
        "id": "U7_InM0fOxhl",
        "outputId": "2f1ce5bd-c0df-48bb-df06-dea693267046"
      },
      "execution_count": null,
      "outputs": [
        {
          "output_type": "stream",
          "name": "stdout",
          "text": [
            "-------------------------------- Message  1 ---------------------------------\n",
            "Role: system \n",
            "Text: You are a helpful assistant.\n",
            "\n",
            "-------------------------------- Message  2 ---------------------------------\n",
            "Role: user \n",
            "Text: Please write a story about Mars in 50 words.\n",
            "\n",
            "-------------------------------- Message  3 ---------------------------------\n",
            "Role: assistant \n",
            "Text: In the crimson depths of Mars, a lone rover explored its ancient terrain.\n",
            "It unearthed secrets buried for eons, whispering of lost civilizations and\n",
            "tantalizing possibilities. With each discovery, humanity's fascination\n",
            "grew, forever drawn to the enigma of Mars. And maybe, just maybe, they\n",
            "would stumble upon the answer to their ultimate question: are we alone?\n",
            "\n",
            "-------------------------------- Message  4 ---------------------------------\n",
            "Role: user \n",
            "Text: Please write a story about Jupiter in 50 words.\n",
            "\n",
            "-------------------------------- Message  5 ---------------------------------\n",
            "Role: assistant \n",
            "Text: In the vast expanse of Jupiter's swirling storms, a spacecraft descended,\n",
            "defying the odds. Its crew marveled at the gas giant's beauty, the roaring\n",
            "tempests dancing in kaleidoscopic hues. As they delved deeper, the\n",
            "mysteries of Jupiter unraveled, leaving them in awe of its colossal power,\n",
            "a celestial wonder ever beyond human comprehension.\n",
            "\n",
            "-------------------------------- Message  6 ---------------------------------\n",
            "Role: user \n",
            "Text: Please write a story about Earth in 50 words.\n",
            "\n",
            "-------------------------------- Message  7 ---------------------------------\n",
            "Role: assistant \n",
            "Text: On the pale blue dot called Earth, diverse lives intertwined. From bustling\n",
            "cities to serene forests, humanity thrived. But as time passed, wounds\n",
            "marred its beauty: pollution, greed, and inequality. Yet, pockets of hope\n",
            "persisted, inspiring change, reminding us of the fragile miracle beneath\n",
            "our feet, the planet we must safeguard for generations to come.\n",
            "\n"
          ]
        }
      ]
    }
  ]
}