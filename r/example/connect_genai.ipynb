{
  "nbformat": 4,
  "nbformat_minor": 0,
  "metadata": {
    "colab": {
      "provenance": [],
      "include_colab_link": true
    },
    "kernelspec": {
      "name": "ir",
      "display_name": "R"
    },
    "language_info": {
      "name": "R"
    }
  },
  "cells": [
    {
      "cell_type": "markdown",
      "metadata": {
        "id": "view-in-github",
        "colab_type": "text"
      },
      "source": [
        "<a href=\"https://colab.research.google.com/github/GitData-GA/GenAI/blob/gh-pages/R/example/connect_genai.ipynb\" target=\"_parent\"><img src=\"https://colab.research.google.com/assets/colab-badge.svg\" alt=\"Open In Colab\"/></a>"
      ]
    },
    {
      "cell_type": "markdown",
      "source": [
        "# Installation"
      ],
      "metadata": {
        "id": "mDBGn0Qzsql5"
      }
    },
    {
      "cell_type": "code",
      "execution_count": null,
      "metadata": {
        "colab": {
          "base_uri": "https://localhost:8080/"
        },
        "id": "EQ5mDg9-siid",
        "outputId": "991810ce-92cd-4156-f2e5-0d02f1b62e75"
      },
      "outputs": [
        {
          "output_type": "stream",
          "name": "stderr",
          "text": [
            "Installing package into ‘/usr/local/lib/R/site-library’\n",
            "(as ‘lib’ is unspecified)\n",
            "\n",
            "\n",
            "Attaching package: ‘GenAI’\n",
            "\n",
            "\n",
            "The following object is masked from ‘package:graphics’:\n",
            "\n",
            "    text\n",
            "\n",
            "\n"
          ]
        }
      ],
      "source": [
        "install.packages(\"https://genai.gd.edu.kg/release/R/GenAI_latest.tar.gz\", repos=NULL, method=\"libcurl\")\n",
        "library(\"GenAI\")"
      ]
    },
    {
      "cell_type": "markdown",
      "source": [
        "# Example of `connect.genai`"
      ],
      "metadata": {
        "id": "LE9e2MEXs0av"
      }
    },
    {
      "cell_type": "markdown",
      "source": [
        "## Get available models"
      ],
      "metadata": {
        "id": "UdwTs_oitM8A"
      }
    },
    {
      "cell_type": "code",
      "source": [
        "models = available.models()\n",
        "models"
      ],
      "metadata": {
        "colab": {
          "base_uri": "https://localhost:8080/",
          "height": 261
        },
        "id": "S0lunMhxtOl_",
        "outputId": "4304a603-0e52-4139-a7bf-9cf637dee19c"
      },
      "execution_count": null,
      "outputs": [
        {
          "output_type": "display_data",
          "data": {
            "text/html": [
              "<dl>\n",
              "\t<dt>$google</dt>\n",
              "\t\t<dd><dl>\n",
              "\t<dt>$version</dt>\n",
              "\t\t<dd><style>\n",
              ".list-inline {list-style: none; margin:0; padding: 0}\n",
              ".list-inline>li {display: inline-block}\n",
              ".list-inline>li:not(:last-child)::after {content: \"\\00b7\"; padding: 0 .5ex}\n",
              "</style>\n",
              "<ol class=list-inline><li>'v1'</li><li>'v1beta'</li></ol>\n",
              "</dd>\n",
              "\t<dt>$model</dt>\n",
              "\t\t<dd><style>\n",
              ".list-inline {list-style: none; margin:0; padding: 0}\n",
              ".list-inline>li {display: inline-block}\n",
              ".list-inline>li:not(:last-child)::after {content: \"\\00b7\"; padding: 0 .5ex}\n",
              "</style>\n",
              "<ol class=list-inline><li>'gemini-pro'</li><li>'gemini-pro-vision'</li></ol>\n",
              "</dd>\n",
              "</dl>\n",
              "</dd>\n",
              "\t<dt>$openai</dt>\n",
              "\t\t<dd><dl>\n",
              "\t<dt>$version</dt>\n",
              "\t\t<dd>'v1'</dd>\n",
              "\t<dt>$model</dt>\n",
              "\t\t<dd><style>\n",
              ".list-inline {list-style: none; margin:0; padding: 0}\n",
              ".list-inline>li {display: inline-block}\n",
              ".list-inline>li:not(:last-child)::after {content: \"\\00b7\"; padding: 0 .5ex}\n",
              "</style>\n",
              "<ol class=list-inline><li>'gpt-3.5-turbo'</li><li>'gpt-3.5-turbo-16k'</li><li>'gpt-4'</li><li>'gpt-4-32k'</li><li>'gpt-4-vision-preview'</li></ol>\n",
              "</dd>\n",
              "</dl>\n",
              "</dd>\n",
              "</dl>\n"
            ],
            "text/markdown": "$google\n:   $version\n:   1. 'v1'\n2. 'v1beta'\n\n\n\n$model\n:   1. 'gemini-pro'\n2. 'gemini-pro-vision'\n\n\n\n\n\n\n$openai\n:   $version\n:   'v1'\n$model\n:   1. 'gpt-3.5-turbo'\n2. 'gpt-3.5-turbo-16k'\n3. 'gpt-4'\n4. 'gpt-4-32k'\n5. 'gpt-4-vision-preview'\n\n\n\n\n\n\n\n\n",
            "text/latex": "\\begin{description}\n\\item[\\$google] \\begin{description}\n\\item[\\$version] \\begin{enumerate*}\n\\item 'v1'\n\\item 'v1beta'\n\\end{enumerate*}\n\n\\item[\\$model] \\begin{enumerate*}\n\\item 'gemini-pro'\n\\item 'gemini-pro-vision'\n\\end{enumerate*}\n\n\\end{description}\n\n\\item[\\$openai] \\begin{description}\n\\item[\\$version] 'v1'\n\\item[\\$model] \\begin{enumerate*}\n\\item 'gpt-3.5-turbo'\n\\item 'gpt-3.5-turbo-16k'\n\\item 'gpt-4'\n\\item 'gpt-4-32k'\n\\item 'gpt-4-vision-preview'\n\\end{enumerate*}\n\n\\end{description}\n\n\\end{description}\n",
            "text/plain": [
              "$google\n",
              "$google$version\n",
              "[1] \"v1\"     \"v1beta\"\n",
              "\n",
              "$google$model\n",
              "[1] \"gemini-pro\"        \"gemini-pro-vision\"\n",
              "\n",
              "\n",
              "$openai\n",
              "$openai$version\n",
              "[1] \"v1\"\n",
              "\n",
              "$openai$model\n",
              "[1] \"gpt-3.5-turbo\"        \"gpt-3.5-turbo-16k\"    \"gpt-4\"               \n",
              "[4] \"gpt-4-32k\"            \"gpt-4-vision-preview\"\n",
              "\n"
            ]
          },
          "metadata": {}
        }
      ]
    },
    {
      "cell_type": "markdown",
      "source": [
        "## Connect to the Google model, replace API_KEY with your api key"
      ],
      "metadata": {
        "id": "ODWMwKhotSJ3"
      }
    },
    {
      "cell_type": "code",
      "source": [
        "google.model = connect.genai(\"google\",\n",
        "                             models$google$model[1],\n",
        "                             models$google$version[1],\n",
        "                             \"API_KEY\",\n",
        "                             FALSE)\n",
        "google.model"
      ],
      "metadata": {
        "colab": {
          "base_uri": "https://localhost:8080/",
          "height": 34
        },
        "id": "l8J1UXkcs6dP",
        "outputId": "ea28356e-503b-4d2c-bb27-0e2455184e25"
      },
      "execution_count": null,
      "outputs": [
        {
          "output_type": "display_data",
          "data": {
            "text/html": [
              "<style>\n",
              ".dl-inline {width: auto; margin:0; padding: 0}\n",
              ".dl-inline>dt, .dl-inline>dd {float: none; width: auto; display: inline-block}\n",
              ".dl-inline>dt::after {content: \":\\0020\"; padding-right: .5ex}\n",
              ".dl-inline>dt:not(:first-of-type) {padding-left: .5ex}\n",
              "</style><dl class=dl-inline><dt>provider</dt><dd>'google'</dd><dt>model</dt><dd>'gemini-pro'</dd><dt>version</dt><dd>'v1'</dd><dt>api</dt><dd>'API_KEY'</dd><dt>proxy</dt><dd>'FALSE'</dd></dl>\n"
            ],
            "text/markdown": "provider\n:   'google'model\n:   'gemini-pro'version\n:   'v1'api\n:   'API_KEY'proxy\n:   'FALSE'\n\n",
            "text/latex": "\\begin{description*}\n\\item[provider] 'google'\n\\item[model] 'gemini-pro'\n\\item[version] 'v1'\n\\item[api] 'API_KEY'\n\\item[proxy] 'FALSE'\n\\end{description*}\n",
            "text/plain": [
              "                                 provider \n",
              "                                 \"google\" \n",
              "                                    model \n",
              "                             \"gemini-pro\" \n",
              "                                  version \n",
              "                                     \"v1\" \n",
              "                                      api \n",
              "\"API_KEY\" \n",
              "                                    proxy \n",
              "                                  \"FALSE\" "
            ]
          },
          "metadata": {}
        }
      ]
    },
    {
      "cell_type": "markdown",
      "source": [
        "## Connect to the OpenAI model, replace API_KEY with your api key"
      ],
      "metadata": {
        "id": "uS1aPHGTtcB2"
      }
    },
    {
      "cell_type": "code",
      "source": [
        "openai.model = connect.genai(\"openai\",\n",
        "                             models$openai$model[1],\n",
        "                             models$openai$version[1],\n",
        "                             \"API_KEY\",\n",
        "                             FALSE)\n",
        "openai.model"
      ],
      "metadata": {
        "colab": {
          "base_uri": "https://localhost:8080/",
          "height": 34
        },
        "id": "aDFBTfvOtg_Y",
        "outputId": "034a1303-4403-46a7-80bc-251b77b86617"
      },
      "execution_count": null,
      "outputs": [
        {
          "output_type": "display_data",
          "data": {
            "text/html": [
              "<style>\n",
              ".dl-inline {width: auto; margin:0; padding: 0}\n",
              ".dl-inline>dt, .dl-inline>dd {float: none; width: auto; display: inline-block}\n",
              ".dl-inline>dt::after {content: \":\\0020\"; padding-right: .5ex}\n",
              ".dl-inline>dt:not(:first-of-type) {padding-left: .5ex}\n",
              "</style><dl class=dl-inline><dt>provider</dt><dd>'openai'</dd><dt>model</dt><dd>'gpt-3.5-turbo'</dd><dt>version</dt><dd>'v1'</dd><dt>api</dt><dd>'API_KEY'</dd><dt>proxy</dt><dd>'FALSE'</dd></dl>\n"
            ],
            "text/markdown": "provider\n:   'openai'model\n:   'gpt-3.5-turbo'version\n:   'v1'api\n:   'API_KEY'proxy\n:   'FALSE'\n\n",
            "text/latex": "\\begin{description*}\n\\item[provider] 'openai'\n\\item[model] 'gpt-3.5-turbo'\n\\item[version] 'v1'\n\\item[api] 'API_KEY'\n\\item[proxy] 'FALSE'\n\\end{description*}\n",
            "text/plain": [
              "                                             provider \n",
              "                                             \"openai\" \n",
              "                                                model \n",
              "                                      \"gpt-3.5-turbo\" \n",
              "                                              version \n",
              "                                                 \"v1\" \n",
              "                                                  api \n",
              "\"API_KEY\" \n",
              "                                                proxy \n",
              "                                              \"FALSE\" "
            ]
          },
          "metadata": {}
        }
      ]
    }
  ]
}