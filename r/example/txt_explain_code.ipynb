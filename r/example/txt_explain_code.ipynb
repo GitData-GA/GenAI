{
  "nbformat": 4,
  "nbformat_minor": 0,
  "metadata": {
    "colab": {
      "provenance": [],
      "include_colab_link": true
    },
    "kernelspec": {
      "name": "ir",
      "display_name": "R"
    },
    "language_info": {
      "name": "R"
    }
  },
  "cells": [
    {
      "cell_type": "markdown",
      "metadata": {
        "id": "view-in-github",
        "colab_type": "text"
      },
      "source": [
        "<a href=\"https://colab.research.google.com/github/GitData-GA/GenAI/blob/gh-pages/r/example/txt_explain_code.ipynb\" target=\"_parent\"><img src=\"https://colab.research.google.com/assets/colab-badge.svg\" alt=\"Open In Colab\"/></a>"
      ]
    },
    {
      "cell_type": "markdown",
      "source": [
        "# Installation"
      ],
      "metadata": {
        "id": "mDBGn0Qzsql5"
      }
    },
    {
      "cell_type": "code",
      "execution_count": 1,
      "metadata": {
        "colab": {
          "base_uri": "https://localhost:8080/"
        },
        "id": "EQ5mDg9-siid",
        "outputId": "a66a37e2-fbf2-4e6f-8617-7017fcabce3a"
      },
      "outputs": [
        {
          "output_type": "stream",
          "name": "stderr",
          "text": [
            "Installing package into ‘/usr/local/lib/R/site-library’\n",
            "(as ‘lib’ is unspecified)\n",
            "\n"
          ]
        }
      ],
      "source": [
        "install.packages(\"GenAI\")\n",
        "library(\"GenAI\")"
      ]
    },
    {
      "cell_type": "markdown",
      "source": [
        "# Example of `txt.explain.code`"
      ],
      "metadata": {
        "id": "LE9e2MEXs0av"
      }
    },
    {
      "cell_type": "markdown",
      "source": [
        "## Get available models"
      ],
      "metadata": {
        "id": "UdwTs_oitM8A"
      }
    },
    {
      "cell_type": "code",
      "source": [
        "models = available.models()"
      ],
      "metadata": {
        "id": "S0lunMhxtOl_"
      },
      "execution_count": 2,
      "outputs": []
    },
    {
      "cell_type": "markdown",
      "source": [
        "## Connect to the Google model, replace API_KEY with your api key"
      ],
      "metadata": {
        "id": "ODWMwKhotSJ3"
      }
    },
    {
      "cell_type": "code",
      "source": [
        "google.model = connect.genai(\"google\",\n",
        "                             models$google$model[1],\n",
        "                             models$google$version[1],\n",
        "                             \"API_KEY\",\n",
        "                             FALSE)"
      ],
      "metadata": {
        "id": "l8J1UXkcs6dP"
      },
      "execution_count": 3,
      "outputs": []
    },
    {
      "cell_type": "markdown",
      "source": [
        "## Connect to the OpenAI model, replace API_KEY with your api key"
      ],
      "metadata": {
        "id": "uS1aPHGTtcB2"
      }
    },
    {
      "cell_type": "code",
      "source": [
        "openai.model = connect.genai(\"openai\",\n",
        "                             models$openai$model[1],\n",
        "                             models$openai$version[1],\n",
        "                             \"API_KEY\",\n",
        "                             FALSE)"
      ],
      "metadata": {
        "id": "aDFBTfvOtg_Y"
      },
      "execution_count": 4,
      "outputs": []
    },
    {
      "cell_type": "markdown",
      "source": [
        "## Generate text"
      ],
      "metadata": {
        "id": "OXcUsNr26AgS"
      }
    },
    {
      "cell_type": "code",
      "source": [
        "temperature = 0.9\n",
        "prompt = \"foo <- function(n) {\n",
        "            if (n <= 0) {\n",
        "              return(0)\n",
        "            } else if (n == 1) {\n",
        "              return(1)\n",
        "            } else {\n",
        "              return(foo(n - 1) + foo(n - 2))\n",
        "            }\n",
        "          }\""
      ],
      "metadata": {
        "id": "erZ24Exi6QiI"
      },
      "execution_count": 5,
      "outputs": []
    },
    {
      "cell_type": "code",
      "source": [
        "code.explanation = txt.explain.code(google.model,\n",
        "                                    temperature,\n",
        "                                    prompt,\n",
        "                                    language = \"R\")\n",
        "cat(code.explanation)"
      ],
      "metadata": {
        "colab": {
          "base_uri": "https://localhost:8080/"
        },
        "id": "II9TiP606WmR",
        "outputId": "53356a07-0749-41ca-8f68-3d2a75d3cd64"
      },
      "execution_count": 6,
      "outputs": [
        {
          "output_type": "stream",
          "name": "stdout",
          "text": [
            "The provided R code defines a recursive function called `foo` that calculates the nth Fibonacci number. Here's a step-by-step explanation of the code:\n",
            "\n",
            "1. **Function Definition:**\n",
            "   ```\n",
            "   foo <- function(n) {\n",
            "   ```\n",
            "\n",
            "   - This line defines a function named `foo` that takes one input parameter, `n`.\n",
            "\n",
            "2. **Base Cases:**\n",
            "   - The function checks for two base cases:\n",
            "     - ```\n",
            "       if (n <= 0) {\n",
            "         return(0)\n",
            "       }\n",
            "       ```\n",
            "       - If `n` is less than or equal to 0, it means we've reached the first Fibonacci number (0), so the function returns 0.\n",
            "     - ```\n",
            "       else if (n == 1) {\n",
            "         return(1)\n",
            "       }\n",
            "       ```\n",
            "       - If `n` is exactly 1, it means we've reached the second Fibonacci number (1), so the function returns 1.\n",
            "\n",
            "3. **Recursive Case:**\n",
            "   - If neither of the base cases is met, the function enters the recursive case, which is:\n",
            "     ```\n",
            "     else {\n",
            "       return(foo(n - 1) + foo(n - 2))\n",
            "     }\n",
            "     ```\n",
            "     - It recursively calls itself twice:\n",
            "       - `foo(n - 1)` calculates the Fibonacci number for `n - 1`, and\n",
            "       - `foo(n - 2)` calculates the Fibonacci number for `n - 2`.\n",
            "     - The results of these recursive calls are then added together, and the sum is returned.\n",
            "\n",
            "4. **Recursion Termination:**\n",
            "   - The recursive calls continue until one of the base cases is reached, at which point the recursion stops, and the function starts returning values back up the call stack until it reaches the initial call to `foo(n)`.\n",
            "\n",
            "In summary, the `foo` function uses recursion to compute Fibonacci numbers. It has two base cases for the first two Fibonacci numbers (0 and 1), and for larger values of `n`, it recursively calculates the Fibonacci number by adding the Fibonacci numbers of the previous two numbers."
          ]
        }
      ]
    },
    {
      "cell_type": "code",
      "source": [
        "code.explanation = txt.explain.code(openai.model,\n",
        "                                    temperature,\n",
        "                                    prompt,\n",
        "                                    language = \"R\")\n",
        "cat(code.explanation)"
      ],
      "metadata": {
        "colab": {
          "base_uri": "https://localhost:8080/"
        },
        "id": "D22ueBeb5-yI",
        "outputId": "870d9918-f1ce-4558-cb42-620790e945af"
      },
      "execution_count": 7,
      "outputs": [
        {
          "output_type": "stream",
          "name": "stdout",
          "text": [
            "This R code defines a function called \"foo\" that calculates the nth number in the Fibonacci sequence recursively.\n",
            "\n",
            "The function takes one argument, \"n\", which represents the position of the number in the Fibonacci sequence that we want to calculate.\n",
            "\n",
            "The first two if statements check if the value of \"n\" is less than or equal to 0 or equal to 1. If either of these conditions is true, the function returns 0 or 1 respectively. These are the base cases for the Fibonacci sequence.\n",
            "\n",
            "If \"n\" is greater than 1, the else statement is executed. It makes a recursive call to the \"foo\" function with arguments \"n-1\" and \"n-2\". This means that the \"foo\" function will be called twice, once with \"n-1\" and once with \"n-2\". The results of these recursive calls are then added together and returned.\n",
            "\n",
            "In summary, this code defines a recursive function that calculates the nth number in the Fibonacci sequence."
          ]
        }
      ]
    }
  ]
}