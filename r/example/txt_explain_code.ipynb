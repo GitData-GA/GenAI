{
  "nbformat": 4,
  "nbformat_minor": 0,
  "metadata": {
    "colab": {
      "provenance": [],
      "include_colab_link": true
    },
    "kernelspec": {
      "name": "ir",
      "display_name": "R"
    },
    "language_info": {
      "name": "R"
    }
  },
  "cells": [
    {
      "cell_type": "markdown",
      "metadata": {
        "id": "view-in-github",
        "colab_type": "text"
      },
      "source": [
        "<a href=\"https://colab.research.google.com/github/GitData-GA/GenAI/blob/gh-pages/r/example/txt_explain_code.ipynb\" target=\"_parent\"><img src=\"https://colab.research.google.com/assets/colab-badge.svg\" alt=\"Open In Colab\"/></a>"
      ]
    },
    {
      "cell_type": "markdown",
      "source": [
        "# Installation"
      ],
      "metadata": {
        "id": "mDBGn0Qzsql5"
      }
    },
    {
      "cell_type": "code",
      "execution_count": 1,
      "metadata": {
        "colab": {
          "base_uri": "https://localhost:8080/"
        },
        "id": "EQ5mDg9-siid",
        "outputId": "df190011-b825-4837-caac-0e9bf35a5f08"
      },
      "outputs": [
        {
          "output_type": "stream",
          "name": "stderr",
          "text": [
            "Installing package into ‘/usr/local/lib/R/site-library’\n",
            "(as ‘lib’ is unspecified)\n",
            "\n"
          ]
        }
      ],
      "source": [
        "install.packages(\"https://genai.gd.edu.kg/release/R/GenAI_latest.tar.gz\", repos=NULL, method=\"libcurl\")\n",
        "library(\"GenAI\")"
      ]
    },
    {
      "cell_type": "markdown",
      "source": [
        "# Example of `txt.explain.code`"
      ],
      "metadata": {
        "id": "LE9e2MEXs0av"
      }
    },
    {
      "cell_type": "markdown",
      "source": [
        "## Get available models"
      ],
      "metadata": {
        "id": "UdwTs_oitM8A"
      }
    },
    {
      "cell_type": "code",
      "source": [
        "models = available.models()"
      ],
      "metadata": {
        "id": "S0lunMhxtOl_"
      },
      "execution_count": 2,
      "outputs": []
    },
    {
      "cell_type": "markdown",
      "source": [
        "## Connect to the Google model, replace API_KEY with your api key"
      ],
      "metadata": {
        "id": "ODWMwKhotSJ3"
      }
    },
    {
      "cell_type": "code",
      "source": [
        "google.model = connect.genai(\"google\",\n",
        "                             models$google$model[1],\n",
        "                             models$google$version[1],\n",
        "                             \"API_KEY\",\n",
        "                             FALSE)"
      ],
      "metadata": {
        "id": "l8J1UXkcs6dP"
      },
      "execution_count": 3,
      "outputs": []
    },
    {
      "cell_type": "markdown",
      "source": [
        "## Connect to the OpenAI model, replace API_KEY with your api key"
      ],
      "metadata": {
        "id": "uS1aPHGTtcB2"
      }
    },
    {
      "cell_type": "code",
      "source": [
        "openai.model = connect.genai(\"openai\",\n",
        "                             models$openai$model[1],\n",
        "                             models$openai$version[1],\n",
        "                             \"API_KEY\",\n",
        "                             FALSE)"
      ],
      "metadata": {
        "id": "aDFBTfvOtg_Y"
      },
      "execution_count": 4,
      "outputs": []
    },
    {
      "cell_type": "markdown",
      "source": [
        "## Generate text"
      ],
      "metadata": {
        "id": "OXcUsNr26AgS"
      }
    },
    {
      "cell_type": "code",
      "source": [
        "temperature = 0.9\n",
        "prompt = \"foo <- function(n) {\n",
        "            if (n <= 0) {\n",
        "              return(0)\n",
        "            } else if (n == 1) {\n",
        "              return(1)\n",
        "            } else {\n",
        "              return(foo(n - 1) + foo(n - 2))\n",
        "            }\n",
        "          }\""
      ],
      "metadata": {
        "id": "erZ24Exi6QiI"
      },
      "execution_count": 5,
      "outputs": []
    },
    {
      "cell_type": "code",
      "source": [
        "code.explanation = txt.explain.code(google.model,\n",
        "                                    temperature,\n",
        "                                    prompt,\n",
        "                                    language = \"R\")\n",
        "cat(code.explanation)"
      ],
      "metadata": {
        "colab": {
          "base_uri": "https://localhost:8080/"
        },
        "id": "II9TiP606WmR",
        "outputId": "8a7df865-dc52-467a-cd82-908f9dd84269"
      },
      "execution_count": 6,
      "outputs": [
        {
          "output_type": "stream",
          "name": "stdout",
          "text": [
            "The provided R code defines a function called `foo` that calculates Fibonacci numbers. Here's a breakdown of how it works:\n",
            "\n",
            "1. The function takes a single argument, `n`, which represents the position of the Fibonacci number to be calculated.\n",
            "\n",
            "2. It starts with a series of conditional statements using `if` and `else if` to handle different scenarios:\n",
            "   - If `n` is less than or equal to 0, the function returns 0 because Fibonacci numbers are not defined for negative or zero values.\n",
            "   - If `n` is equal to 1, the function returns 1. This is the base case for the recursive calculation, as the first Fibonacci number is 1.\n",
            "   - If neither of the above conditions is met, it means that `n` is greater than 1. In this case, the function calculates the Fibonacci number using a recursive approach:\n",
            "     - It calls itself recursively with `foo(n - 1)`, which calculates the Fibonacci number for the position `n - 1`.\n",
            "     - It also calls itself recursively with `foo(n - 2)`, which calculates the Fibonacci number for the position `n - 2`.\n",
            "     - The results of these recursive calls are added together, and the sum is returned as the Fibonacci number for position `n`.\n",
            "\n",
            "This code efficiently calculates Fibonacci numbers using recursion, handling various cases to provide accurate results for any non-negative integer `n`."
          ]
        }
      ]
    },
    {
      "cell_type": "code",
      "source": [
        "code.explanation = txt.explain.code(openai.model,\n",
        "                                    temperature,\n",
        "                                    prompt,\n",
        "                                    language = \"R\")\n",
        "cat(code.explanation)"
      ],
      "metadata": {
        "colab": {
          "base_uri": "https://localhost:8080/"
        },
        "id": "D22ueBeb5-yI",
        "outputId": "50f4ddb3-7c46-481e-bcce-3b17b21bfd06"
      },
      "execution_count": 7,
      "outputs": [
        {
          "output_type": "stream",
          "name": "stdout",
          "text": [
            "The given code defines a function called \"foo\" in the R programming language. This function takes an input argument \"n\" and returns a value.\n",
            "\n",
            "Inside the function, there is an if-else statement that checks the value of \"n\". If \"n\" is less than or equal to 0, the function returns 0. If \"n\" is equal to 1, the function returns 1.\n",
            "\n",
            "If none of the above conditions are met, the function recursively calls itself twice with \"n-1\" and \"n-2\" as the input arguments. The results of these recursive calls are then added together using the \"+\" operator and returned as the final result.\n",
            "\n",
            "Overall, this code implements the Fibonacci sequence recursively, where each number in the sequence is the sum of the two preceding ones."
          ]
        }
      ]
    }
  ]
}