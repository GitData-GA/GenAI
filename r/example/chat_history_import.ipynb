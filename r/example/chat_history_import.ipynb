{
  "nbformat": 4,
  "nbformat_minor": 0,
  "metadata": {
    "colab": {
      "provenance": [],
      "include_colab_link": true
    },
    "kernelspec": {
      "name": "ir",
      "display_name": "R"
    },
    "language_info": {
      "name": "R"
    }
  },
  "cells": [
    {
      "cell_type": "markdown",
      "metadata": {
        "id": "view-in-github",
        "colab_type": "text"
      },
      "source": [
        "<a href=\"https://colab.research.google.com/github/GitData-GA/GenAI/blob/gh-pages/r/example/chat_history_import.ipynb\" target=\"_parent\"><img src=\"https://colab.research.google.com/assets/colab-badge.svg\" alt=\"Open In Colab\"/></a>"
      ]
    },
    {
      "cell_type": "markdown",
      "source": [
        "# Installation & Setup\n"
      ],
      "metadata": {
        "id": "mDBGn0Qzsql5"
      }
    },
    {
      "cell_type": "code",
      "source": [
        "# The following commands are for Colab only\n",
        "system('add-apt-repository -y ppa:cran/imagemagick')\n",
        "system('apt-get update')\n",
        "system(\"apt-get install libmagick++-dev\")"
      ],
      "metadata": {
        "id": "eWDldTfxPURl"
      },
      "execution_count": 1,
      "outputs": []
    },
    {
      "cell_type": "code",
      "execution_count": 2,
      "metadata": {
        "id": "EQ5mDg9-siid",
        "outputId": "6dd1388a-3062-47a3-87be-6b7fb2088c1f",
        "colab": {
          "base_uri": "https://localhost:8080/"
        }
      },
      "outputs": [
        {
          "output_type": "stream",
          "name": "stderr",
          "text": [
            "Installing package into ‘/usr/local/lib/R/site-library’\n",
            "(as ‘lib’ is unspecified)\n",
            "\n",
            "also installing the dependencies ‘Rcpp’, ‘gridGraphics’, ‘yulab.utils’, ‘listenv’, ‘magick’, ‘ggplotify’\n",
            "\n",
            "\n",
            "Loading required package: magrittr\n",
            "\n"
          ]
        }
      ],
      "source": [
        "# Install the library (usually 1 - 3 minutes in Colab)\n",
        "install.packages(\"GenAI\")\n",
        "library(\"GenAI\")"
      ]
    },
    {
      "cell_type": "markdown",
      "source": [
        "# Get Available Models"
      ],
      "metadata": {
        "id": "UdwTs_oitM8A"
      }
    },
    {
      "cell_type": "code",
      "source": [
        "all.models = available.models() %>% print()"
      ],
      "metadata": {
        "id": "S0lunMhxtOl_",
        "colab": {
          "base_uri": "https://localhost:8080/"
        },
        "outputId": "5683424a-88c3-40ea-bdb9-075d34fedbaf"
      },
      "execution_count": 3,
      "outputs": [
        {
          "output_type": "stream",
          "name": "stdout",
          "text": [
            "$google\n",
            "$google$version\n",
            "[1] \"v1\"     \"v1beta\"\n",
            "\n",
            "$google$model\n",
            "[1] \"gemini-pro\"                   \"gemini-pro-vision\"           \n",
            "[3] \"gemini-1.0-pro\"               \"gemini-1.0-pro-001\"          \n",
            "[5] \"gemini-1.0-pro-latest\"        \"gemini-1.0-pro-vision-latest\"\n",
            "\n",
            "\n",
            "$openai\n",
            "$openai$version\n",
            "[1] \"v1\"\n",
            "\n",
            "$openai$model\n",
            "[1] \"gpt-3.5-turbo\"        \"gpt-3.5-turbo-1106\"   \"gpt-3.5-turbo-16k\"   \n",
            "[4] \"gpt-4\"                \"gpt-4-1106-preview\"   \"gpt-4-32k\"           \n",
            "[7] \"gpt-4-vision-preview\" \"dall-e-2\"             \"dall-e-3\"            \n",
            "\n",
            "\n",
            "$moonshot\n",
            "$moonshot$version\n",
            "[1] \"v1\"\n",
            "\n",
            "$moonshot$model\n",
            "[1] \"moonshot-v1-8k\"   \"moonshot-v1-32k\"  \"moonshot-v1-128k\"\n",
            "\n",
            "\n"
          ]
        }
      ]
    },
    {
      "cell_type": "markdown",
      "source": [
        "# Prepare a Chat History to import"
      ],
      "metadata": {
        "id": "5XlCF2s0PcS_"
      }
    },
    {
      "cell_type": "markdown",
      "source": [
        "# Example for Google Generative AI"
      ],
      "metadata": {
        "id": "-UQDLvx8C6WS"
      }
    },
    {
      "cell_type": "code",
      "source": [
        "# Prepare a chat history in correct format\n",
        "new.google.history = list(\n",
        "  list(\n",
        "    role = \"user\",\n",
        "    parts = list(\n",
        "      text = \"What is XGBoost? Explain in 50 words.\"\n",
        "    )\n",
        "  ),\n",
        "  list(\n",
        "    role = \"model\",\n",
        "    parts = list(\n",
        "      text = \"XGBoost (eXtreme Gradient Boosting) is a powerful machine learning algorithm used for regression and classification tasks. It is an ensemble method that combines weak decision trees into a single strong model. XGBoost is known for its high accuracy, efficiency, and flexibility, making it widely used in various applications such as fraud detection, customer churn prediction, and image recognition.\"\n",
        "    )\n",
        "  ),\n",
        "  list(\n",
        "    role = \"user\",\n",
        "    parts = list(\n",
        "      text = \"What is CatBoost? Explain in 50 words.\"\n",
        "    )\n",
        "  ),\n",
        "  list(\n",
        "    role = \"model\",\n",
        "    parts = list(\n",
        "      text = \"CatBoost (Categorical Boosting) is a machine learning algorithm designed for tasks involving categorical features. It is an ensemble method that combines weak decision trees into a single strong model. CatBoost is known for its ability to handle categorical features efficiently and effectively, making it particularly suitable for tasks such as text classification, natural language processing, and recommender systems. CatBoost is also known for its high accuracy, robustness, and speed, making it a popular choice for various real-world applications.\"\n",
        "    )\n",
        "  )\n",
        ")"
      ],
      "metadata": {
        "id": "GWherdQJQ1XK"
      },
      "execution_count": 4,
      "outputs": []
    },
    {
      "cell_type": "code",
      "source": [
        "# Please change YOUR_GOOGLE_API to your own API key of Google Generative AI\n",
        "Sys.setenv(GOOGLE_API = \"YOUR_GOOGLE_API\")"
      ],
      "metadata": {
        "id": "sQTVbYJYm-ar"
      },
      "execution_count": 5,
      "outputs": []
    },
    {
      "cell_type": "code",
      "source": [
        "# Create a Google Generative AI object\n",
        "google = genai.google(api = Sys.getenv(\"GOOGLE_API\"),\n",
        "                      model = all.models$google$model[1],\n",
        "                      version = all.models$google$version[1],\n",
        "                      proxy = FALSE)\n",
        "\n",
        "# Generation configurations\n",
        "parameters = list(\n",
        "  harm.category.dangerous.content = 5,\n",
        "  harm.category.harassment = 5,\n",
        "  max.output.tokens = 4096,\n",
        "  temperature = 0.9\n",
        ")"
      ],
      "metadata": {
        "id": "qtM6orwIC564"
      },
      "execution_count": 6,
      "outputs": []
    },
    {
      "cell_type": "code",
      "source": [
        "# Method 1 (recommended): use the pipe operator \"%>%\"\n",
        "google %>%\n",
        "  chat.history.import(new.chat.history = new.google.history)"
      ],
      "metadata": {
        "id": "9YdAecZ0RG94"
      },
      "execution_count": 7,
      "outputs": []
    },
    {
      "cell_type": "code",
      "source": [
        "# Method 2: use the reference operator \"$\"\n",
        "google$chat.history.import(new.chat.history = new.google.history)"
      ],
      "metadata": {
        "id": "gKcprIQqRO14"
      },
      "execution_count": 8,
      "outputs": []
    },
    {
      "cell_type": "code",
      "source": [
        "# Method 3: use the function chat.history.import() directly\n",
        "chat.history.import(genai.object = google,\n",
        "                    new.chat.history = new.google.history)"
      ],
      "metadata": {
        "id": "VW6qxHfZRfoA"
      },
      "execution_count": 9,
      "outputs": []
    },
    {
      "cell_type": "code",
      "source": [
        "# Continue the chat session\n",
        "google %>%\n",
        "    chat(prompt = \"Summarize the chat.\",\n",
        "         verbose = TRUE,\n",
        "         config = parameters) %>%\n",
        "    cat()"
      ],
      "metadata": {
        "colab": {
          "base_uri": "https://localhost:8080/"
        },
        "id": "z3j_BQupDAL4",
        "outputId": "9184b4f7-e6ab-4b42-d86c-ca2730b6dc43"
      },
      "execution_count": 10,
      "outputs": [
        {
          "output_type": "stream",
          "name": "stdout",
          "text": [
            "=============================================================================\n",
            "   Safety Settings\n",
            "-----------------------------------------------------------------------------\n",
            "HARM_CATEGORY_DANGEROUS_CONTENT: BLOCK_NONE \n",
            "HARM_CATEGORY_HARASSMENT: BLOCK_NONE \n",
            "=============================================================================\n",
            "\n",
            "\n",
            "\n",
            "=============================================================================\n",
            "   Generation Configuration\n",
            "-----------------------------------------------------------------------------\n",
            "maxOutputTokens: 4096 \n",
            "temperature: 0.9 \n",
            "=============================================================================\n",
            "\n",
            "\n",
            "\n",
            "=============================================================================\n",
            "   Prompt\n",
            "-----------------------------------------------------------------------------\n",
            "Summarize the chat.\n",
            "=============================================================================\n",
            "\n",
            "\n",
            "\n",
            "=============================================================================\n",
            "   Chat history \n",
            "-----------------------------------------------------------------------------\n",
            "\n",
            "-------------------------------- Message  1 ---------------------------------\n",
            "Role: user \n",
            "Text: What is XGBoost? Explain in 50 words.\n",
            "\n",
            "-------------------------------- Message  2 ---------------------------------\n",
            "Role: model \n",
            "Text: XGBoost (eXtreme Gradient Boosting) is a powerful machine learning\n",
            "algorithm used for regression and classification tasks. It is an ensemble\n",
            "method that combines weak decision trees into a single strong model.\n",
            "XGBoost is known for its high accuracy, efficiency, and flexibility, making\n",
            "it widely used in various applications such as fraud detection, customer\n",
            "churn prediction, and image recognition.\n",
            "\n",
            "-------------------------------- Message  3 ---------------------------------\n",
            "Role: user \n",
            "Text: What is CatBoost? Explain in 50 words.\n",
            "\n",
            "-------------------------------- Message  4 ---------------------------------\n",
            "Role: model \n",
            "Text: CatBoost (Categorical Boosting) is a machine learning algorithm designed\n",
            "for tasks involving categorical features. It is an ensemble method that\n",
            "combines weak decision trees into a single strong model. CatBoost is known\n",
            "for its ability to handle categorical features efficiently and effectively,\n",
            "making it particularly suitable for tasks such as text classification,\n",
            "natural language processing, and recommender systems. CatBoost is also\n",
            "known for its high accuracy, robustness, and speed, making it a popular\n",
            "choice for various real-world applications.\n",
            "\n",
            "-------------------------------- Message  5 ---------------------------------\n",
            "Role: user \n",
            "Text: Summarize the chat.\n",
            "\n",
            "-------------------------------- Message  6 ---------------------------------\n",
            "Role: model \n",
            "Text: **Summary of the chat:**\n",
            "\n",
            "* **Topic:** Machine learning algorithms, specifically XGBoost and\n",
            "CatBoost.\n",
            "\n",
            "**Key points:**\n",
            "\n",
            "* **XGBoost** is a powerful ensemble method that combines weak decision\n",
            "trees into a single strong model. It is known for its high accuracy,\n",
            "efficiency, and flexibility, making it widely used in various applications.\n",
            "\n",
            "* **CatBoost** is an ensemble method designed specifically for tasks\n",
            "involving categorical features. It excels at handling categorical data\n",
            "efficiently and effectively, making it suitable for tasks such as text\n",
            "classification and natural language processing.\n",
            "\n",
            "* Both XGBoost and CatBoost are known for their high accuracy, robustness,\n",
            "and speed, making them popular choices for various real-world applications.\n",
            "\n",
            "**Conclusion:**\n",
            "\n",
            "XGBoost and CatBoost are both powerful machine learning algorithms with\n",
            "unique strengths and applications. XGBoost is a versatile choice for a wide\n",
            "range of tasks, while CatBoost is particularly well-suited for tasks\n",
            "involving categorical features.\n",
            "\n",
            "=============================================================================\n",
            "\n",
            "\n",
            "\n",
            "**Summary of the chat:**\n",
            "\n",
            "* **Topic:** Machine learning algorithms, specifically XGBoost and CatBoost.\n",
            "\n",
            "**Key points:**\n",
            "\n",
            "* **XGBoost** is a powerful ensemble method that combines weak decision trees into a single strong model. It is known for its high accuracy, efficiency, and flexibility, making it widely used in various applications.\n",
            "\n",
            "* **CatBoost** is an ensemble method designed specifically for tasks involving categorical features. It excels at handling categorical data efficiently and effectively, making it suitable for tasks such as text classification and natural language processing.\n",
            "\n",
            "* Both XGBoost and CatBoost are known for their high accuracy, robustness, and speed, making them popular choices for various real-world applications.\n",
            "\n",
            "**Conclusion:**\n",
            "\n",
            "XGBoost and CatBoost are both powerful machine learning algorithms with unique strengths and applications. XGBoost is a versatile choice for a wide range of tasks, while CatBoost is particularly well-suited for tasks involving categorical features."
          ]
        }
      ]
    },
    {
      "cell_type": "markdown",
      "source": [
        "# Example for OpenAI"
      ],
      "metadata": {
        "id": "UohYplX0ek4B"
      }
    },
    {
      "cell_type": "code",
      "source": [
        "# Prepare a chat history in correct format\n",
        "new.openai.history = list(\n",
        "  list(\n",
        "    role = \"system\",\n",
        "    content = \"You are a helpful assistant.\"\n",
        "  ),\n",
        "  list(\n",
        "    role = \"user\",\n",
        "    content = \"What is XGBoost? Explain in 50 words.\"\n",
        "  ),\n",
        "  list(\n",
        "    role = \"assistant\",\n",
        "    content = \"XGBoost (eXtreme Gradient Boosting) is a powerful machine learning algorithm used for regression and classification tasks. It is an ensemble method that combines weak decision trees into a single strong model. XGBoost is known for its high accuracy, efficiency, and flexibility, making it widely used in various applications such as fraud detection, customer churn prediction, and image recognition.\"\n",
        "  ),\n",
        "  list(\n",
        "    role = \"user\",\n",
        "    content = \"What is CatBoost? Explain in 50 words.\"\n",
        "  ),\n",
        "  list(\n",
        "    role = \"assistant\",\n",
        "    content = \"CatBoost (Categorical Boosting) is a machine learning algorithm designed for tasks involving categorical features. It is an ensemble method that combines weak decision trees into a single strong model. CatBoost is known for its ability to handle categorical features efficiently and effectively, making it particularly suitable for tasks such as text classification, natural language processing, and recommender systems. CatBoost is also known for its high accuracy, robustness, and speed, making it a popular choice for various real-world applications.\"\n",
        "  )\n",
        ")"
      ],
      "metadata": {
        "id": "tMi21CI9SV54"
      },
      "execution_count": 11,
      "outputs": []
    },
    {
      "cell_type": "code",
      "source": [
        "# Please change YOUR_OPENAI_API to your own API key of OpenAI\n",
        "Sys.setenv(OPENAI_API = \"YOUR_OPENAI_API\")\n",
        "\n",
        "# Please change YOUR_OPENAI_ORG to your own organization ID for OpenAI\n",
        "Sys.setenv(OPENAI_ORG = \"YOUR_OPENAI_ORG\")"
      ],
      "metadata": {
        "id": "A7cw82tUnFBW"
      },
      "execution_count": 12,
      "outputs": []
    },
    {
      "cell_type": "code",
      "source": [
        "# Create an OpenAI object\n",
        "openai = genai.openai(api = Sys.getenv(\"OPENAI_API\"),\n",
        "                      model = all.models$openai$model[1],\n",
        "                      version = all.models$openai$version[1],\n",
        "                      proxy = FALSE,\n",
        "                      organization.id = Sys.getenv(\"OPENAI_ORG\"))\n",
        "\n",
        "# Generation configurations\n",
        "parameters = list(\n",
        "  frequency.penalty = 1,\n",
        "  logprobs = FALSE,\n",
        "  max.tokens = 3000,\n",
        "  temperature = 0.9\n",
        ")"
      ],
      "metadata": {
        "id": "VlQSbNWuelqB"
      },
      "execution_count": 13,
      "outputs": []
    },
    {
      "cell_type": "code",
      "source": [
        "# Method 1 (recommended): use the pipe operator \"%>%\"\n",
        "openai %>%\n",
        "  chat.history.import(new.chat.history = new.openai.history)"
      ],
      "metadata": {
        "id": "jWj2bZEXS9qg"
      },
      "execution_count": 14,
      "outputs": []
    },
    {
      "cell_type": "code",
      "source": [
        "# Method 2: use the reference operator \"$\"\n",
        "openai$chat.history.import(new.chat.history = new.openai.history)"
      ],
      "metadata": {
        "id": "DC-KopWyS_wY"
      },
      "execution_count": 15,
      "outputs": []
    },
    {
      "cell_type": "code",
      "source": [
        "# Method 3: use the function chat.history.import() directly\n",
        "chat.history.import(genai.object = openai,\n",
        "                    new.chat.history = new.openai.history)"
      ],
      "metadata": {
        "id": "ARHZFv9MTBoo"
      },
      "execution_count": 16,
      "outputs": []
    },
    {
      "cell_type": "code",
      "source": [
        "# Continue the chat session\n",
        "openai %>%\n",
        "    chat(prompt = \"Summarize the chat.\",\n",
        "         verbose = TRUE,\n",
        "         config = parameters) %>%\n",
        "    cat()"
      ],
      "metadata": {
        "colab": {
          "base_uri": "https://localhost:8080/"
        },
        "id": "xWajR7aQTDdJ",
        "outputId": "82cb9d09-8892-4c06-8728-5ae275f584a5"
      },
      "execution_count": 17,
      "outputs": [
        {
          "output_type": "stream",
          "name": "stdout",
          "text": [
            "=============================================================================\n",
            "   Generation Configuration\n",
            "-----------------------------------------------------------------------------\n",
            "frequency_penalty: 1 \n",
            "logprobs: FALSE \n",
            "max_tokens: 3000 \n",
            "temperature: 0.9 \n",
            "=============================================================================\n",
            "\n",
            "\n",
            "\n",
            "=============================================================================\n",
            "   Prompt\n",
            "-----------------------------------------------------------------------------\n",
            "Summarize the chat.\n",
            "=============================================================================\n",
            "\n",
            "\n",
            "\n",
            "=============================================================================\n",
            "   Chat history \n",
            "-----------------------------------------------------------------------------\n",
            "\n",
            "-------------------------------- Message  1 ---------------------------------\n",
            "Role: system \n",
            "Text: You are a helpful assistant.\n",
            "\n",
            "-------------------------------- Message  2 ---------------------------------\n",
            "Role: user \n",
            "Text: What is XGBoost? Explain in 50 words.\n",
            "\n",
            "-------------------------------- Message  3 ---------------------------------\n",
            "Role: assistant \n",
            "Text: XGBoost (eXtreme Gradient Boosting) is a powerful machine learning\n",
            "algorithm used for regression and classification tasks. It is an ensemble\n",
            "method that combines weak decision trees into a single strong model.\n",
            "XGBoost is known for its high accuracy, efficiency, and flexibility, making\n",
            "it widely used in various applications such as fraud detection, customer\n",
            "churn prediction, and image recognition.\n",
            "\n",
            "-------------------------------- Message  4 ---------------------------------\n",
            "Role: user \n",
            "Text: What is CatBoost? Explain in 50 words.\n",
            "\n",
            "-------------------------------- Message  5 ---------------------------------\n",
            "Role: assistant \n",
            "Text: CatBoost (Categorical Boosting) is a machine learning algorithm designed\n",
            "for tasks involving categorical features. It is an ensemble method that\n",
            "combines weak decision trees into a single strong model. CatBoost is known\n",
            "for its ability to handle categorical features efficiently and effectively,\n",
            "making it particularly suitable for tasks such as text classification,\n",
            "natural language processing, and recommender systems. CatBoost is also\n",
            "known for its high accuracy, robustness, and speed, making it a popular\n",
            "choice for various real-world applications.\n",
            "\n",
            "-------------------------------- Message  6 ---------------------------------\n",
            "Role: user \n",
            "Text: Summarize the chat.\n",
            "\n",
            "-------------------------------- Message  7 ---------------------------------\n",
            "Role: assistant \n",
            "Text: In this chat, we discussed XGBoost and CatBoost, two powerful machine\n",
            "learning algorithms used for regression and classification tasks. XGBoost\n",
            "is known for its high accuracy, efficiency, and flexibility, while CatBoost\n",
            "specializes in handling categorical features efficiently. Both algorithms\n",
            "are widely used in various applications due to their accuracy and speed.\n",
            "\n",
            "=============================================================================\n",
            "\n",
            "\n",
            "\n",
            "In this chat, we discussed XGBoost and CatBoost, two powerful machine learning algorithms used for regression and classification tasks. XGBoost is known for its high accuracy, efficiency, and flexibility, while CatBoost specializes in handling categorical features efficiently. Both algorithms are widely used in various applications due to their accuracy and speed."
          ]
        }
      ]
    },
    {
      "cell_type": "markdown",
      "source": [
        "# Example for Moonshot AI"
      ],
      "metadata": {
        "id": "MYIqd8qwTx4t"
      }
    },
    {
      "cell_type": "code",
      "source": [
        "# Prepare a chat history in correct format\n",
        "new.moonshot.history = list(\n",
        "  list(\n",
        "    role = \"system\",\n",
        "    content = \"你是 Kimi，由 Moonshot AI 提供的人工智能助手，你更擅长中文和英文的对话。你会为用户提供安全，有帮助，准确的回答。同时，你会拒绝一些涉及恐怖主义，种族歧视，黄色暴力等问题的回答。Moonshot AI 为专有名词，不可翻译成其他语言。\"\n",
        "  ),\n",
        "  list(\n",
        "    role = \"user\",\n",
        "    content = \"What is XGBoost? Explain in 50 words.\"\n",
        "  ),\n",
        "  list(\n",
        "    role = \"assistant\",\n",
        "    content = \"XGBoost (eXtreme Gradient Boosting) is a powerful machine learning algorithm used for regression and classification tasks. It is an ensemble method that combines weak decision trees into a single strong model. XGBoost is known for its high accuracy, efficiency, and flexibility, making it widely used in various applications such as fraud detection, customer churn prediction, and image recognition.\"\n",
        "  ),\n",
        "  list(\n",
        "    role = \"user\",\n",
        "    content = \"What is CatBoost? Explain in 50 words.\"\n",
        "  ),\n",
        "  list(\n",
        "    role = \"assistant\",\n",
        "    content = \"CatBoost (Categorical Boosting) is a machine learning algorithm designed for tasks involving categorical features. It is an ensemble method that combines weak decision trees into a single strong model. CatBoost is known for its ability to handle categorical features efficiently and effectively, making it particularly suitable for tasks such as text classification, natural language processing, and recommender systems. CatBoost is also known for its high accuracy, robustness, and speed, making it a popular choice for various real-world applications.\"\n",
        "  )\n",
        ")"
      ],
      "metadata": {
        "id": "z9PmjwClT1HA"
      },
      "execution_count": 18,
      "outputs": []
    },
    {
      "cell_type": "code",
      "source": [
        "# Please change YOUR_MOONSHOT_API to your own API key of Moonshot AI\n",
        "Sys.setenv(MOONSHOT_API = \"YOUR_MOONSHOT_API\")"
      ],
      "metadata": {
        "id": "HXZYKRQiUBNJ"
      },
      "execution_count": 19,
      "outputs": []
    },
    {
      "cell_type": "code",
      "source": [
        "# Create a Moonshot AI object\n",
        "moonshot = genai.moonshot(api = Sys.getenv(\"MOONSHOT_API\"),\n",
        "                          model = all.models$moonshot$model[1],\n",
        "                          version = all.models$moonshot$version[1],\n",
        "                          proxy = FALSE)\n",
        "\n",
        "# Generation configurations\n",
        "parameters = list(\n",
        "  max.tokens = 3000,\n",
        "  temperature = 0.7,\n",
        "  top.p = 1.0\n",
        ")"
      ],
      "metadata": {
        "id": "WCApBHHkUCt6"
      },
      "execution_count": 20,
      "outputs": []
    },
    {
      "cell_type": "code",
      "source": [
        "# Method 1 (recommended): use the pipe operator \"%>%\"\n",
        "moonshot %>%\n",
        "  chat.history.import(new.chat.history = new.moonshot.history)"
      ],
      "metadata": {
        "id": "iANTwfYYUG0p"
      },
      "execution_count": 21,
      "outputs": []
    },
    {
      "cell_type": "code",
      "source": [
        "# Method 2: use the reference operator \"$\"\n",
        "moonshot$chat.history.import(new.chat.history = new.moonshot.history)"
      ],
      "metadata": {
        "id": "W1pUey-xUIzy"
      },
      "execution_count": 22,
      "outputs": []
    },
    {
      "cell_type": "code",
      "source": [
        "# Method 3: use the function chat.history.import() directly\n",
        "chat.history.import(genai.object = moonshot,\n",
        "                    new.chat.history = new.moonshot.history)"
      ],
      "metadata": {
        "id": "qyIPZIUHUKVy"
      },
      "execution_count": 23,
      "outputs": []
    },
    {
      "cell_type": "code",
      "source": [
        "# Continue the chat session\n",
        "moonshot %>%\n",
        "    chat(prompt = \"Summarize the chat.\",\n",
        "         verbose = TRUE,\n",
        "         config = parameters) %>%\n",
        "    cat()"
      ],
      "metadata": {
        "colab": {
          "base_uri": "https://localhost:8080/"
        },
        "id": "fjeJ99WmUUZh",
        "outputId": "632dbe53-20bc-4b4e-d0c9-18946e6cd9c7"
      },
      "execution_count": 24,
      "outputs": [
        {
          "output_type": "stream",
          "name": "stdout",
          "text": [
            "=============================================================================\n",
            "   Generation Configuration\n",
            "-----------------------------------------------------------------------------\n",
            "max_tokens: 3000 \n",
            "temperature: 0.7 \n",
            "top_p: 1 \n",
            "=============================================================================\n",
            "\n",
            "\n",
            "\n",
            "=============================================================================\n",
            "   Prompt\n",
            "-----------------------------------------------------------------------------\n",
            "Summarize the chat.\n",
            "=============================================================================\n",
            "\n",
            "\n",
            "\n",
            "=============================================================================\n",
            "   Chat history \n",
            "-----------------------------------------------------------------------------\n",
            "\n",
            "-------------------------------- Message  1 ---------------------------------\n",
            "Role: system \n",
            "Text: 你是 Kimi，由 Moonshot AI\n",
            "提供的人工智能助手，你更擅长中文和英文的对话。你会为用户提供安全，有帮助，准确的回答。同时，你会拒绝一些涉及恐怖主义，种族歧视，黄色暴力等问题的回答。Moonshot\n",
            "AI 为专有名词，不可翻译成其他语言。\n",
            "\n",
            "-------------------------------- Message  2 ---------------------------------\n",
            "Role: user \n",
            "Text: What is XGBoost? Explain in 50 words.\n",
            "\n",
            "-------------------------------- Message  3 ---------------------------------\n",
            "Role: assistant \n",
            "Text: XGBoost (eXtreme Gradient Boosting) is a powerful machine learning\n",
            "algorithm used for regression and classification tasks. It is an ensemble\n",
            "method that combines weak decision trees into a single strong model.\n",
            "XGBoost is known for its high accuracy, efficiency, and flexibility, making\n",
            "it widely used in various applications such as fraud detection, customer\n",
            "churn prediction, and image recognition.\n",
            "\n",
            "-------------------------------- Message  4 ---------------------------------\n",
            "Role: user \n",
            "Text: What is CatBoost? Explain in 50 words.\n",
            "\n",
            "-------------------------------- Message  5 ---------------------------------\n",
            "Role: assistant \n",
            "Text: CatBoost (Categorical Boosting) is a machine learning algorithm designed\n",
            "for tasks involving categorical features. It is an ensemble method that\n",
            "combines weak decision trees into a single strong model. CatBoost is known\n",
            "for its ability to handle categorical features efficiently and effectively,\n",
            "making it particularly suitable for tasks such as text classification,\n",
            "natural language processing, and recommender systems. CatBoost is also\n",
            "known for its high accuracy, robustness, and speed, making it a popular\n",
            "choice for various real-world applications.\n",
            "\n",
            "-------------------------------- Message  6 ---------------------------------\n",
            "Role: user \n",
            "Text: Summarize the chat.\n",
            "\n",
            "-------------------------------- Message  7 ---------------------------------\n",
            "Role: assistant \n",
            "Text: As an AI developed by Moonshot AI, I'm here to provide safe, helpful, and\n",
            "accurate responses to your questions. In our chat, I've explained that\n",
            "XGBoost is an efficient and accurate gradient boosting algorithm for\n",
            "machine learning tasks, particularly suited for regression and\n",
            "classification. I've also described CatBoost as an algorithm that\n",
            "specializes in dealing with categorical data, offering high performance in\n",
            "various machine learning applications. Both algorithms are renowned for\n",
            "their high accuracy and are used in a wide range of fields.\n",
            "\n",
            "=============================================================================\n",
            "\n",
            "\n",
            "\n",
            " As an AI developed by Moonshot AI, I'm here to provide safe, helpful, and accurate responses to your questions. In our chat, I've explained that XGBoost is an efficient and accurate gradient boosting algorithm for machine learning tasks, particularly suited for regression and classification. I've also described CatBoost as an algorithm that specializes in dealing with categorical data, offering high performance in various machine learning applications. Both algorithms are renowned for their high accuracy and are used in a wide range of fields."
          ]
        }
      ]
    }
  ]
}