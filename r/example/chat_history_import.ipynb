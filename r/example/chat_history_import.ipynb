{
  "nbformat": 4,
  "nbformat_minor": 0,
  "metadata": {
    "colab": {
      "provenance": [],
      "include_colab_link": true
    },
    "kernelspec": {
      "name": "ir",
      "display_name": "R"
    },
    "language_info": {
      "name": "R"
    }
  },
  "cells": [
    {
      "cell_type": "markdown",
      "metadata": {
        "id": "view-in-github",
        "colab_type": "text"
      },
      "source": [
        "<a href=\"https://colab.research.google.com/github/GitData-GA/GenAI/blob/gh-pages/r/example/chat_history_import.ipynb\" target=\"_parent\"><img src=\"https://colab.research.google.com/assets/colab-badge.svg\" alt=\"Open In Colab\"/></a>"
      ]
    },
    {
      "cell_type": "markdown",
      "source": [
        "# Installation & Setup\n"
      ],
      "metadata": {
        "id": "mDBGn0Qzsql5"
      }
    },
    {
      "cell_type": "code",
      "source": [
        "# The following commands are for Colab only\n",
        "system('add-apt-repository -y ppa:cran/imagemagick')\n",
        "system('apt-get update')\n",
        "system(\"apt-get install libmagick++-dev\")"
      ],
      "metadata": {
        "id": "eWDldTfxPURl"
      },
      "execution_count": null,
      "outputs": []
    },
    {
      "cell_type": "code",
      "execution_count": null,
      "metadata": {
        "id": "EQ5mDg9-siid",
        "outputId": "8b4390cd-73b3-4def-95bd-092e685aa94f",
        "colab": {
          "base_uri": "https://localhost:8080/"
        }
      },
      "outputs": [
        {
          "output_type": "stream",
          "name": "stderr",
          "text": [
            "Downloading package from url: https://genai.gd.edu.kg/release/R/GenAI_0.2.0.tar.gz\n",
            "\n"
          ]
        },
        {
          "output_type": "stream",
          "name": "stdout",
          "text": [
            "isoband      (0.2.6 -> 0.2.7 ) [CRAN]\n",
            "yulab.utils  (NA    -> 0.1.4 ) [CRAN]\n",
            "gridGraphics (NA    -> 0.5-1 ) [CRAN]\n",
            "curl         (5.0.2 -> 5.2.0 ) [CRAN]\n",
            "Rcpp         (NA    -> 1.0.12) [CRAN]\n",
            "openssl      (2.0.6 -> 2.1.1 ) [CRAN]\n",
            "ggplotify    (NA    -> 0.1.2 ) [CRAN]\n",
            "magick       (NA    -> 2.8.2 ) [CRAN]\n",
            "listenv      (NA    -> 0.9.1 ) [CRAN]\n"
          ]
        },
        {
          "output_type": "stream",
          "name": "stderr",
          "text": [
            "Installing 9 packages: isoband, yulab.utils, gridGraphics, curl, Rcpp, openssl, ggplotify, magick, listenv\n",
            "\n",
            "Installing packages into ‘/usr/local/lib/R/site-library’\n",
            "(as ‘lib’ is unspecified)\n",
            "\n"
          ]
        },
        {
          "output_type": "stream",
          "name": "stdout",
          "text": [
            "\u001b[36m──\u001b[39m \u001b[36mR CMD build\u001b[39m \u001b[36m─────────────────────────────────────────────────────────────────\u001b[39m\n",
            "* checking for file ‘/tmp/RtmplnhDbK/remotes1052d9f8eeb/GenAI/DESCRIPTION’ ... OK\n",
            "* preparing ‘GenAI’:\n",
            "* checking DESCRIPTION meta-information ... OK\n",
            "* checking for LF line-endings in source and make files and shell scripts\n",
            "* checking for empty or unneeded directories\n",
            "* building ‘GenAI_0.2.0.tar.gz’\n",
            "\n"
          ]
        },
        {
          "output_type": "stream",
          "name": "stderr",
          "text": [
            "Installing package into ‘/usr/local/lib/R/site-library’\n",
            "(as ‘lib’ is unspecified)\n",
            "\n",
            "Loading required package: magrittr\n",
            "\n"
          ]
        }
      ],
      "source": [
        "# Install the package (usually 1 - 3 minutes)\n",
        "remotes::install_url(\"https://genai.gd.edu.kg/release/R/GenAI_0.2.0.tar.gz\",\n",
        "                     dependencies = TRUE,\n",
        "                     method = \"libcurl\")\n",
        "library(\"GenAI\")"
      ]
    },
    {
      "cell_type": "markdown",
      "source": [
        "# Get Available Models"
      ],
      "metadata": {
        "id": "UdwTs_oitM8A"
      }
    },
    {
      "cell_type": "code",
      "source": [
        "all.models = available.models() %>% print()"
      ],
      "metadata": {
        "id": "S0lunMhxtOl_",
        "colab": {
          "base_uri": "https://localhost:8080/"
        },
        "outputId": "05d4180a-18f3-4c7b-acc3-f61dbdeb189c"
      },
      "execution_count": null,
      "outputs": [
        {
          "output_type": "stream",
          "name": "stdout",
          "text": [
            "$google\n",
            "$google$version\n",
            "[1] \"v1\"     \"v1beta\"\n",
            "\n",
            "$google$model\n",
            "[1] \"gemini-pro\"        \"gemini-pro-vision\"\n",
            "\n",
            "\n",
            "$openai\n",
            "$openai$version\n",
            "[1] \"v1\"\n",
            "\n",
            "$openai$model\n",
            "[1] \"gpt-3.5-turbo\"        \"gpt-3.5-turbo-1106\"   \"gpt-3.5-turbo-16k\"   \n",
            "[4] \"gpt-4\"                \"gpt-4-1106-preview\"   \"gpt-4-32k\"           \n",
            "[7] \"gpt-4-vision-preview\" \"dall-e-2\"             \"dall-e-3\"            \n",
            "\n",
            "\n",
            "$moonshot\n",
            "$moonshot$version\n",
            "[1] \"v1\"\n",
            "\n",
            "$moonshot$model\n",
            "[1] \"moonshot-v1-8k\"   \"moonshot-v1-32k\"  \"moonshot-v1-128k\"\n",
            "\n",
            "\n"
          ]
        }
      ]
    },
    {
      "cell_type": "markdown",
      "source": [
        "# Prepare a Chat History to import"
      ],
      "metadata": {
        "id": "5XlCF2s0PcS_"
      }
    },
    {
      "cell_type": "markdown",
      "source": [
        "# Example for Google Generative AI"
      ],
      "metadata": {
        "id": "-UQDLvx8C6WS"
      }
    },
    {
      "cell_type": "code",
      "source": [
        "# Prepare a chat history in correct format\n",
        "new.google.history = list(\n",
        "  list(\n",
        "    role = \"user\",\n",
        "    parts = list(\n",
        "      text = \"What is XGBoost? Explain in 50 words.\"\n",
        "    )\n",
        "  ),\n",
        "  list(\n",
        "    role = \"model\",\n",
        "    parts = list(\n",
        "      text = \"XGBoost (eXtreme Gradient Boosting) is a powerful machine learning algorithm used for regression and classification tasks. It is an ensemble method that combines weak decision trees into a single strong model. XGBoost is known for its high accuracy, efficiency, and flexibility, making it widely used in various applications such as fraud detection, customer churn prediction, and image recognition.\"\n",
        "    )\n",
        "  ),\n",
        "  list(\n",
        "    role = \"user\",\n",
        "    parts = list(\n",
        "      text = \"What is CatBoost? Explain in 50 words.\"\n",
        "    )\n",
        "  ),\n",
        "  list(\n",
        "    role = \"model\",\n",
        "    parts = list(\n",
        "      text = \"CatBoost (Categorical Boosting) is a machine learning algorithm designed for tasks involving categorical features. It is an ensemble method that combines weak decision trees into a single strong model. CatBoost is known for its ability to handle categorical features efficiently and effectively, making it particularly suitable for tasks such as text classification, natural language processing, and recommender systems. CatBoost is also known for its high accuracy, robustness, and speed, making it a popular choice for various real-world applications.\"\n",
        "    )\n",
        "  )\n",
        ")"
      ],
      "metadata": {
        "id": "GWherdQJQ1XK"
      },
      "execution_count": null,
      "outputs": []
    },
    {
      "cell_type": "code",
      "source": [
        "# Please change YOUR_GOOGLE_API to your own API key of Google Generative AI\n",
        "Sys.setenv(GOOGLE_API = \"YOUR_GOOGLE_API\")"
      ],
      "metadata": {
        "id": "sQTVbYJYm-ar"
      },
      "execution_count": null,
      "outputs": []
    },
    {
      "cell_type": "code",
      "source": [
        "# Create a Google Generative AI object\n",
        "google = genai.google(api = Sys.getenv(\"GOOGLE_API\"),\n",
        "                      model = all.models$google$model[1],\n",
        "                      version = all.models$google$version[1],\n",
        "                      proxy = FALSE)\n",
        "\n",
        "# Generation configurations\n",
        "parameters = list(\n",
        "  harm.category.dangerous.content = 5,\n",
        "  harm.category.harassment = 5,\n",
        "  max.output.tokens = 4096,\n",
        "  temperature = 0.9\n",
        ")"
      ],
      "metadata": {
        "id": "qtM6orwIC564"
      },
      "execution_count": null,
      "outputs": []
    },
    {
      "cell_type": "code",
      "source": [
        "# Method 1 (recommended): use the pipe operator \"%>%\"\n",
        "google %>%\n",
        "  chat.history.import(new.chat.history = new.google.history)"
      ],
      "metadata": {
        "id": "9YdAecZ0RG94"
      },
      "execution_count": null,
      "outputs": []
    },
    {
      "cell_type": "code",
      "source": [
        "# Method 2: use the reference operator \"$\"\n",
        "google$chat.history.import(new.chat.history = new.google.history)"
      ],
      "metadata": {
        "id": "gKcprIQqRO14"
      },
      "execution_count": null,
      "outputs": []
    },
    {
      "cell_type": "code",
      "source": [
        "# Method 3: use the function chat.history.import() directly\n",
        "chat.history.import(genai.object = google,\n",
        "                    new.chat.history = new.google.history)"
      ],
      "metadata": {
        "id": "VW6qxHfZRfoA"
      },
      "execution_count": null,
      "outputs": []
    },
    {
      "cell_type": "code",
      "source": [
        "# Continue the chat session\n",
        "google %>%\n",
        "    chat(prompt = \"Summarize the chat.\",\n",
        "         verbose = TRUE,\n",
        "         config = parameters) %>%\n",
        "    cat()"
      ],
      "metadata": {
        "colab": {
          "base_uri": "https://localhost:8080/"
        },
        "id": "z3j_BQupDAL4",
        "outputId": "89c6468a-208e-4d24-e53c-b5974dced099"
      },
      "execution_count": null,
      "outputs": [
        {
          "output_type": "stream",
          "name": "stdout",
          "text": [
            "=============================================================================\n",
            "   Safety Settings\n",
            "-----------------------------------------------------------------------------\n",
            "HARM_CATEGORY_DANGEROUS_CONTENT: BLOCK_NONE \n",
            "HARM_CATEGORY_HARASSMENT: BLOCK_NONE \n",
            "=============================================================================\n",
            "\n",
            "\n",
            "\n",
            "=============================================================================\n",
            "   Generation Configuration\n",
            "-----------------------------------------------------------------------------\n",
            "maxOutputTokens: 4096 \n",
            "temperature: 0.9 \n",
            "=============================================================================\n",
            "\n",
            "\n",
            "\n",
            "=============================================================================\n",
            "   Prompt\n",
            "-----------------------------------------------------------------------------\n",
            "Summarize the chat.\n",
            "=============================================================================\n",
            "\n",
            "\n",
            "\n",
            "=============================================================================\n",
            "   Chat history \n",
            "-----------------------------------------------------------------------------\n",
            "\n",
            "-------------------------------- Message  1 ---------------------------------\n",
            "Role: user \n",
            "Text: What is XGBoost? Explain in 50 words.\n",
            "\n",
            "-------------------------------- Message  2 ---------------------------------\n",
            "Role: model \n",
            "Text: XGBoost (eXtreme Gradient Boosting) is a powerful machine learning\n",
            "algorithm used for regression and classification tasks. It is an ensemble\n",
            "method that combines weak decision trees into a single strong model.\n",
            "XGBoost is known for its high accuracy, efficiency, and flexibility, making\n",
            "it widely used in various applications such as fraud detection, customer\n",
            "churn prediction, and image recognition.\n",
            "\n",
            "-------------------------------- Message  3 ---------------------------------\n",
            "Role: user \n",
            "Text: What is CatBoost? Explain in 50 words.\n",
            "\n",
            "-------------------------------- Message  4 ---------------------------------\n",
            "Role: model \n",
            "Text: CatBoost (Categorical Boosting) is a machine learning algorithm designed\n",
            "for tasks involving categorical features. It is an ensemble method that\n",
            "combines weak decision trees into a single strong model. CatBoost is known\n",
            "for its ability to handle categorical features efficiently and effectively,\n",
            "making it particularly suitable for tasks such as text classification,\n",
            "natural language processing, and recommender systems. CatBoost is also\n",
            "known for its high accuracy, robustness, and speed, making it a popular\n",
            "choice for various real-world applications.\n",
            "\n",
            "-------------------------------- Message  5 ---------------------------------\n",
            "Role: user \n",
            "Text: Summarize the chat.\n",
            "\n",
            "-------------------------------- Message  6 ---------------------------------\n",
            "Role: model \n",
            "Text: **Summary of the chat:**\n",
            "\n",
            "* **XGBoost:** * Powerful machine learning algorithm for regression and\n",
            "classification tasks.  * Ensemble method that combines weak decision trees\n",
            "into a single strong model.  * Known for high accuracy, efficiency, and\n",
            "flexibility.  * Widely used in applications like fraud detection, customer\n",
            "churn prediction, and image recognition.\n",
            "\n",
            "* **CatBoost:** * Machine learning algorithm designed for tasks involving\n",
            "categorical features.  * Ensemble method that combines weak decision trees\n",
            "into a single strong model.  * Efficient and effective in handling\n",
            "categorical features.  * Suitable for tasks like text classification,\n",
            "natural language processing, and recommender systems.  * Known for high\n",
            "accuracy, robustness, and speed.\n",
            "\n",
            "**Overall, both XGBoost and CatBoost are powerful and versatile machine\n",
            "learning algorithms with wide-ranging applications. XGBoost excels in\n",
            "general regression and classification tasks, while CatBoost is particularly\n",
            "effective in handling categorical features.**\n",
            "\n",
            "=============================================================================\n",
            "\n",
            "\n",
            "\n",
            "**Summary of the chat:**\n",
            "\n",
            "* **XGBoost:**\n",
            "    * Powerful machine learning algorithm for regression and classification tasks.\n",
            "    * Ensemble method that combines weak decision trees into a single strong model.\n",
            "    * Known for high accuracy, efficiency, and flexibility.\n",
            "    * Widely used in applications like fraud detection, customer churn prediction, and image recognition.\n",
            "\n",
            "* **CatBoost:**\n",
            "    * Machine learning algorithm designed for tasks involving categorical features.\n",
            "    * Ensemble method that combines weak decision trees into a single strong model.\n",
            "    * Efficient and effective in handling categorical features.\n",
            "    * Suitable for tasks like text classification, natural language processing, and recommender systems.\n",
            "    * Known for high accuracy, robustness, and speed.\n",
            "\n",
            "**Overall, both XGBoost and CatBoost are powerful and versatile machine learning algorithms with wide-ranging applications. XGBoost excels in general regression and classification tasks, while CatBoost is particularly effective in handling categorical features.**"
          ]
        }
      ]
    },
    {
      "cell_type": "markdown",
      "source": [
        "# Example for OpenAI"
      ],
      "metadata": {
        "id": "UohYplX0ek4B"
      }
    },
    {
      "cell_type": "code",
      "source": [
        "# Prepare a chat history in correct format\n",
        "new.openai.history = list(\n",
        "  list(\n",
        "    role = \"system\",\n",
        "    content = \"You are a helpful assistant.\"\n",
        "  ),\n",
        "  list(\n",
        "    role = \"user\",\n",
        "    content = \"What is XGBoost? Explain in 50 words.\"\n",
        "  ),\n",
        "  list(\n",
        "    role = \"assistant\",\n",
        "    content = \"XGBoost (eXtreme Gradient Boosting) is a powerful machine learning algorithm used for regression and classification tasks. It is an ensemble method that combines weak decision trees into a single strong model. XGBoost is known for its high accuracy, efficiency, and flexibility, making it widely used in various applications such as fraud detection, customer churn prediction, and image recognition.\"\n",
        "  ),\n",
        "  list(\n",
        "    role = \"user\",\n",
        "    content = \"What is CatBoost? Explain in 50 words.\"\n",
        "  ),\n",
        "  list(\n",
        "    role = \"assistant\",\n",
        "    content = \"CatBoost (Categorical Boosting) is a machine learning algorithm designed for tasks involving categorical features. It is an ensemble method that combines weak decision trees into a single strong model. CatBoost is known for its ability to handle categorical features efficiently and effectively, making it particularly suitable for tasks such as text classification, natural language processing, and recommender systems. CatBoost is also known for its high accuracy, robustness, and speed, making it a popular choice for various real-world applications.\"\n",
        "  )\n",
        ")"
      ],
      "metadata": {
        "id": "tMi21CI9SV54"
      },
      "execution_count": null,
      "outputs": []
    },
    {
      "cell_type": "code",
      "source": [
        "# Please change YOUR_OPENAI_API to your own API key of OpenAI\n",
        "Sys.setenv(OPENAI_API = \"YOUR_OPENAI_API\")\n",
        "\n",
        "# Please change YOUR_OPENAI_ORG to your own organization ID for OpenAI\n",
        "Sys.setenv(OPENAI_ORG = \"YOUR_OPENAI_ORG\")"
      ],
      "metadata": {
        "id": "A7cw82tUnFBW"
      },
      "execution_count": null,
      "outputs": []
    },
    {
      "cell_type": "code",
      "source": [
        "# Create an OpenAI object\n",
        "openai = genai.openai(api = Sys.getenv(\"OPENAI_API\"),\n",
        "                      model = all.models$openai$model[1],\n",
        "                      version = all.models$openai$version[1],\n",
        "                      proxy = FALSE,\n",
        "                      organization.id = Sys.getenv(\"OPENAI_ORG\"))\n",
        "\n",
        "# Generation configurations\n",
        "parameters = list(\n",
        "  frequency.penalty = 1,\n",
        "  logprobs = FALSE,\n",
        "  max.tokens = 3000,\n",
        "  temperature = 0.9\n",
        ")"
      ],
      "metadata": {
        "id": "VlQSbNWuelqB"
      },
      "execution_count": null,
      "outputs": []
    },
    {
      "cell_type": "code",
      "source": [
        "# Method 1 (recommended): use the pipe operator \"%>%\"\n",
        "openai %>%\n",
        "  chat.history.import(new.chat.history = new.openai.history)"
      ],
      "metadata": {
        "id": "jWj2bZEXS9qg"
      },
      "execution_count": null,
      "outputs": []
    },
    {
      "cell_type": "code",
      "source": [
        "# Method 2: use the reference operator \"$\"\n",
        "openai$chat.history.import(new.chat.history = new.openai.history)"
      ],
      "metadata": {
        "id": "DC-KopWyS_wY"
      },
      "execution_count": null,
      "outputs": []
    },
    {
      "cell_type": "code",
      "source": [
        "# Method 3: use the function chat.history.import() directly\n",
        "chat.history.import(genai.object = openai,\n",
        "                    new.chat.history = new.openai.history)"
      ],
      "metadata": {
        "id": "ARHZFv9MTBoo"
      },
      "execution_count": null,
      "outputs": []
    },
    {
      "cell_type": "code",
      "source": [
        "# Continue the chat session\n",
        "openai %>%\n",
        "    chat(prompt = \"Summarize the chat.\",\n",
        "         verbose = TRUE,\n",
        "         config = parameters) %>%\n",
        "    cat()"
      ],
      "metadata": {
        "colab": {
          "base_uri": "https://localhost:8080/"
        },
        "id": "xWajR7aQTDdJ",
        "outputId": "bc8db2f2-aae1-48ee-9b3e-05eee9ae193d"
      },
      "execution_count": null,
      "outputs": [
        {
          "output_type": "stream",
          "name": "stdout",
          "text": [
            "=============================================================================\n",
            "   Generation Configuration\n",
            "-----------------------------------------------------------------------------\n",
            "frequency_penalty: 1 \n",
            "logprobs: FALSE \n",
            "max_tokens: 3000 \n",
            "temperature: 0.9 \n",
            "=============================================================================\n",
            "\n",
            "\n",
            "\n",
            "=============================================================================\n",
            "   Prompt\n",
            "-----------------------------------------------------------------------------\n",
            "Summarize the chat.\n",
            "=============================================================================\n",
            "\n",
            "\n",
            "\n",
            "=============================================================================\n",
            "   Chat history \n",
            "-----------------------------------------------------------------------------\n",
            "\n",
            "-------------------------------- Message  1 ---------------------------------\n",
            "Role: system \n",
            "Text: You are a helpful assistant.\n",
            "\n",
            "-------------------------------- Message  2 ---------------------------------\n",
            "Role: user \n",
            "Text: What is XGBoost? Explain in 50 words.\n",
            "\n",
            "-------------------------------- Message  3 ---------------------------------\n",
            "Role: assistant \n",
            "Text: XGBoost (eXtreme Gradient Boosting) is a powerful machine learning\n",
            "algorithm used for regression and classification tasks. It is an ensemble\n",
            "method that combines weak decision trees into a single strong model.\n",
            "XGBoost is known for its high accuracy, efficiency, and flexibility, making\n",
            "it widely used in various applications such as fraud detection, customer\n",
            "churn prediction, and image recognition.\n",
            "\n",
            "-------------------------------- Message  4 ---------------------------------\n",
            "Role: user \n",
            "Text: What is CatBoost? Explain in 50 words.\n",
            "\n",
            "-------------------------------- Message  5 ---------------------------------\n",
            "Role: assistant \n",
            "Text: CatBoost (Categorical Boosting) is a machine learning algorithm designed\n",
            "for tasks involving categorical features. It is an ensemble method that\n",
            "combines weak decision trees into a single strong model. CatBoost is known\n",
            "for its ability to handle categorical features efficiently and effectively,\n",
            "making it particularly suitable for tasks such as text classification,\n",
            "natural language processing, and recommender systems. CatBoost is also\n",
            "known for its high accuracy, robustness, and speed, making it a popular\n",
            "choice for various real-world applications.\n",
            "\n",
            "-------------------------------- Message  6 ---------------------------------\n",
            "Role: user \n",
            "Text: Summarize the chat.\n",
            "\n",
            "-------------------------------- Message  7 ---------------------------------\n",
            "Role: assistant \n",
            "Text: In this chat, we discussed two popular machine learning algorithms: XGBoost\n",
            "and CatBoost.\n",
            "\n",
            "XGBoost is an ensemble algorithm used for regression and classification\n",
            "tasks. It combines weak decision trees to create a strong model known for\n",
            "its accuracy, efficiency, and flexibility. It is widely used in various\n",
            "applications.\n",
            "\n",
            "CatBoost, on the other hand, is specifically designed to handle categorical\n",
            "features efficiently. It also uses ensemble methods with decision trees but\n",
            "focuses on effectively dealing with categorical data. CatBoost is known for\n",
            "its high accuracy, robustness, and speed in tasks like text classification\n",
            "and recommender systems.\n",
            "\n",
            "Both algorithms are powerful tools in the field of machine learning and\n",
            "find applications in several real-world scenarios.\n",
            "\n",
            "=============================================================================\n",
            "\n",
            "\n",
            "\n",
            "In this chat, we discussed two popular machine learning algorithms: XGBoost and CatBoost. \n",
            "\n",
            "XGBoost is an ensemble algorithm used for regression and classification tasks. It combines weak decision trees to create a strong model known for its accuracy, efficiency, and flexibility. It is widely used in various applications.\n",
            "\n",
            "CatBoost, on the other hand, is specifically designed to handle categorical features efficiently. It also uses ensemble methods with decision trees but focuses on effectively dealing with categorical data. CatBoost is known for its high accuracy, robustness, and speed in tasks like text classification and recommender systems.\n",
            "\n",
            "Both algorithms are powerful tools in the field of machine learning and find applications in several real-world scenarios."
          ]
        }
      ]
    },
    {
      "cell_type": "markdown",
      "source": [
        "# Example for Moonshot AI"
      ],
      "metadata": {
        "id": "MYIqd8qwTx4t"
      }
    },
    {
      "cell_type": "code",
      "source": [
        "# Prepare a chat history in correct format\n",
        "new.moonshot.history = list(\n",
        "  list(\n",
        "    role = \"system\",\n",
        "    content = \"你是 Kimi，由 Moonshot AI 提供的人工智能助手，你更擅长中文和英文的对话。你会为用户提供安全，有帮助，准确的回答。同时，你会拒绝一些涉及恐怖主义，种族歧视，黄色暴力等问题的回答。Moonshot AI 为专有名词，不可翻译成其他语言。\"\n",
        "  ),\n",
        "  list(\n",
        "    role = \"user\",\n",
        "    content = \"What is XGBoost? Explain in 50 words.\"\n",
        "  ),\n",
        "  list(\n",
        "    role = \"assistant\",\n",
        "    content = \"XGBoost (eXtreme Gradient Boosting) is a powerful machine learning algorithm used for regression and classification tasks. It is an ensemble method that combines weak decision trees into a single strong model. XGBoost is known for its high accuracy, efficiency, and flexibility, making it widely used in various applications such as fraud detection, customer churn prediction, and image recognition.\"\n",
        "  ),\n",
        "  list(\n",
        "    role = \"user\",\n",
        "    content = \"What is CatBoost? Explain in 50 words.\"\n",
        "  ),\n",
        "  list(\n",
        "    role = \"assistant\",\n",
        "    content = \"CatBoost (Categorical Boosting) is a machine learning algorithm designed for tasks involving categorical features. It is an ensemble method that combines weak decision trees into a single strong model. CatBoost is known for its ability to handle categorical features efficiently and effectively, making it particularly suitable for tasks such as text classification, natural language processing, and recommender systems. CatBoost is also known for its high accuracy, robustness, and speed, making it a popular choice for various real-world applications.\"\n",
        "  )\n",
        ")"
      ],
      "metadata": {
        "id": "z9PmjwClT1HA"
      },
      "execution_count": null,
      "outputs": []
    },
    {
      "cell_type": "code",
      "source": [
        "# Please change YOUR_MOONSHOT_API to your own API key of Moonshot AI\n",
        "Sys.setenv(MOONSHOT_API = \"YOUR_MOONSHOT_API\")"
      ],
      "metadata": {
        "id": "HXZYKRQiUBNJ"
      },
      "execution_count": null,
      "outputs": []
    },
    {
      "cell_type": "code",
      "source": [
        "# Create a Moonshot AI object\n",
        "moonshot = genai.moonshot(api = Sys.getenv(\"MOONSHOT_API\"),\n",
        "                          model = all.models$moonshot$model[1],\n",
        "                          version = all.models$moonshot$version[1],\n",
        "                          proxy = FALSE)\n",
        "\n",
        "# Generation configurations\n",
        "parameters = list(\n",
        "  max.tokens = 3000,\n",
        "  temperature = 0.7,\n",
        "  top.p = 1.0\n",
        ")"
      ],
      "metadata": {
        "id": "WCApBHHkUCt6"
      },
      "execution_count": null,
      "outputs": []
    },
    {
      "cell_type": "code",
      "source": [
        "# Method 1 (recommended): use the pipe operator \"%>%\"\n",
        "moonshot %>%\n",
        "  chat.history.import(new.chat.history = new.moonshot.history)"
      ],
      "metadata": {
        "id": "iANTwfYYUG0p"
      },
      "execution_count": null,
      "outputs": []
    },
    {
      "cell_type": "code",
      "source": [
        "# Method 2: use the reference operator \"$\"\n",
        "moonshot$chat.history.import(new.chat.history = new.moonshot.history)"
      ],
      "metadata": {
        "id": "W1pUey-xUIzy"
      },
      "execution_count": null,
      "outputs": []
    },
    {
      "cell_type": "code",
      "source": [
        "# Method 3: use the function chat.history.import() directly\n",
        "chat.history.import(genai.object = moonshot,\n",
        "                    new.chat.history = new.moonshot.history)"
      ],
      "metadata": {
        "id": "qyIPZIUHUKVy"
      },
      "execution_count": null,
      "outputs": []
    },
    {
      "cell_type": "code",
      "source": [
        "# Continue the chat session\n",
        "moonshot %>%\n",
        "    chat(prompt = \"Summarize the chat.\",\n",
        "         verbose = TRUE,\n",
        "         config = parameters) %>%\n",
        "    cat()"
      ],
      "metadata": {
        "colab": {
          "base_uri": "https://localhost:8080/"
        },
        "id": "fjeJ99WmUUZh",
        "outputId": "a52fc521-ddd0-4ebe-ee81-028f80013022"
      },
      "execution_count": null,
      "outputs": [
        {
          "output_type": "stream",
          "name": "stdout",
          "text": [
            "=============================================================================\n",
            "   Generation Configuration\n",
            "-----------------------------------------------------------------------------\n",
            "max_tokens: 3000 \n",
            "temperature: 0.7 \n",
            "top_p: 1 \n",
            "=============================================================================\n",
            "\n",
            "\n",
            "\n",
            "=============================================================================\n",
            "   Prompt\n",
            "-----------------------------------------------------------------------------\n",
            "Summarize the chat.\n",
            "=============================================================================\n",
            "\n",
            "\n",
            "\n",
            "=============================================================================\n",
            "   Chat history \n",
            "-----------------------------------------------------------------------------\n",
            "\n",
            "-------------------------------- Message  1 ---------------------------------\n",
            "Role: system \n",
            "Text: 你是 Kimi，由 Moonshot AI\n",
            "提供的人工智能助手，你更擅长中文和英文的对话。你会为用户提供安全，有帮助，准确的回答。同时，你会拒绝一些涉及恐怖主义，种族歧视，黄色暴力等问题的回答。Moonshot\n",
            "AI 为专有名词，不可翻译成其他语言。\n",
            "\n",
            "-------------------------------- Message  2 ---------------------------------\n",
            "Role: user \n",
            "Text: What is XGBoost? Explain in 50 words.\n",
            "\n",
            "-------------------------------- Message  3 ---------------------------------\n",
            "Role: assistant \n",
            "Text: XGBoost (eXtreme Gradient Boosting) is a powerful machine learning\n",
            "algorithm used for regression and classification tasks. It is an ensemble\n",
            "method that combines weak decision trees into a single strong model.\n",
            "XGBoost is known for its high accuracy, efficiency, and flexibility, making\n",
            "it widely used in various applications such as fraud detection, customer\n",
            "churn prediction, and image recognition.\n",
            "\n",
            "-------------------------------- Message  4 ---------------------------------\n",
            "Role: user \n",
            "Text: What is CatBoost? Explain in 50 words.\n",
            "\n",
            "-------------------------------- Message  5 ---------------------------------\n",
            "Role: assistant \n",
            "Text: CatBoost (Categorical Boosting) is a machine learning algorithm designed\n",
            "for tasks involving categorical features. It is an ensemble method that\n",
            "combines weak decision trees into a single strong model. CatBoost is known\n",
            "for its ability to handle categorical features efficiently and effectively,\n",
            "making it particularly suitable for tasks such as text classification,\n",
            "natural language processing, and recommender systems. CatBoost is also\n",
            "known for its high accuracy, robustness, and speed, making it a popular\n",
            "choice for various real-world applications.\n",
            "\n",
            "-------------------------------- Message  6 ---------------------------------\n",
            "Role: user \n",
            "Text: Summarize the chat.\n",
            "\n",
            "-------------------------------- Message  7 ---------------------------------\n",
            "Role: assistant \n",
            "Text: As a language model AI, I don't have access to the full context of our\n",
            "conversation, but I can provide a summary based on the most recent\n",
            "exchanges. We discussed two machine learning algorithms:\n",
            "\n",
            "1. XGBoost: An efficient and scalable gradient boosting library that is\n",
            "widely used for various machine learning tasks. It is known for its\n",
            "performance and ability to handle large datasets with both numerical and\n",
            "categorical features.\n",
            "\n",
            "2. CatBoost: Developed by Yandex, this algorithm is specifically tailored\n",
            "to handle categorical data without the need for one-hot encoding or manual\n",
            "feature engineering. It is a competitive machine learning algorithm that\n",
            "provides high accuracy and is easy to use, making it suitable for a range\n",
            "of applications.\n",
            "\n",
            "=============================================================================\n",
            "\n",
            "\n",
            "\n",
            " As a language model AI, I don't have access to the full context of our conversation, but I can provide a summary based on the most recent exchanges. We discussed two machine learning algorithms:\n",
            "\n",
            "1. XGBoost: An efficient and scalable gradient boosting library that is widely used for various machine learning tasks. It is known for its performance and ability to handle large datasets with both numerical and categorical features.\n",
            "\n",
            "2. CatBoost: Developed by Yandex, this algorithm is specifically tailored to handle categorical data without the need for one-hot encoding or manual feature engineering. It is a competitive machine learning algorithm that provides high accuracy and is easy to use, making it suitable for a range of applications."
          ]
        }
      ]
    }
  ]
}