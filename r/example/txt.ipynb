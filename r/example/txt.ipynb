{
  "nbformat": 4,
  "nbformat_minor": 0,
  "metadata": {
    "colab": {
      "provenance": [],
      "include_colab_link": true
    },
    "kernelspec": {
      "name": "ir",
      "display_name": "R"
    },
    "language_info": {
      "name": "R"
    }
  },
  "cells": [
    {
      "cell_type": "markdown",
      "metadata": {
        "id": "view-in-github",
        "colab_type": "text"
      },
      "source": [
        "<a href=\"https://colab.research.google.com/github/GitData-GA/GenAI/blob/gh-pages/r/example/txt.ipynb\" target=\"_parent\"><img src=\"https://colab.research.google.com/assets/colab-badge.svg\" alt=\"Open In Colab\"/></a>"
      ]
    },
    {
      "cell_type": "markdown",
      "source": [
        "# Installation & Setup"
      ],
      "metadata": {
        "id": "mDBGn0Qzsql5"
      }
    },
    {
      "cell_type": "code",
      "source": [
        "# The following commands are for Colab only\n",
        "system('add-apt-repository -y ppa:cran/imagemagick')\n",
        "system('apt-get update')\n",
        "system(\"apt-get install libmagick++-dev\")"
      ],
      "metadata": {
        "id": "gApLTxEIGqjl"
      },
      "execution_count": null,
      "outputs": []
    },
    {
      "cell_type": "code",
      "execution_count": null,
      "metadata": {
        "colab": {
          "base_uri": "https://localhost:8080/"
        },
        "id": "EQ5mDg9-siid",
        "outputId": "312d739b-ef2b-4dd9-80a9-563676ec523b"
      },
      "outputs": [
        {
          "output_type": "stream",
          "name": "stderr",
          "text": [
            "Installing package into ‘/usr/local/lib/R/site-library’\n",
            "(as ‘lib’ is unspecified)\n",
            "\n",
            "also installing the dependencies ‘Rcpp’, ‘gridGraphics’, ‘yulab.utils’, ‘listenv’, ‘magick’, ‘ggplotify’\n",
            "\n",
            "\n",
            "Loading required package: magrittr\n",
            "\n"
          ]
        }
      ],
      "source": [
        "# Install the library (usually 1 - 3 minutes in Colab)\n",
        "install.packages(\"GenAI\")\n",
        "library(\"GenAI\")"
      ]
    },
    {
      "cell_type": "markdown",
      "source": [
        "# Get Available Models"
      ],
      "metadata": {
        "id": "UdwTs_oitM8A"
      }
    },
    {
      "cell_type": "code",
      "source": [
        "all.models = available.models() %>% print()"
      ],
      "metadata": {
        "id": "S0lunMhxtOl_",
        "colab": {
          "base_uri": "https://localhost:8080/"
        },
        "outputId": "bce37eca-708c-4cf6-c879-0d5b3f14f49e"
      },
      "execution_count": null,
      "outputs": [
        {
          "output_type": "stream",
          "name": "stdout",
          "text": [
            "$google\n",
            "$google$version\n",
            "[1] \"v1\"     \"v1beta\"\n",
            "\n",
            "$google$model\n",
            "[1] \"gemini-pro\"                   \"gemini-pro-vision\"           \n",
            "[3] \"gemini-1.0-pro\"               \"gemini-1.0-pro-001\"          \n",
            "[5] \"gemini-1.0-pro-latest\"        \"gemini-1.0-pro-vision-latest\"\n",
            "\n",
            "\n",
            "$openai\n",
            "$openai$version\n",
            "[1] \"v1\"\n",
            "\n",
            "$openai$model\n",
            "[1] \"gpt-3.5-turbo\"        \"gpt-3.5-turbo-1106\"   \"gpt-3.5-turbo-16k\"   \n",
            "[4] \"gpt-4\"                \"gpt-4-1106-preview\"   \"gpt-4-32k\"           \n",
            "[7] \"gpt-4-vision-preview\" \"dall-e-2\"             \"dall-e-3\"            \n",
            "\n",
            "\n",
            "$moonshot\n",
            "$moonshot$version\n",
            "[1] \"v1\"\n",
            "\n",
            "$moonshot$model\n",
            "[1] \"moonshot-v1-8k\"   \"moonshot-v1-32k\"  \"moonshot-v1-128k\"\n",
            "\n",
            "\n"
          ]
        }
      ]
    },
    {
      "cell_type": "markdown",
      "source": [
        "# Example for Google Generative AI"
      ],
      "metadata": {
        "id": "ODWMwKhotSJ3"
      }
    },
    {
      "cell_type": "code",
      "source": [
        "# Please change YOUR_GOOGLE_API to your own API key of Google Generative AI\n",
        "Sys.setenv(GOOGLE_API = \"YOUR_GOOGLE_API\")"
      ],
      "metadata": {
        "id": "F87BS59yz5HI"
      },
      "execution_count": null,
      "outputs": []
    },
    {
      "cell_type": "code",
      "source": [
        "# Create a Google Generative AI object\n",
        "google = genai.google(api = Sys.getenv(\"GOOGLE_API\"),\n",
        "                      model = all.models$google$model[1],\n",
        "                      version = all.models$google$version[1],\n",
        "                      proxy = FALSE)\n",
        "\n",
        "# Generation configurations\n",
        "parameters = list(\n",
        "  harm.category.dangerous.content = 5,\n",
        "  harm.category.harassment = 5,\n",
        "  max.output.tokens = 4096,\n",
        "  temperature = 0.9\n",
        ")"
      ],
      "metadata": {
        "id": "l8J1UXkcs6dP"
      },
      "execution_count": null,
      "outputs": []
    },
    {
      "cell_type": "code",
      "source": [
        "# Method 1 (recommended): use the pipe operator \"%>%\"\n",
        "google %>%\n",
        "  txt(prompt = \"Write a story about Mars in 50 words.\",\n",
        "      verbose = FALSE,\n",
        "      config = parameters) %>%\n",
        "  cat()"
      ],
      "metadata": {
        "id": "059Kb09qhV7A",
        "colab": {
          "base_uri": "https://localhost:8080/"
        },
        "outputId": "ae400238-9f60-4245-e5bd-385700f32289"
      },
      "execution_count": null,
      "outputs": [
        {
          "output_type": "stream",
          "name": "stdout",
          "text": [
            "In the vast expanse of the cosmos, Mars stood as a captivating enigma. Its crimson surface, scarred by ancient cataclysms, whispered tales of a turbulent past. Beneath its rust-colored mantle lay secrets, waiting to be unraveled by intrepid explorers, who ventured into the Martian wilderness, seeking answers to the enduring question: Was life ever present on this desolate world?"
          ]
        }
      ]
    },
    {
      "cell_type": "code",
      "source": [
        "# Method 2: use the reference operator \"$\"\n",
        "cat(google$txt(prompt = \"Write a story about Jupiter in 50 words.\",\n",
        "               verbose = FALSE,\n",
        "               config = parameters))"
      ],
      "metadata": {
        "id": "m17MSBVRhcbv",
        "colab": {
          "base_uri": "https://localhost:8080/"
        },
        "outputId": "c060b4cf-339b-4936-db05-e9c49d3e7a45"
      },
      "execution_count": null,
      "outputs": [
        {
          "output_type": "stream",
          "name": "stdout",
          "text": [
            "In the vast cosmic tapestry, there lived a majestic gas giant, Jupiter. Its swirling clouds painted with vibrant hues of red, orange, and white, were forever etched in the annals of celestial beauty. With its colossal size and powerful gravitational pull, Jupiter reigned supreme among the planets, a celestial guardian that held the solar system in balance."
          ]
        }
      ]
    },
    {
      "cell_type": "code",
      "source": [
        "# Method 3: use the function txt() directly\n",
        "# Set verbose to TRUE to see the detail\n",
        "cat(txt(genai.object = google,\n",
        "        prompt = \"Write a story about Earth in 50 words.\",\n",
        "        verbose = TRUE,\n",
        "        config = parameters))"
      ],
      "metadata": {
        "id": "Zcili3iqhfYA",
        "colab": {
          "base_uri": "https://localhost:8080/"
        },
        "outputId": "af9e9335-a634-4441-96bb-689b09263662"
      },
      "execution_count": null,
      "outputs": [
        {
          "output_type": "stream",
          "name": "stdout",
          "text": [
            "=============================================================================\n",
            "   Safety Settings\n",
            "-----------------------------------------------------------------------------\n",
            "HARM_CATEGORY_DANGEROUS_CONTENT: BLOCK_NONE \n",
            "HARM_CATEGORY_HARASSMENT: BLOCK_NONE \n",
            "=============================================================================\n",
            "\n",
            "\n",
            "\n",
            "=============================================================================\n",
            "   Generation Configuration\n",
            "-----------------------------------------------------------------------------\n",
            "maxOutputTokens: 4096 \n",
            "temperature: 0.9 \n",
            "=============================================================================\n",
            "\n",
            "\n",
            "\n",
            "=============================================================================\n",
            "   Prompt\n",
            "-----------------------------------------------------------------------------\n",
            "Write a story about Earth in 50 words.\n",
            "=============================================================================\n",
            "\n",
            "\n",
            "\n",
            "\n",
            "In the vast expanse of the cosmos, Earth, a vibrant blue sphere, embarked on an extraordinary journey. Through eons of transformation, it birthed diverse ecosystems, witnessed the rise and fall of civilizations, and nurtured countless dreams. Now, standing at the precipice of an uncertain future, Earth's inhabitants faced a pivotal choice: to embrace unity and forge a sustainable path or succumb to division and face the consequences of their actions."
          ]
        }
      ]
    },
    {
      "cell_type": "markdown",
      "source": [
        "# Example for OpenAI"
      ],
      "metadata": {
        "id": "aiRhlATbhx_I"
      }
    },
    {
      "cell_type": "code",
      "source": [
        "# Please change YOUR_OPENAI_API to your own API key of OpenAI\n",
        "Sys.setenv(OPENAI_API = \"YOUR_OPENAI_API\")\n",
        "\n",
        "# Please change YOUR_OPENAI_ORG to your own organization ID for OpenAI\n",
        "Sys.setenv(OPENAI_ORG = \"YOUR_OPENAI_ORG\")"
      ],
      "metadata": {
        "id": "ueumKuCtz3UK"
      },
      "execution_count": null,
      "outputs": []
    },
    {
      "cell_type": "code",
      "source": [
        "# Create an OpenAI object\n",
        "openai = genai.openai(api = Sys.getenv(\"OPENAI_API\"),\n",
        "                      model = all.models$openai$model[1],\n",
        "                      version = all.models$openai$version[1],\n",
        "                      proxy = FALSE,\n",
        "                      organization.id = Sys.getenv(\"OPENAI_ORG\"))\n",
        "\n",
        "# Generation configurations\n",
        "parameters = list(\n",
        "  frequency.penalty = 1,\n",
        "  logprobs = FALSE,\n",
        "  max.tokens = 3000,\n",
        "  temperature = 0.9\n",
        ")"
      ],
      "metadata": {
        "id": "budHNRsahxnB"
      },
      "execution_count": null,
      "outputs": []
    },
    {
      "cell_type": "code",
      "source": [
        "# Method 1 (recommended): use the pipe operator \"%>%\"\n",
        "openai %>%\n",
        "  txt(prompt = \"Write a story about Mars in 50 words.\",\n",
        "      verbose = FALSE,\n",
        "      config = parameters) %>%\n",
        "  cat()"
      ],
      "metadata": {
        "id": "QSxF-cWZh6MJ",
        "colab": {
          "base_uri": "https://localhost:8080/"
        },
        "outputId": "23058f20-7915-42b1-e544-b1273e4c5aa5"
      },
      "execution_count": null,
      "outputs": [
        {
          "output_type": "stream",
          "name": "stdout",
          "text": [
            "On Mars, a lone rover traverses the rusty landscape. Its cameras capture sweeping vistas, enticing the curious minds on Earth. The barren planet holds secrets yet to be uncovered. As humans gaze at the crimson sky, dreams of exploration ignite. Mars beckons, promising a future of wonder and infinite possibilities."
          ]
        }
      ]
    },
    {
      "cell_type": "code",
      "source": [
        "# Method 2: use the reference operator \"$\"\n",
        "cat(openai$txt(prompt = \"Write a story about Jupiter in 50 words.\",\n",
        "               verbose = FALSE,\n",
        "               config = parameters))"
      ],
      "metadata": {
        "id": "m7e2pTyCh9kC",
        "colab": {
          "base_uri": "https://localhost:8080/"
        },
        "outputId": "d5b3858f-4891-4d66-a0c8-7b34c6a4c7b3"
      },
      "execution_count": null,
      "outputs": [
        {
          "output_type": "stream",
          "name": "stdout",
          "text": [
            "Jupiter, the largest planet in our solar system, is a majestic world of colorful stripes and swirling storms. Its immense size and powerful gravity make it a cosmic guardian, deflecting asteroids and comets that could harm Earth. Jupiter's mesmerizing beauty reminds us of the vastness and wonders of our universe."
          ]
        }
      ]
    },
    {
      "cell_type": "code",
      "source": [
        "# Method 3: use the function txt() directly\n",
        "# Set verbose to TRUE to see the detail\n",
        "cat(txt(genai.object = openai,\n",
        "        prompt = \"Write a story about Earth in 50 words.\",\n",
        "        verbose = TRUE,\n",
        "        config = parameters))"
      ],
      "metadata": {
        "id": "8bIWa2jSiA-4",
        "colab": {
          "base_uri": "https://localhost:8080/"
        },
        "outputId": "973f0277-1e96-4a31-a96b-11985ae837d4"
      },
      "execution_count": null,
      "outputs": [
        {
          "output_type": "stream",
          "name": "stdout",
          "text": [
            "=============================================================================\n",
            "   Generation Configuration\n",
            "-----------------------------------------------------------------------------\n",
            "frequency_penalty: 1 \n",
            "logprobs: FALSE \n",
            "max_tokens: 3000 \n",
            "temperature: 0.9 \n",
            "=============================================================================\n",
            "\n",
            "\n",
            "\n",
            "=============================================================================\n",
            "   Prompt\n",
            "-----------------------------------------------------------------------------\n",
            "Write a story about Earth in 50 words.\n",
            "=============================================================================\n",
            "\n",
            "\n",
            "\n",
            "\n",
            "Earth, a beautiful blue planet teeming with life. From towering mountains to vast oceans, it offers breathtaking landscapes. But humanity's greed threatens its harmony. Pollution chokes the air, deforestation destroys ecosystems, and climate change looms large. Yet small acts of kindness and sustainable choices offer hope for a brighter future on Earth."
          ]
        }
      ]
    },
    {
      "cell_type": "markdown",
      "source": [
        "# Example for Moonshot AI"
      ],
      "metadata": {
        "id": "MPWU5KnRL7TU"
      }
    },
    {
      "cell_type": "code",
      "source": [
        "# Please change YOUR_MOONSHOT_API to your own API key of Moonshot AI\n",
        "Sys.setenv(MOONSHOT_API = \"YOUR_MOONSHOT_API\")"
      ],
      "metadata": {
        "id": "2aGvkX-2L_Vo"
      },
      "execution_count": null,
      "outputs": []
    },
    {
      "cell_type": "code",
      "source": [
        "# Create a Moonshot AI object\n",
        "moonshot = genai.moonshot(api = Sys.getenv(\"MOONSHOT_API\"),\n",
        "                          model = all.models$moonshot$model[1],\n",
        "                          version = all.models$moonshot$version[1],\n",
        "                          proxy = FALSE)\n",
        "\n",
        "# Generation configurations\n",
        "parameters = list(\n",
        "  max.tokens = 3000,\n",
        "  temperature = 0.7,\n",
        "  top.p = 1.0\n",
        ")"
      ],
      "metadata": {
        "id": "7kjox45aMB_j"
      },
      "execution_count": null,
      "outputs": []
    },
    {
      "cell_type": "code",
      "source": [
        "# Method 1 (recommended): use the pipe operator \"%>%\"\n",
        "moonshot %>%\n",
        "  txt(prompt = \"Write a story about Mars in 50 words.\",\n",
        "      verbose = FALSE,\n",
        "      config = parameters) %>%\n",
        "  cat()"
      ],
      "metadata": {
        "colab": {
          "base_uri": "https://localhost:8080/"
        },
        "id": "L4HOAbZnMOZs",
        "outputId": "d8b5b36c-3ba7-42af-aa23-924256586dc9"
      },
      "execution_count": null,
      "outputs": [
        {
          "output_type": "stream",
          "name": "stdout",
          "text": [
            " In the year 2050, Mars became Earth's outpost, bustling with life. Dressed in smart suits, humans and robots cohabited, tending to hydroponic farms under the red sky. They marveled at the preserved Olympus Mons, while kids learned about their celestial heritage, dreaming of the day they'd visit the blue marble they called home."
          ]
        }
      ]
    },
    {
      "cell_type": "code",
      "source": [
        "# Method 2: use the reference operator \"$\"\n",
        "cat(moonshot$txt(prompt = \"Write a story about Jupiter in 50 words.\",\n",
        "                 verbose = FALSE,\n",
        "                 config = parameters))"
      ],
      "metadata": {
        "id": "_4VpUEBZMQGk",
        "colab": {
          "base_uri": "https://localhost:8080/"
        },
        "outputId": "ee4f8687-43af-4e7c-935a-9b89709174a5"
      },
      "execution_count": null,
      "outputs": [
        {
          "output_type": "stream",
          "name": "stdout",
          "text": [
            " Once upon a time, on a distant planet, Jupiter was a giant marble, spinning silently in the vast cosmic dance. A curious traveler, a tiny spaceship named Astra, ventured near, eager to explore its swirling storms. As Astra descended, it marveled at the gas giant's majestic bands of colors, each telling a tale of ancient storms and cosmic wonders. Together, they danced in the void, sharing the silent song of the stars."
          ]
        }
      ]
    },
    {
      "cell_type": "code",
      "source": [
        "# Method 3: use the function txt() directly\n",
        "# Set verbose to TRUE to see the detail\n",
        "cat(txt(genai.object = moonshot,\n",
        "        prompt = \"Write a story about Earth in 50 words.\",\n",
        "        verbose = TRUE,\n",
        "        config = parameters))"
      ],
      "metadata": {
        "id": "H1VKLrHLMRts",
        "colab": {
          "base_uri": "https://localhost:8080/"
        },
        "outputId": "3c9262c9-e027-4acd-c75d-47783bd52b77"
      },
      "execution_count": null,
      "outputs": [
        {
          "output_type": "stream",
          "name": "stdout",
          "text": [
            "=============================================================================\n",
            "   Generation Configuration\n",
            "-----------------------------------------------------------------------------\n",
            "max_tokens: 3000 \n",
            "temperature: 0.7 \n",
            "top_p: 1 \n",
            "=============================================================================\n",
            "\n",
            "\n",
            "\n",
            "=============================================================================\n",
            "   Prompt\n",
            "-----------------------------------------------------------------------------\n",
            "Write a story about Earth in 50 words.\n",
            "=============================================================================\n",
            "\n",
            "\n",
            "\n",
            "\n",
            " In 2050, Earth welcomed a solar-powered renaissance. Cities shimmered with eco-friendly glass, skyscrapers converted to vertical farms. Humans and AI worked in harmony, solving climate puzzles. Nature roared back with renewed vigor, as oceans cleansed by coral-repairing robots. A time of unity, Earth's children lived in balance with the stars."
          ]
        }
      ]
    }
  ]
}