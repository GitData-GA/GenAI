{
  "nbformat": 4,
  "nbformat_minor": 0,
  "metadata": {
    "colab": {
      "provenance": [],
      "include_colab_link": true
    },
    "kernelspec": {
      "name": "ir",
      "display_name": "R"
    },
    "language_info": {
      "name": "R"
    }
  },
  "cells": [
    {
      "cell_type": "markdown",
      "metadata": {
        "id": "view-in-github",
        "colab_type": "text"
      },
      "source": [
        "<a href=\"https://colab.research.google.com/github/GitData-GA/GenAI/blob/gh-pages/r/example/text_explain_code.ipynb\" target=\"_parent\"><img src=\"https://colab.research.google.com/assets/colab-badge.svg\" alt=\"Open In Colab\"/></a>"
      ]
    },
    {
      "cell_type": "markdown",
      "source": [
        "# Installation"
      ],
      "metadata": {
        "id": "mDBGn0Qzsql5"
      }
    },
    {
      "cell_type": "code",
      "execution_count": 1,
      "metadata": {
        "colab": {
          "base_uri": "https://localhost:8080/"
        },
        "id": "EQ5mDg9-siid",
        "outputId": "75eae6f5-d011-4439-a4ca-9a21d5b02294"
      },
      "outputs": [
        {
          "output_type": "stream",
          "name": "stderr",
          "text": [
            "Installing package into ‘/usr/local/lib/R/site-library’\n",
            "(as ‘lib’ is unspecified)\n",
            "\n",
            "\n",
            "Attaching package: ‘GenAI’\n",
            "\n",
            "\n",
            "The following object is masked from ‘package:graphics’:\n",
            "\n",
            "    text\n",
            "\n",
            "\n"
          ]
        }
      ],
      "source": [
        "install.packages(\"https://genai.gd.edu.kg/release/R/GenAI_latest.tar.gz\", repos=NULL, method=\"libcurl\")\n",
        "library(\"GenAI\")"
      ]
    },
    {
      "cell_type": "markdown",
      "source": [
        "# Example of `text.explain.code`"
      ],
      "metadata": {
        "id": "LE9e2MEXs0av"
      }
    },
    {
      "cell_type": "markdown",
      "source": [
        "## Get available models"
      ],
      "metadata": {
        "id": "UdwTs_oitM8A"
      }
    },
    {
      "cell_type": "code",
      "source": [
        "models = available.models()"
      ],
      "metadata": {
        "id": "S0lunMhxtOl_"
      },
      "execution_count": 2,
      "outputs": []
    },
    {
      "cell_type": "markdown",
      "source": [
        "## Connect to the Google model, replace API_KEY with your api key"
      ],
      "metadata": {
        "id": "ODWMwKhotSJ3"
      }
    },
    {
      "cell_type": "code",
      "source": [
        "google.model = connect.genai(\"google\",\n",
        "                             models$google$model[1],\n",
        "                             models$google$version[1],\n",
        "                             \"API_KEY\",\n",
        "                             FALSE)"
      ],
      "metadata": {
        "id": "l8J1UXkcs6dP"
      },
      "execution_count": 3,
      "outputs": []
    },
    {
      "cell_type": "markdown",
      "source": [
        "## Connect to the OpenAI model, replace API_KEY with your api key"
      ],
      "metadata": {
        "id": "uS1aPHGTtcB2"
      }
    },
    {
      "cell_type": "code",
      "source": [
        "openai.model = connect.genai(\"openai\",\n",
        "                             models$openai$model[1],\n",
        "                             models$openai$version[1],\n",
        "                             \"API_KEY\",\n",
        "                             FALSE)"
      ],
      "metadata": {
        "id": "aDFBTfvOtg_Y"
      },
      "execution_count": 4,
      "outputs": []
    },
    {
      "cell_type": "markdown",
      "source": [
        "## Generate text"
      ],
      "metadata": {
        "id": "OXcUsNr26AgS"
      }
    },
    {
      "cell_type": "code",
      "source": [
        "temperature = 0.9\n",
        "prompt = \"foo <- function(n) {\n",
        "            if (n <= 0) {\n",
        "              return(0)\n",
        "            } else if (n == 1) {\n",
        "              return(1)\n",
        "            } else {\n",
        "              return(foo(n - 1) + foo(n - 2))\n",
        "            }\n",
        "          }\""
      ],
      "metadata": {
        "id": "erZ24Exi6QiI"
      },
      "execution_count": 5,
      "outputs": []
    },
    {
      "cell_type": "code",
      "source": [
        "code.explanation = text.explain.code(google.model,\n",
        "                                     temperature,\n",
        "                                     prompt,\n",
        "                                     language = \"R\")\n",
        "cat(code.explanation)"
      ],
      "metadata": {
        "colab": {
          "base_uri": "https://localhost:8080/"
        },
        "id": "II9TiP606WmR",
        "outputId": "241b2dfa-60e9-43e9-8712-8b526b25b1d8"
      },
      "execution_count": 6,
      "outputs": [
        {
          "output_type": "stream",
          "name": "stdout",
          "text": [
            "This R code defines a recursive function called `foo` that computes Fibonacci numbers.\n",
            "\n",
            "### Breaking Down the Code:\n",
            "\n",
            "- **Function Signature:**\n",
            "\n",
            "  ```r\n",
            "  foo <- function(n) {\n",
            "  ```\n",
            "\n",
            "  The function takes a single argument `n`, which is assumed to be a non-negative integer.\n",
            "\n",
            "\n",
            "- **Base Cases:**\n",
            "\n",
            "  The function handles two base cases:\n",
            "\n",
            "  - If `n` is less than or equal to 0 (`n <= 0`), it returns 0 because there is no defined Fibonacci sequence for negative numbers or 0.\n",
            "\n",
            "  - If `n` is equal to 1 (`n == 1`), it returns 1 because the first Fibonacci number is defined as 1.\n",
            "\n",
            "\n",
            "- **Recursive Case:**\n",
            "\n",
            "  For all other values of `n` (greater than 1), the function calculates the Fibonacci number using the recursive formula:\n",
            "   ```\n",
            "   fib(n) = fib(n-1) + fib(n-2)\n",
            "   ```\n",
            "\n",
            "  It does this by making recursive calls to itself, `foo(n - 1)` and `foo(n - 2)`, and then returning the sum of those two values.\n",
            "\n",
            "\n",
            "- **Usage of the Function:**\n",
            "\n",
            "  This function can be called with different positive integer values to calculate Fibonacci numbers. For example:\n",
            "  ```r\n",
            "  foo(5)\n",
            "  # Output: 5\n",
            "  foo(10)\n",
            "  # Output: 55\n",
            "  ```\n",
            "\n",
            "### Key Points of the Code:\n",
            "\n",
            "- The `if` statements are used to handle the base cases and decide whether to return a specific value or continue the recursion.\n",
            "\n",
            "- The recursive call `foo(n - 1)` and `foo(n - 2)` continue the recursive evaluation until one of the base cases is met.\n",
            "\n",
            "- Fibonacci numbers are calculated by summing the values of the previous two Fibonacci numbers."
          ]
        }
      ]
    },
    {
      "cell_type": "code",
      "source": [
        "code.explanation = text.explain.code(openai.model,\n",
        "                                     temperature,\n",
        "                                     prompt,\n",
        "                                     language = \"R\")\n",
        "cat(code.explanation)"
      ],
      "metadata": {
        "colab": {
          "base_uri": "https://localhost:8080/"
        },
        "id": "D22ueBeb5-yI",
        "outputId": "a9529501-2093-4386-b6cc-344885e8abf6"
      },
      "execution_count": 7,
      "outputs": [
        {
          "output_type": "stream",
          "name": "stdout",
          "text": [
            "The given R code defines a function called \"foo\" that takes an input argument \"n\". \n",
            "\n",
            "Inside the function, there is an if-else statement that checks the value of \"n\". \n",
            "\n",
            "If \"n\" is less than or equal to 0, the function returns 0. \n",
            "\n",
            "If \"n\" is equal to 1, the function returns 1. \n",
            "\n",
            "Otherwise, if neither of the above conditions are met, the function recursively calls itself twice, passing \"n-1\" and \"n-2\" as the arguments, and returns the sum of the two results. \n",
            "\n",
            "This is a recursive implementation of the Fibonacci sequence, where each number in the sequence is the sum of the two preceding ones. The function calculates the nth Fibonacci number."
          ]
        }
      ]
    }
  ]
}
