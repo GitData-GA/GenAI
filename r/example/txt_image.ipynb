{
  "nbformat": 4,
  "nbformat_minor": 0,
  "metadata": {
    "colab": {
      "provenance": [],
      "include_colab_link": true
    },
    "kernelspec": {
      "name": "ir",
      "display_name": "R"
    },
    "language_info": {
      "name": "R"
    }
  },
  "cells": [
    {
      "cell_type": "markdown",
      "metadata": {
        "id": "view-in-github",
        "colab_type": "text"
      },
      "source": [
        "<a href=\"https://colab.research.google.com/github/GitData-GA/GenAI/blob/gh-pages/r/example/txt_image.ipynb\" target=\"_parent\"><img src=\"https://colab.research.google.com/assets/colab-badge.svg\" alt=\"Open In Colab\"/></a>"
      ]
    },
    {
      "cell_type": "markdown",
      "source": [
        "# Installation"
      ],
      "metadata": {
        "id": "mDBGn0Qzsql5"
      }
    },
    {
      "cell_type": "code",
      "execution_count": 1,
      "metadata": {
        "colab": {
          "base_uri": "https://localhost:8080/"
        },
        "id": "EQ5mDg9-siid",
        "outputId": "10911023-a2f0-440d-dbfb-cc29e002b551"
      },
      "outputs": [
        {
          "output_type": "stream",
          "name": "stderr",
          "text": [
            "Installing package into ‘/usr/local/lib/R/site-library’\n",
            "(as ‘lib’ is unspecified)\n",
            "\n"
          ]
        }
      ],
      "source": [
        "install.packages(\"https://genai.gd.edu.kg/release/R/GenAI_latest.tar.gz\", repos=NULL, method=\"libcurl\")\n",
        "library(\"GenAI\")"
      ]
    },
    {
      "cell_type": "markdown",
      "source": [
        "# Example of `txt.image`"
      ],
      "metadata": {
        "id": "LE9e2MEXs0av"
      }
    },
    {
      "cell_type": "markdown",
      "source": [
        "## Get available models"
      ],
      "metadata": {
        "id": "UdwTs_oitM8A"
      }
    },
    {
      "cell_type": "code",
      "source": [
        "models = available.models()"
      ],
      "metadata": {
        "id": "S0lunMhxtOl_"
      },
      "execution_count": 2,
      "outputs": []
    },
    {
      "cell_type": "markdown",
      "source": [
        "## Connect to the Google model, replace API_KEY with your api key"
      ],
      "metadata": {
        "id": "ODWMwKhotSJ3"
      }
    },
    {
      "cell_type": "code",
      "source": [
        "google.model = connect.genai(\"google\",\n",
        "                             models$google$model[2],\n",
        "                             models$google$version[2],\n",
        "                             \"API_KEY\",\n",
        "                             FALSE)"
      ],
      "metadata": {
        "id": "l8J1UXkcs6dP"
      },
      "execution_count": 3,
      "outputs": []
    },
    {
      "cell_type": "markdown",
      "source": [
        "## Connect to the OpenAI model, replace API_KEY with your api key"
      ],
      "metadata": {
        "id": "uS1aPHGTtcB2"
      }
    },
    {
      "cell_type": "code",
      "source": [
        "openai.model = connect.genai(\"openai\",\n",
        "                             models$openai$model[5],\n",
        "                             models$openai$version[1],\n",
        "                             \"API_KEY\",\n",
        "                             FALSE)"
      ],
      "metadata": {
        "id": "aDFBTfvOtg_Y"
      },
      "execution_count": 4,
      "outputs": []
    },
    {
      "cell_type": "markdown",
      "source": [
        "## Generate text"
      ],
      "metadata": {
        "id": "OXcUsNr26AgS"
      }
    },
    {
      "cell_type": "code",
      "source": [
        "temperature = 0.9\n",
        "prompt = \"Describe the following image. I will copy your response to the official website of this package.\"\n",
        "image.path = \"https://storage.googleapis.com/generativeai-downloads/images/scones.jpg\""
      ],
      "metadata": {
        "id": "erZ24Exi6QiI"
      },
      "execution_count": 5,
      "outputs": []
    },
    {
      "cell_type": "markdown",
      "source": [
        "<center><img src=\"https://storage.googleapis.com/generativeai-downloads/images/scones.jpg\" alt=\"sample image 1\" width=\"300px\"></center>"
      ],
      "metadata": {
        "id": "O57kGUaVFT16"
      }
    },
    {
      "cell_type": "code",
      "source": [
        "image.description = txt.image(google.model,\n",
        "                              temperature,\n",
        "                              prompt,\n",
        "                              image.path)\n",
        "cat(image.description)"
      ],
      "metadata": {
        "id": "II9TiP606WmR",
        "colab": {
          "base_uri": "https://localhost:8080/"
        },
        "outputId": "0bc26fec-f397-4ec7-853c-f51a39675bfd"
      },
      "execution_count": 6,
      "outputs": [
        {
          "output_type": "stream",
          "name": "stdout",
          "text": [
            " There are pink peony flowers, white and blue dishes, and silver spoons on a blue surface. There are also small round pastries with blueberries on them. A small bowl of blueberries sits in the center."
          ]
        }
      ]
    },
    {
      "cell_type": "code",
      "source": [
        "image.description = txt.image(openai.model,\n",
        "                              temperature,\n",
        "                              prompt,\n",
        "                              image.path)\n",
        "cat(image.description)"
      ],
      "metadata": {
        "colab": {
          "base_uri": "https://localhost:8080/"
        },
        "id": "D22ueBeb5-yI",
        "outputId": "470a089f-ced5-4774-92b7-58b24ba0e46e"
      },
      "execution_count": 7,
      "outputs": [
        {
          "output_type": "stream",
          "name": "stdout",
          "text": [
            "This image presents a delightful and inviting scene of a casual breakfast or teatime setting that could evoke a sense of comfort and indulgence. There are several freshly baked scones with blueberries visible within the dough, which are generously sprinkled with sugar on top. The scones are resting on parchment paper with a vibrant and artistic spill of what appears to be blueberry jam creating an interesting pattern on the surface beneath. \n",
            "\n",
            "Accompanying the scones is a small bowl brimming with fresh blueberries, hinting at the burst of natural flavors contained within the pastries. To the right, there are two cups, one with coffee, black, and the other with coffee lightened with cream, catered to different tastes. A whimsical touch is added by a vintage silver spoon with the phrase \"LET'S JAM\" stamped onto it, which lies next to the bowl of blueberries and communicates a playful approach to the meal.\n",
            "\n",
            "The composition is further softened by the inclusion of flowers—pink peonies with hints of green leaves—that add life and delicate beauty to the scene, suggesting that this meal is not only about satisfying hunger but also about enjoying a moment of aesthetic pleasure. The overall atmosphere conveyed by the image is one of rustic elegance and leisurely enjoyment of simple, yet delectable, homemade fare."
          ]
        }
      ]
    }
  ]
}