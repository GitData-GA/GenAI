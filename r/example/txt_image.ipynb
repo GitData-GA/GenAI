{
  "nbformat": 4,
  "nbformat_minor": 0,
  "metadata": {
    "colab": {
      "provenance": [],
      "include_colab_link": true
    },
    "kernelspec": {
      "name": "ir",
      "display_name": "R"
    },
    "language_info": {
      "name": "R"
    }
  },
  "cells": [
    {
      "cell_type": "markdown",
      "metadata": {
        "id": "view-in-github",
        "colab_type": "text"
      },
      "source": [
        "<a href=\"https://colab.research.google.com/github/GitData-GA/GenAI/blob/gh-pages/r/example/txt_image.ipynb\" target=\"_parent\"><img src=\"https://colab.research.google.com/assets/colab-badge.svg\" alt=\"Open In Colab\"/></a>"
      ]
    },
    {
      "cell_type": "markdown",
      "source": [
        "# Installation"
      ],
      "metadata": {
        "id": "mDBGn0Qzsql5"
      }
    },
    {
      "cell_type": "code",
      "execution_count": 1,
      "metadata": {
        "colab": {
          "base_uri": "https://localhost:8080/"
        },
        "id": "EQ5mDg9-siid",
        "outputId": "b0f6e9b3-fa79-46a8-c202-c7cca1c45151"
      },
      "outputs": [
        {
          "output_type": "stream",
          "name": "stderr",
          "text": [
            "Installing package into ‘/usr/local/lib/R/site-library’\n",
            "(as ‘lib’ is unspecified)\n",
            "\n"
          ]
        }
      ],
      "source": [
        "install.packages(\"GenAI\")\n",
        "library(\"GenAI\")"
      ]
    },
    {
      "cell_type": "markdown",
      "source": [
        "# Example of `txt.image`"
      ],
      "metadata": {
        "id": "LE9e2MEXs0av"
      }
    },
    {
      "cell_type": "markdown",
      "source": [
        "## Get available models"
      ],
      "metadata": {
        "id": "UdwTs_oitM8A"
      }
    },
    {
      "cell_type": "code",
      "source": [
        "models = available.models()"
      ],
      "metadata": {
        "id": "S0lunMhxtOl_"
      },
      "execution_count": 2,
      "outputs": []
    },
    {
      "cell_type": "markdown",
      "source": [
        "## Connect to the Google model, replace API_KEY with your api key"
      ],
      "metadata": {
        "id": "ODWMwKhotSJ3"
      }
    },
    {
      "cell_type": "code",
      "source": [
        "google.model = connect.genai(\"google\",\n",
        "                             models$google$model[2],\n",
        "                             models$google$version[2],\n",
        "                             \"API_KEY\",\n",
        "                             FALSE)"
      ],
      "metadata": {
        "id": "l8J1UXkcs6dP"
      },
      "execution_count": 3,
      "outputs": []
    },
    {
      "cell_type": "markdown",
      "source": [
        "## Connect to the OpenAI model, replace API_KEY with your api key"
      ],
      "metadata": {
        "id": "uS1aPHGTtcB2"
      }
    },
    {
      "cell_type": "code",
      "source": [
        "openai.model = connect.genai(\"openai\",\n",
        "                             models$openai$model[5],\n",
        "                             models$openai$version[1],\n",
        "                             \"API_KEY\",\n",
        "                             FALSE)"
      ],
      "metadata": {
        "id": "aDFBTfvOtg_Y"
      },
      "execution_count": 4,
      "outputs": []
    },
    {
      "cell_type": "markdown",
      "source": [
        "## Generate text"
      ],
      "metadata": {
        "id": "OXcUsNr26AgS"
      }
    },
    {
      "cell_type": "code",
      "source": [
        "temperature = 0.9\n",
        "prompt = \"Describe the following image. I will copy your response to the official website of this package.\"\n",
        "image.path = \"https://storage.googleapis.com/generativeai-downloads/images/scones.jpg\""
      ],
      "metadata": {
        "id": "erZ24Exi6QiI"
      },
      "execution_count": 5,
      "outputs": []
    },
    {
      "cell_type": "markdown",
      "source": [
        "<center><img src=\"https://storage.googleapis.com/generativeai-downloads/images/scones.jpg\" alt=\"sample image 1\" width=\"300px\"></center>"
      ],
      "metadata": {
        "id": "O57kGUaVFT16"
      }
    },
    {
      "cell_type": "code",
      "source": [
        "image.description = txt.image(google.model,\n",
        "                              temperature,\n",
        "                              prompt,\n",
        "                              image.path)\n",
        "cat(image.description)"
      ],
      "metadata": {
        "id": "II9TiP606WmR",
        "colab": {
          "base_uri": "https://localhost:8080/"
        },
        "outputId": "3b03b460-b31d-4bc7-fede-178556518ace"
      },
      "execution_count": 6,
      "outputs": [
        {
          "output_type": "stream",
          "name": "stdout",
          "text": [
            " There are five scones on a white surface. The scones are topped with blueberries and have a crumbly texture. There are also three small white bowls on the surface. One bowl is filled with blueberries, another with jam, and the third is empty. There is a silver spoon in the bowl of jam. There are also two cups of coffee on the surface. One cup is filled with coffee and the other is empty. There are pink and white flowers on the surface as well as a few green leaves. The background is a dark blue color."
          ]
        }
      ]
    },
    {
      "cell_type": "code",
      "source": [
        "image.description = txt.image(openai.model,\n",
        "                              temperature,\n",
        "                              prompt,\n",
        "                              image.path)\n",
        "cat(image.description)"
      ],
      "metadata": {
        "colab": {
          "base_uri": "https://localhost:8080/"
        },
        "id": "D22ueBeb5-yI",
        "outputId": "a92c6a72-90c1-4b0b-cd3c-5fa664e00c07"
      },
      "execution_count": 7,
      "outputs": [
        {
          "output_type": "stream",
          "name": "stdout",
          "text": [
            "This image presents a delightful and inviting scene, featuring freshly baked blueberry scones placed on a surface with a colorful, artistic pattern that might suggest spilled jam. The scones are generously dotted with blueberries, and their crumbly texture is visible, some flaking at the edges, suggesting a homemade and rustic quality.\n",
            "\n",
            "There is a small bowl filled with additional blueberries, complementing the scones. To the lower left, there is a white cup filled with black coffee, and to the right, there is another cup with a lighter-colored beverage, possibly tea with milk. Both cups speak to a relaxed atmosphere of an indulgent breakfast or a leisurely afternoon tea.\n",
            "\n",
            "Accompanying the food items is a metal spoon, whimsically engraved with the words \"LET'S JAM,\" which adds a playful touch to the scene.\n",
            "\n",
            "The overall composition is completed with a few stems of blooming flowers, likely peonies, with their petals in varying shades of pink, bringing a fresh and natural element to the tableau. The presence of the flowers not only provides a touch of elegance but also suggests a spring or summer season when such blooms and berries are abundant.\n",
            "\n",
            "The image portrays a sense of casual elegance, with its mix of culinary delights and floral beauty, perfect for a setting that seeks to evoke comfort, freshness, and homemade charm."
          ]
        }
      ]
    }
  ]
}