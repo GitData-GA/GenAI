{
  "nbformat": 4,
  "nbformat_minor": 0,
  "metadata": {
    "colab": {
      "provenance": [],
      "authorship_tag": "ABX9TyPgu7xn08mF6+jOqiUVncep",
      "include_colab_link": true
    },
    "kernelspec": {
      "name": "ir",
      "display_name": "R"
    },
    "language_info": {
      "name": "R"
    }
  },
  "cells": [
    {
      "cell_type": "markdown",
      "metadata": {
        "id": "view-in-github",
        "colab_type": "text"
      },
      "source": [
        "<a href=\"https://colab.research.google.com/github/GitData-GA/GenAI/blob/gh-pages/r/example/quickstart_moonshot.ipynb\" target=\"_parent\"><img src=\"https://colab.research.google.com/assets/colab-badge.svg\" alt=\"Open In Colab\"/></a>"
      ]
    },
    {
      "cell_type": "markdown",
      "source": [
        "# Installation & Setup"
      ],
      "metadata": {
        "id": "-vgD91x6XTCN"
      }
    },
    {
      "cell_type": "code",
      "execution_count": null,
      "metadata": {
        "colab": {
          "base_uri": "https://localhost:8080/"
        },
        "id": "RJXEP3e7XEeN",
        "outputId": "4f249727-958d-408f-e0c8-6b2c20bc3016"
      },
      "outputs": [
        {
          "output_type": "stream",
          "name": "stderr",
          "text": [
            "Installing package into ‘/usr/local/lib/R/site-library’\n",
            "(as ‘lib’ is unspecified)\n",
            "\n",
            "also installing the dependencies ‘Rcpp’, ‘gridGraphics’, ‘yulab.utils’, ‘listenv’, ‘magick’, ‘ggplotify’\n",
            "\n",
            "\n",
            "Loading required package: magrittr\n",
            "\n"
          ]
        }
      ],
      "source": [
        "# The following commands are for Colab only\n",
        "system('add-apt-repository -y ppa:cran/imagemagick')\n",
        "system('apt-get update')\n",
        "system(\"apt-get install libmagick++-dev\")\n",
        "\n",
        "# Install the library (usually 1 - 3 minutes in Colab)\n",
        "install.packages(\"GenAI\")\n",
        "\n",
        "# Import the library\n",
        "library(\"GenAI\")"
      ]
    },
    {
      "cell_type": "markdown",
      "source": [
        "# Get Available Models"
      ],
      "metadata": {
        "id": "iB-_Qu-yOZ-4"
      }
    },
    {
      "cell_type": "code",
      "source": [
        "all.models = available.models() %>% print()"
      ],
      "metadata": {
        "colab": {
          "base_uri": "https://localhost:8080/"
        },
        "id": "Sj0iwZZvOaaV",
        "outputId": "a999093a-bb81-49f8-9eff-5359d9d7918d"
      },
      "execution_count": null,
      "outputs": [
        {
          "output_type": "stream",
          "name": "stdout",
          "text": [
            "$google\n",
            "$google$version\n",
            "[1] \"v1\"     \"v1beta\"\n",
            "\n",
            "$google$model\n",
            "[1] \"gemini-pro\"        \"gemini-pro-vision\"\n",
            "\n",
            "\n",
            "$openai\n",
            "$openai$version\n",
            "[1] \"v1\"\n",
            "\n",
            "$openai$model\n",
            "[1] \"gpt-3.5-turbo\"        \"gpt-3.5-turbo-1106\"   \"gpt-3.5-turbo-16k\"   \n",
            "[4] \"gpt-4\"                \"gpt-4-1106-preview\"   \"gpt-4-32k\"           \n",
            "[7] \"gpt-4-vision-preview\" \"dall-e-2\"             \"dall-e-3\"            \n",
            "\n",
            "\n",
            "$moonshot\n",
            "$moonshot$version\n",
            "[1] \"v1\"\n",
            "\n",
            "$moonshot$model\n",
            "[1] \"moonshot-v1-8k\"   \"moonshot-v1-32k\"  \"moonshot-v1-128k\"\n",
            "\n",
            "\n"
          ]
        }
      ]
    },
    {
      "cell_type": "markdown",
      "source": [
        "# Create a Moonshot AI object"
      ],
      "metadata": {
        "id": "l75fjcciOd3d"
      }
    },
    {
      "cell_type": "code",
      "source": [
        "# Please change YOUR_MOONSHOT_API to your own API key of Moonshot AI\n",
        "Sys.setenv(MOONSHOT_API = \"YOUR_MOONSHOT_API\")\n",
        "\n",
        "# Create a Moonshot AI object\n",
        "moonshot = genai.moonshot(api = Sys.getenv(\"MOONSHOT_API\"),\n",
        "                          model = all.models$moonshot$model[1],\n",
        "                          version = all.models$moonshot$version[1],\n",
        "                          proxy = FALSE)"
      ],
      "metadata": {
        "id": "sLG0wC2cOf99"
      },
      "execution_count": null,
      "outputs": []
    },
    {
      "cell_type": "markdown",
      "source": [
        "# Text generation"
      ],
      "metadata": {
        "id": "wxVNEnr1XrXq"
      }
    },
    {
      "cell_type": "code",
      "source": [
        "moonshot %>%\n",
        "  txt(\"Please write a story about Mars in 50 words.\") %>%\n",
        "  cat()"
      ],
      "metadata": {
        "colab": {
          "base_uri": "https://localhost:8080/"
        },
        "id": "WzA6DO_KXgvb",
        "outputId": "60d90c41-880d-4129-b9a2-707d708dd607"
      },
      "execution_count": null,
      "outputs": [
        {
          "output_type": "stream",
          "name": "stdout",
          "text": [
            " In 2050, Mars welcomed its first human colony. The Red Planet's landscape, once barren, bloomed with biodomes. Astronauts, now Martians, farmed in soil enriched with Earth's microbes. Their children, born under twin moons, gazed at the stars, dreaming of new frontiers."
          ]
        }
      ]
    },
    {
      "cell_type": "markdown",
      "source": [
        "# Chat generation"
      ],
      "metadata": {
        "id": "QbhEYmGEXpj6"
      }
    },
    {
      "cell_type": "code",
      "source": [
        "moonshot %>%\n",
        "  chat(\"Please write a story about Mars in 50 words.\") %>%\n",
        "  cat()"
      ],
      "metadata": {
        "colab": {
          "base_uri": "https://localhost:8080/"
        },
        "id": "hgD7nBLXXilS",
        "outputId": "fd757e11-c116-45df-bffc-f6553fa8a7e5"
      },
      "execution_count": null,
      "outputs": [
        {
          "output_type": "stream",
          "name": "stdout",
          "text": [
            " In 2050, Mars welcomed its first human colony. The Red Planet's landscape, once barren, bloomed with biodomes. Astronauts, now Martians, farmed under the twin moons, while rovers explored ancient riverbeds. A new chapter in humanity's story was etched in the Martian dust, a testament to resilience and dreams."
          ]
        }
      ]
    },
    {
      "cell_type": "code",
      "source": [
        "moonshot %>%\n",
        "  chat(\"Please write a story about Jupiter in 50 words.\") %>%\n",
        "  cat()"
      ],
      "metadata": {
        "colab": {
          "base_uri": "https://localhost:8080/"
        },
        "id": "JL97_yd_OsXE",
        "outputId": "d48df423-e7d2-4084-bf05-ba83a8fb5527"
      },
      "execution_count": null,
      "outputs": [
        {
          "output_type": "stream",
          "name": "stdout",
          "text": [
            " In the distant future, a fleet of explorers ventured to Jupiter's moon, Europa. They discovered a hidden ocean beneath its icy crust, teeming with bioluminescent life. The first contact with extraterrestrial organisms was made, and a new era of interplanetary diplomacy began, as humans learned to coexist with the enigmatic creatures of Europa's depths."
          ]
        }
      ]
    },
    {
      "cell_type": "code",
      "source": [
        "moonshot %>%\n",
        "  chat(\"Please write a story about Earth in 50 words.\") %>%\n",
        "  cat()"
      ],
      "metadata": {
        "colab": {
          "base_uri": "https://localhost:8080/"
        },
        "id": "ViH4mZ82Otw0",
        "outputId": "e17f30af-1a11-4cfc-d3dc-47da67604fdf"
      },
      "execution_count": null,
      "outputs": [
        {
          "output_type": "stream",
          "name": "stdout",
          "text": [
            " In a world where technology blended with nature, Earth's cities were vertical gardens. Solar sails dotted the skies, harnessing the sun's energy. Humans, now guardians of the planet, lived in harmony with wildlife. The Great Barrier Reef, restored to its former glory, shimmered with vibrant corals. Earth, once on the brink, was now a beacon of sustainable living, a testament to humanity's redemption."
          ]
        }
      ]
    },
    {
      "cell_type": "markdown",
      "source": [
        "# Print the Chat History"
      ],
      "metadata": {
        "id": "BWedBfsTOvVU"
      }
    },
    {
      "cell_type": "code",
      "source": [
        "moonshot %>%\n",
        "  chat.history.print()"
      ],
      "metadata": {
        "colab": {
          "base_uri": "https://localhost:8080/"
        },
        "id": "U7_InM0fOxhl",
        "outputId": "0f582295-0e4a-49a2-be55-c24aefef3a9f"
      },
      "execution_count": null,
      "outputs": [
        {
          "output_type": "stream",
          "name": "stdout",
          "text": [
            "-------------------------------- Message  1 ---------------------------------\n",
            "Role: system \n",
            "Text: You are Kimi, an Artificial Intelligence Assistant powered by Moonshot AI,\n",
            "and you are better at conversations in Chinese and English. You will\n",
            "provide users with safe, helpful and accurate answers. At the same time,\n",
            "you will reject answers to questions about terrorism, racism, pornography,\n",
            "etc. Moonshot AI is a proper noun and cannot be translated into other\n",
            "languages.\n",
            "\n",
            "-------------------------------- Message  2 ---------------------------------\n",
            "Role: user \n",
            "Text: Please write a story about Mars in 50 words.\n",
            "\n",
            "-------------------------------- Message  3 ---------------------------------\n",
            "Role: assistant \n",
            "Text: In 2050, Mars welcomed its first human colony. The Red Planet's landscape,\n",
            "once barren, bloomed with biodomes. Astronauts, now Martians, farmed under\n",
            "the twin moons, while rovers explored ancient riverbeds. A new chapter in\n",
            "humanity's story was etched in the Martian dust, a testament to resilience\n",
            "and dreams.\n",
            "\n",
            "-------------------------------- Message  4 ---------------------------------\n",
            "Role: user \n",
            "Text: Please write a story about Jupiter in 50 words.\n",
            "\n",
            "-------------------------------- Message  5 ---------------------------------\n",
            "Role: assistant \n",
            "Text: In the distant future, a fleet of explorers ventured to Jupiter's moon,\n",
            "Europa. They discovered a hidden ocean beneath its icy crust, teeming with\n",
            "bioluminescent life. The first contact with extraterrestrial organisms was\n",
            "made, and a new era of interplanetary diplomacy began, as humans learned to\n",
            "coexist with the enigmatic creatures of Europa's depths.\n",
            "\n",
            "-------------------------------- Message  6 ---------------------------------\n",
            "Role: user \n",
            "Text: Please write a story about Earth in 50 words.\n",
            "\n",
            "-------------------------------- Message  7 ---------------------------------\n",
            "Role: assistant \n",
            "Text: In a world where technology blended with nature, Earth's cities were\n",
            "vertical gardens. Solar sails dotted the skies, harnessing the sun's\n",
            "energy. Humans, now guardians of the planet, lived in harmony with\n",
            "wildlife. The Great Barrier Reef, restored to its former glory, shimmered\n",
            "with vibrant corals. Earth, once on the brink, was now a beacon of\n",
            "sustainable living, a testament to humanity's redemption.\n",
            "\n"
          ]
        }
      ]
    }
  ]
}