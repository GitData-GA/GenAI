{
  "nbformat": 4,
  "nbformat_minor": 0,
  "metadata": {
    "colab": {
      "provenance": [],
      "include_colab_link": true
    },
    "kernelspec": {
      "name": "ir",
      "display_name": "R"
    },
    "language_info": {
      "name": "R"
    }
  },
  "cells": [
    {
      "cell_type": "markdown",
      "metadata": {
        "id": "view-in-github",
        "colab_type": "text"
      },
      "source": [
        "<a href=\"https://colab.research.google.com/github/GitData-GA/GenAI/blob/gh-pages/r/example/chat_history_convert.ipynb\" target=\"_parent\"><img src=\"https://colab.research.google.com/assets/colab-badge.svg\" alt=\"Open In Colab\"/></a>"
      ]
    },
    {
      "cell_type": "markdown",
      "source": [
        "# Installation & Setup\n"
      ],
      "metadata": {
        "id": "mDBGn0Qzsql5"
      }
    },
    {
      "cell_type": "code",
      "source": [
        "# The following commands are for Colab only\n",
        "system('add-apt-repository -y ppa:cran/imagemagick')\n",
        "system('apt-get update')\n",
        "system(\"apt-get install libmagick++-dev\")"
      ],
      "metadata": {
        "id": "vOn2PTjeC3xb"
      },
      "execution_count": null,
      "outputs": []
    },
    {
      "cell_type": "code",
      "execution_count": null,
      "metadata": {
        "colab": {
          "base_uri": "https://localhost:8080/"
        },
        "id": "EQ5mDg9-siid",
        "outputId": "8d41220d-b0a8-4254-99d6-ce3812d1fb59"
      },
      "outputs": [
        {
          "output_type": "stream",
          "name": "stderr",
          "text": [
            "Installing package into ‘/usr/local/lib/R/site-library’\n",
            "(as ‘lib’ is unspecified)\n",
            "\n",
            "also installing the dependencies ‘Rcpp’, ‘gridGraphics’, ‘yulab.utils’, ‘listenv’, ‘magick’, ‘ggplotify’\n",
            "\n",
            "\n",
            "Loading required package: magrittr\n",
            "\n"
          ]
        }
      ],
      "source": [
        "# Install the library (usually 1 - 3 minutes in Colab)\n",
        "install.packages(\"GenAI\")\n",
        "library(\"GenAI\")"
      ]
    },
    {
      "cell_type": "markdown",
      "source": [
        "# Get Available Models"
      ],
      "metadata": {
        "id": "UdwTs_oitM8A"
      }
    },
    {
      "cell_type": "code",
      "source": [
        "all.models = available.models() %>% print()"
      ],
      "metadata": {
        "id": "S0lunMhxtOl_",
        "colab": {
          "base_uri": "https://localhost:8080/"
        },
        "outputId": "d4bc0619-3766-4ad3-a62d-1e94e3a8d905"
      },
      "execution_count": null,
      "outputs": [
        {
          "output_type": "stream",
          "name": "stdout",
          "text": [
            "$google\n",
            "$google$version\n",
            "[1] \"v1\"     \"v1beta\"\n",
            "\n",
            "$google$model\n",
            "[1] \"gemini-pro\"                   \"gemini-pro-vision\"           \n",
            "[3] \"gemini-1.0-pro\"               \"gemini-1.0-pro-001\"          \n",
            "[5] \"gemini-1.0-pro-latest\"        \"gemini-1.0-pro-vision-latest\"\n",
            "\n",
            "\n",
            "$openai\n",
            "$openai$version\n",
            "[1] \"v1\"\n",
            "\n",
            "$openai$model\n",
            "[1] \"gpt-3.5-turbo\"        \"gpt-3.5-turbo-1106\"   \"gpt-3.5-turbo-16k\"   \n",
            "[4] \"gpt-4\"                \"gpt-4-1106-preview\"   \"gpt-4-32k\"           \n",
            "[7] \"gpt-4-vision-preview\" \"dall-e-2\"             \"dall-e-3\"            \n",
            "\n",
            "\n",
            "$moonshot\n",
            "$moonshot$version\n",
            "[1] \"v1\"\n",
            "\n",
            "$moonshot$model\n",
            "[1] \"moonshot-v1-8k\"   \"moonshot-v1-32k\"  \"moonshot-v1-128k\"\n",
            "\n",
            "\n"
          ]
        }
      ]
    },
    {
      "cell_type": "markdown",
      "source": [
        "# Create Different GenAI Objects"
      ],
      "metadata": {
        "id": "JaXw-sjfe_7d"
      }
    },
    {
      "cell_type": "code",
      "source": [
        "# Please change YOUR_GOOGLE_API to your own API key of Google Generative AI\n",
        "Sys.setenv(GOOGLE_API = \"YOUR_GOOGLE_API\")\n",
        "\n",
        "# Create a Google Generative AI object\n",
        "google = genai.google(api = Sys.getenv(\"GOOGLE_API\"),\n",
        "                      model = all.models$google$model[1],\n",
        "                      version = all.models$google$version[1],\n",
        "                      proxy = FALSE)"
      ],
      "metadata": {
        "id": "6vYV38IZe_ZN"
      },
      "execution_count": null,
      "outputs": []
    },
    {
      "cell_type": "code",
      "source": [
        "# Please change YOUR_OPENAI_API to your own API key of OpenAI\n",
        "Sys.setenv(OPENAI_API = \"YOUR_OPENAI_API\")\n",
        "\n",
        "# Please change YOUR_OPENAI_ORG to your own organization ID for OpenAI\n",
        "Sys.setenv(OPENAI_ORG = \"YOUR_OPENAI_ORG\")\n",
        "\n",
        "# Create an OpenAI object\n",
        "openai = genai.openai(api = Sys.getenv(\"OPENAI_API\"),\n",
        "                      model = all.models$openai$model[1],\n",
        "                      version = all.models$openai$version[1],\n",
        "                      proxy = FALSE,\n",
        "                      organization.id = Sys.getenv(\"OPENAI_ORG\"))"
      ],
      "metadata": {
        "id": "cqPrGzCofQC3"
      },
      "execution_count": null,
      "outputs": []
    },
    {
      "cell_type": "code",
      "source": [
        "# Please change YOUR_MOONSHOT_API to your own API key of Moonshot AI\n",
        "Sys.setenv(MOONSHOT_API = \"YOUR_MOONSHOT_API\")\n",
        "\n",
        "# Create a Moonshot AI object\n",
        "moonshot = genai.moonshot(api = Sys.getenv(\"MOONSHOT_API\"),\n",
        "                          model = all.models$moonshot$model[1],\n",
        "                          version = all.models$moonshot$version[1],\n",
        "                          proxy = FALSE)"
      ],
      "metadata": {
        "id": "d2PB9UmSfYaO"
      },
      "execution_count": null,
      "outputs": []
    },
    {
      "cell_type": "markdown",
      "source": [
        "# Example for Google Generative AI"
      ],
      "metadata": {
        "id": "-UQDLvx8C6WS"
      }
    },
    {
      "cell_type": "code",
      "source": [
        "# Generation configurations\n",
        "parameters = list(\n",
        "  harm.category.dangerous.content = 5,\n",
        "  harm.category.harassment = 5,\n",
        "  max.output.tokens = 4096,\n",
        "  temperature = 0.9\n",
        ")\n",
        "\n",
        "# Start a chat session\n",
        "prompts = c(\"Write a story about Mars in 50 words.\",\n",
        "            \"Write a story about Jupiter in 50 words.\",\n",
        "            \"Summarize the chat.\")\n",
        "for (prompt in prompts) {\n",
        "  google %>%\n",
        "    chat(prompt = prompt,\n",
        "         verbose = FALSE,\n",
        "         config = parameters) %>%\n",
        "    strwrap(width = 76, exdent = 0) %>%\n",
        "    paste(collapse = \"\\n\") %>%\n",
        "    cat(\"\\n\\n\\n\")\n",
        "}"
      ],
      "metadata": {
        "colab": {
          "base_uri": "https://localhost:8080/"
        },
        "id": "z3j_BQupDAL4",
        "outputId": "51e93506-e842-446f-ae09-a6581371d31c"
      },
      "execution_count": null,
      "outputs": [
        {
          "output_type": "stream",
          "name": "stdout",
          "text": [
            "Mars, the Red Planet, whispered secrets amidst its barren dunes. A lone\n",
            "explorer, driven by curiosity, ventured deep into its desolate heart. As\n",
            "the sun dipped below the horizon, casting ethereal shadows, the explorer\n",
            "stumbled upon an ancient ruin, revealing the remnants of a lost\n",
            "civilization. In the silence of the Martian night, they realized they were\n",
            "not alone. \n",
            "\n",
            "\n",
            "Amidst the swirling tempests of Jupiter, a lone spacecraft pierced the\n",
            "thick atmosphere. As it descended, the vibrant hues of the planet's bands\n",
            "painted a mesmerizing canvas. Below, a colossal storm raged, its lightning\n",
            "bolts illuminating the darkness like celestial fireworks. In the eye of the\n",
            "tempest, a hidden world emerged – a swirling ocean of hydrogen and helium,\n",
            "where time seemed to warp and the laws of nature danced in chaos. \n",
            "\n",
            "\n",
            "**Chat Summary**\n",
            "\n",
            "**Topic:** Writing stories about planets in 50 words\n",
            "\n",
            "**Key Points:**\n",
            "\n",
            "* **Mars:** A lone explorer discovers an ancient ruin, hinting at a lost\n",
            "civilization on the Red Planet. * **Jupiter:** A spacecraft ventures into\n",
            "the swirling storms of Jupiter, revealing a hidden world of chaos and\n",
            "beauty within the planet's massive atmosphere.\n",
            "\n",
            "**Additional Notes:**\n",
            "\n",
            "* Both stories evoke a sense of wonder and exploration. * The word limit of\n",
            "50 forces concise and evocative storytelling. * The focus on specific\n",
            "details creates vivid imagery and a lasting impression. \n",
            "\n",
            "\n"
          ]
        }
      ]
    },
    {
      "cell_type": "markdown",
      "source": [
        "## Convert chat history to OpenAI-aligned format"
      ],
      "metadata": {
        "id": "GUky1Mjxft8j"
      }
    },
    {
      "cell_type": "code",
      "source": [
        "# Method 1 (recommended): use the pipe operator \"%>%\"\n",
        "google.to.openai.history = google %>%\n",
        "  chat.history.convert(to.genai.object = openai)"
      ],
      "metadata": {
        "id": "JQdIBu_1EAKJ"
      },
      "execution_count": null,
      "outputs": []
    },
    {
      "cell_type": "code",
      "source": [
        "# Method 2: use the reference operator \"$\"\n",
        "google.to.openai.history = google$chat.history.convert(to.genai.object = openai)"
      ],
      "metadata": {
        "id": "jplOhCPmEZAC"
      },
      "execution_count": null,
      "outputs": []
    },
    {
      "cell_type": "code",
      "source": [
        "# Method 3: use the function chat.history.convert() directly\n",
        "google.to.openai.history = chat.history.convert(from.genai.object = google,\n",
        "                                                to.genai.object = openai)"
      ],
      "metadata": {
        "id": "u3AxOsh3Ep84"
      },
      "execution_count": null,
      "outputs": []
    },
    {
      "cell_type": "code",
      "source": [
        "# Print the converted chat history\n",
        "print(google.to.openai.history)"
      ],
      "metadata": {
        "colab": {
          "base_uri": "https://localhost:8080/"
        },
        "id": "Ct9LWXOEggAn",
        "outputId": "6d59c0eb-e015-4a07-d719-2588a7b90b8a"
      },
      "execution_count": null,
      "outputs": [
        {
          "output_type": "stream",
          "name": "stdout",
          "text": [
            "[[1]]\n",
            "[[1]]$role\n",
            "[1] \"system\"\n",
            "\n",
            "[[1]]$content\n",
            "[1] \"You are a helpful assistant.\"\n",
            "\n",
            "\n",
            "[[2]]\n",
            "[[2]]$role\n",
            "[1] \"user\"\n",
            "\n",
            "[[2]]$content\n",
            "[1] \"Write a story about Mars in 50 words.\"\n",
            "\n",
            "\n",
            "[[3]]\n",
            "[[3]]$role\n",
            "[1] \"assistant\"\n",
            "\n",
            "[[3]]$content\n",
            "[1] \"Mars, the Red Planet, whispered secrets amidst its barren dunes. A lone explorer, driven by curiosity, ventured deep into its desolate heart. As the sun dipped below the horizon, casting ethereal shadows, the explorer stumbled upon an ancient ruin, revealing the remnants of a lost civilization. In the silence of the Martian night, they realized they were not alone.\"\n",
            "\n",
            "\n",
            "[[4]]\n",
            "[[4]]$role\n",
            "[1] \"user\"\n",
            "\n",
            "[[4]]$content\n",
            "[1] \"Write a story about Jupiter in 50 words.\"\n",
            "\n",
            "\n",
            "[[5]]\n",
            "[[5]]$role\n",
            "[1] \"assistant\"\n",
            "\n",
            "[[5]]$content\n",
            "[1] \"Amidst the swirling tempests of Jupiter, a lone spacecraft pierced the thick atmosphere. As it descended, the vibrant hues of the planet's bands painted a mesmerizing canvas. Below, a colossal storm raged, its lightning bolts illuminating the darkness like celestial fireworks. In the eye of the tempest, a hidden world emerged – a swirling ocean of hydrogen and helium, where time seemed to warp and the laws of nature danced in chaos.\"\n",
            "\n",
            "\n",
            "[[6]]\n",
            "[[6]]$role\n",
            "[1] \"user\"\n",
            "\n",
            "[[6]]$content\n",
            "[1] \"Summarize the chat.\"\n",
            "\n",
            "\n",
            "[[7]]\n",
            "[[7]]$role\n",
            "[1] \"assistant\"\n",
            "\n",
            "[[7]]$content\n",
            "[1] \"**Chat Summary**\\n\\n**Topic:** Writing stories about planets in 50 words\\n\\n**Key Points:**\\n\\n* **Mars:** A lone explorer discovers an ancient ruin, hinting at a lost civilization on the Red Planet.\\n* **Jupiter:** A spacecraft ventures into the swirling storms of Jupiter, revealing a hidden world of chaos and beauty within the planet's massive atmosphere.\\n\\n**Additional Notes:**\\n\\n* Both stories evoke a sense of wonder and exploration.\\n* The word limit of 50 forces concise and evocative storytelling.\\n* The focus on specific details creates vivid imagery and a lasting impression.\"\n",
            "\n",
            "\n"
          ]
        }
      ]
    },
    {
      "cell_type": "markdown",
      "source": [
        "## Convert chat history to Moonshot AI-aligned format"
      ],
      "metadata": {
        "id": "-DQfW3x1gs7P"
      }
    },
    {
      "cell_type": "code",
      "source": [
        "# Method 1 (recommended): use the pipe operator \"%>%\"\n",
        "google.to.moonshot.history = google %>%\n",
        "  chat.history.convert(to.genai.object = moonshot)"
      ],
      "metadata": {
        "id": "exrXqsuMgzSv"
      },
      "execution_count": null,
      "outputs": []
    },
    {
      "cell_type": "code",
      "source": [
        "# Method 2: use the reference operator \"$\"\n",
        "google.to.moonshot.history = google$chat.history.convert(to.genai.object = moonshot)"
      ],
      "metadata": {
        "id": "DkCuNTOgg49m"
      },
      "execution_count": null,
      "outputs": []
    },
    {
      "cell_type": "code",
      "source": [
        "# Method 3: use the function chat.history.convert() directly\n",
        "google.to.moonshot.history = chat.history.convert(from.genai.object = google,\n",
        "                                                  to.genai.object = moonshot)"
      ],
      "metadata": {
        "id": "GQlohy4Rg7Zm"
      },
      "execution_count": null,
      "outputs": []
    },
    {
      "cell_type": "code",
      "source": [
        "# Print the converted chat history\n",
        "print(google.to.moonshot.history)"
      ],
      "metadata": {
        "colab": {
          "base_uri": "https://localhost:8080/"
        },
        "id": "6DpkHbi8g9Cu",
        "outputId": "2b96d3ca-9dbf-4227-a03b-0a98e71e48d5"
      },
      "execution_count": null,
      "outputs": [
        {
          "output_type": "stream",
          "name": "stdout",
          "text": [
            "[[1]]\n",
            "[[1]]$role\n",
            "[1] \"system\"\n",
            "\n",
            "[[1]]$content\n",
            "[1] \"You are Kimi, an Artificial Intelligence Assistant powered by Moonshot AI, and you are better at conversations in Chinese and English. You will provide users with safe, helpful and accurate answers. At the same time, you will reject answers to questions about terrorism, racism, pornography, etc. Moonshot AI is a proper noun and cannot be translated into other languages.\"\n",
            "\n",
            "\n",
            "[[2]]\n",
            "[[2]]$role\n",
            "[1] \"user\"\n",
            "\n",
            "[[2]]$content\n",
            "[1] \"Write a story about Mars in 50 words.\"\n",
            "\n",
            "\n",
            "[[3]]\n",
            "[[3]]$role\n",
            "[1] \"assistant\"\n",
            "\n",
            "[[3]]$content\n",
            "[1] \"Mars, the Red Planet, whispered secrets amidst its barren dunes. A lone explorer, driven by curiosity, ventured deep into its desolate heart. As the sun dipped below the horizon, casting ethereal shadows, the explorer stumbled upon an ancient ruin, revealing the remnants of a lost civilization. In the silence of the Martian night, they realized they were not alone.\"\n",
            "\n",
            "\n",
            "[[4]]\n",
            "[[4]]$role\n",
            "[1] \"user\"\n",
            "\n",
            "[[4]]$content\n",
            "[1] \"Write a story about Jupiter in 50 words.\"\n",
            "\n",
            "\n",
            "[[5]]\n",
            "[[5]]$role\n",
            "[1] \"assistant\"\n",
            "\n",
            "[[5]]$content\n",
            "[1] \"Amidst the swirling tempests of Jupiter, a lone spacecraft pierced the thick atmosphere. As it descended, the vibrant hues of the planet's bands painted a mesmerizing canvas. Below, a colossal storm raged, its lightning bolts illuminating the darkness like celestial fireworks. In the eye of the tempest, a hidden world emerged – a swirling ocean of hydrogen and helium, where time seemed to warp and the laws of nature danced in chaos.\"\n",
            "\n",
            "\n",
            "[[6]]\n",
            "[[6]]$role\n",
            "[1] \"user\"\n",
            "\n",
            "[[6]]$content\n",
            "[1] \"Summarize the chat.\"\n",
            "\n",
            "\n",
            "[[7]]\n",
            "[[7]]$role\n",
            "[1] \"assistant\"\n",
            "\n",
            "[[7]]$content\n",
            "[1] \"**Chat Summary**\\n\\n**Topic:** Writing stories about planets in 50 words\\n\\n**Key Points:**\\n\\n* **Mars:** A lone explorer discovers an ancient ruin, hinting at a lost civilization on the Red Planet.\\n* **Jupiter:** A spacecraft ventures into the swirling storms of Jupiter, revealing a hidden world of chaos and beauty within the planet's massive atmosphere.\\n\\n**Additional Notes:**\\n\\n* Both stories evoke a sense of wonder and exploration.\\n* The word limit of 50 forces concise and evocative storytelling.\\n* The focus on specific details creates vivid imagery and a lasting impression.\"\n",
            "\n",
            "\n"
          ]
        }
      ]
    },
    {
      "cell_type": "markdown",
      "source": [
        "# Example for OpenAI"
      ],
      "metadata": {
        "id": "UohYplX0ek4B"
      }
    },
    {
      "cell_type": "code",
      "source": [
        "# Generation configurations\n",
        "parameters = list(\n",
        "  frequency.penalty = 1,\n",
        "  logprobs = FALSE,\n",
        "  max.tokens = 3000,\n",
        "  temperature = 0.9\n",
        ")\n",
        "\n",
        "# Start a chat session\n",
        "prompts = c(\"Write a story about Mars in 50 words.\",\n",
        "            \"Write a story about Jupiter in 50 words.\",\n",
        "            \"Summarize the chat.\")\n",
        "for (prompt in prompts) {\n",
        "  openai %>%\n",
        "    chat(prompt = prompt,\n",
        "         verbose = FALSE,\n",
        "         config = parameters) %>%\n",
        "    strwrap(width = 76, exdent = 0) %>%\n",
        "    paste(collapse = \"\\n\") %>%\n",
        "    cat(\"\\n\\n\\n\")\n",
        "}"
      ],
      "metadata": {
        "colab": {
          "base_uri": "https://localhost:8080/"
        },
        "id": "7xhNMQYJeuNY",
        "outputId": "ef30178a-25d6-42e7-bbd0-8c47cb4203ea"
      },
      "execution_count": null,
      "outputs": [
        {
          "output_type": "stream",
          "name": "stdout",
          "text": [
            "In the crimson skies of Mars, a lone explorer ventured forth, chasing\n",
            "dreams amongst the barren landscape. With every step, curiosity bridged the\n",
            "gap between worlds. Life's essence might be hidden beneath the dust, but\n",
            "hope sparked resilience. Mars held secrets waiting to be unlocked; humanity\n",
            "yearned for its embrace. \n",
            "\n",
            "\n",
            "In the swirling tempest of Jupiter, a daring crew embarked on an expedition\n",
            "into the depths of the gas giant's mysteries. Their spacecraft navigated\n",
            "through colossal storms, witnessing lightning dance amidst the immense\n",
            "atmosphere. The enigmatic world teased them with tantalizing hints,\n",
            "reminding them that true discovery lies within its swirling clouds. \n",
            "\n",
            "\n",
            "The user requested two stories, one about Mars and the other about Jupiter,\n",
            "in just 50 words each. In response, I described the exploration of Mars by\n",
            "a lone adventurer driven by curiosity and hope, and the daring expedition\n",
            "into the tumultuous storms of Jupiter by a courageous crew seeking to\n",
            "unravel its enigmatic secrets. \n",
            "\n",
            "\n"
          ]
        }
      ]
    },
    {
      "cell_type": "markdown",
      "source": [
        "## Convert chat history to Google Generative AI-aligned format"
      ],
      "metadata": {
        "id": "TKiTSJhBhrTP"
      }
    },
    {
      "cell_type": "code",
      "source": [
        "# Method 1 (recommended): use the pipe operator \"%>%\"\n",
        "openai.to.google.history = openai %>%\n",
        "  chat.history.convert(to.genai.object = google)"
      ],
      "metadata": {
        "id": "yNShRb0GhuFP"
      },
      "execution_count": null,
      "outputs": []
    },
    {
      "cell_type": "code",
      "source": [
        "# Method 2: use the reference operator \"$\"\n",
        "openai.to.google.history = openai$chat.history.convert(to.genai.object = google)"
      ],
      "metadata": {
        "id": "Ko_LKxpzhw3n"
      },
      "execution_count": null,
      "outputs": []
    },
    {
      "cell_type": "code",
      "source": [
        "# Method 3: use the function chat.history.convert() directly\n",
        "openai.to.google.history = chat.history.convert(from.genai.object = openai,\n",
        "                                                to.genai.object = google)"
      ],
      "metadata": {
        "id": "8k7nw6zMhwwP"
      },
      "execution_count": null,
      "outputs": []
    },
    {
      "cell_type": "code",
      "source": [
        "# Print the converted chat history\n",
        "print(openai.to.google.history)"
      ],
      "metadata": {
        "colab": {
          "base_uri": "https://localhost:8080/"
        },
        "id": "9Sp2DI_fhy63",
        "outputId": "dbe62bc3-fc37-4401-aac7-262aaea513c3"
      },
      "execution_count": null,
      "outputs": [
        {
          "output_type": "stream",
          "name": "stdout",
          "text": [
            "[[1]]\n",
            "[[1]]$role\n",
            "[1] \"user\"\n",
            "\n",
            "[[1]]$parts\n",
            "[[1]]$parts$text\n",
            "[1] \"Write a story about Mars in 50 words.\"\n",
            "\n",
            "\n",
            "\n",
            "[[2]]\n",
            "[[2]]$role\n",
            "[1] \"model\"\n",
            "\n",
            "[[2]]$parts\n",
            "[[2]]$parts$text\n",
            "[1] \"In the crimson skies of Mars, a lone explorer ventured forth, chasing dreams amongst the barren landscape. With every step, curiosity bridged the gap between worlds. Life's essence might be hidden beneath the dust, but hope sparked resilience. Mars held secrets waiting to be unlocked; humanity yearned for its embrace.\"\n",
            "\n",
            "\n",
            "\n",
            "[[3]]\n",
            "[[3]]$role\n",
            "[1] \"user\"\n",
            "\n",
            "[[3]]$parts\n",
            "[[3]]$parts$text\n",
            "[1] \"Write a story about Jupiter in 50 words.\"\n",
            "\n",
            "\n",
            "\n",
            "[[4]]\n",
            "[[4]]$role\n",
            "[1] \"model\"\n",
            "\n",
            "[[4]]$parts\n",
            "[[4]]$parts$text\n",
            "[1] \"In the swirling tempest of Jupiter, a daring crew embarked on an expedition into the depths of the gas giant's mysteries. Their spacecraft navigated through colossal storms, witnessing lightning dance amidst the immense atmosphere. The enigmatic world teased them with tantalizing hints, reminding them that true discovery lies within its swirling clouds.\"\n",
            "\n",
            "\n",
            "\n",
            "[[5]]\n",
            "[[5]]$role\n",
            "[1] \"user\"\n",
            "\n",
            "[[5]]$parts\n",
            "[[5]]$parts$text\n",
            "[1] \"Summarize the chat.\"\n",
            "\n",
            "\n",
            "\n",
            "[[6]]\n",
            "[[6]]$role\n",
            "[1] \"model\"\n",
            "\n",
            "[[6]]$parts\n",
            "[[6]]$parts$text\n",
            "[1] \"The user requested two stories, one about Mars and the other about Jupiter, in just 50 words each. In response, I described the exploration of Mars by a lone adventurer driven by curiosity and hope, and the daring expedition into the tumultuous storms of Jupiter by a courageous crew seeking to unravel its enigmatic secrets.\"\n",
            "\n",
            "\n",
            "\n"
          ]
        }
      ]
    },
    {
      "cell_type": "markdown",
      "source": [
        "## Convert chat history to Moonshot AI-aligned format"
      ],
      "metadata": {
        "id": "NNXJ-JQ5hRIT"
      }
    },
    {
      "cell_type": "code",
      "source": [
        "# Method 1 (recommended): use the pipe operator \"%>%\"\n",
        "openai.to.moonshot.history = openai %>%\n",
        "  chat.history.convert(to.genai.object = moonshot)"
      ],
      "metadata": {
        "id": "c1UaW1Qoezsg"
      },
      "execution_count": null,
      "outputs": []
    },
    {
      "cell_type": "code",
      "source": [
        "# Method 2: use the reference operator \"$\"\n",
        "openai.to.moonshot.history = openai$chat.history.convert(to.genai.object = moonshot)"
      ],
      "metadata": {
        "id": "SrYEweg5heuP"
      },
      "execution_count": null,
      "outputs": []
    },
    {
      "cell_type": "code",
      "source": [
        "# Method 3: use the function chat.history.convert() directly\n",
        "openai.to.moonshot.history = chat.history.convert(from.genai.object = openai,\n",
        "                                                  to.genai.object = moonshot)"
      ],
      "metadata": {
        "id": "KP4ck7pUhhMf"
      },
      "execution_count": null,
      "outputs": []
    },
    {
      "cell_type": "code",
      "source": [
        "# Print the converted chat history\n",
        "print(openai.to.moonshot.history)"
      ],
      "metadata": {
        "colab": {
          "base_uri": "https://localhost:8080/"
        },
        "id": "yDDI87oqhhGG",
        "outputId": "9c0c3a2e-46be-4332-bee5-6aaaba34f265"
      },
      "execution_count": null,
      "outputs": [
        {
          "output_type": "stream",
          "name": "stdout",
          "text": [
            "[[1]]\n",
            "[[1]]$role\n",
            "[1] \"system\"\n",
            "\n",
            "[[1]]$content\n",
            "[1] \"You are Kimi, an Artificial Intelligence Assistant powered by Moonshot AI, and you are better at conversations in Chinese and English. You will provide users with safe, helpful and accurate answers. At the same time, you will reject answers to questions about terrorism, racism, pornography, etc. Moonshot AI is a proper noun and cannot be translated into other languages.\"\n",
            "\n",
            "\n",
            "[[2]]\n",
            "[[2]]$role\n",
            "[1] \"user\"\n",
            "\n",
            "[[2]]$content\n",
            "[1] \"Write a story about Mars in 50 words.\"\n",
            "\n",
            "\n",
            "[[3]]\n",
            "[[3]]$role\n",
            "[1] \"assistant\"\n",
            "\n",
            "[[3]]$content\n",
            "[1] \"In the crimson skies of Mars, a lone explorer ventured forth, chasing dreams amongst the barren landscape. With every step, curiosity bridged the gap between worlds. Life's essence might be hidden beneath the dust, but hope sparked resilience. Mars held secrets waiting to be unlocked; humanity yearned for its embrace.\"\n",
            "\n",
            "\n",
            "[[4]]\n",
            "[[4]]$role\n",
            "[1] \"user\"\n",
            "\n",
            "[[4]]$content\n",
            "[1] \"Write a story about Jupiter in 50 words.\"\n",
            "\n",
            "\n",
            "[[5]]\n",
            "[[5]]$role\n",
            "[1] \"assistant\"\n",
            "\n",
            "[[5]]$content\n",
            "[1] \"In the swirling tempest of Jupiter, a daring crew embarked on an expedition into the depths of the gas giant's mysteries. Their spacecraft navigated through colossal storms, witnessing lightning dance amidst the immense atmosphere. The enigmatic world teased them with tantalizing hints, reminding them that true discovery lies within its swirling clouds.\"\n",
            "\n",
            "\n",
            "[[6]]\n",
            "[[6]]$role\n",
            "[1] \"user\"\n",
            "\n",
            "[[6]]$content\n",
            "[1] \"Summarize the chat.\"\n",
            "\n",
            "\n",
            "[[7]]\n",
            "[[7]]$role\n",
            "[1] \"assistant\"\n",
            "\n",
            "[[7]]$content\n",
            "[1] \"The user requested two stories, one about Mars and the other about Jupiter, in just 50 words each. In response, I described the exploration of Mars by a lone adventurer driven by curiosity and hope, and the daring expedition into the tumultuous storms of Jupiter by a courageous crew seeking to unravel its enigmatic secrets.\"\n",
            "\n",
            "\n"
          ]
        }
      ]
    },
    {
      "cell_type": "markdown",
      "source": [
        "# Example for Moonshot AI"
      ],
      "metadata": {
        "id": "SgovX3cdh7LH"
      }
    },
    {
      "cell_type": "code",
      "source": [
        "# Generation configurations\n",
        "parameters = list(\n",
        "  max.tokens = 3000,\n",
        "  temperature = 0.7,\n",
        "  top.p = 1.0\n",
        ")\n",
        "\n",
        "# Start a chat session\n",
        "prompts = c(\"Write a story about Mars in 50 words.\",\n",
        "            \"Write a story about Jupiter in 50 words.\",\n",
        "            \"Summarize the chat.\")\n",
        "for (prompt in prompts) {\n",
        "  moonshot %>%\n",
        "    chat(prompt = prompt,\n",
        "         verbose = FALSE,\n",
        "         config = parameters) %>%\n",
        "    strwrap(width = 76, exdent = 0) %>%\n",
        "    paste(collapse = \"\\n\") %>%\n",
        "    cat(\"\\n\\n\\n\")\n",
        "}"
      ],
      "metadata": {
        "colab": {
          "base_uri": "https://localhost:8080/"
        },
        "id": "Qc-VxCx_h683",
        "outputId": "ead60f2c-0c02-49c3-d7d4-7693ea8dd947"
      },
      "execution_count": null,
      "outputs": [
        {
          "output_type": "stream",
          "name": "stdout",
          "text": [
            "In 2050, Mars welcomed its first human settlers. The Red Planet, once a\n",
            "silent neighbor, buzzed with life as the Mars Colonization Initiative's\n",
            "domes sprouted. Astronaut Sarah, a pioneer, tended to her hydroponic\n",
            "garden, nurturing Earth's seeds on alien soil, while her robotic assistants\n",
            "mined for precious minerals. Together, they paved the way for a new chapter\n",
            "in humanity's cosmic legacy. \n",
            "\n",
            "\n",
            "In the 22nd century, humanity ventured beyond Earth's embrace. The Jupiter\n",
            "Space Station, a marvel of engineering, orbited the gas giant, its solar\n",
            "sails unfurled. Astronomer Luna, stationed there, studied the swirling\n",
            "storms below, deciphering the cosmic dance of Jupiter's moons. One day, she\n",
            "discovered a rare mineral in Europa's subsurface ocean, a find that would\n",
            "reshape humanity's destiny, bridging the gap between science and the stars. \n",
            "\n",
            "\n",
            "You requested a short story about Mars, which I provided, set in the year\n",
            "2050. It depicted a future where humans have colonized Mars, with an\n",
            "astronaut named Sarah contributing to a new chapter in human history\n",
            "through her work on the Red Planet. Then, you asked for a similar story\n",
            "about Jupiter, set in the 22nd century, where a space station orbits the\n",
            "gas giant, and an astronomer named Luna discovers a valuable mineral on\n",
            "Jupiter's moon, Europa. Both stories are fictional and reflect a hopeful\n",
            "vision of humanity's future exploration and development in space. \n",
            "\n",
            "\n"
          ]
        }
      ]
    },
    {
      "cell_type": "markdown",
      "source": [
        "## Convert chat history to Google Generative AI-aligned format"
      ],
      "metadata": {
        "id": "FFs0nhNZiO8U"
      }
    },
    {
      "cell_type": "code",
      "source": [
        "# Method 1 (recommended): use the pipe operator \"%>%\"\n",
        "moonshot.to.google.history = moonshot %>%\n",
        "  chat.history.convert(to.genai.object = google)"
      ],
      "metadata": {
        "id": "yn1L3FJtiXuP"
      },
      "execution_count": null,
      "outputs": []
    },
    {
      "cell_type": "code",
      "source": [
        "# Method 2: use the reference operator \"$\"\n",
        "moonshot.to.google.history = moonshot$chat.history.convert(to.genai.object = google)"
      ],
      "metadata": {
        "id": "IR68FtvkicgX"
      },
      "execution_count": null,
      "outputs": []
    },
    {
      "cell_type": "code",
      "source": [
        "# Method 3: use the function chat.history.convert() directly\n",
        "moonshot.to.google.history = chat.history.convert(from.genai.object = moonshot,\n",
        "                                                  to.genai.object = google)"
      ],
      "metadata": {
        "id": "IvFRSHUHifmn"
      },
      "execution_count": null,
      "outputs": []
    },
    {
      "cell_type": "code",
      "source": [
        "# Print the converted chat history\n",
        "print(moonshot.to.google.history)"
      ],
      "metadata": {
        "colab": {
          "base_uri": "https://localhost:8080/"
        },
        "id": "JqYS6q-zigBR",
        "outputId": "201852e7-b586-4e35-f350-70ac0e44ea00"
      },
      "execution_count": null,
      "outputs": [
        {
          "output_type": "stream",
          "name": "stdout",
          "text": [
            "[[1]]\n",
            "[[1]]$role\n",
            "[1] \"user\"\n",
            "\n",
            "[[1]]$parts\n",
            "[[1]]$parts$text\n",
            "[1] \"Write a story about Mars in 50 words.\"\n",
            "\n",
            "\n",
            "\n",
            "[[2]]\n",
            "[[2]]$role\n",
            "[1] \"model\"\n",
            "\n",
            "[[2]]$parts\n",
            "[[2]]$parts$text\n",
            "[1] \" In 2050, Mars welcomed its first human settlers. The Red Planet, once a silent neighbor, buzzed with life as the Mars Colonization Initiative's domes sprouted. Astronaut Sarah, a pioneer, tended to her hydroponic garden, nurturing Earth's seeds on alien soil, while her robotic assistants mined for precious minerals. Together, they paved the way for a new chapter in humanity's cosmic legacy.\"\n",
            "\n",
            "\n",
            "\n",
            "[[3]]\n",
            "[[3]]$role\n",
            "[1] \"user\"\n",
            "\n",
            "[[3]]$parts\n",
            "[[3]]$parts$text\n",
            "[1] \"Write a story about Jupiter in 50 words.\"\n",
            "\n",
            "\n",
            "\n",
            "[[4]]\n",
            "[[4]]$role\n",
            "[1] \"model\"\n",
            "\n",
            "[[4]]$parts\n",
            "[[4]]$parts$text\n",
            "[1] \" In the 22nd century, humanity ventured beyond Earth's embrace. The Jupiter Space Station, a marvel of engineering, orbited the gas giant, its solar sails unfurled. Astronomer Luna, stationed there, studied the swirling storms below, deciphering the cosmic dance of Jupiter's moons. One day, she discovered a rare mineral in Europa's subsurface ocean, a find that would reshape humanity's destiny, bridging the gap between science and the stars.\"\n",
            "\n",
            "\n",
            "\n",
            "[[5]]\n",
            "[[5]]$role\n",
            "[1] \"user\"\n",
            "\n",
            "[[5]]$parts\n",
            "[[5]]$parts$text\n",
            "[1] \"Summarize the chat.\"\n",
            "\n",
            "\n",
            "\n",
            "[[6]]\n",
            "[[6]]$role\n",
            "[1] \"model\"\n",
            "\n",
            "[[6]]$parts\n",
            "[[6]]$parts$text\n",
            "[1] \" You requested a short story about Mars, which I provided, set in the year 2050. It depicted a future where humans have colonized Mars, with an astronaut named Sarah contributing to a new chapter in human history through her work on the Red Planet. Then, you asked for a similar story about Jupiter, set in the 22nd century, where a space station orbits the gas giant, and an astronomer named Luna discovers a valuable mineral on Jupiter's moon, Europa. Both stories are fictional and reflect a hopeful vision of humanity's future exploration and development in space.\"\n",
            "\n",
            "\n",
            "\n"
          ]
        }
      ]
    },
    {
      "cell_type": "markdown",
      "source": [
        "## Convert chat history to OpenAI-aligned format"
      ],
      "metadata": {
        "id": "EJuKr_qPiT4g"
      }
    },
    {
      "cell_type": "code",
      "source": [
        "# Method 1 (recommended): use the pipe operator \"%>%\"\n",
        "moonshot.to.openai.history = moonshot %>%\n",
        "  chat.history.convert(to.genai.object = openai)"
      ],
      "metadata": {
        "id": "pGH3720AiYNu"
      },
      "execution_count": null,
      "outputs": []
    },
    {
      "cell_type": "code",
      "source": [
        "# Method 2: use the reference operator \"$\"\n",
        "moonshot.to.openai.history = moonshot$chat.history.convert(to.genai.object = openai)"
      ],
      "metadata": {
        "id": "CRYXjFOvird_"
      },
      "execution_count": null,
      "outputs": []
    },
    {
      "cell_type": "code",
      "source": [
        "# Method 3: use the function chat.history.convert() directly\n",
        "moonshot.to.openai.history = chat.history.convert(from.genai.object = moonshot,\n",
        "                                                  to.genai.object = openai)"
      ],
      "metadata": {
        "id": "Q_MqSl7eismH"
      },
      "execution_count": null,
      "outputs": []
    },
    {
      "cell_type": "code",
      "source": [
        "# Print the converted chat history\n",
        "print(moonshot.to.openai.history)"
      ],
      "metadata": {
        "colab": {
          "base_uri": "https://localhost:8080/"
        },
        "id": "i0j7lxYAiukP",
        "outputId": "c9e97f79-d8b9-451b-de41-0e9bc3c8f5ab"
      },
      "execution_count": null,
      "outputs": [
        {
          "output_type": "stream",
          "name": "stdout",
          "text": [
            "[[1]]\n",
            "[[1]]$role\n",
            "[1] \"system\"\n",
            "\n",
            "[[1]]$content\n",
            "[1] \"You are a helpful assistant.\"\n",
            "\n",
            "\n",
            "[[2]]\n",
            "[[2]]$role\n",
            "[1] \"user\"\n",
            "\n",
            "[[2]]$content\n",
            "[1] \"Write a story about Mars in 50 words.\"\n",
            "\n",
            "\n",
            "[[3]]\n",
            "[[3]]$role\n",
            "[1] \"assistant\"\n",
            "\n",
            "[[3]]$content\n",
            "[1] \" In 2050, Mars welcomed its first human settlers. The Red Planet, once a silent neighbor, buzzed with life as the Mars Colonization Initiative's domes sprouted. Astronaut Sarah, a pioneer, tended to her hydroponic garden, nurturing Earth's seeds on alien soil, while her robotic assistants mined for precious minerals. Together, they paved the way for a new chapter in humanity's cosmic legacy.\"\n",
            "\n",
            "\n",
            "[[4]]\n",
            "[[4]]$role\n",
            "[1] \"user\"\n",
            "\n",
            "[[4]]$content\n",
            "[1] \"Write a story about Jupiter in 50 words.\"\n",
            "\n",
            "\n",
            "[[5]]\n",
            "[[5]]$role\n",
            "[1] \"assistant\"\n",
            "\n",
            "[[5]]$content\n",
            "[1] \" In the 22nd century, humanity ventured beyond Earth's embrace. The Jupiter Space Station, a marvel of engineering, orbited the gas giant, its solar sails unfurled. Astronomer Luna, stationed there, studied the swirling storms below, deciphering the cosmic dance of Jupiter's moons. One day, she discovered a rare mineral in Europa's subsurface ocean, a find that would reshape humanity's destiny, bridging the gap between science and the stars.\"\n",
            "\n",
            "\n",
            "[[6]]\n",
            "[[6]]$role\n",
            "[1] \"user\"\n",
            "\n",
            "[[6]]$content\n",
            "[1] \"Summarize the chat.\"\n",
            "\n",
            "\n",
            "[[7]]\n",
            "[[7]]$role\n",
            "[1] \"assistant\"\n",
            "\n",
            "[[7]]$content\n",
            "[1] \" You requested a short story about Mars, which I provided, set in the year 2050. It depicted a future where humans have colonized Mars, with an astronaut named Sarah contributing to a new chapter in human history through her work on the Red Planet. Then, you asked for a similar story about Jupiter, set in the 22nd century, where a space station orbits the gas giant, and an astronomer named Luna discovers a valuable mineral on Jupiter's moon, Europa. Both stories are fictional and reflect a hopeful vision of humanity's future exploration and development in space.\"\n",
            "\n",
            "\n"
          ]
        }
      ]
    }
  ]
}