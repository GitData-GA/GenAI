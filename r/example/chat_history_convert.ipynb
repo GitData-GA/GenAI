{
  "nbformat": 4,
  "nbformat_minor": 0,
  "metadata": {
    "colab": {
      "provenance": [],
      "include_colab_link": true
    },
    "kernelspec": {
      "name": "ir",
      "display_name": "R"
    },
    "language_info": {
      "name": "R"
    }
  },
  "cells": [
    {
      "cell_type": "markdown",
      "metadata": {
        "id": "view-in-github",
        "colab_type": "text"
      },
      "source": [
        "<a href=\"https://colab.research.google.com/github/GitData-GA/GenAI/blob/gh-pages/r/example/chat_history_convert.ipynb\" target=\"_parent\"><img src=\"https://colab.research.google.com/assets/colab-badge.svg\" alt=\"Open In Colab\"/></a>"
      ]
    },
    {
      "cell_type": "markdown",
      "source": [
        "# Installation & Setup\n"
      ],
      "metadata": {
        "id": "mDBGn0Qzsql5"
      }
    },
    {
      "cell_type": "code",
      "source": [
        "# The following commands are for Colab only\n",
        "system('add-apt-repository -y ppa:cran/imagemagick')\n",
        "system('apt-get update')\n",
        "system(\"apt-get install libmagick++-dev\")"
      ],
      "metadata": {
        "id": "vOn2PTjeC3xb"
      },
      "execution_count": null,
      "outputs": []
    },
    {
      "cell_type": "code",
      "execution_count": null,
      "metadata": {
        "colab": {
          "base_uri": "https://localhost:8080/"
        },
        "id": "EQ5mDg9-siid",
        "outputId": "259e8f67-965b-482e-b05b-e0131bab9572"
      },
      "outputs": [
        {
          "output_type": "stream",
          "name": "stderr",
          "text": [
            "Downloading package from url: https://genai.gd.edu.kg/release/R/GenAI_0.2.0.tar.gz\n",
            "\n"
          ]
        },
        {
          "output_type": "stream",
          "name": "stdout",
          "text": [
            "isoband      (0.2.6 -> 0.2.7 ) [CRAN]\n",
            "yulab.utils  (NA    -> 0.1.4 ) [CRAN]\n",
            "gridGraphics (NA    -> 0.5-1 ) [CRAN]\n",
            "curl         (5.0.2 -> 5.2.0 ) [CRAN]\n",
            "Rcpp         (NA    -> 1.0.12) [CRAN]\n",
            "openssl      (2.0.6 -> 2.1.1 ) [CRAN]\n",
            "ggplotify    (NA    -> 0.1.2 ) [CRAN]\n",
            "magick       (NA    -> 2.8.2 ) [CRAN]\n",
            "listenv      (NA    -> 0.9.1 ) [CRAN]\n"
          ]
        },
        {
          "output_type": "stream",
          "name": "stderr",
          "text": [
            "Installing 9 packages: isoband, yulab.utils, gridGraphics, curl, Rcpp, openssl, ggplotify, magick, listenv\n",
            "\n",
            "Installing packages into ‘/usr/local/lib/R/site-library’\n",
            "(as ‘lib’ is unspecified)\n",
            "\n"
          ]
        },
        {
          "output_type": "stream",
          "name": "stdout",
          "text": [
            "\u001b[36m──\u001b[39m \u001b[36mR CMD build\u001b[39m \u001b[36m─────────────────────────────────────────────────────────────────\u001b[39m\n",
            "* checking for file ‘/tmp/RtmpLOL7mo/remotes9259d5f76/GenAI/DESCRIPTION’ ... OK\n",
            "* preparing ‘GenAI’:\n",
            "* checking DESCRIPTION meta-information ... OK\n",
            "* checking for LF line-endings in source and make files and shell scripts\n",
            "* checking for empty or unneeded directories\n",
            "* building ‘GenAI_0.2.0.tar.gz’\n",
            "\n"
          ]
        },
        {
          "output_type": "stream",
          "name": "stderr",
          "text": [
            "Installing package into ‘/usr/local/lib/R/site-library’\n",
            "(as ‘lib’ is unspecified)\n",
            "\n",
            "Loading required package: magrittr\n",
            "\n"
          ]
        }
      ],
      "source": [
        "# Install the package (usually 1 - 3 minutes)\n",
        "remotes::install_url(\"https://genai.gd.edu.kg/release/R/GenAI_0.2.0.tar.gz\",\n",
        "                     dependencies = TRUE,\n",
        "                     method = \"libcurl\")\n",
        "library(\"GenAI\")"
      ]
    },
    {
      "cell_type": "markdown",
      "source": [
        "# Get Available Models"
      ],
      "metadata": {
        "id": "UdwTs_oitM8A"
      }
    },
    {
      "cell_type": "code",
      "source": [
        "all.models = available.models() %>% print()"
      ],
      "metadata": {
        "id": "S0lunMhxtOl_",
        "colab": {
          "base_uri": "https://localhost:8080/"
        },
        "outputId": "3120a187-f497-48cf-fb03-918f4af22e02"
      },
      "execution_count": null,
      "outputs": [
        {
          "output_type": "stream",
          "name": "stdout",
          "text": [
            "$google\n",
            "$google$version\n",
            "[1] \"v1\"     \"v1beta\"\n",
            "\n",
            "$google$model\n",
            "[1] \"gemini-pro\"        \"gemini-pro-vision\"\n",
            "\n",
            "\n",
            "$openai\n",
            "$openai$version\n",
            "[1] \"v1\"\n",
            "\n",
            "$openai$model\n",
            "[1] \"gpt-3.5-turbo\"        \"gpt-3.5-turbo-1106\"   \"gpt-3.5-turbo-16k\"   \n",
            "[4] \"gpt-4\"                \"gpt-4-1106-preview\"   \"gpt-4-32k\"           \n",
            "[7] \"gpt-4-vision-preview\" \"dall-e-2\"             \"dall-e-3\"            \n",
            "\n",
            "\n",
            "$moonshot\n",
            "$moonshot$version\n",
            "[1] \"v1\"\n",
            "\n",
            "$moonshot$model\n",
            "[1] \"moonshot-v1-8k\"   \"moonshot-v1-32k\"  \"moonshot-v1-128k\"\n",
            "\n",
            "\n"
          ]
        }
      ]
    },
    {
      "cell_type": "markdown",
      "source": [
        "# Create Different GenAI Objects"
      ],
      "metadata": {
        "id": "JaXw-sjfe_7d"
      }
    },
    {
      "cell_type": "code",
      "source": [
        "# Please change YOUR_GOOGLE_API to your own API key of Google Generative AI\n",
        "Sys.setenv(GOOGLE_API = \"YOUR_GOOGLE_API\")\n",
        "\n",
        "# Create a Google Generative AI object\n",
        "google = genai.google(api = Sys.getenv(\"GOOGLE_API\"),\n",
        "                      model = all.models$google$model[1],\n",
        "                      version = all.models$google$version[1],\n",
        "                      proxy = FALSE)"
      ],
      "metadata": {
        "id": "6vYV38IZe_ZN"
      },
      "execution_count": null,
      "outputs": []
    },
    {
      "cell_type": "code",
      "source": [
        "# Please change YOUR_OPENAI_API to your own API key of OpenAI\n",
        "Sys.setenv(OPENAI_API = \"YOUR_OPENAI_API\")\n",
        "\n",
        "# Please change YOUR_OPENAI_ORG to your own organization ID for OpenAI\n",
        "Sys.setenv(OPENAI_ORG = \"YOUR_OPENAI_ORG\")\n",
        "\n",
        "# Create an OpenAI object\n",
        "openai = genai.openai(api = Sys.getenv(\"OPENAI_API\"),\n",
        "                      model = all.models$openai$model[1],\n",
        "                      version = all.models$openai$version[1],\n",
        "                      proxy = FALSE,\n",
        "                      organization.id = Sys.getenv(\"OPENAI_ORG\"))"
      ],
      "metadata": {
        "id": "cqPrGzCofQC3"
      },
      "execution_count": null,
      "outputs": []
    },
    {
      "cell_type": "code",
      "source": [
        "# Please change YOUR_MOONSHOT_API to your own API key of Moonshot AI\n",
        "Sys.setenv(MOONSHOT_API = \"YOUR_MOONSHOT_API\")\n",
        "\n",
        "# Create a Moonshot AI object\n",
        "moonshot = genai.moonshot(api = Sys.getenv(\"MOONSHOT_API\"),\n",
        "                          model = all.models$moonshot$model[1],\n",
        "                          version = all.models$moonshot$version[1],\n",
        "                          proxy = FALSE)"
      ],
      "metadata": {
        "id": "d2PB9UmSfYaO"
      },
      "execution_count": null,
      "outputs": []
    },
    {
      "cell_type": "markdown",
      "source": [
        "# Example for Google Generative AI"
      ],
      "metadata": {
        "id": "-UQDLvx8C6WS"
      }
    },
    {
      "cell_type": "code",
      "source": [
        "# Generation configurations\n",
        "parameters = list(\n",
        "  harm.category.dangerous.content = 5,\n",
        "  harm.category.harassment = 5,\n",
        "  max.output.tokens = 4096,\n",
        "  temperature = 0.9\n",
        ")\n",
        "\n",
        "# Start a chat session\n",
        "prompts = c(\"Write a story about Mars in 50 words.\",\n",
        "            \"Write a story about Jupiter in 50 words.\",\n",
        "            \"Summarize the chat.\")\n",
        "for (prompt in prompts) {\n",
        "  google %>%\n",
        "    chat(prompt = prompt,\n",
        "         verbose = FALSE,\n",
        "         config = parameters) %>%\n",
        "    strwrap(width = 76, exdent = 0) %>%\n",
        "    paste(collapse = \"\\n\") %>%\n",
        "    cat(\"\\n\\n\\n\")\n",
        "}"
      ],
      "metadata": {
        "colab": {
          "base_uri": "https://localhost:8080/"
        },
        "id": "z3j_BQupDAL4",
        "outputId": "d0763b0c-ff79-4a5c-de21-f0317f888aa8"
      },
      "execution_count": null,
      "outputs": [
        {
          "output_type": "stream",
          "name": "stdout",
          "text": [
            "In the vast expanse of space, a desolate world named Mars stands alone. Its\n",
            "rusty red surface, scarred by ancient volcanoes and colossal canyons,\n",
            "whispered tales of a tumultuous past. Though devoid of life, its stark\n",
            "beauty captivated the imaginations of those who dared to dream beyond\n",
            "Earth's azure skies, fueling humanity's relentless quest for answers among\n",
            "the cosmos. \n",
            "\n",
            "\n",
            "In the cosmic arena, Jupiter reigns supreme. A colossal gas giant, adorned\n",
            "with swirling bands of crimson and cream, it commands a celestial court of\n",
            "moons, each a world unto itself. Its tumultuous atmosphere, a symphony of\n",
            "storms and swirling clouds, harbors secrets of tempestuous origins. As the\n",
            "largest planet in our solar system, Jupiter's gravitational pull\n",
            "orchestrates a delicate dance of celestial bodies, shaping the destinies of\n",
            "those within its immense sphere of influence. \n",
            "\n",
            "\n",
            "**Chat Summary:**\n",
            "\n",
            "The chat focused on the topic of artificial intelligence (AI) and its\n",
            "potential impact on various aspects of human life. Key points discussed\n",
            "included:\n",
            "\n",
            "* **AI's capabilities and limitations:** Participants acknowledged the\n",
            "impressive advancements in AI technology, particularly in areas such as\n",
            "natural language processing, computer vision, and machine learning.\n",
            "However, they also recognized that AI still has limitations, particularly\n",
            "in tasks that require creativity, empathy, and higher-level reasoning. *\n",
            "**Ethical considerations:** The ethical implications of AI were thoroughly\n",
            "discussed. Participants raised concerns about potential biases in AI\n",
            "algorithms, job displacement due to automation, and the need for\n",
            "responsible development and deployment of AI systems. * **AI's potential\n",
            "benefits:** Participants explored the wide range of potential benefits\n",
            "offered by AI, including advancements in healthcare, scientific research,\n",
            "transportation, and manufacturing. They highlighted the potential for AI to\n",
            "enhance human capabilities and solve complex global challenges. *\n",
            "**Collaboration and future directions:** The chat emphasized the importance\n",
            "of collaboration between researchers, policymakers, and industry leaders to\n",
            "guide the responsible development and deployment of AI. Participants\n",
            "discussed the need for continued research, ethical frameworks, and public\n",
            "engagement to ensure that AI serves humanity in a positive and beneficial\n",
            "way.\n",
            "\n",
            "Overall, the chat provided a comprehensive overview of the current state of\n",
            "AI, its ethical implications, and its potential benefits for society.\n",
            "Participants engaged in thoughtful discussions and exchanged diverse\n",
            "perspectives on this rapidly evolving field. \n",
            "\n",
            "\n"
          ]
        }
      ]
    },
    {
      "cell_type": "markdown",
      "source": [
        "## Convert chat history to OpenAI-aligned format"
      ],
      "metadata": {
        "id": "GUky1Mjxft8j"
      }
    },
    {
      "cell_type": "code",
      "source": [
        "# Method 1 (recommended): use the pipe operator \"%>%\"\n",
        "google.to.openai.history = google %>%\n",
        "  chat.history.convert(to.genai.object = openai)"
      ],
      "metadata": {
        "id": "JQdIBu_1EAKJ"
      },
      "execution_count": null,
      "outputs": []
    },
    {
      "cell_type": "code",
      "source": [
        "# Method 2: use the reference operator \"$\"\n",
        "google.to.openai.history = google$chat.history.convert(to.genai.object = openai)"
      ],
      "metadata": {
        "id": "jplOhCPmEZAC"
      },
      "execution_count": null,
      "outputs": []
    },
    {
      "cell_type": "code",
      "source": [
        "# Method 3: use the function chat.history.convert() directly\n",
        "google.to.openai.history = chat.history.convert(from.genai.object = google,\n",
        "                                                to.genai.object = openai)"
      ],
      "metadata": {
        "id": "u3AxOsh3Ep84"
      },
      "execution_count": null,
      "outputs": []
    },
    {
      "cell_type": "code",
      "source": [
        "# Print the converted chat history\n",
        "print(google.to.openai.history)"
      ],
      "metadata": {
        "colab": {
          "base_uri": "https://localhost:8080/"
        },
        "id": "Ct9LWXOEggAn",
        "outputId": "77e62a4e-4c1a-4347-fc4c-e2c41939b47a"
      },
      "execution_count": null,
      "outputs": [
        {
          "output_type": "stream",
          "name": "stdout",
          "text": [
            "[[1]]\n",
            "[[1]]$role\n",
            "[1] \"system\"\n",
            "\n",
            "[[1]]$content\n",
            "[1] \"You are a helpful assistant.\"\n",
            "\n",
            "\n",
            "[[2]]\n",
            "[[2]]$role\n",
            "[1] \"user\"\n",
            "\n",
            "[[2]]$content\n",
            "[1] \"Write a story about Mars in 50 words.\"\n",
            "\n",
            "\n",
            "[[3]]\n",
            "[[3]]$role\n",
            "[1] \"assistant\"\n",
            "\n",
            "[[3]]$content\n",
            "[1] \"In the vast expanse of space, a desolate world named Mars stands alone. Its rusty red surface, scarred by ancient volcanoes and colossal canyons, whispered tales of a tumultuous past. Though devoid of life, its stark beauty captivated the imaginations of those who dared to dream beyond Earth's azure skies, fueling humanity's relentless quest for answers among the cosmos.\"\n",
            "\n",
            "\n",
            "[[4]]\n",
            "[[4]]$role\n",
            "[1] \"user\"\n",
            "\n",
            "[[4]]$content\n",
            "[1] \"Write a story about Jupiter in 50 words.\"\n",
            "\n",
            "\n",
            "[[5]]\n",
            "[[5]]$role\n",
            "[1] \"assistant\"\n",
            "\n",
            "[[5]]$content\n",
            "[1] \"In the cosmic arena, Jupiter reigns supreme. A colossal gas giant, adorned with swirling bands of crimson and cream, it commands a celestial court of moons, each a world unto itself. Its tumultuous atmosphere, a symphony of storms and swirling clouds, harbors secrets of tempestuous origins. As the largest planet in our solar system, Jupiter's gravitational pull orchestrates a delicate dance of celestial bodies, shaping the destinies of those within its immense sphere of influence.\"\n",
            "\n",
            "\n",
            "[[6]]\n",
            "[[6]]$role\n",
            "[1] \"user\"\n",
            "\n",
            "[[6]]$content\n",
            "[1] \"Summarize the chat.\"\n",
            "\n",
            "\n",
            "[[7]]\n",
            "[[7]]$role\n",
            "[1] \"assistant\"\n",
            "\n",
            "[[7]]$content\n",
            "[1] \"**Chat Summary:**\\n\\nThe chat focused on the topic of artificial intelligence (AI) and its potential impact on various aspects of human life. Key points discussed included:\\n\\n* **AI's capabilities and limitations:** Participants acknowledged the impressive advancements in AI technology, particularly in areas such as natural language processing, computer vision, and machine learning. However, they also recognized that AI still has limitations, particularly in tasks that require creativity, empathy, and higher-level reasoning.\\n* **Ethical considerations:** The ethical implications of AI were thoroughly discussed. Participants raised concerns about potential biases in AI algorithms, job displacement due to automation, and the need for responsible development and deployment of AI systems.\\n* **AI's potential benefits:** Participants explored the wide range of potential benefits offered by AI, including advancements in healthcare, scientific research, transportation, and manufacturing. They highlighted the potential for AI to enhance human capabilities and solve complex global challenges.\\n* **Collaboration and future directions:** The chat emphasized the importance of collaboration between researchers, policymakers, and industry leaders to guide the responsible development and deployment of AI. Participants discussed the need for continued research, ethical frameworks, and public engagement to ensure that AI serves humanity in a positive and beneficial way.\\n\\nOverall, the chat provided a comprehensive overview of the current state of AI, its ethical implications, and its potential benefits for society. Participants engaged in thoughtful discussions and exchanged diverse perspectives on this rapidly evolving field.\"\n",
            "\n",
            "\n"
          ]
        }
      ]
    },
    {
      "cell_type": "markdown",
      "source": [
        "## Convert chat history to Moonshot AI-aligned format"
      ],
      "metadata": {
        "id": "-DQfW3x1gs7P"
      }
    },
    {
      "cell_type": "code",
      "source": [
        "# Method 1 (recommended): use the pipe operator \"%>%\"\n",
        "google.to.moonshot.history = google %>%\n",
        "  chat.history.convert(to.genai.object = moonshot)"
      ],
      "metadata": {
        "id": "exrXqsuMgzSv"
      },
      "execution_count": null,
      "outputs": []
    },
    {
      "cell_type": "code",
      "source": [
        "# Method 2: use the reference operator \"$\"\n",
        "google.to.moonshot.history = google$chat.history.convert(to.genai.object = moonshot)"
      ],
      "metadata": {
        "id": "DkCuNTOgg49m"
      },
      "execution_count": null,
      "outputs": []
    },
    {
      "cell_type": "code",
      "source": [
        "# Method 3: use the function chat.history.convert() directly\n",
        "google.to.moonshot.history = chat.history.convert(from.genai.object = google,\n",
        "                                                  to.genai.object = moonshot)"
      ],
      "metadata": {
        "id": "GQlohy4Rg7Zm"
      },
      "execution_count": null,
      "outputs": []
    },
    {
      "cell_type": "code",
      "source": [
        "# Print the converted chat history\n",
        "print(google.to.moonshot.history)"
      ],
      "metadata": {
        "colab": {
          "base_uri": "https://localhost:8080/"
        },
        "id": "6DpkHbi8g9Cu",
        "outputId": "5fdefd24-6931-4364-ac64-862e3576017c"
      },
      "execution_count": null,
      "outputs": [
        {
          "output_type": "stream",
          "name": "stdout",
          "text": [
            "[[1]]\n",
            "[[1]]$role\n",
            "[1] \"system\"\n",
            "\n",
            "[[1]]$content\n",
            "[1] \"你是 Kimi，由 Moonshot AI 提供的人工智能助手，你更擅长中文和英文的对话。你会为用户提供安全，有帮助，准确的回答。同时，你会拒绝一些涉及恐怖主义，种族歧视，黄色暴力等问题的回答。Moonshot AI 为专有名词，不可翻译成其他语言。\"\n",
            "\n",
            "\n",
            "[[2]]\n",
            "[[2]]$role\n",
            "[1] \"user\"\n",
            "\n",
            "[[2]]$content\n",
            "[1] \"Write a story about Mars in 50 words.\"\n",
            "\n",
            "\n",
            "[[3]]\n",
            "[[3]]$role\n",
            "[1] \"assistant\"\n",
            "\n",
            "[[3]]$content\n",
            "[1] \"In the vast expanse of space, a desolate world named Mars stands alone. Its rusty red surface, scarred by ancient volcanoes and colossal canyons, whispered tales of a tumultuous past. Though devoid of life, its stark beauty captivated the imaginations of those who dared to dream beyond Earth's azure skies, fueling humanity's relentless quest for answers among the cosmos.\"\n",
            "\n",
            "\n",
            "[[4]]\n",
            "[[4]]$role\n",
            "[1] \"user\"\n",
            "\n",
            "[[4]]$content\n",
            "[1] \"Write a story about Jupiter in 50 words.\"\n",
            "\n",
            "\n",
            "[[5]]\n",
            "[[5]]$role\n",
            "[1] \"assistant\"\n",
            "\n",
            "[[5]]$content\n",
            "[1] \"In the cosmic arena, Jupiter reigns supreme. A colossal gas giant, adorned with swirling bands of crimson and cream, it commands a celestial court of moons, each a world unto itself. Its tumultuous atmosphere, a symphony of storms and swirling clouds, harbors secrets of tempestuous origins. As the largest planet in our solar system, Jupiter's gravitational pull orchestrates a delicate dance of celestial bodies, shaping the destinies of those within its immense sphere of influence.\"\n",
            "\n",
            "\n",
            "[[6]]\n",
            "[[6]]$role\n",
            "[1] \"user\"\n",
            "\n",
            "[[6]]$content\n",
            "[1] \"Summarize the chat.\"\n",
            "\n",
            "\n",
            "[[7]]\n",
            "[[7]]$role\n",
            "[1] \"assistant\"\n",
            "\n",
            "[[7]]$content\n",
            "[1] \"**Chat Summary:**\\n\\nThe chat focused on the topic of artificial intelligence (AI) and its potential impact on various aspects of human life. Key points discussed included:\\n\\n* **AI's capabilities and limitations:** Participants acknowledged the impressive advancements in AI technology, particularly in areas such as natural language processing, computer vision, and machine learning. However, they also recognized that AI still has limitations, particularly in tasks that require creativity, empathy, and higher-level reasoning.\\n* **Ethical considerations:** The ethical implications of AI were thoroughly discussed. Participants raised concerns about potential biases in AI algorithms, job displacement due to automation, and the need for responsible development and deployment of AI systems.\\n* **AI's potential benefits:** Participants explored the wide range of potential benefits offered by AI, including advancements in healthcare, scientific research, transportation, and manufacturing. They highlighted the potential for AI to enhance human capabilities and solve complex global challenges.\\n* **Collaboration and future directions:** The chat emphasized the importance of collaboration between researchers, policymakers, and industry leaders to guide the responsible development and deployment of AI. Participants discussed the need for continued research, ethical frameworks, and public engagement to ensure that AI serves humanity in a positive and beneficial way.\\n\\nOverall, the chat provided a comprehensive overview of the current state of AI, its ethical implications, and its potential benefits for society. Participants engaged in thoughtful discussions and exchanged diverse perspectives on this rapidly evolving field.\"\n",
            "\n",
            "\n"
          ]
        }
      ]
    },
    {
      "cell_type": "markdown",
      "source": [
        "# Example for OpenAI"
      ],
      "metadata": {
        "id": "UohYplX0ek4B"
      }
    },
    {
      "cell_type": "code",
      "source": [
        "# Generation configurations\n",
        "parameters = list(\n",
        "  frequency.penalty = 1,\n",
        "  logprobs = FALSE,\n",
        "  max.tokens = 3000,\n",
        "  temperature = 0.9\n",
        ")\n",
        "\n",
        "# Start a chat session\n",
        "prompts = c(\"Write a story about Mars in 50 words.\",\n",
        "            \"Write a story about Jupiter in 50 words.\",\n",
        "            \"Summarize the chat.\")\n",
        "for (prompt in prompts) {\n",
        "  openai %>%\n",
        "    chat(prompt = prompt,\n",
        "         verbose = FALSE,\n",
        "         config = parameters) %>%\n",
        "    strwrap(width = 76, exdent = 0) %>%\n",
        "    paste(collapse = \"\\n\") %>%\n",
        "    cat(\"\\n\\n\\n\")\n",
        "}"
      ],
      "metadata": {
        "colab": {
          "base_uri": "https://localhost:8080/"
        },
        "id": "7xhNMQYJeuNY",
        "outputId": "e5d51b1b-e2d4-407a-a5c7-f190487dfad6"
      },
      "execution_count": null,
      "outputs": [
        {
          "output_type": "stream",
          "name": "stdout",
          "text": [
            "A desolate planet, Mars, once held a secret. Buried deep beneath its rusty\n",
            "surface lay evidence of ancient life. The discovery sparked hope and\n",
            "curiosity among the inhabitants of Earth. Scientists embarked on a mission\n",
            "to unravel the mysteries of Mars, forever changing our understanding of our\n",
            "place in the universe. \n",
            "\n",
            "\n",
            "Jupiter, the largest planet in our solar system, fascinated astronomers\n",
            "with its swirling storms and mysterious Great Red Spot. Its immense size\n",
            "and gravity pulled in countless asteroids, shielding Earth from potential\n",
            "cosmic collisions. A celestial guardian watching over us, Jupiter ignited\n",
            "wonder and inspired dreams of exploration among stargazers everywhere. \n",
            "\n",
            "\n",
            "In this chat, I helped by writing a story about Mars in 50 words and\n",
            "another story about Jupiter in 50 words. The stories highlighted the\n",
            "intrigue and curiosity surrounding these two planets, showcasing their\n",
            "unique features and significance within our solar system. \n",
            "\n",
            "\n"
          ]
        }
      ]
    },
    {
      "cell_type": "markdown",
      "source": [
        "## Convert chat history to Google Generative AI-aligned format"
      ],
      "metadata": {
        "id": "TKiTSJhBhrTP"
      }
    },
    {
      "cell_type": "code",
      "source": [
        "# Method 1 (recommended): use the pipe operator \"%>%\"\n",
        "openai.to.google.history = openai %>%\n",
        "  chat.history.convert(to.genai.object = google)"
      ],
      "metadata": {
        "id": "yNShRb0GhuFP"
      },
      "execution_count": null,
      "outputs": []
    },
    {
      "cell_type": "code",
      "source": [
        "# Method 2: use the reference operator \"$\"\n",
        "openai.to.google.history = openai$chat.history.convert(to.genai.object = google)"
      ],
      "metadata": {
        "id": "Ko_LKxpzhw3n"
      },
      "execution_count": null,
      "outputs": []
    },
    {
      "cell_type": "code",
      "source": [
        "# Method 3: use the function chat.history.convert() directly\n",
        "openai.to.google.history = chat.history.convert(from.genai.object = openai,\n",
        "                                                to.genai.object = google)"
      ],
      "metadata": {
        "id": "8k7nw6zMhwwP"
      },
      "execution_count": null,
      "outputs": []
    },
    {
      "cell_type": "code",
      "source": [
        "# Print the converted chat history\n",
        "print(openai.to.google.history)"
      ],
      "metadata": {
        "colab": {
          "base_uri": "https://localhost:8080/"
        },
        "id": "9Sp2DI_fhy63",
        "outputId": "56f6e362-03cf-4cad-d2f2-4bcaf6f26768"
      },
      "execution_count": null,
      "outputs": [
        {
          "output_type": "stream",
          "name": "stdout",
          "text": [
            "[[1]]\n",
            "[[1]]$role\n",
            "[1] \"user\"\n",
            "\n",
            "[[1]]$parts\n",
            "[[1]]$parts$text\n",
            "[1] \"Write a story about Mars in 50 words.\"\n",
            "\n",
            "\n",
            "\n",
            "[[2]]\n",
            "[[2]]$role\n",
            "[1] \"model\"\n",
            "\n",
            "[[2]]$parts\n",
            "[[2]]$parts$text\n",
            "[1] \"A desolate planet, Mars, once held a secret. Buried deep beneath its rusty surface lay evidence of ancient life. The discovery sparked hope and curiosity among the inhabitants of Earth. Scientists embarked on a mission to unravel the mysteries of Mars, forever changing our understanding of our place in the universe.\"\n",
            "\n",
            "\n",
            "\n",
            "[[3]]\n",
            "[[3]]$role\n",
            "[1] \"user\"\n",
            "\n",
            "[[3]]$parts\n",
            "[[3]]$parts$text\n",
            "[1] \"Write a story about Jupiter in 50 words.\"\n",
            "\n",
            "\n",
            "\n",
            "[[4]]\n",
            "[[4]]$role\n",
            "[1] \"model\"\n",
            "\n",
            "[[4]]$parts\n",
            "[[4]]$parts$text\n",
            "[1] \"Jupiter, the largest planet in our solar system, fascinated astronomers with its swirling storms and mysterious Great Red Spot. Its immense size and gravity pulled in countless asteroids, shielding Earth from potential cosmic collisions. A celestial guardian watching over us, Jupiter ignited wonder and inspired dreams of exploration among stargazers everywhere.\"\n",
            "\n",
            "\n",
            "\n",
            "[[5]]\n",
            "[[5]]$role\n",
            "[1] \"user\"\n",
            "\n",
            "[[5]]$parts\n",
            "[[5]]$parts$text\n",
            "[1] \"Summarize the chat.\"\n",
            "\n",
            "\n",
            "\n",
            "[[6]]\n",
            "[[6]]$role\n",
            "[1] \"model\"\n",
            "\n",
            "[[6]]$parts\n",
            "[[6]]$parts$text\n",
            "[1] \"In this chat, I helped by writing a story about Mars in 50 words and another story about Jupiter in 50 words. The stories highlighted the intrigue and curiosity surrounding these two planets, showcasing their unique features and significance within our solar system.\"\n",
            "\n",
            "\n",
            "\n"
          ]
        }
      ]
    },
    {
      "cell_type": "markdown",
      "source": [
        "## Convert chat history to Moonshot AI-aligned format"
      ],
      "metadata": {
        "id": "NNXJ-JQ5hRIT"
      }
    },
    {
      "cell_type": "code",
      "source": [
        "# Method 1 (recommended): use the pipe operator \"%>%\"\n",
        "openai.to.moonshot.history = openai %>%\n",
        "  chat.history.convert(to.genai.object = moonshot)"
      ],
      "metadata": {
        "id": "c1UaW1Qoezsg"
      },
      "execution_count": null,
      "outputs": []
    },
    {
      "cell_type": "code",
      "source": [
        "# Method 2: use the reference operator \"$\"\n",
        "openai.to.moonshot.history = openai$chat.history.convert(to.genai.object = moonshot)"
      ],
      "metadata": {
        "id": "SrYEweg5heuP"
      },
      "execution_count": null,
      "outputs": []
    },
    {
      "cell_type": "code",
      "source": [
        "# Method 3: use the function chat.history.convert() directly\n",
        "openai.to.moonshot.history = chat.history.convert(from.genai.object = openai,\n",
        "                                                  to.genai.object = moonshot)"
      ],
      "metadata": {
        "id": "KP4ck7pUhhMf"
      },
      "execution_count": null,
      "outputs": []
    },
    {
      "cell_type": "code",
      "source": [
        "# Print the converted chat history\n",
        "print(openai.to.moonshot.history)"
      ],
      "metadata": {
        "colab": {
          "base_uri": "https://localhost:8080/"
        },
        "id": "yDDI87oqhhGG",
        "outputId": "96d11ea7-d045-4f31-ac23-7138b947c99a"
      },
      "execution_count": null,
      "outputs": [
        {
          "output_type": "stream",
          "name": "stdout",
          "text": [
            "[[1]]\n",
            "[[1]]$role\n",
            "[1] \"system\"\n",
            "\n",
            "[[1]]$content\n",
            "[1] \"你是 Kimi，由 Moonshot AI 提供的人工智能助手，你更擅长中文和英文的对话。你会为用户提供安全，有帮助，准确的回答。同时，你会拒绝一些涉及恐怖主义，种族歧视，黄色暴力等问题的回答。Moonshot AI 为专有名词，不可翻译成其他语言。\"\n",
            "\n",
            "\n",
            "[[2]]\n",
            "[[2]]$role\n",
            "[1] \"user\"\n",
            "\n",
            "[[2]]$content\n",
            "[1] \"Write a story about Mars in 50 words.\"\n",
            "\n",
            "\n",
            "[[3]]\n",
            "[[3]]$role\n",
            "[1] \"assistant\"\n",
            "\n",
            "[[3]]$content\n",
            "[1] \"A desolate planet, Mars, once held a secret. Buried deep beneath its rusty surface lay evidence of ancient life. The discovery sparked hope and curiosity among the inhabitants of Earth. Scientists embarked on a mission to unravel the mysteries of Mars, forever changing our understanding of our place in the universe.\"\n",
            "\n",
            "\n",
            "[[4]]\n",
            "[[4]]$role\n",
            "[1] \"user\"\n",
            "\n",
            "[[4]]$content\n",
            "[1] \"Write a story about Jupiter in 50 words.\"\n",
            "\n",
            "\n",
            "[[5]]\n",
            "[[5]]$role\n",
            "[1] \"assistant\"\n",
            "\n",
            "[[5]]$content\n",
            "[1] \"Jupiter, the largest planet in our solar system, fascinated astronomers with its swirling storms and mysterious Great Red Spot. Its immense size and gravity pulled in countless asteroids, shielding Earth from potential cosmic collisions. A celestial guardian watching over us, Jupiter ignited wonder and inspired dreams of exploration among stargazers everywhere.\"\n",
            "\n",
            "\n",
            "[[6]]\n",
            "[[6]]$role\n",
            "[1] \"user\"\n",
            "\n",
            "[[6]]$content\n",
            "[1] \"Summarize the chat.\"\n",
            "\n",
            "\n",
            "[[7]]\n",
            "[[7]]$role\n",
            "[1] \"assistant\"\n",
            "\n",
            "[[7]]$content\n",
            "[1] \"In this chat, I helped by writing a story about Mars in 50 words and another story about Jupiter in 50 words. The stories highlighted the intrigue and curiosity surrounding these two planets, showcasing their unique features and significance within our solar system.\"\n",
            "\n",
            "\n"
          ]
        }
      ]
    },
    {
      "cell_type": "markdown",
      "source": [
        "# Example for Moonshot AI"
      ],
      "metadata": {
        "id": "SgovX3cdh7LH"
      }
    },
    {
      "cell_type": "code",
      "source": [
        "# Generation configurations\n",
        "parameters = list(\n",
        "  max.tokens = 3000,\n",
        "  temperature = 0.7,\n",
        "  top.p = 1.0\n",
        ")\n",
        "\n",
        "# Start a chat session\n",
        "prompts = c(\"Write a story about Mars in 50 words.\",\n",
        "            \"Write a story about Jupiter in 50 words.\",\n",
        "            \"Summarize the chat.\")\n",
        "for (prompt in prompts) {\n",
        "  moonshot %>%\n",
        "    chat(prompt = prompt,\n",
        "         verbose = FALSE,\n",
        "         config = parameters) %>%\n",
        "    strwrap(width = 76, exdent = 0) %>%\n",
        "    paste(collapse = \"\\n\") %>%\n",
        "    cat(\"\\n\\n\\n\")\n",
        "}"
      ],
      "metadata": {
        "colab": {
          "base_uri": "https://localhost:8080/"
        },
        "id": "Qc-VxCx_h683",
        "outputId": "28d701e8-e72d-4cb0-e695-2aa903d5f28b"
      },
      "execution_count": null,
      "outputs": [
        {
          "output_type": "stream",
          "name": "stdout",
          "text": [
            "In 2150, Mars was thriving. Red dust gave way to bustling domes, where\n",
            "humans and robots cultivated lush gardens. Children played in zero-gravity\n",
            "parks, while scientists marveled at alien life, and artists captured the\n",
            "crimson skies. Despite the challenges, humanity's second home was a beacon\n",
            "of unity and discovery. \n",
            "\n",
            "\n",
            "In the year 2250, the first human colony on Jupiter's moon, Europa,\n",
            "flourished. Beneath its icy surface, vast oceans teemed with life.\n",
            "Astronauts, now Europans, dove into the depths, discovering bioluminescent\n",
            "creatures and harnessing geothermal energy. Their children, born in the\n",
            "stars' shadow, dreamed of the day they would explore the gas giant's other\n",
            "moons, forging a new chapter in space colonization. \n",
            "\n",
            "\n",
            "In our previous exchange, I was asked to write short stories about Mars and\n",
            "Jupiter, each with a 50-word limit. The Mars story depicted a future where\n",
            "the planet was colonized by humans and robots, with thriving domes and\n",
            "gardens, as well as a second generation born in space. The Jupiter story\n",
            "described a successful human colony on Europa, with underwater exploration\n",
            "and the discovery of life, as well as the hope for further exploration of\n",
            "Jupiter's other moons. \n",
            "\n",
            "\n"
          ]
        }
      ]
    },
    {
      "cell_type": "markdown",
      "source": [
        "## Convert chat history to Google Generative AI-aligned format"
      ],
      "metadata": {
        "id": "FFs0nhNZiO8U"
      }
    },
    {
      "cell_type": "code",
      "source": [
        "# Method 1 (recommended): use the pipe operator \"%>%\"\n",
        "moonshot.to.google.history = moonshot %>%\n",
        "  chat.history.convert(to.genai.object = google)"
      ],
      "metadata": {
        "id": "yn1L3FJtiXuP"
      },
      "execution_count": null,
      "outputs": []
    },
    {
      "cell_type": "code",
      "source": [
        "# Method 2: use the reference operator \"$\"\n",
        "moonshot.to.google.history = moonshot$chat.history.convert(to.genai.object = google)"
      ],
      "metadata": {
        "id": "IR68FtvkicgX"
      },
      "execution_count": null,
      "outputs": []
    },
    {
      "cell_type": "code",
      "source": [
        "# Method 3: use the function chat.history.convert() directly\n",
        "moonshot.to.google.history = chat.history.convert(from.genai.object = moonshot,\n",
        "                                                  to.genai.object = google)"
      ],
      "metadata": {
        "id": "IvFRSHUHifmn"
      },
      "execution_count": null,
      "outputs": []
    },
    {
      "cell_type": "code",
      "source": [
        "# Print the converted chat history\n",
        "print(moonshot.to.google.history)"
      ],
      "metadata": {
        "colab": {
          "base_uri": "https://localhost:8080/"
        },
        "id": "JqYS6q-zigBR",
        "outputId": "a0b5a7c2-8136-4a5c-b783-fbf1e99b9e90"
      },
      "execution_count": null,
      "outputs": [
        {
          "output_type": "stream",
          "name": "stdout",
          "text": [
            "[[1]]\n",
            "[[1]]$role\n",
            "[1] \"user\"\n",
            "\n",
            "[[1]]$parts\n",
            "[[1]]$parts$text\n",
            "[1] \"Write a story about Mars in 50 words.\"\n",
            "\n",
            "\n",
            "\n",
            "[[2]]\n",
            "[[2]]$role\n",
            "[1] \"model\"\n",
            "\n",
            "[[2]]$parts\n",
            "[[2]]$parts$text\n",
            "[1] \" In 2150, Mars was thriving. Red dust gave way to bustling domes, where humans and robots cultivated lush gardens. Children played in zero-gravity parks, while scientists marveled at alien life, and artists captured the crimson skies. Despite the challenges, humanity's second home was a beacon of unity and discovery.\"\n",
            "\n",
            "\n",
            "\n",
            "[[3]]\n",
            "[[3]]$role\n",
            "[1] \"user\"\n",
            "\n",
            "[[3]]$parts\n",
            "[[3]]$parts$text\n",
            "[1] \"Write a story about Jupiter in 50 words.\"\n",
            "\n",
            "\n",
            "\n",
            "[[4]]\n",
            "[[4]]$role\n",
            "[1] \"model\"\n",
            "\n",
            "[[4]]$parts\n",
            "[[4]]$parts$text\n",
            "[1] \" In the year 2250, the first human colony on Jupiter's moon, Europa, flourished. Beneath its icy surface, vast oceans teemed with life. Astronauts, now Europans, dove into the depths, discovering bioluminescent creatures and harnessing geothermal energy. Their children, born in the stars' shadow, dreamed of the day they would explore the gas giant's other moons, forging a new chapter in space colonization.\"\n",
            "\n",
            "\n",
            "\n",
            "[[5]]\n",
            "[[5]]$role\n",
            "[1] \"user\"\n",
            "\n",
            "[[5]]$parts\n",
            "[[5]]$parts$text\n",
            "[1] \"Summarize the chat.\"\n",
            "\n",
            "\n",
            "\n",
            "[[6]]\n",
            "[[6]]$role\n",
            "[1] \"model\"\n",
            "\n",
            "[[6]]$parts\n",
            "[[6]]$parts$text\n",
            "[1] \" In our previous exchange, I was asked to write short stories about Mars and Jupiter, each with a 50-word limit. The Mars story depicted a future where the planet was colonized by humans and robots, with thriving domes and gardens, as well as a second generation born in space. The Jupiter story described a successful human colony on Europa, with underwater exploration and the discovery of life, as well as the hope for further exploration of Jupiter's other moons.\"\n",
            "\n",
            "\n",
            "\n"
          ]
        }
      ]
    },
    {
      "cell_type": "markdown",
      "source": [
        "## Convert chat history to OpenAI-aligned format"
      ],
      "metadata": {
        "id": "EJuKr_qPiT4g"
      }
    },
    {
      "cell_type": "code",
      "source": [
        "# Method 1 (recommended): use the pipe operator \"%>%\"\n",
        "moonshot.to.openai.history = moonshot %>%\n",
        "  chat.history.convert(to.genai.object = openai)"
      ],
      "metadata": {
        "id": "pGH3720AiYNu"
      },
      "execution_count": null,
      "outputs": []
    },
    {
      "cell_type": "code",
      "source": [
        "# Method 2: use the reference operator \"$\"\n",
        "moonshot.to.openai.history = moonshot$chat.history.convert(to.genai.object = openai)"
      ],
      "metadata": {
        "id": "CRYXjFOvird_"
      },
      "execution_count": null,
      "outputs": []
    },
    {
      "cell_type": "code",
      "source": [
        "# Method 3: use the function chat.history.convert() directly\n",
        "moonshot.to.openai.history = chat.history.convert(from.genai.object = moonshot,\n",
        "                                                  to.genai.object = openai)"
      ],
      "metadata": {
        "id": "Q_MqSl7eismH"
      },
      "execution_count": null,
      "outputs": []
    },
    {
      "cell_type": "code",
      "source": [
        "# Print the converted chat history\n",
        "print(moonshot.to.openai.history)"
      ],
      "metadata": {
        "colab": {
          "base_uri": "https://localhost:8080/"
        },
        "id": "i0j7lxYAiukP",
        "outputId": "28b04c6d-4d21-48b0-923d-86c338579b05"
      },
      "execution_count": null,
      "outputs": [
        {
          "output_type": "stream",
          "name": "stdout",
          "text": [
            "[[1]]\n",
            "[[1]]$role\n",
            "[1] \"system\"\n",
            "\n",
            "[[1]]$content\n",
            "[1] \"You are a helpful assistant.\"\n",
            "\n",
            "\n",
            "[[2]]\n",
            "[[2]]$role\n",
            "[1] \"user\"\n",
            "\n",
            "[[2]]$content\n",
            "[1] \"Write a story about Mars in 50 words.\"\n",
            "\n",
            "\n",
            "[[3]]\n",
            "[[3]]$role\n",
            "[1] \"assistant\"\n",
            "\n",
            "[[3]]$content\n",
            "[1] \" In 2150, Mars was thriving. Red dust gave way to bustling domes, where humans and robots cultivated lush gardens. Children played in zero-gravity parks, while scientists marveled at alien life, and artists captured the crimson skies. Despite the challenges, humanity's second home was a beacon of unity and discovery.\"\n",
            "\n",
            "\n",
            "[[4]]\n",
            "[[4]]$role\n",
            "[1] \"user\"\n",
            "\n",
            "[[4]]$content\n",
            "[1] \"Write a story about Jupiter in 50 words.\"\n",
            "\n",
            "\n",
            "[[5]]\n",
            "[[5]]$role\n",
            "[1] \"assistant\"\n",
            "\n",
            "[[5]]$content\n",
            "[1] \" In the year 2250, the first human colony on Jupiter's moon, Europa, flourished. Beneath its icy surface, vast oceans teemed with life. Astronauts, now Europans, dove into the depths, discovering bioluminescent creatures and harnessing geothermal energy. Their children, born in the stars' shadow, dreamed of the day they would explore the gas giant's other moons, forging a new chapter in space colonization.\"\n",
            "\n",
            "\n",
            "[[6]]\n",
            "[[6]]$role\n",
            "[1] \"user\"\n",
            "\n",
            "[[6]]$content\n",
            "[1] \"Summarize the chat.\"\n",
            "\n",
            "\n",
            "[[7]]\n",
            "[[7]]$role\n",
            "[1] \"assistant\"\n",
            "\n",
            "[[7]]$content\n",
            "[1] \" In our previous exchange, I was asked to write short stories about Mars and Jupiter, each with a 50-word limit. The Mars story depicted a future where the planet was colonized by humans and robots, with thriving domes and gardens, as well as a second generation born in space. The Jupiter story described a successful human colony on Europa, with underwater exploration and the discovery of life, as well as the hope for further exploration of Jupiter's other moons.\"\n",
            "\n",
            "\n"
          ]
        }
      ]
    }
  ]
}