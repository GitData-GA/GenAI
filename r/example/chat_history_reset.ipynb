{
  "nbformat": 4,
  "nbformat_minor": 0,
  "metadata": {
    "colab": {
      "provenance": [],
      "include_colab_link": true
    },
    "kernelspec": {
      "name": "ir",
      "display_name": "R"
    },
    "language_info": {
      "name": "R"
    }
  },
  "cells": [
    {
      "cell_type": "markdown",
      "metadata": {
        "id": "view-in-github",
        "colab_type": "text"
      },
      "source": [
        "<a href=\"https://colab.research.google.com/github/GitData-GA/GenAI/blob/gh-pages/r/example/chat_history_reset.ipynb\" target=\"_parent\"><img src=\"https://colab.research.google.com/assets/colab-badge.svg\" alt=\"Open In Colab\"/></a>"
      ]
    },
    {
      "cell_type": "markdown",
      "source": [
        "# Installation & Setup\n"
      ],
      "metadata": {
        "id": "mDBGn0Qzsql5"
      }
    },
    {
      "cell_type": "code",
      "source": [
        "# The following commands are for Colab only\n",
        "system('add-apt-repository -y ppa:cran/imagemagick')\n",
        "system('apt-get update')\n",
        "system(\"apt-get install libmagick++-dev\")"
      ],
      "metadata": {
        "id": "aBlxwn5lKstO"
      },
      "execution_count": null,
      "outputs": []
    },
    {
      "cell_type": "code",
      "execution_count": null,
      "metadata": {
        "colab": {
          "base_uri": "https://localhost:8080/"
        },
        "id": "EQ5mDg9-siid",
        "outputId": "b1e7ead8-42b7-4f63-cbe1-fe0b652c54a2"
      },
      "outputs": [
        {
          "output_type": "stream",
          "name": "stderr",
          "text": [
            "Downloading package from url: https://genai.gd.edu.kg/release/R/GenAI_0.2.0.tar.gz\n",
            "\n"
          ]
        },
        {
          "output_type": "stream",
          "name": "stdout",
          "text": [
            "isoband      (0.2.6 -> 0.2.7 ) [CRAN]\n",
            "yulab.utils  (NA    -> 0.1.4 ) [CRAN]\n",
            "gridGraphics (NA    -> 0.5-1 ) [CRAN]\n",
            "curl         (5.0.2 -> 5.2.0 ) [CRAN]\n",
            "Rcpp         (NA    -> 1.0.12) [CRAN]\n",
            "openssl      (2.0.6 -> 2.1.1 ) [CRAN]\n",
            "ggplotify    (NA    -> 0.1.2 ) [CRAN]\n",
            "magick       (NA    -> 2.8.2 ) [CRAN]\n",
            "listenv      (NA    -> 0.9.1 ) [CRAN]\n"
          ]
        },
        {
          "output_type": "stream",
          "name": "stderr",
          "text": [
            "Installing 9 packages: isoband, yulab.utils, gridGraphics, curl, Rcpp, openssl, ggplotify, magick, listenv\n",
            "\n",
            "Installing packages into ‘/usr/local/lib/R/site-library’\n",
            "(as ‘lib’ is unspecified)\n",
            "\n"
          ]
        },
        {
          "output_type": "stream",
          "name": "stdout",
          "text": [
            "\u001b[36m──\u001b[39m \u001b[36mR CMD build\u001b[39m \u001b[36m─────────────────────────────────────────────────────────────────\u001b[39m\n",
            "* checking for file ‘/tmp/RtmpR7CLVA/remotes2f51c901847/GenAI/DESCRIPTION’ ... OK\n",
            "* preparing ‘GenAI’:\n",
            "* checking DESCRIPTION meta-information ... OK\n",
            "* checking for LF line-endings in source and make files and shell scripts\n",
            "* checking for empty or unneeded directories\n",
            "* building ‘GenAI_0.2.0.tar.gz’\n",
            "\n"
          ]
        },
        {
          "output_type": "stream",
          "name": "stderr",
          "text": [
            "Installing package into ‘/usr/local/lib/R/site-library’\n",
            "(as ‘lib’ is unspecified)\n",
            "\n",
            "Loading required package: magrittr\n",
            "\n"
          ]
        }
      ],
      "source": [
        "# Install the package (usually 1 - 3 minutes)\n",
        "remotes::install_url(\"https://genai.gd.edu.kg/release/R/GenAI_0.2.0.tar.gz\",\n",
        "                     dependencies = TRUE,\n",
        "                     method = \"libcurl\")\n",
        "library(\"GenAI\")"
      ]
    },
    {
      "cell_type": "markdown",
      "source": [
        "# Get Available Models"
      ],
      "metadata": {
        "id": "UdwTs_oitM8A"
      }
    },
    {
      "cell_type": "code",
      "source": [
        "all.models = available.models() %>% print()"
      ],
      "metadata": {
        "id": "S0lunMhxtOl_",
        "colab": {
          "base_uri": "https://localhost:8080/"
        },
        "outputId": "0285d317-e527-4652-9199-a628a30db775"
      },
      "execution_count": null,
      "outputs": [
        {
          "output_type": "stream",
          "name": "stdout",
          "text": [
            "$google\n",
            "$google$version\n",
            "[1] \"v1\"     \"v1beta\"\n",
            "\n",
            "$google$model\n",
            "[1] \"gemini-pro\"        \"gemini-pro-vision\"\n",
            "\n",
            "\n",
            "$openai\n",
            "$openai$version\n",
            "[1] \"v1\"\n",
            "\n",
            "$openai$model\n",
            "[1] \"gpt-3.5-turbo\"        \"gpt-3.5-turbo-1106\"   \"gpt-3.5-turbo-16k\"   \n",
            "[4] \"gpt-4\"                \"gpt-4-1106-preview\"   \"gpt-4-32k\"           \n",
            "[7] \"gpt-4-vision-preview\" \"dall-e-2\"             \"dall-e-3\"            \n",
            "\n",
            "\n",
            "$moonshot\n",
            "$moonshot$version\n",
            "[1] \"v1\"\n",
            "\n",
            "$moonshot$model\n",
            "[1] \"moonshot-v1-8k\"   \"moonshot-v1-32k\"  \"moonshot-v1-128k\"\n",
            "\n",
            "\n"
          ]
        }
      ]
    },
    {
      "cell_type": "markdown",
      "source": [
        "# Example for Google Generative AI"
      ],
      "metadata": {
        "id": "-UQDLvx8C6WS"
      }
    },
    {
      "cell_type": "code",
      "source": [
        "# Please change YOUR_GOOGLE_API to your own API key of Google Generative AI\n",
        "Sys.setenv(GOOGLE_API = \"YOUR_GOOGLE_API\")"
      ],
      "metadata": {
        "id": "sQTVbYJYm-ar"
      },
      "execution_count": null,
      "outputs": []
    },
    {
      "cell_type": "code",
      "source": [
        "# Create a Google Generative AI object\n",
        "google = genai.google(api = Sys.getenv(\"GOOGLE_API\"),\n",
        "                      model = all.models$google$model[1],\n",
        "                      version = all.models$google$version[1],\n",
        "                      proxy = FALSE)\n",
        "\n",
        "# Generation configurations\n",
        "parameters = list(\n",
        "  harm.category.dangerous.content = 5,\n",
        "  harm.category.harassment = 5,\n",
        "  max.output.tokens = 4096,\n",
        "  temperature = 0.9\n",
        ")"
      ],
      "metadata": {
        "id": "qtM6orwIC564"
      },
      "execution_count": null,
      "outputs": []
    },
    {
      "cell_type": "code",
      "source": [
        "# Start a chat session\n",
        "prompts = c(\"Write a story about Mars in 50 words.\",\n",
        "            \"Write a story about Jupiter in 50 words.\",\n",
        "            \"Summarize the chat.\")\n",
        "for (prompt in prompts) {\n",
        "  google %>%\n",
        "    chat(prompt = prompt,\n",
        "         verbose = FALSE,\n",
        "         config = parameters) %>%\n",
        "    strwrap(width = 76, exdent = 0) %>%\n",
        "    paste(collapse = \"\\n\") %>%\n",
        "    cat(\"\\n\\n\\n\")\n",
        "}"
      ],
      "metadata": {
        "colab": {
          "base_uri": "https://localhost:8080/"
        },
        "id": "z3j_BQupDAL4",
        "outputId": "dede3832-8b02-41ae-92df-f26575637c44"
      },
      "execution_count": null,
      "outputs": [
        {
          "output_type": "stream",
          "name": "stdout",
          "text": [
            "In the arid expanse of Mars, a lone astronaut ventured, seeking answers\n",
            "amidst the desolate dunes. With each step, the echoes of a forgotten\n",
            "civilization whispered in the Martian wind. Their legacy, etched in the\n",
            "cryptic patterns of the red sands, guided the explorer toward a truth long\n",
            "buried beneath the silent gaze of the alien sky. \n",
            "\n",
            "\n",
            "In the depths of Jupiter's swirling atmosphere, a celestial dance unfolded.\n",
            "Hydrogen and helium waltzed in a symphony of storms, their passionate\n",
            "embrace igniting lightning bolts that streaked across the gas giant's\n",
            "vibrant tapestry. Beneath this tempestuous spectacle, a hidden ocean\n",
            "churned, teeming with mysteries yet unknown, waiting for a brave voyager to\n",
            "unravel its secrets. \n",
            "\n",
            "\n",
            "**Chat Summary:**\n",
            "\n",
            "* **User:** Requested stories about Mars and Jupiter in 50 words each. *\n",
            "**Assistant:** Responded with two concise and imaginative stories,\n",
            "capturing the essence of each planet within the 50-word limit.\n",
            "\n",
            "**Story 1: Mars:**\n",
            "\n",
            "* An astronaut treks through the Martian desert, guided by the echoes of an\n",
            "ancient civilization buried beneath the sands. * The astronaut's journey\n",
            "leads to the discovery of cryptic patterns and forgotten truths.\n",
            "\n",
            "**Story 2: Jupiter:**\n",
            "\n",
            "* A celestial dance of hydrogen and helium unfolds in Jupiter's atmosphere,\n",
            "igniting lightning bolts and revealing a hidden ocean beneath the storms. *\n",
            "The ocean holds mysteries waiting to be unraveled by a courageous explorer.\n",
            "\n",
            "**Overall:**\n",
            "\n",
            "The chat showcased the assistant's ability to generate creative and\n",
            "engaging stories within a specific word limit, catering to the user's\n",
            "request for concise narratives about Mars and Jupiter. \n",
            "\n",
            "\n"
          ]
        }
      ]
    },
    {
      "cell_type": "code",
      "source": [
        "# Print the chat history\n",
        "google %>%\n",
        "  chat.history.print()"
      ],
      "metadata": {
        "colab": {
          "base_uri": "https://localhost:8080/"
        },
        "id": "iMQqORTSK71N",
        "outputId": "318fef72-e589-4450-e372-c971d30bb59e"
      },
      "execution_count": null,
      "outputs": [
        {
          "output_type": "stream",
          "name": "stdout",
          "text": [
            "-------------------------------- Message  1 ---------------------------------\n",
            "Role: user \n",
            "Text: Write a story about Mars in 50 words.\n",
            "\n",
            "-------------------------------- Message  2 ---------------------------------\n",
            "Role: model \n",
            "Text: In the arid expanse of Mars, a lone astronaut ventured, seeking answers\n",
            "amidst the desolate dunes. With each step, the echoes of a forgotten\n",
            "civilization whispered in the Martian wind. Their legacy, etched in the\n",
            "cryptic patterns of the red sands, guided the explorer toward a truth long\n",
            "buried beneath the silent gaze of the alien sky.\n",
            "\n",
            "-------------------------------- Message  3 ---------------------------------\n",
            "Role: user \n",
            "Text: Write a story about Jupiter in 50 words.\n",
            "\n",
            "-------------------------------- Message  4 ---------------------------------\n",
            "Role: model \n",
            "Text: In the depths of Jupiter's swirling atmosphere, a celestial dance unfolded.\n",
            "Hydrogen and helium waltzed in a symphony of storms, their passionate\n",
            "embrace igniting lightning bolts that streaked across the gas giant's\n",
            "vibrant tapestry. Beneath this tempestuous spectacle, a hidden ocean\n",
            "churned, teeming with mysteries yet unknown, waiting for a brave voyager to\n",
            "unravel its secrets.\n",
            "\n",
            "-------------------------------- Message  5 ---------------------------------\n",
            "Role: user \n",
            "Text: Summarize the chat.\n",
            "\n",
            "-------------------------------- Message  6 ---------------------------------\n",
            "Role: model \n",
            "Text: **Chat Summary:**\n",
            "\n",
            "* **User:** Requested stories about Mars and Jupiter in 50 words each. *\n",
            "**Assistant:** Responded with two concise and imaginative stories,\n",
            "capturing the essence of each planet within the 50-word limit.\n",
            "\n",
            "**Story 1: Mars:**\n",
            "\n",
            "* An astronaut treks through the Martian desert, guided by the echoes of an\n",
            "ancient civilization buried beneath the sands. * The astronaut's journey\n",
            "leads to the discovery of cryptic patterns and forgotten truths.\n",
            "\n",
            "**Story 2: Jupiter:**\n",
            "\n",
            "* A celestial dance of hydrogen and helium unfolds in Jupiter's atmosphere,\n",
            "igniting lightning bolts and revealing a hidden ocean beneath the storms. *\n",
            "The ocean holds mysteries waiting to be unraveled by a courageous explorer.\n",
            "\n",
            "**Overall:**\n",
            "\n",
            "The chat showcased the assistant's ability to generate creative and\n",
            "engaging stories within a specific word limit, catering to the user's\n",
            "request for concise narratives about Mars and Jupiter.\n",
            "\n"
          ]
        }
      ]
    },
    {
      "cell_type": "code",
      "source": [
        "# Method 1 (recommended): use the pipe operator \"%>%\"\n",
        "google %>%\n",
        "  chat.history.reset()"
      ],
      "metadata": {
        "id": "JQdIBu_1EAKJ"
      },
      "execution_count": null,
      "outputs": []
    },
    {
      "cell_type": "code",
      "source": [
        "# Method 2: use the reference operator \"$\"\n",
        "google$chat.history.reset()"
      ],
      "metadata": {
        "id": "jplOhCPmEZAC"
      },
      "execution_count": null,
      "outputs": []
    },
    {
      "cell_type": "code",
      "source": [
        "# Method 3: use the function chat.history.reset() directly\n",
        "chat.history.reset(genai.object = google)"
      ],
      "metadata": {
        "id": "u3AxOsh3Ep84"
      },
      "execution_count": null,
      "outputs": []
    },
    {
      "cell_type": "code",
      "source": [
        "# Print the chat history\n",
        "google %>%\n",
        "  chat.history.print()"
      ],
      "metadata": {
        "id": "b8s3YcxivGX_"
      },
      "execution_count": null,
      "outputs": []
    },
    {
      "cell_type": "markdown",
      "source": [
        "# Example for OpenAI"
      ],
      "metadata": {
        "id": "UohYplX0ek4B"
      }
    },
    {
      "cell_type": "code",
      "source": [
        "# Please change YOUR_OPENAI_API to your own API key of OpenAI\n",
        "Sys.setenv(OPENAI_API = \"YOUR_OPENAI_API\")\n",
        "\n",
        "# Please change YOUR_OPENAI_ORG to your own organization ID for OpenAI\n",
        "Sys.setenv(OPENAI_ORG = \"YOUR_OPENAI_ORG\")"
      ],
      "metadata": {
        "id": "A7cw82tUnFBW"
      },
      "execution_count": null,
      "outputs": []
    },
    {
      "cell_type": "code",
      "source": [
        "# Create an OpenAI object\n",
        "openai = genai.openai(api = Sys.getenv(\"OPENAI_API\"),\n",
        "                      model = all.models$openai$model[1],\n",
        "                      version = all.models$openai$version[1],\n",
        "                      proxy = FALSE,\n",
        "                      organization.id = Sys.getenv(\"OPENAI_ORG\"))\n",
        "\n",
        "# Generation configurations\n",
        "parameters = list(\n",
        "  frequency.penalty = 1,\n",
        "  logprobs = FALSE,\n",
        "  max.tokens = 3000,\n",
        "  temperature = 0.9\n",
        ")"
      ],
      "metadata": {
        "id": "VlQSbNWuelqB"
      },
      "execution_count": null,
      "outputs": []
    },
    {
      "cell_type": "code",
      "source": [
        "# Start a chat session\n",
        "prompts = c(\"Write a story about Mars in 50 words.\",\n",
        "            \"Write a story about Jupiter in 50 words.\",\n",
        "            \"Summarize the chat.\")\n",
        "for (prompt in prompts) {\n",
        "  openai %>%\n",
        "    chat(prompt = prompt,\n",
        "         verbose = FALSE,\n",
        "         config = parameters) %>%\n",
        "    strwrap(width = 76, exdent = 0) %>%\n",
        "    paste(collapse = \"\\n\") %>%\n",
        "    cat(\"\\n\\n\\n\")\n",
        "}"
      ],
      "metadata": {
        "colab": {
          "base_uri": "https://localhost:8080/"
        },
        "id": "7xhNMQYJeuNY",
        "outputId": "35bbd79a-f0c2-488d-e787-e7564c6b90d0"
      },
      "execution_count": null,
      "outputs": [
        {
          "output_type": "stream",
          "name": "stdout",
          "text": [
            "Mars, once a barren wasteland, now thrives with human presence. Terraformed\n",
            "and populated, it boasts bustling cities and vast green landscapes. Its\n",
            "crimson hue is a reminder of the planet's resilience. A testament to our\n",
            "ingenuity and determination, Mars stands as a symbol of humanity's\n",
            "boundless spirit of exploration. \n",
            "\n",
            "\n",
            "Jupiter, the giant gas planet, looms majestically in the cosmos. Its\n",
            "swirling storms and vibrant bands mesmerize all who lay eyes upon it. Deep\n",
            "within its atmosphere lies a hidden world, an enormous moon called Europa.\n",
            "Scientists believe it may harbor life, igniting our curiosity and dreams of\n",
            "extraterrestrial civilizations. \n",
            "\n",
            "\n",
            "In this chat, the user requested two stories, one about Mars and another\n",
            "about Jupiter, each in 50 words. The stories highlight the transformation\n",
            "of Mars into a habitable planet and the fascination with Jupiter's storms\n",
            "and its moon Europa as a potential host for life. \n",
            "\n",
            "\n"
          ]
        }
      ]
    },
    {
      "cell_type": "code",
      "source": [
        "# Print the chat history\n",
        "openai %>%\n",
        "  chat.history.print()"
      ],
      "metadata": {
        "colab": {
          "base_uri": "https://localhost:8080/"
        },
        "id": "pZ8KtKftLCT9",
        "outputId": "68fce54b-4a8a-4ee0-fb9c-bb080b6390ee"
      },
      "execution_count": null,
      "outputs": [
        {
          "output_type": "stream",
          "name": "stdout",
          "text": [
            "-------------------------------- Message  1 ---------------------------------\n",
            "Role: system \n",
            "Text: You are a helpful assistant.\n",
            "\n",
            "-------------------------------- Message  2 ---------------------------------\n",
            "Role: user \n",
            "Text: Write a story about Mars in 50 words.\n",
            "\n",
            "-------------------------------- Message  3 ---------------------------------\n",
            "Role: assistant \n",
            "Text: Mars, once a barren wasteland, now thrives with human presence. Terraformed\n",
            "and populated, it boasts bustling cities and vast green landscapes. Its\n",
            "crimson hue is a reminder of the planet's resilience. A testament to our\n",
            "ingenuity and determination, Mars stands as a symbol of humanity's\n",
            "boundless spirit of exploration.\n",
            "\n",
            "-------------------------------- Message  4 ---------------------------------\n",
            "Role: user \n",
            "Text: Write a story about Jupiter in 50 words.\n",
            "\n",
            "-------------------------------- Message  5 ---------------------------------\n",
            "Role: assistant \n",
            "Text: Jupiter, the giant gas planet, looms majestically in the cosmos. Its\n",
            "swirling storms and vibrant bands mesmerize all who lay eyes upon it. Deep\n",
            "within its atmosphere lies a hidden world, an enormous moon called Europa.\n",
            "Scientists believe it may harbor life, igniting our curiosity and dreams of\n",
            "extraterrestrial civilizations.\n",
            "\n",
            "-------------------------------- Message  6 ---------------------------------\n",
            "Role: user \n",
            "Text: Summarize the chat.\n",
            "\n",
            "-------------------------------- Message  7 ---------------------------------\n",
            "Role: assistant \n",
            "Text: In this chat, the user requested two stories, one about Mars and another\n",
            "about Jupiter, each in 50 words. The stories highlight the transformation\n",
            "of Mars into a habitable planet and the fascination with Jupiter's storms\n",
            "and its moon Europa as a potential host for life.\n",
            "\n"
          ]
        }
      ]
    },
    {
      "cell_type": "code",
      "source": [
        "# Method 1 (recommended): use the pipe operator \"%>%\"\n",
        "openai %>%\n",
        "  chat.history.reset()"
      ],
      "metadata": {
        "id": "c1UaW1Qoezsg"
      },
      "execution_count": null,
      "outputs": []
    },
    {
      "cell_type": "code",
      "source": [
        "# Method 2: use the reference operator \"$\"\n",
        "openai$chat.history.reset()"
      ],
      "metadata": {
        "id": "RkmMrIEze2TA"
      },
      "execution_count": null,
      "outputs": []
    },
    {
      "cell_type": "code",
      "source": [
        "# Method 3: use the function chat.history.reset() directly\n",
        "chat.history.reset(genai.object = openai)"
      ],
      "metadata": {
        "id": "3EnJPLFNe6hw"
      },
      "execution_count": null,
      "outputs": []
    },
    {
      "cell_type": "code",
      "source": [
        "# Print the chat history\n",
        "openai %>%\n",
        "  chat.history.print()"
      ],
      "metadata": {
        "colab": {
          "base_uri": "https://localhost:8080/"
        },
        "id": "JHly7USUvawY",
        "outputId": "08c42f51-6081-4302-eb2d-38fb0636a529"
      },
      "execution_count": null,
      "outputs": [
        {
          "output_type": "stream",
          "name": "stdout",
          "text": [
            "-------------------------------- Message  1 ---------------------------------\n",
            "Role: system \n",
            "Text: You are a helpful assistant.\n",
            "\n"
          ]
        }
      ]
    },
    {
      "cell_type": "markdown",
      "source": [
        "# Example for Moonshot AI"
      ],
      "metadata": {
        "id": "4xAyE_SDLDMt"
      }
    },
    {
      "cell_type": "code",
      "source": [
        "# Please change YOUR_MOONSHOT_API to your own API key of Moonshot AI\n",
        "Sys.setenv(MOONSHOT_API = \"YOUR_MOONSHOT_API\")"
      ],
      "metadata": {
        "id": "F0cJNbJELGdt"
      },
      "execution_count": null,
      "outputs": []
    },
    {
      "cell_type": "code",
      "source": [
        "# Create a Moonshot AI object\n",
        "moonshot = genai.moonshot(api = Sys.getenv(\"MOONSHOT_API\"),\n",
        "                          model = all.models$moonshot$model[1],\n",
        "                          version = all.models$moonshot$version[1],\n",
        "                          proxy = FALSE)\n",
        "\n",
        "# Generation configurations\n",
        "parameters = list(\n",
        "  max.tokens = 3000,\n",
        "  temperature = 0.7,\n",
        "  top.p = 1.0\n",
        ")"
      ],
      "metadata": {
        "id": "hm5390QBLHwF"
      },
      "execution_count": null,
      "outputs": []
    },
    {
      "cell_type": "code",
      "source": [
        "# Start a chat session\n",
        "prompts = c(\"Write a story about Mars in 50 words.\",\n",
        "            \"Write a story about Jupiter in 50 words.\",\n",
        "            \"Summarize the chat.\")\n",
        "for (prompt in prompts) {\n",
        "  moonshot %>%\n",
        "    chat(prompt = prompt,\n",
        "         verbose = FALSE,\n",
        "         config = parameters) %>%\n",
        "    strwrap(width = 76, exdent = 0) %>%\n",
        "    paste(collapse = \"\\n\") %>%\n",
        "    cat(\"\\n\\n\\n\")\n",
        "}"
      ],
      "metadata": {
        "colab": {
          "base_uri": "https://localhost:8080/"
        },
        "id": "PPXloTUsLLKy",
        "outputId": "98e1ef5f-dec1-4751-c3f1-109d39ba031b"
      },
      "execution_count": null,
      "outputs": [
        {
          "output_type": "stream",
          "name": "stdout",
          "text": [
            "In 2050, Mars buzzed with life. Colonists, clad in eco-suits, cultivated\n",
            "vibrant biodomes beneath the rust-red sky. Rovers scoured the terrain,\n",
            "unearthing ancient secrets. Amidst the chaos, a young Martian, Sera,\n",
            "discovered a hidden crypt. As she deciphered its alien script, she unlocked\n",
            "the key to a cosmic legacy, bridging the past with the future. \n",
            "\n",
            "\n",
            "In 2075, humanity established the first permanent base on Jupiter's moon,\n",
            "Europa. Astronauts, the new pioneers, mined its subsurface oceans for\n",
            "life's building blocks. Amidst the icy depths, physicist Dr. Ray discovered\n",
            "a microbial ecosystem, rewriting the book on life. Europa's secrets fueled\n",
            "Earth's imagination, propelling us towards a boundless cosmic frontier. \n",
            "\n",
            "\n",
            "In our previous chat, I was asked to write short stories about Mars and\n",
            "Jupiter, each within a 50-word limit. The Mars story described a future in\n",
            "2050 where Mars is colonized, with a Martian girl named Sera discovering an\n",
            "ancient crypt that reveals a cosmic legacy. The Jupiter story is set in\n",
            "2075, where humans have built a base on Europa, and an astronaut named Dr.\n",
            "Ray uncovers a microbial ecosystem that changes our understanding of life.\n",
            "Both stories are imaginative glimpses into humanity's future exploration\n",
            "and colonization of the cosmos. \n",
            "\n",
            "\n"
          ]
        }
      ]
    },
    {
      "cell_type": "code",
      "source": [
        "# Print the chat history\n",
        "moonshot %>%\n",
        "  chat.history.print()"
      ],
      "metadata": {
        "colab": {
          "base_uri": "https://localhost:8080/"
        },
        "id": "cripJy9dLLI-",
        "outputId": "49522b0b-bf16-46e4-9aa8-74297a0b8931"
      },
      "execution_count": null,
      "outputs": [
        {
          "output_type": "stream",
          "name": "stdout",
          "text": [
            "-------------------------------- Message  1 ---------------------------------\n",
            "Role: system \n",
            "Text: 你是 Kimi，由 Moonshot AI\n",
            "提供的人工智能助手，你更擅长中文和英文的对话。你会为用户提供安全，有帮助，准确的回答。同时，你会拒绝一些涉及恐怖主义，种族歧视，黄色暴力等问题的回答。Moonshot\n",
            "AI 为专有名词，不可翻译成其他语言。\n",
            "\n",
            "-------------------------------- Message  2 ---------------------------------\n",
            "Role: user \n",
            "Text: Write a story about Mars in 50 words.\n",
            "\n",
            "-------------------------------- Message  3 ---------------------------------\n",
            "Role: assistant \n",
            "Text: In 2050, Mars buzzed with life. Colonists, clad in eco-suits, cultivated\n",
            "vibrant biodomes beneath the rust-red sky. Rovers scoured the terrain,\n",
            "unearthing ancient secrets. Amidst the chaos, a young Martian, Sera,\n",
            "discovered a hidden crypt. As she deciphered its alien script, she unlocked\n",
            "the key to a cosmic legacy, bridging the past with the future.\n",
            "\n",
            "-------------------------------- Message  4 ---------------------------------\n",
            "Role: user \n",
            "Text: Write a story about Jupiter in 50 words.\n",
            "\n",
            "-------------------------------- Message  5 ---------------------------------\n",
            "Role: assistant \n",
            "Text: In 2075, humanity established the first permanent base on Jupiter's moon,\n",
            "Europa. Astronauts, the new pioneers, mined its subsurface oceans for\n",
            "life's building blocks. Amidst the icy depths, physicist Dr. Ray discovered\n",
            "a microbial ecosystem, rewriting the book on life. Europa's secrets fueled\n",
            "Earth's imagination, propelling us towards a boundless cosmic frontier.\n",
            "\n",
            "-------------------------------- Message  6 ---------------------------------\n",
            "Role: user \n",
            "Text: Summarize the chat.\n",
            "\n",
            "-------------------------------- Message  7 ---------------------------------\n",
            "Role: assistant \n",
            "Text: In our previous chat, I was asked to write short stories about Mars and\n",
            "Jupiter, each within a 50-word limit. The Mars story described a future in\n",
            "2050 where Mars is colonized, with a Martian girl named Sera discovering an\n",
            "ancient crypt that reveals a cosmic legacy. The Jupiter story is set in\n",
            "2075, where humans have built a base on Europa, and an astronaut named Dr.\n",
            "Ray uncovers a microbial ecosystem that changes our understanding of life.\n",
            "Both stories are imaginative glimpses into humanity's future exploration\n",
            "and colonization of the cosmos.\n",
            "\n"
          ]
        }
      ]
    },
    {
      "cell_type": "code",
      "source": [
        "# Method 1 (recommended): use the pipe operator \"%>%\"\n",
        "moonshot %>%\n",
        "  chat.history.reset()"
      ],
      "metadata": {
        "id": "_VvNPyBzLQP-"
      },
      "execution_count": null,
      "outputs": []
    },
    {
      "cell_type": "code",
      "source": [
        "# Method 2: use the reference operator \"$\"\n",
        "moonshot$chat.history.reset()"
      ],
      "metadata": {
        "id": "knbLwvn8LRl3"
      },
      "execution_count": null,
      "outputs": []
    },
    {
      "cell_type": "code",
      "source": [
        "# Method 3: use the function chat.history.reset() directly\n",
        "chat.history.reset(genai.object = moonshot)"
      ],
      "metadata": {
        "id": "9CA77wzlLSz2"
      },
      "execution_count": null,
      "outputs": []
    },
    {
      "cell_type": "code",
      "source": [
        "# Print the chat history\n",
        "moonshot %>%\n",
        "  chat.history.print()"
      ],
      "metadata": {
        "colab": {
          "base_uri": "https://localhost:8080/"
        },
        "id": "rTTyQJdLLUU2",
        "outputId": "108a2c9f-785d-44f7-c812-2b663283433e"
      },
      "execution_count": null,
      "outputs": [
        {
          "output_type": "stream",
          "name": "stdout",
          "text": [
            "-------------------------------- Message  1 ---------------------------------\n",
            "Role: system \n",
            "Text: 你是 Kimi，由 Moonshot AI\n",
            "提供的人工智能助手，你更擅长中文和英文的对话。你会为用户提供安全，有帮助，准确的回答。同时，你会拒绝一些涉及恐怖主义，种族歧视，黄色暴力等问题的回答。Moonshot\n",
            "AI 为专有名词，不可翻译成其他语言。\n",
            "\n"
          ]
        }
      ]
    }
  ]
}