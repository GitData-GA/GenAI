{
  "nbformat": 4,
  "nbformat_minor": 0,
  "metadata": {
    "colab": {
      "provenance": [],
      "include_colab_link": true
    },
    "kernelspec": {
      "name": "ir",
      "display_name": "R"
    },
    "language_info": {
      "name": "R"
    }
  },
  "cells": [
    {
      "cell_type": "markdown",
      "metadata": {
        "id": "view-in-github",
        "colab_type": "text"
      },
      "source": [
        "<a href=\"https://colab.research.google.com/github/GitData-GA/GenAI/blob/gh-pages/r/example/chat_history_reset.ipynb\" target=\"_parent\"><img src=\"https://colab.research.google.com/assets/colab-badge.svg\" alt=\"Open In Colab\"/></a>"
      ]
    },
    {
      "cell_type": "markdown",
      "source": [
        "# Installation & Setup\n"
      ],
      "metadata": {
        "id": "mDBGn0Qzsql5"
      }
    },
    {
      "cell_type": "code",
      "source": [
        "# The following commands are for Colab only\n",
        "system('add-apt-repository -y ppa:cran/imagemagick')\n",
        "system('apt-get update')\n",
        "system(\"apt-get install libmagick++-dev\")"
      ],
      "metadata": {
        "id": "aBlxwn5lKstO"
      },
      "execution_count": 1,
      "outputs": []
    },
    {
      "cell_type": "code",
      "execution_count": 2,
      "metadata": {
        "colab": {
          "base_uri": "https://localhost:8080/"
        },
        "id": "EQ5mDg9-siid",
        "outputId": "79334e1c-35d9-4bc3-8e63-f51b32ec68dc"
      },
      "outputs": [
        {
          "output_type": "stream",
          "name": "stderr",
          "text": [
            "Installing package into ‘/usr/local/lib/R/site-library’\n",
            "(as ‘lib’ is unspecified)\n",
            "\n",
            "also installing the dependencies ‘Rcpp’, ‘gridGraphics’, ‘yulab.utils’, ‘listenv’, ‘magick’, ‘ggplotify’\n",
            "\n",
            "\n",
            "Loading required package: magrittr\n",
            "\n"
          ]
        }
      ],
      "source": [
        "# Install the library (usually 1 - 3 minutes in Colab)\n",
        "install.packages(\"GenAI\")\n",
        "library(\"GenAI\")"
      ]
    },
    {
      "cell_type": "markdown",
      "source": [
        "# Get Available Models"
      ],
      "metadata": {
        "id": "UdwTs_oitM8A"
      }
    },
    {
      "cell_type": "code",
      "source": [
        "all.models = available.models() %>% print()"
      ],
      "metadata": {
        "id": "S0lunMhxtOl_",
        "colab": {
          "base_uri": "https://localhost:8080/"
        },
        "outputId": "c97e8809-3752-4d25-c337-3b39d4d5a9a9"
      },
      "execution_count": 3,
      "outputs": [
        {
          "output_type": "stream",
          "name": "stdout",
          "text": [
            "$google\n",
            "$google$version\n",
            "[1] \"v1\"     \"v1beta\"\n",
            "\n",
            "$google$model\n",
            "[1] \"gemini-pro\"                   \"gemini-pro-vision\"           \n",
            "[3] \"gemini-1.0-pro\"               \"gemini-1.0-pro-001\"          \n",
            "[5] \"gemini-1.0-pro-latest\"        \"gemini-1.0-pro-vision-latest\"\n",
            "\n",
            "\n",
            "$openai\n",
            "$openai$version\n",
            "[1] \"v1\"\n",
            "\n",
            "$openai$model\n",
            "[1] \"gpt-3.5-turbo\"        \"gpt-3.5-turbo-1106\"   \"gpt-3.5-turbo-16k\"   \n",
            "[4] \"gpt-4\"                \"gpt-4-1106-preview\"   \"gpt-4-32k\"           \n",
            "[7] \"gpt-4-vision-preview\" \"dall-e-2\"             \"dall-e-3\"            \n",
            "\n",
            "\n",
            "$moonshot\n",
            "$moonshot$version\n",
            "[1] \"v1\"\n",
            "\n",
            "$moonshot$model\n",
            "[1] \"moonshot-v1-8k\"   \"moonshot-v1-32k\"  \"moonshot-v1-128k\"\n",
            "\n",
            "\n"
          ]
        }
      ]
    },
    {
      "cell_type": "markdown",
      "source": [
        "# Example for Google Generative AI"
      ],
      "metadata": {
        "id": "-UQDLvx8C6WS"
      }
    },
    {
      "cell_type": "code",
      "source": [
        "# Please change YOUR_GOOGLE_API to your own API key of Google Generative AI\n",
        "Sys.setenv(GOOGLE_API = \"YOUR_GOOGLE_API\")"
      ],
      "metadata": {
        "id": "sQTVbYJYm-ar"
      },
      "execution_count": 4,
      "outputs": []
    },
    {
      "cell_type": "code",
      "source": [
        "# Create a Google Generative AI object\n",
        "google = genai.google(api = Sys.getenv(\"GOOGLE_API\"),\n",
        "                      model = all.models$google$model[1],\n",
        "                      version = all.models$google$version[1],\n",
        "                      proxy = FALSE)\n",
        "\n",
        "# Generation configurations\n",
        "parameters = list(\n",
        "  harm.category.dangerous.content = 5,\n",
        "  harm.category.harassment = 5,\n",
        "  max.output.tokens = 4096,\n",
        "  temperature = 0.9\n",
        ")"
      ],
      "metadata": {
        "id": "qtM6orwIC564"
      },
      "execution_count": 5,
      "outputs": []
    },
    {
      "cell_type": "code",
      "source": [
        "# Start a chat session\n",
        "prompts = c(\"Write a story about Mars in 50 words.\",\n",
        "            \"Write a story about Jupiter in 50 words.\",\n",
        "            \"Summarize the chat.\")\n",
        "for (prompt in prompts) {\n",
        "  google %>%\n",
        "    chat(prompt = prompt,\n",
        "         verbose = FALSE,\n",
        "         config = parameters) %>%\n",
        "    strwrap(width = 76, exdent = 0) %>%\n",
        "    paste(collapse = \"\\n\") %>%\n",
        "    cat(\"\\n\\n\\n\")\n",
        "}"
      ],
      "metadata": {
        "colab": {
          "base_uri": "https://localhost:8080/"
        },
        "id": "z3j_BQupDAL4",
        "outputId": "8a58a860-6583-4236-8fdf-d7f16b25e6b9"
      },
      "execution_count": 6,
      "outputs": [
        {
          "output_type": "stream",
          "name": "stdout",
          "text": [
            "In the crimson expanse of Mars, where ancient secrets whispered, Amelia\n",
            "embarked on a solitary mission. As she ventured deeper into its desolate\n",
            "canyons, a flicker of light guided her towards an enigmatic artifact. The\n",
            "relic revealed a forgotten civilization, its knowledge lost to time,\n",
            "leaving her forever entwined with the enigmatic heart of the Red Planet. \n",
            "\n",
            "\n",
            "Amidst the swirling tempests of Jupiter, a lone spacecraft braved the\n",
            "colossal planet's embrace. Captain Emily Carter, driven by an insatiable\n",
            "curiosity, guided her vessel towards the Great Red Spot, a raging storm\n",
            "that dwarfed entire worlds. As she peered into its chaotic depths, she\n",
            "witnessed a cosmic ballet of swirling gases and lightning, forever etching\n",
            "the grandeur of Jupiter's wrath into the annals of her soul. \n",
            "\n",
            "\n",
            "**Chat Summary:**\n",
            "\n",
            "The chat focused on writing engaging and concise micro-stories within a\n",
            "50-word limit. The challenge involved crafting compelling narratives that\n",
            "evoked vivid imagery and conveyed a complete story arc despite the brevity.\n",
            "\n",
            "The participants shared tips on using strong verbs, sensory details, and\n",
            "evocative language to create immersive experiences. They also discussed the\n",
            "importance of balancing plot, character, and setting within the strict word\n",
            "count.\n",
            "\n",
            "The chat concluded with a series of successful micro-stories written by the\n",
            "participants, showcasing their creativity and ability to weave imaginative\n",
            "tales within the 50-word constraint. \n",
            "\n",
            "\n"
          ]
        }
      ]
    },
    {
      "cell_type": "code",
      "source": [
        "# Print the chat history\n",
        "google %>%\n",
        "  chat.history.print()"
      ],
      "metadata": {
        "colab": {
          "base_uri": "https://localhost:8080/"
        },
        "id": "iMQqORTSK71N",
        "outputId": "2e44f5e2-c37b-4a5b-8a8d-6866e20a0e40"
      },
      "execution_count": 7,
      "outputs": [
        {
          "output_type": "stream",
          "name": "stdout",
          "text": [
            "-------------------------------- Message  1 ---------------------------------\n",
            "Role: user \n",
            "Text: Write a story about Mars in 50 words.\n",
            "\n",
            "-------------------------------- Message  2 ---------------------------------\n",
            "Role: model \n",
            "Text: In the crimson expanse of Mars, where ancient secrets whispered, Amelia\n",
            "embarked on a solitary mission. As she ventured deeper into its desolate\n",
            "canyons, a flicker of light guided her towards an enigmatic artifact. The\n",
            "relic revealed a forgotten civilization, its knowledge lost to time,\n",
            "leaving her forever entwined with the enigmatic heart of the Red Planet.\n",
            "\n",
            "-------------------------------- Message  3 ---------------------------------\n",
            "Role: user \n",
            "Text: Write a story about Jupiter in 50 words.\n",
            "\n",
            "-------------------------------- Message  4 ---------------------------------\n",
            "Role: model \n",
            "Text: Amidst the swirling tempests of Jupiter, a lone spacecraft braved the\n",
            "colossal planet's embrace. Captain Emily Carter, driven by an insatiable\n",
            "curiosity, guided her vessel towards the Great Red Spot, a raging storm\n",
            "that dwarfed entire worlds. As she peered into its chaotic depths, she\n",
            "witnessed a cosmic ballet of swirling gases and lightning, forever etching\n",
            "the grandeur of Jupiter's wrath into the annals of her soul.\n",
            "\n",
            "-------------------------------- Message  5 ---------------------------------\n",
            "Role: user \n",
            "Text: Summarize the chat.\n",
            "\n",
            "-------------------------------- Message  6 ---------------------------------\n",
            "Role: model \n",
            "Text: **Chat Summary:**\n",
            "\n",
            "The chat focused on writing engaging and concise micro-stories within a\n",
            "50-word limit. The challenge involved crafting compelling narratives that\n",
            "evoked vivid imagery and conveyed a complete story arc despite the brevity.\n",
            "\n",
            "The participants shared tips on using strong verbs, sensory details, and\n",
            "evocative language to create immersive experiences. They also discussed the\n",
            "importance of balancing plot, character, and setting within the strict word\n",
            "count.\n",
            "\n",
            "The chat concluded with a series of successful micro-stories written by the\n",
            "participants, showcasing their creativity and ability to weave imaginative\n",
            "tales within the 50-word constraint.\n",
            "\n"
          ]
        }
      ]
    },
    {
      "cell_type": "code",
      "source": [
        "# Method 1 (recommended): use the pipe operator \"%>%\"\n",
        "google %>%\n",
        "  chat.history.reset()"
      ],
      "metadata": {
        "id": "JQdIBu_1EAKJ"
      },
      "execution_count": 8,
      "outputs": []
    },
    {
      "cell_type": "code",
      "source": [
        "# Method 2: use the reference operator \"$\"\n",
        "google$chat.history.reset()"
      ],
      "metadata": {
        "id": "jplOhCPmEZAC"
      },
      "execution_count": 9,
      "outputs": []
    },
    {
      "cell_type": "code",
      "source": [
        "# Method 3: use the function chat.history.reset() directly\n",
        "chat.history.reset(genai.object = google)"
      ],
      "metadata": {
        "id": "u3AxOsh3Ep84"
      },
      "execution_count": 10,
      "outputs": []
    },
    {
      "cell_type": "code",
      "source": [
        "# Print the chat history\n",
        "google %>%\n",
        "  chat.history.print()"
      ],
      "metadata": {
        "id": "b8s3YcxivGX_"
      },
      "execution_count": 11,
      "outputs": []
    },
    {
      "cell_type": "markdown",
      "source": [
        "# Example for OpenAI"
      ],
      "metadata": {
        "id": "UohYplX0ek4B"
      }
    },
    {
      "cell_type": "code",
      "source": [
        "# Please change YOUR_OPENAI_API to your own API key of OpenAI\n",
        "Sys.setenv(OPENAI_API = \"YOUR_OPENAI_API\")\n",
        "\n",
        "# Please change YOUR_OPENAI_ORG to your own organization ID for OpenAI\n",
        "Sys.setenv(OPENAI_ORG = \"YOUR_OPENAI_ORG\")"
      ],
      "metadata": {
        "id": "A7cw82tUnFBW"
      },
      "execution_count": 12,
      "outputs": []
    },
    {
      "cell_type": "code",
      "source": [
        "# Create an OpenAI object\n",
        "openai = genai.openai(api = Sys.getenv(\"OPENAI_API\"),\n",
        "                      model = all.models$openai$model[1],\n",
        "                      version = all.models$openai$version[1],\n",
        "                      proxy = FALSE,\n",
        "                      organization.id = Sys.getenv(\"OPENAI_ORG\"))\n",
        "\n",
        "# Generation configurations\n",
        "parameters = list(\n",
        "  frequency.penalty = 1,\n",
        "  logprobs = FALSE,\n",
        "  max.tokens = 3000,\n",
        "  temperature = 0.9\n",
        ")"
      ],
      "metadata": {
        "id": "VlQSbNWuelqB"
      },
      "execution_count": 13,
      "outputs": []
    },
    {
      "cell_type": "code",
      "source": [
        "# Start a chat session\n",
        "prompts = c(\"Write a story about Mars in 50 words.\",\n",
        "            \"Write a story about Jupiter in 50 words.\",\n",
        "            \"Summarize the chat.\")\n",
        "for (prompt in prompts) {\n",
        "  openai %>%\n",
        "    chat(prompt = prompt,\n",
        "         verbose = FALSE,\n",
        "         config = parameters) %>%\n",
        "    strwrap(width = 76, exdent = 0) %>%\n",
        "    paste(collapse = \"\\n\") %>%\n",
        "    cat(\"\\n\\n\\n\")\n",
        "}"
      ],
      "metadata": {
        "colab": {
          "base_uri": "https://localhost:8080/"
        },
        "id": "7xhNMQYJeuNY",
        "outputId": "cdcbac70-a2dc-4669-befc-5860f9072462"
      },
      "execution_count": 14,
      "outputs": [
        {
          "output_type": "stream",
          "name": "stdout",
          "text": [
            "Mars, the red planet, a mysterious world of possibility. Humans ventured\n",
            "forth to explore its barren landscapes, seeking answers to the universe's\n",
            "secrets. They built colonies, harnessed resources, and embraced solitude\n",
            "amidst untamed beauty. Mars became a symbol of human resilience and\n",
            "ambition—a testament to humanity's eternal quest for discovery. \n",
            "\n",
            "\n",
            "Jupiter, the mighty gas giant, dominated the solar system with its colossal\n",
            "size and swirling storms. Its presence mesmerized astronomers who marveled\n",
            "at its radiant bands of clouds and iconic Great Red Spot. Expanding human\n",
            "knowledge, Jupiter revealed a cosmic spectacle, reminding us of the\n",
            "awe-inspiring wonders that lie beyond our reach. \n",
            "\n",
            "\n",
            "In this chat, the user requested two brief stories about Mars and Jupiter.\n",
            "The stories captured the essence of these planets, highlighting their\n",
            "characteristics and significance in our exploration of the universe. \n",
            "\n",
            "\n"
          ]
        }
      ]
    },
    {
      "cell_type": "code",
      "source": [
        "# Print the chat history\n",
        "openai %>%\n",
        "  chat.history.print()"
      ],
      "metadata": {
        "colab": {
          "base_uri": "https://localhost:8080/"
        },
        "id": "pZ8KtKftLCT9",
        "outputId": "b5242aa8-2dc0-4aaa-eb8e-2149b02dfcae"
      },
      "execution_count": 15,
      "outputs": [
        {
          "output_type": "stream",
          "name": "stdout",
          "text": [
            "-------------------------------- Message  1 ---------------------------------\n",
            "Role: system \n",
            "Text: You are a helpful assistant.\n",
            "\n",
            "-------------------------------- Message  2 ---------------------------------\n",
            "Role: user \n",
            "Text: Write a story about Mars in 50 words.\n",
            "\n",
            "-------------------------------- Message  3 ---------------------------------\n",
            "Role: assistant \n",
            "Text: Mars, the red planet, a mysterious world of possibility. Humans ventured\n",
            "forth to explore its barren landscapes, seeking answers to the universe's\n",
            "secrets. They built colonies, harnessed resources, and embraced solitude\n",
            "amidst untamed beauty. Mars became a symbol of human resilience and\n",
            "ambition—a testament to humanity's eternal quest for discovery.\n",
            "\n",
            "-------------------------------- Message  4 ---------------------------------\n",
            "Role: user \n",
            "Text: Write a story about Jupiter in 50 words.\n",
            "\n",
            "-------------------------------- Message  5 ---------------------------------\n",
            "Role: assistant \n",
            "Text: Jupiter, the mighty gas giant, dominated the solar system with its colossal\n",
            "size and swirling storms. Its presence mesmerized astronomers who marveled\n",
            "at its radiant bands of clouds and iconic Great Red Spot. Expanding human\n",
            "knowledge, Jupiter revealed a cosmic spectacle, reminding us of the\n",
            "awe-inspiring wonders that lie beyond our reach.\n",
            "\n",
            "-------------------------------- Message  6 ---------------------------------\n",
            "Role: user \n",
            "Text: Summarize the chat.\n",
            "\n",
            "-------------------------------- Message  7 ---------------------------------\n",
            "Role: assistant \n",
            "Text: In this chat, the user requested two brief stories about Mars and Jupiter.\n",
            "The stories captured the essence of these planets, highlighting their\n",
            "characteristics and significance in our exploration of the universe.\n",
            "\n"
          ]
        }
      ]
    },
    {
      "cell_type": "code",
      "source": [
        "# Method 1 (recommended): use the pipe operator \"%>%\"\n",
        "openai %>%\n",
        "  chat.history.reset()"
      ],
      "metadata": {
        "id": "c1UaW1Qoezsg"
      },
      "execution_count": 16,
      "outputs": []
    },
    {
      "cell_type": "code",
      "source": [
        "# Method 2: use the reference operator \"$\"\n",
        "openai$chat.history.reset()"
      ],
      "metadata": {
        "id": "RkmMrIEze2TA"
      },
      "execution_count": 17,
      "outputs": []
    },
    {
      "cell_type": "code",
      "source": [
        "# Method 3: use the function chat.history.reset() directly\n",
        "chat.history.reset(genai.object = openai)"
      ],
      "metadata": {
        "id": "3EnJPLFNe6hw"
      },
      "execution_count": 18,
      "outputs": []
    },
    {
      "cell_type": "code",
      "source": [
        "# Print the chat history\n",
        "openai %>%\n",
        "  chat.history.print()"
      ],
      "metadata": {
        "colab": {
          "base_uri": "https://localhost:8080/"
        },
        "id": "JHly7USUvawY",
        "outputId": "a8ed2e0b-d0d3-4466-d762-fab948b23de3"
      },
      "execution_count": 19,
      "outputs": [
        {
          "output_type": "stream",
          "name": "stdout",
          "text": [
            "-------------------------------- Message  1 ---------------------------------\n",
            "Role: system \n",
            "Text: You are a helpful assistant.\n",
            "\n"
          ]
        }
      ]
    },
    {
      "cell_type": "markdown",
      "source": [
        "# Example for Moonshot AI"
      ],
      "metadata": {
        "id": "4xAyE_SDLDMt"
      }
    },
    {
      "cell_type": "code",
      "source": [
        "# Please change YOUR_MOONSHOT_API to your own API key of Moonshot AI\n",
        "Sys.setenv(MOONSHOT_API = \"YOUR_MOONSHOT_API\")"
      ],
      "metadata": {
        "id": "F0cJNbJELGdt"
      },
      "execution_count": 20,
      "outputs": []
    },
    {
      "cell_type": "code",
      "source": [
        "# Create a Moonshot AI object\n",
        "moonshot = genai.moonshot(api = Sys.getenv(\"MOONSHOT_API\"),\n",
        "                          model = all.models$moonshot$model[1],\n",
        "                          version = all.models$moonshot$version[1],\n",
        "                          proxy = FALSE)\n",
        "\n",
        "# Generation configurations\n",
        "parameters = list(\n",
        "  max.tokens = 3000,\n",
        "  temperature = 0.7,\n",
        "  top.p = 1.0\n",
        ")"
      ],
      "metadata": {
        "id": "hm5390QBLHwF"
      },
      "execution_count": 21,
      "outputs": []
    },
    {
      "cell_type": "code",
      "source": [
        "# Start a chat session\n",
        "prompts = c(\"Write a story about Mars in 50 words.\",\n",
        "            \"Write a story about Jupiter in 50 words.\",\n",
        "            \"Summarize the chat.\")\n",
        "for (prompt in prompts) {\n",
        "  moonshot %>%\n",
        "    chat(prompt = prompt,\n",
        "         verbose = FALSE,\n",
        "         config = parameters) %>%\n",
        "    strwrap(width = 76, exdent = 0) %>%\n",
        "    paste(collapse = \"\\n\") %>%\n",
        "    cat(\"\\n\\n\\n\")\n",
        "}"
      ],
      "metadata": {
        "colab": {
          "base_uri": "https://localhost:8080/"
        },
        "id": "PPXloTUsLLKy",
        "outputId": "5466ce96-39cb-40ce-fbf3-086f4a852632"
      },
      "execution_count": 22,
      "outputs": [
        {
          "output_type": "stream",
          "name": "stdout",
          "text": [
            "In 2050, Mars became humanity's second home. Red dust swirled as settlers\n",
            "donned their gravity-defying boots, tending to their biodome gardens.\n",
            "Children played under twin suns, while scientists marveled at water traces.\n",
            "Mars, once a cold, desolate rock, now pulsed with life and hope. \n",
            "\n",
            "\n",
            "In the distant future, a team of brave explorers ventured into the heart of\n",
            "the solar system. They arrived at Jupiter, where they discovered a hidden,\n",
            "stable zone of calm within its tumultuous storms. There, they built a\n",
            "floating outpost, the \"Eye of Zeus,\" studying the gas giant's secrets.\n",
            "Astral winds powered their lab, and from this majestic vantage, they\n",
            "unraveled cosmic mysteries, forever altering humanity's understanding of\n",
            "the universe. \n",
            "\n",
            "\n",
            "You requested a brief story about Mars, which I provided, envisioning a\n",
            "future in 2050 where Mars is colonized, with a thriving human settlement.\n",
            "Then, you asked for a similar story about Jupiter, and I created a\n",
            "narrative set in the future where explorers find a stable zone in Jupiter's\n",
            "storms, build an outpost, and contribute to cosmic knowledge. \n",
            "\n",
            "\n"
          ]
        }
      ]
    },
    {
      "cell_type": "code",
      "source": [
        "# Print the chat history\n",
        "moonshot %>%\n",
        "  chat.history.print()"
      ],
      "metadata": {
        "colab": {
          "base_uri": "https://localhost:8080/"
        },
        "id": "cripJy9dLLI-",
        "outputId": "97f629bd-b5b1-4e09-bdbe-4c74a8c039ee"
      },
      "execution_count": 23,
      "outputs": [
        {
          "output_type": "stream",
          "name": "stdout",
          "text": [
            "-------------------------------- Message  1 ---------------------------------\n",
            "Role: system \n",
            "Text: You are Kimi, an Artificial Intelligence Assistant powered by Moonshot AI,\n",
            "and you are better at conversations in Chinese and English. You will\n",
            "provide users with safe, helpful and accurate answers. At the same time,\n",
            "you will reject answers to questions about terrorism, racism, pornography,\n",
            "etc. Moonshot AI is a proper noun and cannot be translated into other\n",
            "languages.\n",
            "\n",
            "-------------------------------- Message  2 ---------------------------------\n",
            "Role: user \n",
            "Text: Write a story about Mars in 50 words.\n",
            "\n",
            "-------------------------------- Message  3 ---------------------------------\n",
            "Role: assistant \n",
            "Text: In 2050, Mars became humanity's second home. Red dust swirled as settlers\n",
            "donned their gravity-defying boots, tending to their biodome gardens.\n",
            "Children played under twin suns, while scientists marveled at water traces.\n",
            "Mars, once a cold, desolate rock, now pulsed with life and hope.\n",
            "\n",
            "-------------------------------- Message  4 ---------------------------------\n",
            "Role: user \n",
            "Text: Write a story about Jupiter in 50 words.\n",
            "\n",
            "-------------------------------- Message  5 ---------------------------------\n",
            "Role: assistant \n",
            "Text: In the distant future, a team of brave explorers ventured into the heart of\n",
            "the solar system. They arrived at Jupiter, where they discovered a hidden,\n",
            "stable zone of calm within its tumultuous storms. There, they built a\n",
            "floating outpost, the \"Eye of Zeus,\" studying the gas giant's secrets.\n",
            "Astral winds powered their lab, and from this majestic vantage, they\n",
            "unraveled cosmic mysteries, forever altering humanity's understanding of\n",
            "the universe.\n",
            "\n",
            "-------------------------------- Message  6 ---------------------------------\n",
            "Role: user \n",
            "Text: Summarize the chat.\n",
            "\n",
            "-------------------------------- Message  7 ---------------------------------\n",
            "Role: assistant \n",
            "Text: You requested a brief story about Mars, which I provided, envisioning a\n",
            "future in 2050 where Mars is colonized, with a thriving human settlement.\n",
            "Then, you asked for a similar story about Jupiter, and I created a\n",
            "narrative set in the future where explorers find a stable zone in Jupiter's\n",
            "storms, build an outpost, and contribute to cosmic knowledge.\n",
            "\n"
          ]
        }
      ]
    },
    {
      "cell_type": "code",
      "source": [
        "# Method 1 (recommended): use the pipe operator \"%>%\"\n",
        "moonshot %>%\n",
        "  chat.history.reset()"
      ],
      "metadata": {
        "id": "_VvNPyBzLQP-"
      },
      "execution_count": 24,
      "outputs": []
    },
    {
      "cell_type": "code",
      "source": [
        "# Method 2: use the reference operator \"$\"\n",
        "moonshot$chat.history.reset()"
      ],
      "metadata": {
        "id": "knbLwvn8LRl3"
      },
      "execution_count": 25,
      "outputs": []
    },
    {
      "cell_type": "code",
      "source": [
        "# Method 3: use the function chat.history.reset() directly\n",
        "chat.history.reset(genai.object = moonshot)"
      ],
      "metadata": {
        "id": "9CA77wzlLSz2"
      },
      "execution_count": 26,
      "outputs": []
    },
    {
      "cell_type": "code",
      "source": [
        "# Print the chat history\n",
        "moonshot %>%\n",
        "  chat.history.print()"
      ],
      "metadata": {
        "colab": {
          "base_uri": "https://localhost:8080/"
        },
        "id": "rTTyQJdLLUU2",
        "outputId": "6d3c9c10-cf31-4772-9d09-135286ec8aa1"
      },
      "execution_count": 27,
      "outputs": [
        {
          "output_type": "stream",
          "name": "stdout",
          "text": [
            "-------------------------------- Message  1 ---------------------------------\n",
            "Role: system \n",
            "Text: You are Kimi, an Artificial Intelligence Assistant powered by Moonshot AI,\n",
            "and you are better at conversations in Chinese and English. You will\n",
            "provide users with safe, helpful and accurate answers. At the same time,\n",
            "you will reject answers to questions about terrorism, racism, pornography,\n",
            "etc. Moonshot AI is a proper noun and cannot be translated into other\n",
            "languages.\n",
            "\n"
          ]
        }
      ]
    }
  ]
}