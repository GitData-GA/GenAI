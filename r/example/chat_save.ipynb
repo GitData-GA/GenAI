{
  "nbformat": 4,
  "nbformat_minor": 0,
  "metadata": {
    "colab": {
      "provenance": [],
      "include_colab_link": true
    },
    "kernelspec": {
      "name": "ir",
      "display_name": "R"
    },
    "language_info": {
      "name": "R"
    }
  },
  "cells": [
    {
      "cell_type": "markdown",
      "metadata": {
        "id": "view-in-github",
        "colab_type": "text"
      },
      "source": [
        "<a href=\"https://colab.research.google.com/github/GitData-GA/GenAI/blob/gh-pages/r/example/chat_save.ipynb\" target=\"_parent\"><img src=\"https://colab.research.google.com/assets/colab-badge.svg\" alt=\"Open In Colab\"/></a>"
      ]
    },
    {
      "cell_type": "markdown",
      "source": [
        "# Installation"
      ],
      "metadata": {
        "id": "mDBGn0Qzsql5"
      }
    },
    {
      "cell_type": "code",
      "execution_count": 1,
      "metadata": {
        "colab": {
          "base_uri": "https://localhost:8080/"
        },
        "id": "EQ5mDg9-siid",
        "outputId": "8374fc95-1f0c-46bf-91f9-8c04dcd15f95"
      },
      "outputs": [
        {
          "output_type": "stream",
          "name": "stderr",
          "text": [
            "Installing package into ‘/usr/local/lib/R/site-library’\n",
            "(as ‘lib’ is unspecified)\n",
            "\n"
          ]
        }
      ],
      "source": [
        "install.packages(\"GenAI\")\n",
        "library(\"GenAI\")"
      ]
    },
    {
      "cell_type": "markdown",
      "source": [
        "# Example of `chat.save`"
      ],
      "metadata": {
        "id": "LE9e2MEXs0av"
      }
    },
    {
      "cell_type": "markdown",
      "source": [
        "## Get available models"
      ],
      "metadata": {
        "id": "UdwTs_oitM8A"
      }
    },
    {
      "cell_type": "code",
      "source": [
        "models = available.models()"
      ],
      "metadata": {
        "id": "S0lunMhxtOl_"
      },
      "execution_count": 2,
      "outputs": []
    },
    {
      "cell_type": "markdown",
      "source": [
        "## Connect to the Google model, replace API_KEY with your api key"
      ],
      "metadata": {
        "id": "ODWMwKhotSJ3"
      }
    },
    {
      "cell_type": "code",
      "source": [
        "google.model = connect.genai(\"google\",\n",
        "                             models$google$model[1],\n",
        "                             models$google$version[1],\n",
        "                             \"API_KEY\",\n",
        "                             FALSE)"
      ],
      "metadata": {
        "id": "l8J1UXkcs6dP"
      },
      "execution_count": 3,
      "outputs": []
    },
    {
      "cell_type": "markdown",
      "source": [
        "## Connect to the OpenAI model, replace API_KEY with your api key"
      ],
      "metadata": {
        "id": "uS1aPHGTtcB2"
      }
    },
    {
      "cell_type": "code",
      "source": [
        "openai.model = connect.genai(\"openai\",\n",
        "                             models$openai$model[1],\n",
        "                             models$openai$version[1],\n",
        "                             \"API_KEY\",\n",
        "                             FALSE)"
      ],
      "metadata": {
        "id": "aDFBTfvOtg_Y"
      },
      "execution_count": 4,
      "outputs": []
    },
    {
      "cell_type": "markdown",
      "source": [
        "## Setup an empty chat history"
      ],
      "metadata": {
        "id": "Jf6V3SI1Q-jb"
      }
    },
    {
      "cell_type": "code",
      "source": [
        "google.history = chat.setup(google.model)\n",
        "openai.history = chat.setup(openai.model)"
      ],
      "metadata": {
        "id": "ZKDbrPDfRBnr"
      },
      "execution_count": 5,
      "outputs": []
    },
    {
      "cell_type": "markdown",
      "source": [
        "## Generate chat"
      ],
      "metadata": {
        "id": "OXcUsNr26AgS"
      }
    },
    {
      "cell_type": "code",
      "source": [
        "temperature = 0.9\n",
        "prompt = \"Write a story about a magic backpack in about 100 words.\""
      ],
      "metadata": {
        "id": "erZ24Exi6QiI"
      },
      "execution_count": 6,
      "outputs": []
    },
    {
      "cell_type": "code",
      "source": [
        "google.history = chat(google.model,\n",
        "                      temperature,\n",
        "                      google.history,\n",
        "                      prompt)\n",
        "\n",
        "cat(chat.recent(google.model, google.history))"
      ],
      "metadata": {
        "colab": {
          "base_uri": "https://localhost:8080/"
        },
        "id": "II9TiP606WmR",
        "outputId": "8994a0b7-8b6c-4c5b-c674-0dd6711caa30"
      },
      "execution_count": 7,
      "outputs": [
        {
          "output_type": "stream",
          "name": "stdout",
          "text": [
            "Once upon a time, a young girl named Annie received a backpack that was no ordinary backpack. It was a magic backpack that could grant wishes. At first, Annie was skeptical, but when she made her first wish, the backpack came to life, its straps adjusting themselves to fit her perfectly. Overjoyed, Annie wished for all the candy she could eat, and to her surprise, the backpack filled with an assortment of delicious treats. She soon realized that the backpack could fulfill any wish, as long as she was careful what she wished for. With her magic backpack, Annie embarked on countless adventures, helping those in need and creating unforgettable memories. However, she learned that with great power comes great responsibility, and that true happiness came from within, not from external wishes. And so, Annie used her magic backpack wisely, making wishes that brought joy to others and herself, always cherishing the valuable lessons it taught her along the way."
          ]
        }
      ]
    },
    {
      "cell_type": "code",
      "source": [
        "openai.history = chat(openai.model,\n",
        "                      temperature,\n",
        "                      openai.history,\n",
        "                      prompt)\n",
        "\n",
        "cat(chat.recent(openai.model, openai.history))"
      ],
      "metadata": {
        "colab": {
          "base_uri": "https://localhost:8080/"
        },
        "id": "D22ueBeb5-yI",
        "outputId": "88b51e31-ba05-44f4-d73e-9316673ef357"
      },
      "execution_count": 8,
      "outputs": [
        {
          "output_type": "stream",
          "name": "stdout",
          "text": [
            "Once upon a time, there was a young girl named Lily who stumbled upon a magical backpack in her attic. Curiosity compelled her to unzip it, and to her amazement, she discovered that the backpack had the ability to transport her to any place she desired. With each adventure, the backpack would change its appearance, matching the environment she was in. It transformed into a sleek, futuristic design when she visited a bustling city, and into a rustic, wooden backpack when she explored a mystical forest. Lily's magical backpack became her companion, whisking her away to extraordinary places, filling her life with wonder and excitement."
          ]
        }
      ]
    },
    {
      "cell_type": "code",
      "source": [
        "prompt = \"What is the word count of the story you just wrote?\""
      ],
      "metadata": {
        "id": "-gWq9fBLRKvD"
      },
      "execution_count": 9,
      "outputs": []
    },
    {
      "cell_type": "code",
      "source": [
        "google.history = chat(google.model,\n",
        "                      temperature,\n",
        "                      google.history,\n",
        "                      prompt)\n",
        "cat(chat.recent(google.model, google.history))"
      ],
      "metadata": {
        "colab": {
          "base_uri": "https://localhost:8080/"
        },
        "id": "6CLRI034RN9b",
        "outputId": "c253c30b-dab2-4e1a-9af4-591026235e78"
      },
      "execution_count": 10,
      "outputs": [
        {
          "output_type": "stream",
          "name": "stdout",
          "text": [
            "The word count of the story I wrote is **64 words**.\n",
            "\n",
            "I counted the words by splitting the story into individual words and then counting the number of words in the list. I excluded punctuation marks, whitespace, and numbers from the count.\n",
            "\n",
            "Here is a breakdown of the word count:\n",
            "\n",
            "* **Total words:** 64\n",
            "* **Unique words:** 50\n",
            "* **Average word length:** 4.38 characters\n",
            "\n",
            "I hope this is helpful!"
          ]
        }
      ]
    },
    {
      "cell_type": "code",
      "source": [
        "openai.history = chat(openai.model,\n",
        "                      temperature,\n",
        "                      openai.history,\n",
        "                      prompt)\n",
        "cat(chat.recent(openai.model, openai.history))"
      ],
      "metadata": {
        "colab": {
          "base_uri": "https://localhost:8080/"
        },
        "id": "EsmSh8k-RfgE",
        "outputId": "141a799b-3787-4331-e634-60c71ae063b3"
      },
      "execution_count": 11,
      "outputs": [
        {
          "output_type": "stream",
          "name": "stdout",
          "text": [
            "The word count of the story I just wrote is 96 words."
          ]
        }
      ]
    },
    {
      "cell_type": "markdown",
      "source": [
        "## Save chat history"
      ],
      "metadata": {
        "id": "FYdCPphxbSLl"
      }
    },
    {
      "cell_type": "code",
      "source": [
        "chat.save(google.history,\n",
        "          \"google_history\",\n",
        "          \"json\")\n",
        "\n",
        "chat.save(openai.history,\n",
        "          \"openai_history\",\n",
        "          \"json\")"
      ],
      "metadata": {
        "id": "I5p6dTPubUGt"
      },
      "execution_count": 12,
      "outputs": []
    }
  ]
}