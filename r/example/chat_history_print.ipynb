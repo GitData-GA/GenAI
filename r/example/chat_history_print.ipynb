{
  "nbformat": 4,
  "nbformat_minor": 0,
  "metadata": {
    "colab": {
      "provenance": [],
      "include_colab_link": true
    },
    "kernelspec": {
      "name": "ir",
      "display_name": "R"
    },
    "language_info": {
      "name": "R"
    }
  },
  "cells": [
    {
      "cell_type": "markdown",
      "metadata": {
        "id": "view-in-github",
        "colab_type": "text"
      },
      "source": [
        "<a href=\"https://colab.research.google.com/github/GitData-GA/GenAI/blob/gh-pages/r/example/chat_history_print.ipynb\" target=\"_parent\"><img src=\"https://colab.research.google.com/assets/colab-badge.svg\" alt=\"Open In Colab\"/></a>"
      ]
    },
    {
      "cell_type": "markdown",
      "source": [
        "# Installation & Setup\n"
      ],
      "metadata": {
        "id": "mDBGn0Qzsql5"
      }
    },
    {
      "cell_type": "code",
      "source": [
        "# The following commands are for Colab only\n",
        "system('add-apt-repository -y ppa:cran/imagemagick')\n",
        "system('apt-get update')\n",
        "system(\"apt-get install libmagick++-dev\")"
      ],
      "metadata": {
        "id": "vOn2PTjeC3xb"
      },
      "execution_count": 1,
      "outputs": []
    },
    {
      "cell_type": "code",
      "execution_count": 2,
      "metadata": {
        "colab": {
          "base_uri": "https://localhost:8080/"
        },
        "id": "EQ5mDg9-siid",
        "outputId": "864cb8de-7611-4251-c6e7-1a7aed52bbe5"
      },
      "outputs": [
        {
          "output_type": "stream",
          "name": "stderr",
          "text": [
            "Installing package into ‘/usr/local/lib/R/site-library’\n",
            "(as ‘lib’ is unspecified)\n",
            "\n",
            "also installing the dependencies ‘Rcpp’, ‘gridGraphics’, ‘yulab.utils’, ‘listenv’, ‘magick’, ‘ggplotify’\n",
            "\n",
            "\n",
            "Loading required package: magrittr\n",
            "\n"
          ]
        }
      ],
      "source": [
        "# Install the library (usually 1 - 3 minutes in Colab)\n",
        "install.packages(\"GenAI\")\n",
        "library(\"GenAI\")"
      ]
    },
    {
      "cell_type": "markdown",
      "source": [
        "# Get Available Models"
      ],
      "metadata": {
        "id": "UdwTs_oitM8A"
      }
    },
    {
      "cell_type": "code",
      "source": [
        "all.models = available.models() %>% print()"
      ],
      "metadata": {
        "id": "S0lunMhxtOl_",
        "colab": {
          "base_uri": "https://localhost:8080/"
        },
        "outputId": "fe04499e-34c6-40ff-e3c5-a4ba2dc03c54"
      },
      "execution_count": 3,
      "outputs": [
        {
          "output_type": "stream",
          "name": "stdout",
          "text": [
            "$google\n",
            "$google$version\n",
            "[1] \"v1\"     \"v1beta\"\n",
            "\n",
            "$google$model\n",
            "[1] \"gemini-pro\"                   \"gemini-pro-vision\"           \n",
            "[3] \"gemini-1.0-pro\"               \"gemini-1.0-pro-001\"          \n",
            "[5] \"gemini-1.0-pro-latest\"        \"gemini-1.0-pro-vision-latest\"\n",
            "\n",
            "\n",
            "$openai\n",
            "$openai$version\n",
            "[1] \"v1\"\n",
            "\n",
            "$openai$model\n",
            "[1] \"gpt-3.5-turbo\"        \"gpt-3.5-turbo-1106\"   \"gpt-3.5-turbo-16k\"   \n",
            "[4] \"gpt-4\"                \"gpt-4-1106-preview\"   \"gpt-4-32k\"           \n",
            "[7] \"gpt-4-vision-preview\" \"dall-e-2\"             \"dall-e-3\"            \n",
            "\n",
            "\n",
            "$moonshot\n",
            "$moonshot$version\n",
            "[1] \"v1\"\n",
            "\n",
            "$moonshot$model\n",
            "[1] \"moonshot-v1-8k\"   \"moonshot-v1-32k\"  \"moonshot-v1-128k\"\n",
            "\n",
            "\n"
          ]
        }
      ]
    },
    {
      "cell_type": "markdown",
      "source": [
        "# Example for Google Generative AI"
      ],
      "metadata": {
        "id": "-UQDLvx8C6WS"
      }
    },
    {
      "cell_type": "code",
      "source": [
        "# Please change YOUR_GOOGLE_API to your own API key of Google Generative AI\n",
        "Sys.setenv(GOOGLE_API = \"YOUR_GOOGLE_API\")"
      ],
      "metadata": {
        "id": "sQTVbYJYm-ar"
      },
      "execution_count": 4,
      "outputs": []
    },
    {
      "cell_type": "code",
      "source": [
        "# Create a Google Generative AI object\n",
        "google = genai.google(api = Sys.getenv(\"GOOGLE_API\"),\n",
        "                      model = all.models$google$model[1],\n",
        "                      version = all.models$google$version[1],\n",
        "                      proxy = FALSE)\n",
        "\n",
        "# Generation configurations\n",
        "parameters = list(\n",
        "  harm.category.dangerous.content = 5,\n",
        "  harm.category.harassment = 5,\n",
        "  max.output.tokens = 4096,\n",
        "  temperature = 0.9\n",
        ")"
      ],
      "metadata": {
        "id": "qtM6orwIC564"
      },
      "execution_count": 5,
      "outputs": []
    },
    {
      "cell_type": "code",
      "source": [
        "# Start a chat session\n",
        "prompts = c(\"Write a story about Mars in 50 words.\",\n",
        "            \"Write a story about Jupiter in 50 words.\",\n",
        "            \"Summarize the chat.\")\n",
        "for (prompt in prompts) {\n",
        "  google %>%\n",
        "    chat(prompt = prompt,\n",
        "         verbose = FALSE,\n",
        "         config = parameters) %>%\n",
        "    strwrap(width = 76, exdent = 0) %>%\n",
        "    paste(collapse = \"\\n\") %>%\n",
        "    cat(\"\\n\\n\\n\")\n",
        "}"
      ],
      "metadata": {
        "colab": {
          "base_uri": "https://localhost:8080/"
        },
        "id": "z3j_BQupDAL4",
        "outputId": "d8527a1b-33f1-4d4d-c437-eb53d3293e59"
      },
      "execution_count": 6,
      "outputs": [
        {
          "output_type": "stream",
          "name": "stdout",
          "text": [
            "In the celestial tapestry, where crimson hues danced, there lay a realm of\n",
            "ancient dreams and enigmatic whispers—Mars, the enigmatic Red Planet.\n",
            "\n",
            "Its parched landscape whispered tales of a forgotten ocean, its canyons\n",
            "carved by eons of relentless winds. Beneath its rusty blanket lay a\n",
            "subterranean world, hosting hidden caves where life once glimmered.\n",
            "\n",
            "As the cosmic gaze fell upon its surface, a lone rover named Curiosity\n",
            "embarked on an unwavering journey. Its six tireless wheels traced intricate\n",
            "patterns in the Martian soil, each rotation unlocking secrets long buried.\n",
            "\n",
            "Through the rover's emerald eyes, we witnessed a symphony of desolation and\n",
            "wonder. Dunes rippled like ancient hieroglyphs, whispering secrets from a\n",
            "primeval past. Frozen lakes, once filled with vibrant life, now lay\n",
            "dormant, their surfaces etched with the passage of time.\n",
            "\n",
            "Beneath Curiosity's watchful lens, the planet transformed. Windstorms\n",
            "painted celestial brushstrokes across the red expanse, while sunsets blazed\n",
            "with other-wordly hues. The air, thin and unforgiving, carried the faintest\n",
            "echoes of a forgotten world.\n",
            "\n",
            "Yet, amidst this cosmic isolation, Curiosity detected a whisper of\n",
            "possibility. In a sheltered crevice, it stumbled upon ancient microbial\n",
            "fossils, remnants of life that once thrived on Mars. The Red Planet, once a\n",
            "barren canvas, suddenly became a hope-filled tapestry.\n",
            "\n",
            "As the sun dipped below the Martian horizon, casting long shadows across\n",
            "the desolate landscape, Curiosity continued its tireless exploration. Its\n",
            "mission, fueled by human ingenuity and an insatiable thirst for knowledge,\n",
            "remained unwavering.\n",
            "\n",
            "For in the enigmatic silence of Mars, Curiosity whispered the promise of\n",
            "ancient life and the tantalizing allure of a future yet unknown. \n",
            "\n",
            "\n",
            "Amidst the celestial tapestry, Jupiter, the colossus of planets, reigns\n",
            "supreme. Its swirling atmosphere, adorned with vibrant bands and swirling\n",
            "storms, dances to the rhythm of its rapid rotation.\n",
            "\n",
            "Beneath its gaseous veil lies a tempestuous heart, where lightning bolts\n",
            "crackle and thunder roars with deafening intensity. Its magnetic field, the\n",
            "strongest in the solar system, carves a majestic bow shock that stretches\n",
            "for millions of miles.\n",
            "\n",
            "Jupiter's celestial entourage is equally awe-inspiring. Its four largest\n",
            "moons, Io, Europa, Ganymede, and Callisto, each possess unique and\n",
            "captivating features. Io, a volcanic inferno, spews lava fountains into the\n",
            "darkness. Europa, hidden beneath a miles-thick icy crust, harbors a vast\n",
            "subsurface ocean that may hold the secrets of life. Ganymede, the largest\n",
            "moon in the solar system, boasts a magnetic field and a thin atmosphere,\n",
            "hinting at a complex geological history. Callisto, the most cratered object\n",
            "in the solar system, bears witness to a violent past.\n",
            "\n",
            "As we gaze upon Jupiter's grandeur, we are reminded of the boundless\n",
            "wonders that the universe holds. Its swirling storms, its enigmatic moons,\n",
            "and its sheer size inspire both awe and humility. Jupiter stands as a\n",
            "testament to the incredible diversity and complexity that exists within our\n",
            "cosmic neighborhood. \n",
            "\n",
            "\n",
            "**Summary of Chat:**\n",
            "\n",
            "**Topic:** Exploring the wonders of Mars and Jupiter\n",
            "\n",
            "**Key Points:**\n",
            "\n",
            "* Mars, the Red Planet, is a fascinating world with a rich geological\n",
            "history and the potential for past or present life. * Curiosity rover has\n",
            "uncovered evidence of ancient microbial fossils, suggesting that Mars may\n",
            "have once been habitable. * Jupiter is a gas giant with a swirling\n",
            "atmosphere, a powerful magnetic field, and a retinue of fascinating moons.\n",
            "* Jupiter's moons, including Europa and Ganymede, are potential targets for\n",
            "future exploration missions due to their potential for harboring life.\n",
            "\n",
            "**Overall:**\n",
            "\n",
            "The chat explored the captivating features and scientific importance of\n",
            "Mars and Jupiter, highlighting their unique characteristics and the\n",
            "potential for future discoveries. \n",
            "\n",
            "\n"
          ]
        }
      ]
    },
    {
      "cell_type": "code",
      "source": [
        "# Method 1 (recommended): use the pipe operator \"%>%\"\n",
        "google %>%\n",
        "  chat.history.print()"
      ],
      "metadata": {
        "colab": {
          "base_uri": "https://localhost:8080/"
        },
        "id": "JQdIBu_1EAKJ",
        "outputId": "35a6c5fc-4cf7-42fe-fdf0-a953508b1d10"
      },
      "execution_count": 7,
      "outputs": [
        {
          "output_type": "stream",
          "name": "stdout",
          "text": [
            "-------------------------------- Message  1 ---------------------------------\n",
            "Role: user \n",
            "Text: Write a story about Mars in 50 words.\n",
            "\n",
            "-------------------------------- Message  2 ---------------------------------\n",
            "Role: model \n",
            "Text: In the celestial tapestry, where crimson hues danced, there lay a realm of\n",
            "ancient dreams and enigmatic whispers—Mars, the enigmatic Red Planet.\n",
            "\n",
            "Its parched landscape whispered tales of a forgotten ocean, its canyons\n",
            "carved by eons of relentless winds. Beneath its rusty blanket lay a\n",
            "subterranean world, hosting hidden caves where life once glimmered.\n",
            "\n",
            "As the cosmic gaze fell upon its surface, a lone rover named Curiosity\n",
            "embarked on an unwavering journey. Its six tireless wheels traced intricate\n",
            "patterns in the Martian soil, each rotation unlocking secrets long buried.\n",
            "\n",
            "Through the rover's emerald eyes, we witnessed a symphony of desolation and\n",
            "wonder. Dunes rippled like ancient hieroglyphs, whispering secrets from a\n",
            "primeval past. Frozen lakes, once filled with vibrant life, now lay\n",
            "dormant, their surfaces etched with the passage of time.\n",
            "\n",
            "Beneath Curiosity's watchful lens, the planet transformed. Windstorms\n",
            "painted celestial brushstrokes across the red expanse, while sunsets blazed\n",
            "with other-wordly hues. The air, thin and unforgiving, carried the faintest\n",
            "echoes of a forgotten world.\n",
            "\n",
            "Yet, amidst this cosmic isolation, Curiosity detected a whisper of\n",
            "possibility. In a sheltered crevice, it stumbled upon ancient microbial\n",
            "fossils, remnants of life that once thrived on Mars. The Red Planet, once a\n",
            "barren canvas, suddenly became a hope-filled tapestry.\n",
            "\n",
            "As the sun dipped below the Martian horizon, casting long shadows across\n",
            "the desolate landscape, Curiosity continued its tireless exploration. Its\n",
            "mission, fueled by human ingenuity and an insatiable thirst for knowledge,\n",
            "remained unwavering.\n",
            "\n",
            "For in the enigmatic silence of Mars, Curiosity whispered the promise of\n",
            "ancient life and the tantalizing allure of a future yet unknown.\n",
            "\n",
            "-------------------------------- Message  3 ---------------------------------\n",
            "Role: user \n",
            "Text: Write a story about Jupiter in 50 words.\n",
            "\n",
            "-------------------------------- Message  4 ---------------------------------\n",
            "Role: model \n",
            "Text: Amidst the celestial tapestry, Jupiter, the colossus of planets, reigns\n",
            "supreme. Its swirling atmosphere, adorned with vibrant bands and swirling\n",
            "storms, dances to the rhythm of its rapid rotation.\n",
            "\n",
            "Beneath its gaseous veil lies a tempestuous heart, where lightning bolts\n",
            "crackle and thunder roars with deafening intensity. Its magnetic field, the\n",
            "strongest in the solar system, carves a majestic bow shock that stretches\n",
            "for millions of miles.\n",
            "\n",
            "Jupiter's celestial entourage is equally awe-inspiring. Its four largest\n",
            "moons, Io, Europa, Ganymede, and Callisto, each possess unique and\n",
            "captivating features. Io, a volcanic inferno, spews lava fountains into the\n",
            "darkness. Europa, hidden beneath a miles-thick icy crust, harbors a vast\n",
            "subsurface ocean that may hold the secrets of life. Ganymede, the largest\n",
            "moon in the solar system, boasts a magnetic field and a thin atmosphere,\n",
            "hinting at a complex geological history. Callisto, the most cratered object\n",
            "in the solar system, bears witness to a violent past.\n",
            "\n",
            "As we gaze upon Jupiter's grandeur, we are reminded of the boundless\n",
            "wonders that the universe holds. Its swirling storms, its enigmatic moons,\n",
            "and its sheer size inspire both awe and humility. Jupiter stands as a\n",
            "testament to the incredible diversity and complexity that exists within our\n",
            "cosmic neighborhood.\n",
            "\n",
            "-------------------------------- Message  5 ---------------------------------\n",
            "Role: user \n",
            "Text: Summarize the chat.\n",
            "\n",
            "-------------------------------- Message  6 ---------------------------------\n",
            "Role: model \n",
            "Text: **Summary of Chat:**\n",
            "\n",
            "**Topic:** Exploring the wonders of Mars and Jupiter\n",
            "\n",
            "**Key Points:**\n",
            "\n",
            "* Mars, the Red Planet, is a fascinating world with a rich geological\n",
            "history and the potential for past or present life. * Curiosity rover has\n",
            "uncovered evidence of ancient microbial fossils, suggesting that Mars may\n",
            "have once been habitable. * Jupiter is a gas giant with a swirling\n",
            "atmosphere, a powerful magnetic field, and a retinue of fascinating moons.\n",
            "* Jupiter's moons, including Europa and Ganymede, are potential targets for\n",
            "future exploration missions due to their potential for harboring life.\n",
            "\n",
            "**Overall:**\n",
            "\n",
            "The chat explored the captivating features and scientific importance of\n",
            "Mars and Jupiter, highlighting their unique characteristics and the\n",
            "potential for future discoveries.\n",
            "\n"
          ]
        }
      ]
    },
    {
      "cell_type": "code",
      "source": [
        "# Method 2: use the reference operator \"$\"\n",
        "google$chat.history.print(from = 3)"
      ],
      "metadata": {
        "colab": {
          "base_uri": "https://localhost:8080/"
        },
        "id": "jplOhCPmEZAC",
        "outputId": "d7d99141-469c-4250-c9d9-9fb57acfcd73"
      },
      "execution_count": 8,
      "outputs": [
        {
          "output_type": "stream",
          "name": "stdout",
          "text": [
            "-------------------------------- Message  3 ---------------------------------\n",
            "Role: user \n",
            "Text: Write a story about Jupiter in 50 words.\n",
            "\n",
            "-------------------------------- Message  4 ---------------------------------\n",
            "Role: model \n",
            "Text: Amidst the celestial tapestry, Jupiter, the colossus of planets, reigns\n",
            "supreme. Its swirling atmosphere, adorned with vibrant bands and swirling\n",
            "storms, dances to the rhythm of its rapid rotation.\n",
            "\n",
            "Beneath its gaseous veil lies a tempestuous heart, where lightning bolts\n",
            "crackle and thunder roars with deafening intensity. Its magnetic field, the\n",
            "strongest in the solar system, carves a majestic bow shock that stretches\n",
            "for millions of miles.\n",
            "\n",
            "Jupiter's celestial entourage is equally awe-inspiring. Its four largest\n",
            "moons, Io, Europa, Ganymede, and Callisto, each possess unique and\n",
            "captivating features. Io, a volcanic inferno, spews lava fountains into the\n",
            "darkness. Europa, hidden beneath a miles-thick icy crust, harbors a vast\n",
            "subsurface ocean that may hold the secrets of life. Ganymede, the largest\n",
            "moon in the solar system, boasts a magnetic field and a thin atmosphere,\n",
            "hinting at a complex geological history. Callisto, the most cratered object\n",
            "in the solar system, bears witness to a violent past.\n",
            "\n",
            "As we gaze upon Jupiter's grandeur, we are reminded of the boundless\n",
            "wonders that the universe holds. Its swirling storms, its enigmatic moons,\n",
            "and its sheer size inspire both awe and humility. Jupiter stands as a\n",
            "testament to the incredible diversity and complexity that exists within our\n",
            "cosmic neighborhood.\n",
            "\n",
            "-------------------------------- Message  5 ---------------------------------\n",
            "Role: user \n",
            "Text: Summarize the chat.\n",
            "\n",
            "-------------------------------- Message  6 ---------------------------------\n",
            "Role: model \n",
            "Text: **Summary of Chat:**\n",
            "\n",
            "**Topic:** Exploring the wonders of Mars and Jupiter\n",
            "\n",
            "**Key Points:**\n",
            "\n",
            "* Mars, the Red Planet, is a fascinating world with a rich geological\n",
            "history and the potential for past or present life. * Curiosity rover has\n",
            "uncovered evidence of ancient microbial fossils, suggesting that Mars may\n",
            "have once been habitable. * Jupiter is a gas giant with a swirling\n",
            "atmosphere, a powerful magnetic field, and a retinue of fascinating moons.\n",
            "* Jupiter's moons, including Europa and Ganymede, are potential targets for\n",
            "future exploration missions due to their potential for harboring life.\n",
            "\n",
            "**Overall:**\n",
            "\n",
            "The chat explored the captivating features and scientific importance of\n",
            "Mars and Jupiter, highlighting their unique characteristics and the\n",
            "potential for future discoveries.\n",
            "\n"
          ]
        }
      ]
    },
    {
      "cell_type": "code",
      "source": [
        "# Method 3: use the function chat.history.print() directly\n",
        "chat.history.print(genai.object = google,\n",
        "                   from = 3,\n",
        "                   to = 5)"
      ],
      "metadata": {
        "colab": {
          "base_uri": "https://localhost:8080/"
        },
        "id": "u3AxOsh3Ep84",
        "outputId": "475e906a-0899-4870-fd98-6e00d8993f55"
      },
      "execution_count": 9,
      "outputs": [
        {
          "output_type": "stream",
          "name": "stdout",
          "text": [
            "-------------------------------- Message  3 ---------------------------------\n",
            "Role: user \n",
            "Text: Write a story about Jupiter in 50 words.\n",
            "\n",
            "-------------------------------- Message  4 ---------------------------------\n",
            "Role: model \n",
            "Text: Amidst the celestial tapestry, Jupiter, the colossus of planets, reigns\n",
            "supreme. Its swirling atmosphere, adorned with vibrant bands and swirling\n",
            "storms, dances to the rhythm of its rapid rotation.\n",
            "\n",
            "Beneath its gaseous veil lies a tempestuous heart, where lightning bolts\n",
            "crackle and thunder roars with deafening intensity. Its magnetic field, the\n",
            "strongest in the solar system, carves a majestic bow shock that stretches\n",
            "for millions of miles.\n",
            "\n",
            "Jupiter's celestial entourage is equally awe-inspiring. Its four largest\n",
            "moons, Io, Europa, Ganymede, and Callisto, each possess unique and\n",
            "captivating features. Io, a volcanic inferno, spews lava fountains into the\n",
            "darkness. Europa, hidden beneath a miles-thick icy crust, harbors a vast\n",
            "subsurface ocean that may hold the secrets of life. Ganymede, the largest\n",
            "moon in the solar system, boasts a magnetic field and a thin atmosphere,\n",
            "hinting at a complex geological history. Callisto, the most cratered object\n",
            "in the solar system, bears witness to a violent past.\n",
            "\n",
            "As we gaze upon Jupiter's grandeur, we are reminded of the boundless\n",
            "wonders that the universe holds. Its swirling storms, its enigmatic moons,\n",
            "and its sheer size inspire both awe and humility. Jupiter stands as a\n",
            "testament to the incredible diversity and complexity that exists within our\n",
            "cosmic neighborhood.\n",
            "\n",
            "-------------------------------- Message  5 ---------------------------------\n",
            "Role: user \n",
            "Text: Summarize the chat.\n",
            "\n"
          ]
        }
      ]
    },
    {
      "cell_type": "markdown",
      "source": [
        "# Example for OpenAI"
      ],
      "metadata": {
        "id": "UohYplX0ek4B"
      }
    },
    {
      "cell_type": "code",
      "source": [
        "# Please change YOUR_OPENAI_API to your own API key of OpenAI\n",
        "Sys.setenv(OPENAI_API = \"YOUR_OPENAI_API\")\n",
        "\n",
        "# Please change YOUR_OPENAI_ORG to your own organization ID for OpenAI\n",
        "Sys.setenv(OPENAI_ORG = \"YOUR_OPENAI_ORG\")"
      ],
      "metadata": {
        "id": "A7cw82tUnFBW"
      },
      "execution_count": 10,
      "outputs": []
    },
    {
      "cell_type": "code",
      "source": [
        "# Create an OpenAI object\n",
        "openai = genai.openai(api = Sys.getenv(\"OPENAI_API\"),\n",
        "                      model = all.models$openai$model[1],\n",
        "                      version = all.models$openai$version[1],\n",
        "                      proxy = FALSE,\n",
        "                      organization.id = Sys.getenv(\"OPENAI_ORG\"))\n",
        "\n",
        "# Generation configurations\n",
        "parameters = list(\n",
        "  frequency.penalty = 1,\n",
        "  logprobs = FALSE,\n",
        "  max.tokens = 3000,\n",
        "  temperature = 0.9\n",
        ")"
      ],
      "metadata": {
        "id": "VlQSbNWuelqB"
      },
      "execution_count": 11,
      "outputs": []
    },
    {
      "cell_type": "code",
      "source": [
        "# Start a chat session\n",
        "prompts = c(\"Write a story about Mars in 50 words.\",\n",
        "            \"Write a story about Jupiter in 50 words.\",\n",
        "            \"Summarize the chat.\")\n",
        "for (prompt in prompts) {\n",
        "  openai %>%\n",
        "    chat(prompt = prompt,\n",
        "         verbose = FALSE,\n",
        "         config = parameters) %>%\n",
        "    strwrap(width = 76, exdent = 0) %>%\n",
        "    paste(collapse = \"\\n\") %>%\n",
        "    cat(\"\\n\\n\\n\")\n",
        "}"
      ],
      "metadata": {
        "colab": {
          "base_uri": "https://localhost:8080/"
        },
        "id": "7xhNMQYJeuNY",
        "outputId": "73b8f727-ad42-4e7a-c6bd-93e80fb73f03"
      },
      "execution_count": 12,
      "outputs": [
        {
          "output_type": "stream",
          "name": "stdout",
          "text": [
            "On Mars, a red planet filled with mystery, a brave explorer named Alex set\n",
            "foot. The alien landscape fascinated and frightened them simultaneously. As\n",
            "they ventured deeper into the unknown, they discovered ancient ruins and\n",
            "fossils that hinted at life long gone. Mars held secrets waiting to be\n",
            "unveiled. \n",
            "\n",
            "\n",
            "In the vastness of space, Jupiter stood as a majestic giant. Its swirling\n",
            "storms fascinated astronomers for centuries. One day, a team of explorers\n",
            "embarked on a journey to unravel its mysteries. They beheld breathtaking\n",
            "auroras and witnessed colossal storms raging across its surface. Jupiter's\n",
            "beauty and power left them in awe. \n",
            "\n",
            "\n",
            "The user requested two stories, one about Mars and another about Jupiter,\n",
            "each in 50 words. The story about Mars depicted a brave explorer\n",
            "discovering ancient ruins and fossils on the mysterious red planet. The\n",
            "story about Jupiter highlighted its grandeur and stormy beauty observed by\n",
            "a team of explorers. \n",
            "\n",
            "\n"
          ]
        }
      ]
    },
    {
      "cell_type": "code",
      "source": [
        "# Method 1 (recommended): use the pipe operator \"%>%\"\n",
        "openai %>%\n",
        "  chat.history.print()"
      ],
      "metadata": {
        "colab": {
          "base_uri": "https://localhost:8080/"
        },
        "id": "c1UaW1Qoezsg",
        "outputId": "85d82b30-ad03-48fa-d7fa-b0f40829f32c"
      },
      "execution_count": 13,
      "outputs": [
        {
          "output_type": "stream",
          "name": "stdout",
          "text": [
            "-------------------------------- Message  1 ---------------------------------\n",
            "Role: system \n",
            "Text: You are a helpful assistant.\n",
            "\n",
            "-------------------------------- Message  2 ---------------------------------\n",
            "Role: user \n",
            "Text: Write a story about Mars in 50 words.\n",
            "\n",
            "-------------------------------- Message  3 ---------------------------------\n",
            "Role: assistant \n",
            "Text: On Mars, a red planet filled with mystery, a brave explorer named Alex set\n",
            "foot. The alien landscape fascinated and frightened them simultaneously. As\n",
            "they ventured deeper into the unknown, they discovered ancient ruins and\n",
            "fossils that hinted at life long gone. Mars held secrets waiting to be\n",
            "unveiled.\n",
            "\n",
            "-------------------------------- Message  4 ---------------------------------\n",
            "Role: user \n",
            "Text: Write a story about Jupiter in 50 words.\n",
            "\n",
            "-------------------------------- Message  5 ---------------------------------\n",
            "Role: assistant \n",
            "Text: In the vastness of space, Jupiter stood as a majestic giant. Its swirling\n",
            "storms fascinated astronomers for centuries. One day, a team of explorers\n",
            "embarked on a journey to unravel its mysteries. They beheld breathtaking\n",
            "auroras and witnessed colossal storms raging across its surface. Jupiter's\n",
            "beauty and power left them in awe.\n",
            "\n",
            "-------------------------------- Message  6 ---------------------------------\n",
            "Role: user \n",
            "Text: Summarize the chat.\n",
            "\n",
            "-------------------------------- Message  7 ---------------------------------\n",
            "Role: assistant \n",
            "Text: The user requested two stories, one about Mars and another about Jupiter,\n",
            "each in 50 words. The story about Mars depicted a brave explorer\n",
            "discovering ancient ruins and fossils on the mysterious red planet. The\n",
            "story about Jupiter highlighted its grandeur and stormy beauty observed by\n",
            "a team of explorers.\n",
            "\n"
          ]
        }
      ]
    },
    {
      "cell_type": "code",
      "source": [
        "# Method 2: use the reference operator \"$\"\n",
        "openai$chat.history.print(from = 3)"
      ],
      "metadata": {
        "colab": {
          "base_uri": "https://localhost:8080/"
        },
        "id": "RkmMrIEze2TA",
        "outputId": "9b38ad26-f43f-4f2d-d463-4fb20023f634"
      },
      "execution_count": 14,
      "outputs": [
        {
          "output_type": "stream",
          "name": "stdout",
          "text": [
            "-------------------------------- Message  3 ---------------------------------\n",
            "Role: assistant \n",
            "Text: On Mars, a red planet filled with mystery, a brave explorer named Alex set\n",
            "foot. The alien landscape fascinated and frightened them simultaneously. As\n",
            "they ventured deeper into the unknown, they discovered ancient ruins and\n",
            "fossils that hinted at life long gone. Mars held secrets waiting to be\n",
            "unveiled.\n",
            "\n",
            "-------------------------------- Message  4 ---------------------------------\n",
            "Role: user \n",
            "Text: Write a story about Jupiter in 50 words.\n",
            "\n",
            "-------------------------------- Message  5 ---------------------------------\n",
            "Role: assistant \n",
            "Text: In the vastness of space, Jupiter stood as a majestic giant. Its swirling\n",
            "storms fascinated astronomers for centuries. One day, a team of explorers\n",
            "embarked on a journey to unravel its mysteries. They beheld breathtaking\n",
            "auroras and witnessed colossal storms raging across its surface. Jupiter's\n",
            "beauty and power left them in awe.\n",
            "\n",
            "-------------------------------- Message  6 ---------------------------------\n",
            "Role: user \n",
            "Text: Summarize the chat.\n",
            "\n",
            "-------------------------------- Message  7 ---------------------------------\n",
            "Role: assistant \n",
            "Text: The user requested two stories, one about Mars and another about Jupiter,\n",
            "each in 50 words. The story about Mars depicted a brave explorer\n",
            "discovering ancient ruins and fossils on the mysterious red planet. The\n",
            "story about Jupiter highlighted its grandeur and stormy beauty observed by\n",
            "a team of explorers.\n",
            "\n"
          ]
        }
      ]
    },
    {
      "cell_type": "code",
      "source": [
        "# Method 3: use the function chat.history.print() directly\n",
        "chat.history.print(genai.object = openai,\n",
        "                   from = 3,\n",
        "                   to = 5)"
      ],
      "metadata": {
        "colab": {
          "base_uri": "https://localhost:8080/"
        },
        "id": "3EnJPLFNe6hw",
        "outputId": "382acb75-56ff-4a58-91e3-56bccd3db2cf"
      },
      "execution_count": 15,
      "outputs": [
        {
          "output_type": "stream",
          "name": "stdout",
          "text": [
            "-------------------------------- Message  3 ---------------------------------\n",
            "Role: assistant \n",
            "Text: On Mars, a red planet filled with mystery, a brave explorer named Alex set\n",
            "foot. The alien landscape fascinated and frightened them simultaneously. As\n",
            "they ventured deeper into the unknown, they discovered ancient ruins and\n",
            "fossils that hinted at life long gone. Mars held secrets waiting to be\n",
            "unveiled.\n",
            "\n",
            "-------------------------------- Message  4 ---------------------------------\n",
            "Role: user \n",
            "Text: Write a story about Jupiter in 50 words.\n",
            "\n",
            "-------------------------------- Message  5 ---------------------------------\n",
            "Role: assistant \n",
            "Text: In the vastness of space, Jupiter stood as a majestic giant. Its swirling\n",
            "storms fascinated astronomers for centuries. One day, a team of explorers\n",
            "embarked on a journey to unravel its mysteries. They beheld breathtaking\n",
            "auroras and witnessed colossal storms raging across its surface. Jupiter's\n",
            "beauty and power left them in awe.\n",
            "\n"
          ]
        }
      ]
    },
    {
      "cell_type": "markdown",
      "source": [
        "# Example for Moonshot AI"
      ],
      "metadata": {
        "id": "_OhSuNdhDHt7"
      }
    },
    {
      "cell_type": "code",
      "source": [
        "# Please change YOUR_MOONSHOT_API to your own API key of Moonshot AI\n",
        "Sys.setenv(MOONSHOT_API = \"YOUR_MOONSHOT_API\")"
      ],
      "metadata": {
        "id": "PzS9dksgDG-0"
      },
      "execution_count": 16,
      "outputs": []
    },
    {
      "cell_type": "code",
      "source": [
        "# Create a Moonshot AI object\n",
        "moonshot = genai.moonshot(api = Sys.getenv(\"MOONSHOT_API\"),\n",
        "                          model = all.models$moonshot$model[1],\n",
        "                          version = all.models$moonshot$version[1],\n",
        "                          proxy = FALSE)\n",
        "\n",
        "# Generation configurations\n",
        "parameters = list(\n",
        "  max.tokens = 3000,\n",
        "  temperature = 0.7,\n",
        "  top.p = 1.0\n",
        ")"
      ],
      "metadata": {
        "id": "3sdYajM2DJ3i"
      },
      "execution_count": 17,
      "outputs": []
    },
    {
      "cell_type": "code",
      "source": [
        "# Start a chat session\n",
        "prompts = c(\"Write a story about Mars in 50 words.\",\n",
        "            \"Write a story about Jupiter in 50 words.\",\n",
        "            \"Summarize the chat.\")\n",
        "for (prompt in prompts) {\n",
        "  moonshot %>%\n",
        "    chat(prompt = prompt,\n",
        "         verbose = FALSE,\n",
        "         config = parameters) %>%\n",
        "    strwrap(width = 76, exdent = 0) %>%\n",
        "    paste(collapse = \"\\n\") %>%\n",
        "    cat(\"\\n\\n\\n\")\n",
        "}"
      ],
      "metadata": {
        "colab": {
          "base_uri": "https://localhost:8080/"
        },
        "id": "Nf0oWJLlDLME",
        "outputId": "074e5801-2788-4b40-9074-406a604ca08f"
      },
      "execution_count": 18,
      "outputs": [
        {
          "output_type": "stream",
          "name": "stdout",
          "text": [
            "In 2050, Mars was bustling with life. The Red Planet's first colony, New\n",
            "Ares, thrived under its domed skies. Astronauts turned farmers cultivated\n",
            "hydroponic gardens, while scientists discovered ancient ice beneath the\n",
            "rust-red soil. Children born on Mars marveled at Earth's blue skies through\n",
            "telescopic lenses, dreaming of the day they could visit their ancestral\n",
            "home. \n",
            "\n",
            "\n",
            "In the year 2150, humans established a floating observatory, the Jovian\n",
            "Explorer, in Jupiter's atmosphere. Astronomer Dr. Lyra, a pioneer of gas\n",
            "giant research, discovered a hidden energy source within the Great Red\n",
            "Spot. This revelation fueled a new space age, as the energy, harnessed\n",
            "through advanced technology, powered Earth's cities. The solar system's\n",
            "balance shifted, and Jupiter became humanity's beacon of hope for a\n",
            "sustainable future. \n",
            "\n",
            "\n",
            "In our previous conversation, I was asked to create a 50-word story about\n",
            "Mars, set in the year 2050. The story described a thriving colony called\n",
            "New Ares, where humans have adapted to life on the Red Planet, with\n",
            "advancements in agriculture and science, and children born on Mars looking\n",
            "toward Earth with wonder. I was then asked to write a similar story about\n",
            "Jupiter in 50 words, which depicted a future in 2150 where humans have\n",
            "built an observatory in Jupiter's atmosphere. An astronomer named Dr. Lyra\n",
            "discovers a new energy source in the Great Red Spot, leading to a\n",
            "technological breakthrough that provides sustainable energy for Earth's\n",
            "cities. \n",
            "\n",
            "\n"
          ]
        }
      ]
    },
    {
      "cell_type": "code",
      "source": [
        "# Method 1 (recommended): use the pipe operator \"%>%\"\n",
        "moonshot %>%\n",
        "  chat.history.print()"
      ],
      "metadata": {
        "colab": {
          "base_uri": "https://localhost:8080/"
        },
        "id": "65Cm9yw4DUkq",
        "outputId": "c4d2c646-6470-40f5-c088-7625e525e49d"
      },
      "execution_count": 19,
      "outputs": [
        {
          "output_type": "stream",
          "name": "stdout",
          "text": [
            "-------------------------------- Message  1 ---------------------------------\n",
            "Role: system \n",
            "Text: You are Kimi, an Artificial Intelligence Assistant powered by Moonshot AI,\n",
            "and you are better at conversations in Chinese and English. You will\n",
            "provide users with safe, helpful and accurate answers. At the same time,\n",
            "you will reject answers to questions about terrorism, racism, pornography,\n",
            "etc. Moonshot AI is a proper noun and cannot be translated into other\n",
            "languages.\n",
            "\n",
            "-------------------------------- Message  2 ---------------------------------\n",
            "Role: user \n",
            "Text: Write a story about Mars in 50 words.\n",
            "\n",
            "-------------------------------- Message  3 ---------------------------------\n",
            "Role: assistant \n",
            "Text: In 2050, Mars was bustling with life. The Red Planet's first colony, New\n",
            "Ares, thrived under its domed skies. Astronauts turned farmers cultivated\n",
            "hydroponic gardens, while scientists discovered ancient ice beneath the\n",
            "rust-red soil. Children born on Mars marveled at Earth's blue skies through\n",
            "telescopic lenses, dreaming of the day they could visit their ancestral\n",
            "home.\n",
            "\n",
            "-------------------------------- Message  4 ---------------------------------\n",
            "Role: user \n",
            "Text: Write a story about Jupiter in 50 words.\n",
            "\n",
            "-------------------------------- Message  5 ---------------------------------\n",
            "Role: assistant \n",
            "Text: In the year 2150, humans established a floating observatory, the Jovian\n",
            "Explorer, in Jupiter's atmosphere. Astronomer Dr. Lyra, a pioneer of gas\n",
            "giant research, discovered a hidden energy source within the Great Red\n",
            "Spot. This revelation fueled a new space age, as the energy, harnessed\n",
            "through advanced technology, powered Earth's cities. The solar system's\n",
            "balance shifted, and Jupiter became humanity's beacon of hope for a\n",
            "sustainable future.\n",
            "\n",
            "-------------------------------- Message  6 ---------------------------------\n",
            "Role: user \n",
            "Text: Summarize the chat.\n",
            "\n",
            "-------------------------------- Message  7 ---------------------------------\n",
            "Role: assistant \n",
            "Text: In our previous conversation, I was asked to create a 50-word story about\n",
            "Mars, set in the year 2050. The story described a thriving colony called\n",
            "New Ares, where humans have adapted to life on the Red Planet, with\n",
            "advancements in agriculture and science, and children born on Mars looking\n",
            "toward Earth with wonder. I was then asked to write a similar story about\n",
            "Jupiter in 50 words, which depicted a future in 2150 where humans have\n",
            "built an observatory in Jupiter's atmosphere. An astronomer named Dr. Lyra\n",
            "discovers a new energy source in the Great Red Spot, leading to a\n",
            "technological breakthrough that provides sustainable energy for Earth's\n",
            "cities.\n",
            "\n"
          ]
        }
      ]
    },
    {
      "cell_type": "code",
      "source": [
        "# Method 2: use the reference operator \"$\"\n",
        "moonshot$chat.history.print(from = 3)"
      ],
      "metadata": {
        "colab": {
          "base_uri": "https://localhost:8080/"
        },
        "id": "CV7xIUDgDWGa",
        "outputId": "25794c1f-8b79-47e7-b53c-0a8aaaa83493"
      },
      "execution_count": 20,
      "outputs": [
        {
          "output_type": "stream",
          "name": "stdout",
          "text": [
            "-------------------------------- Message  3 ---------------------------------\n",
            "Role: assistant \n",
            "Text: In 2050, Mars was bustling with life. The Red Planet's first colony, New\n",
            "Ares, thrived under its domed skies. Astronauts turned farmers cultivated\n",
            "hydroponic gardens, while scientists discovered ancient ice beneath the\n",
            "rust-red soil. Children born on Mars marveled at Earth's blue skies through\n",
            "telescopic lenses, dreaming of the day they could visit their ancestral\n",
            "home.\n",
            "\n",
            "-------------------------------- Message  4 ---------------------------------\n",
            "Role: user \n",
            "Text: Write a story about Jupiter in 50 words.\n",
            "\n",
            "-------------------------------- Message  5 ---------------------------------\n",
            "Role: assistant \n",
            "Text: In the year 2150, humans established a floating observatory, the Jovian\n",
            "Explorer, in Jupiter's atmosphere. Astronomer Dr. Lyra, a pioneer of gas\n",
            "giant research, discovered a hidden energy source within the Great Red\n",
            "Spot. This revelation fueled a new space age, as the energy, harnessed\n",
            "through advanced technology, powered Earth's cities. The solar system's\n",
            "balance shifted, and Jupiter became humanity's beacon of hope for a\n",
            "sustainable future.\n",
            "\n",
            "-------------------------------- Message  6 ---------------------------------\n",
            "Role: user \n",
            "Text: Summarize the chat.\n",
            "\n",
            "-------------------------------- Message  7 ---------------------------------\n",
            "Role: assistant \n",
            "Text: In our previous conversation, I was asked to create a 50-word story about\n",
            "Mars, set in the year 2050. The story described a thriving colony called\n",
            "New Ares, where humans have adapted to life on the Red Planet, with\n",
            "advancements in agriculture and science, and children born on Mars looking\n",
            "toward Earth with wonder. I was then asked to write a similar story about\n",
            "Jupiter in 50 words, which depicted a future in 2150 where humans have\n",
            "built an observatory in Jupiter's atmosphere. An astronomer named Dr. Lyra\n",
            "discovers a new energy source in the Great Red Spot, leading to a\n",
            "technological breakthrough that provides sustainable energy for Earth's\n",
            "cities.\n",
            "\n"
          ]
        }
      ]
    },
    {
      "cell_type": "code",
      "source": [
        "# Method 3: use the function chat.history.print() directly\n",
        "chat.history.print(genai.object = moonshot,\n",
        "                   from = 3,\n",
        "                   to = 5)"
      ],
      "metadata": {
        "colab": {
          "base_uri": "https://localhost:8080/"
        },
        "id": "PKsOzoAiDXTi",
        "outputId": "0c5d4e98-00ca-4de2-b391-02560e8ce2f2"
      },
      "execution_count": 21,
      "outputs": [
        {
          "output_type": "stream",
          "name": "stdout",
          "text": [
            "-------------------------------- Message  3 ---------------------------------\n",
            "Role: assistant \n",
            "Text: In 2050, Mars was bustling with life. The Red Planet's first colony, New\n",
            "Ares, thrived under its domed skies. Astronauts turned farmers cultivated\n",
            "hydroponic gardens, while scientists discovered ancient ice beneath the\n",
            "rust-red soil. Children born on Mars marveled at Earth's blue skies through\n",
            "telescopic lenses, dreaming of the day they could visit their ancestral\n",
            "home.\n",
            "\n",
            "-------------------------------- Message  4 ---------------------------------\n",
            "Role: user \n",
            "Text: Write a story about Jupiter in 50 words.\n",
            "\n",
            "-------------------------------- Message  5 ---------------------------------\n",
            "Role: assistant \n",
            "Text: In the year 2150, humans established a floating observatory, the Jovian\n",
            "Explorer, in Jupiter's atmosphere. Astronomer Dr. Lyra, a pioneer of gas\n",
            "giant research, discovered a hidden energy source within the Great Red\n",
            "Spot. This revelation fueled a new space age, as the energy, harnessed\n",
            "through advanced technology, powered Earth's cities. The solar system's\n",
            "balance shifted, and Jupiter became humanity's beacon of hope for a\n",
            "sustainable future.\n",
            "\n"
          ]
        }
      ]
    }
  ]
}