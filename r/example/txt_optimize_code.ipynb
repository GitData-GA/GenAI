{
  "nbformat": 4,
  "nbformat_minor": 0,
  "metadata": {
    "colab": {
      "provenance": [],
      "include_colab_link": true
    },
    "kernelspec": {
      "name": "ir",
      "display_name": "R"
    },
    "language_info": {
      "name": "R"
    }
  },
  "cells": [
    {
      "cell_type": "markdown",
      "metadata": {
        "id": "view-in-github",
        "colab_type": "text"
      },
      "source": [
        "<a href=\"https://colab.research.google.com/github/GitData-GA/GenAI/blob/gh-pages/r/example/txt_optimize_code.ipynb\" target=\"_parent\"><img src=\"https://colab.research.google.com/assets/colab-badge.svg\" alt=\"Open In Colab\"/></a>"
      ]
    },
    {
      "cell_type": "markdown",
      "source": [
        "# Installation"
      ],
      "metadata": {
        "id": "mDBGn0Qzsql5"
      }
    },
    {
      "cell_type": "code",
      "execution_count": 1,
      "metadata": {
        "colab": {
          "base_uri": "https://localhost:8080/"
        },
        "id": "EQ5mDg9-siid",
        "outputId": "b26eba08-cc5d-4cbe-b99c-7ca1e78a1677"
      },
      "outputs": [
        {
          "output_type": "stream",
          "name": "stderr",
          "text": [
            "Installing package into ‘/usr/local/lib/R/site-library’\n",
            "(as ‘lib’ is unspecified)\n",
            "\n"
          ]
        }
      ],
      "source": [
        "install.packages(\"https://genai.gd.edu.kg/release/R/GenAI_latest.tar.gz\", repos=NULL, method=\"libcurl\")\n",
        "library(\"GenAI\")"
      ]
    },
    {
      "cell_type": "markdown",
      "source": [
        "# Example of `txt.optimize.code`"
      ],
      "metadata": {
        "id": "LE9e2MEXs0av"
      }
    },
    {
      "cell_type": "markdown",
      "source": [
        "## Get available models"
      ],
      "metadata": {
        "id": "UdwTs_oitM8A"
      }
    },
    {
      "cell_type": "code",
      "source": [
        "models = available.models()"
      ],
      "metadata": {
        "id": "S0lunMhxtOl_"
      },
      "execution_count": 2,
      "outputs": []
    },
    {
      "cell_type": "markdown",
      "source": [
        "## Connect to the Google model, replace API_KEY with your api key"
      ],
      "metadata": {
        "id": "ODWMwKhotSJ3"
      }
    },
    {
      "cell_type": "code",
      "source": [
        "google.model = connect.genai(\"google\",\n",
        "                             models$google$model[1],\n",
        "                             models$google$version[1],\n",
        "                             \"API_KEY\",\n",
        "                             FALSE)"
      ],
      "metadata": {
        "id": "l8J1UXkcs6dP"
      },
      "execution_count": 3,
      "outputs": []
    },
    {
      "cell_type": "markdown",
      "source": [
        "## Connect to the OpenAI model, replace API_KEY with your api key"
      ],
      "metadata": {
        "id": "uS1aPHGTtcB2"
      }
    },
    {
      "cell_type": "code",
      "source": [
        "openai.model = connect.genai(\"openai\",\n",
        "                             models$openai$model[1],\n",
        "                             models$openai$version[1],\n",
        "                             \"API_KEY\",\n",
        "                             FALSE)"
      ],
      "metadata": {
        "id": "aDFBTfvOtg_Y"
      },
      "execution_count": 4,
      "outputs": []
    },
    {
      "cell_type": "markdown",
      "source": [
        "## Generate text"
      ],
      "metadata": {
        "id": "OXcUsNr26AgS"
      }
    },
    {
      "cell_type": "code",
      "source": [
        "temperature = 0.9\n",
        "prompt = \"foo <- function(n) {\n",
        "            if (n <= 0) {\n",
        "              return(0)\n",
        "            } else if (n == 1) {\n",
        "              return(1)\n",
        "            } else {\n",
        "              return(foo(n - 1) + foo(n - 2))\n",
        "            }\n",
        "          }\"\n",
        "goal = \"Improve the runtime of the function\""
      ],
      "metadata": {
        "id": "erZ24Exi6QiI"
      },
      "execution_count": 5,
      "outputs": []
    },
    {
      "cell_type": "code",
      "source": [
        "optimized.code = txt.optimize.code(google.model,\n",
        "                                   temperature,\n",
        "                                   prompt,\n",
        "                                   goal,\n",
        "                                   language = \"R\")\n",
        "cat(optimized.code)"
      ],
      "metadata": {
        "colab": {
          "base_uri": "https://localhost:8080/"
        },
        "id": "II9TiP606WmR",
        "outputId": "5e9d7cba-9490-4471-85e0-f68affe48bc8"
      },
      "execution_count": 6,
      "outputs": [
        {
          "output_type": "stream",
          "name": "stdout",
          "text": [
            "To optimize the runtime of the `foo` function, you can use memoization, which involves storing the results of previously computed function calls to avoid recalculating them. This optimization technique is particularly effective for recursive functions like `foo`, where the same values are often computed multiple times. The following optimized version of the `foo` function utilizes memoization:\n",
            "\n",
            "```\n",
            "foo <- function(n) {\n",
            "  memo <- numeric(n + 1)\n",
            "  fib <- function(n) {\n",
            "    if (n <= 0) {\n",
            "      return(0)\n",
            "    } else if (n == 1) {\n",
            "      return(1)\n",
            "    } else if (!is.na(memo[n])) {\n",
            "      return(memo[n])\n",
            "    } else {\n",
            "      memo[n] <- fib(n - 1) + fib(n - 2)\n",
            "      return(memo[n])\n",
            "    }\n",
            "  }\n",
            "  fib(n)\n",
            "}\n",
            "```\n",
            "\n",
            "Here's how this optimized code works:\n",
            "\n",
            "1. The `memo` vector is initialized with `n + 1` elements, all set to `NA`. This vector will be used to store the memoized results.\n",
            "\n",
            "2. The `fib` function is defined as a nested function within `foo`. This allows it to access the `memo` vector defined in the parent function.\n",
            "\n",
            "3. The `fib` function checks if `n` is less than or equal to 0, in which case it returns 0. If `n` is equal to 1, it returns 1.\n",
            "\n",
            "4. If the result for `n` is already stored in the `memo` vector (i.e., it's not `NA`), it is returned directly, avoiding the recursive call.\n",
            "\n",
            "5. If the result for `n` is not in the `memo` vector, the function calculates it recursively using `fib(n - 1)` and `fib(n - 2)`.\n",
            "\n",
            "6. The calculated result is stored in the `memo` vector at index `n`.\n",
            "\n",
            "7. Finally, the `fib` function returns the result for `n`.\n",
            "\n",
            "By using memoization, this optimized code significantly reduces the number of recursive calls, resulting in faster execution times, especially for larger values of `n`."
          ]
        }
      ]
    },
    {
      "cell_type": "code",
      "source": [
        "optimized.code = txt.optimize.code(openai.model,\n",
        "                                   temperature,\n",
        "                                   prompt,\n",
        "                                   goal,\n",
        "                                   language = \"R\")\n",
        "cat(optimized.code)"
      ],
      "metadata": {
        "colab": {
          "base_uri": "https://localhost:8080/"
        },
        "id": "D22ueBeb5-yI",
        "outputId": "11740a9a-4d2a-499c-8427-e1b8d648567e"
      },
      "execution_count": 7,
      "outputs": [
        {
          "output_type": "stream",
          "name": "stdout",
          "text": [
            "The given code is a recursive implementation of the Fibonacci sequence. However, it is not efficient as it recalculates the same values multiple times. To optimize it, we can use memoization to store the already calculated values.\n",
            "\n",
            "Here's an optimized version of the code:\n",
            "\n",
            "```R\n",
            "# Create a cache to store already computed values\n",
            "fib_cache <- c()\n",
            "\n",
            "foo <- function(n) {\n",
            "  if (n <= 0) {\n",
            "    return(0)\n",
            "  } else if (n == 1) {\n",
            "    return(1)\n",
            "  } else if (n %in% fib_cache) {\n",
            "    # If the value is already in cache, return it\n",
            "    return(fib_cache[n])\n",
            "  } else {\n",
            "    # Calculate and store the value in cache\n",
            "    fib_value <- foo(n - 1) + foo(n - 2)\n",
            "    fib_cache[n] <- fib_value\n",
            "    return(fib_value)\n",
            "  }\n",
            "}\n",
            "```\n",
            "\n",
            "By using memoization, the optimized code avoids recalculating the same Fibonacci numbers and significantly improves the runtime of the function."
          ]
        }
      ]
    }
  ]
}