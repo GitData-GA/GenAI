{
  "nbformat": 4,
  "nbformat_minor": 0,
  "metadata": {
    "colab": {
      "provenance": [],
      "include_colab_link": true
    },
    "kernelspec": {
      "name": "ir",
      "display_name": "R"
    },
    "language_info": {
      "name": "R"
    }
  },
  "cells": [
    {
      "cell_type": "markdown",
      "metadata": {
        "id": "view-in-github",
        "colab_type": "text"
      },
      "source": [
        "<a href=\"https://colab.research.google.com/github/GitData-GA/GenAI/blob/gh-pages/r/example/txt_optimize_code.ipynb\" target=\"_parent\"><img src=\"https://colab.research.google.com/assets/colab-badge.svg\" alt=\"Open In Colab\"/></a>"
      ]
    },
    {
      "cell_type": "markdown",
      "source": [
        "# Installation"
      ],
      "metadata": {
        "id": "mDBGn0Qzsql5"
      }
    },
    {
      "cell_type": "code",
      "execution_count": 1,
      "metadata": {
        "colab": {
          "base_uri": "https://localhost:8080/"
        },
        "id": "EQ5mDg9-siid",
        "outputId": "223e4a44-127b-4997-8303-e63c563ad0e8"
      },
      "outputs": [
        {
          "output_type": "stream",
          "name": "stderr",
          "text": [
            "Installing package into ‘/usr/local/lib/R/site-library’\n",
            "(as ‘lib’ is unspecified)\n",
            "\n"
          ]
        }
      ],
      "source": [
        "install.packages(\"GenAI\")\n",
        "library(\"GenAI\")"
      ]
    },
    {
      "cell_type": "markdown",
      "source": [
        "# Example of `txt.optimize.code`"
      ],
      "metadata": {
        "id": "LE9e2MEXs0av"
      }
    },
    {
      "cell_type": "markdown",
      "source": [
        "## Get available models"
      ],
      "metadata": {
        "id": "UdwTs_oitM8A"
      }
    },
    {
      "cell_type": "code",
      "source": [
        "models = available.models()"
      ],
      "metadata": {
        "id": "S0lunMhxtOl_"
      },
      "execution_count": 2,
      "outputs": []
    },
    {
      "cell_type": "markdown",
      "source": [
        "## Connect to the Google model, replace API_KEY with your api key"
      ],
      "metadata": {
        "id": "ODWMwKhotSJ3"
      }
    },
    {
      "cell_type": "code",
      "source": [
        "google.model = connect.genai(\"google\",\n",
        "                             models$google$model[1],\n",
        "                             models$google$version[1],\n",
        "                             \"API_KEY\",\n",
        "                             FALSE)"
      ],
      "metadata": {
        "id": "l8J1UXkcs6dP"
      },
      "execution_count": 3,
      "outputs": []
    },
    {
      "cell_type": "markdown",
      "source": [
        "## Connect to the OpenAI model, replace API_KEY with your api key"
      ],
      "metadata": {
        "id": "uS1aPHGTtcB2"
      }
    },
    {
      "cell_type": "code",
      "source": [
        "openai.model = connect.genai(\"openai\",\n",
        "                             models$openai$model[1],\n",
        "                             models$openai$version[1],\n",
        "                             \"API_KEY\",\n",
        "                             FALSE)"
      ],
      "metadata": {
        "id": "aDFBTfvOtg_Y"
      },
      "execution_count": 4,
      "outputs": []
    },
    {
      "cell_type": "markdown",
      "source": [
        "## Generate text"
      ],
      "metadata": {
        "id": "OXcUsNr26AgS"
      }
    },
    {
      "cell_type": "code",
      "source": [
        "temperature = 0.9\n",
        "prompt = \"foo <- function(n) {\n",
        "            if (n <= 0) {\n",
        "              return(0)\n",
        "            } else if (n == 1) {\n",
        "              return(1)\n",
        "            } else {\n",
        "              return(foo(n - 1) + foo(n - 2))\n",
        "            }\n",
        "          }\"\n",
        "goal = \"Improve the runtime of the function\""
      ],
      "metadata": {
        "id": "erZ24Exi6QiI"
      },
      "execution_count": 5,
      "outputs": []
    },
    {
      "cell_type": "code",
      "source": [
        "optimized.code = txt.optimize.code(google.model,\n",
        "                                   temperature,\n",
        "                                   prompt,\n",
        "                                   goal,\n",
        "                                   language = \"R\")\n",
        "cat(optimized.code)"
      ],
      "metadata": {
        "colab": {
          "base_uri": "https://localhost:8080/"
        },
        "id": "II9TiP606WmR",
        "outputId": "66907269-3e47-4434-8d5b-018e6426489a"
      },
      "execution_count": 6,
      "outputs": [
        {
          "output_type": "stream",
          "name": "stdout",
          "text": [
            "Here are a few ways to optimize the provided R code:\n",
            "\n",
            "1. Use memoization: Memoization is a technique to store the results of function calls so that they can be reused later, avoiding recomputation. In this case, we can store the Fibonacci numbers for each input value in a hash table or a vector so that they can be retrieved quickly when needed. This optimization can significantly reduce the runtime of the function.\n",
            "\n",
            "Here's an example of how to implement memoization in R:\n",
            "\n",
            "```\n",
            "fib_memo <- function(n) {\n",
            "  # Check if the Fibonacci number for 'n' has already been computed\n",
            "  if (n %in% fib_memo$computed) {\n",
            "    # If so, return the stored value\n",
            "    return(fib_memo$values[fib_memo$computed == n])\n",
            "  } else {\n",
            "    # If not, compute the Fibonacci number recursively\n",
            "    result <- ifelse(n <= 0, 0, ifelse(n == 1, 1, fib_memo(n - 1) + fib_memo(n - 2)))\n",
            "    \n",
            "    # Store the computed value for future reference\n",
            "    fib_memo$computed <- c(fib_memo$computed, n)\n",
            "    fib_memo$values <- c(fib_memo$values, result)\n",
            "    \n",
            "    # Return the computed value\n",
            "    return(result)\n",
            "  }\n",
            "}\n",
            "\n",
            "# Initialize the memoization data structure\n",
            "fib_memo <- list(computed = numeric(0), values = numeric(0))\n",
            "\n",
            "# Usage example\n",
            "fib_memo(10)\n",
            "```\n",
            "\n",
            "2. Use a loop instead of recursion:Recursion can sometimes be less efficient than using a loop. In this case, we can use a loop to compute the Fibonacci numbers instead of using recursion. This approach can be faster, especially for larger input values.\n",
            "\n",
            "Here's an example of how to use a loop to compute Fibonacci numbers in R:\n",
            "\n",
            "```\n",
            "fib_loop <- function(n) {\n",
            "  # Initialize the Fibonacci sequence with the first two numbers\n",
            "  fib_sequence <- c(0, 1)\n",
            "  \n",
            "  # Iterate from 2 to 'n' to compute the rest of the Fibonacci sequence\n",
            "  for (i in 3:(n + 1)) {\n",
            "    # Compute the next Fibonacci number as the sum of the previous two\n",
            "    next_fib <- fib_sequence[i - 1] + fib_sequence[i - 2]\n",
            "    \n",
            "    # Add the computed Fibonacci number to the sequence\n",
            "    fib_sequence <- c(fib_sequence, next_fib)\n",
            "  }\n",
            "  \n",
            "  # Return the Fibonacci number at the desired index\n",
            "  return(fib_sequence[n + 1])\n",
            "}\n",
            "\n",
            "# Usage example\n",
            "fib_loop(10)\n",
            "```\n",
            "\n",
            "3. Use a closed-form formula: For very large values of 'n', even the optimized recursive and loop-based approaches can be slow. In such cases, one can use a closed-form formula to compute Fibonacci numbers directly. This formula is:\n",
            "\n",
            "```\n",
            "F(n) = (φ^n - ψ^n) / √5\n",
            "```\n",
            "\n",
            "where φ = (1 + √5) / 2 and ψ = (1 - √5) / 2.\n",
            "\n",
            "Here's an example of how to compute Fibonacci numbers using the closed-form formula in R:\n",
            "\n",
            "```\n",
            "fib_formula <- function(n) {\n",
            "  # Compute the values of φ and ψ\n",
            "  phi <- (1 + sqrt(5)) / 2\n",
            "  psi <- (1 - sqrt(5)) / 2\n",
            "  \n",
            "  # Compute the Fibonacci number using the closed-form formula\n",
            "  result <- (pow(phi, n) - pow(psi, n)) / sqrt(5)\n",
            "  \n",
            "  # Return the computed Fibonacci number\n",
            "  return(result)\n",
            "}\n",
            "\n",
            "# Usage example\n",
            "fib_formula(100)\n",
            "```\n",
            "\n",
            "The choice of optimization technique depends on the specific requirements and constraints of your application. If you need to compute Fibonacci numbers for a wide range of input values, memoization or the loop-based approach might be suitable. If you need to compute Fibonacci numbers for very large values of 'n', the closed-form formula might be a better choice."
          ]
        }
      ]
    },
    {
      "cell_type": "code",
      "source": [
        "optimized.code = txt.optimize.code(openai.model,\n",
        "                                   temperature,\n",
        "                                   prompt,\n",
        "                                   goal,\n",
        "                                   language = \"R\")\n",
        "cat(optimized.code)"
      ],
      "metadata": {
        "colab": {
          "base_uri": "https://localhost:8080/"
        },
        "id": "D22ueBeb5-yI",
        "outputId": "aafe960c-04c5-4ce2-bb56-46ffa111c407"
      },
      "execution_count": 7,
      "outputs": [
        {
          "output_type": "stream",
          "name": "stdout",
          "text": [
            "One way to improve the runtime of the function is to use memoization. Memoization is a technique where you store the calculated values of a function in a cache, so that you can avoid redundant calculations.\n",
            "\n",
            "Here's the optimized code using memoization:\n",
            "\n",
            "```R\n",
            "# Create a cache to store the calculated values\n",
            "cache <- c(0, 1)\n",
            "\n",
            "foo <- function(n) {\n",
            "  # If the value is already in the cache, return it\n",
            "  if (n <= length(cache)) {\n",
            "    return(cache[n])\n",
            "  }\n",
            "  \n",
            "  # Calculate the value using the previous two values from the cache\n",
            "  value <- foo(n - 1) + foo(n - 2)\n",
            "  \n",
            "  # Store the calculated value in the cache\n",
            "  cache <<- c(cache, value)\n",
            "  \n",
            "  return(value)\n",
            "}\n",
            "```\n",
            "\n",
            "By using memoization, you avoid redundant calculations and reduce the overall runtime of the function."
          ]
        }
      ]
    }
  ]
}