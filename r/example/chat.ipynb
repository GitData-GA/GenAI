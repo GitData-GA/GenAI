{
  "nbformat": 4,
  "nbformat_minor": 0,
  "metadata": {
    "colab": {
      "provenance": [],
      "include_colab_link": true
    },
    "kernelspec": {
      "name": "ir",
      "display_name": "R"
    },
    "language_info": {
      "name": "R"
    }
  },
  "cells": [
    {
      "cell_type": "markdown",
      "metadata": {
        "id": "view-in-github",
        "colab_type": "text"
      },
      "source": [
        "<a href=\"https://colab.research.google.com/github/GitData-GA/GenAI/blob/gh-pages/r/example/chat.ipynb\" target=\"_parent\"><img src=\"https://colab.research.google.com/assets/colab-badge.svg\" alt=\"Open In Colab\"/></a>"
      ]
    },
    {
      "cell_type": "markdown",
      "source": [
        "# Installation"
      ],
      "metadata": {
        "id": "mDBGn0Qzsql5"
      }
    },
    {
      "cell_type": "code",
      "execution_count": 1,
      "metadata": {
        "colab": {
          "base_uri": "https://localhost:8080/"
        },
        "id": "EQ5mDg9-siid",
        "outputId": "ca96549a-cda8-4ea9-dba2-55ddc5d9054b"
      },
      "outputs": [
        {
          "output_type": "stream",
          "name": "stderr",
          "text": [
            "Installing package into ‘/usr/local/lib/R/site-library’\n",
            "(as ‘lib’ is unspecified)\n",
            "\n",
            "\n",
            "Attaching package: ‘GenAI’\n",
            "\n",
            "\n",
            "The following object is masked from ‘package:graphics’:\n",
            "\n",
            "    text\n",
            "\n",
            "\n"
          ]
        }
      ],
      "source": [
        "install.packages(\"https://genai.gd.edu.kg/release/R/GenAI_latest.tar.gz\", repos=NULL, method=\"libcurl\")\n",
        "library(\"GenAI\")"
      ]
    },
    {
      "cell_type": "markdown",
      "source": [
        "# Example of `chat`"
      ],
      "metadata": {
        "id": "LE9e2MEXs0av"
      }
    },
    {
      "cell_type": "markdown",
      "source": [
        "## Get available models"
      ],
      "metadata": {
        "id": "UdwTs_oitM8A"
      }
    },
    {
      "cell_type": "code",
      "source": [
        "models = available.models()"
      ],
      "metadata": {
        "id": "S0lunMhxtOl_"
      },
      "execution_count": 2,
      "outputs": []
    },
    {
      "cell_type": "markdown",
      "source": [
        "## Connect to the Google model, replace API_KEY with your api key"
      ],
      "metadata": {
        "id": "ODWMwKhotSJ3"
      }
    },
    {
      "cell_type": "code",
      "source": [
        "google.model = connect.genai(\"google\",\n",
        "                             models$google$model[1],\n",
        "                             models$google$version[1],\n",
        "                             \"API_KEY\",\n",
        "                             FALSE)"
      ],
      "metadata": {
        "id": "l8J1UXkcs6dP"
      },
      "execution_count": 3,
      "outputs": []
    },
    {
      "cell_type": "markdown",
      "source": [
        "## Connect to the OpenAI model, replace API_KEY with your api key"
      ],
      "metadata": {
        "id": "uS1aPHGTtcB2"
      }
    },
    {
      "cell_type": "code",
      "source": [
        "openai.model = connect.genai(\"openai\",\n",
        "                             models$openai$model[1],\n",
        "                             models$openai$version[1],\n",
        "                             \"API_KEY\",\n",
        "                             FALSE)"
      ],
      "metadata": {
        "id": "aDFBTfvOtg_Y"
      },
      "execution_count": 4,
      "outputs": []
    },
    {
      "cell_type": "markdown",
      "source": [
        "## Setup an empty chat history"
      ],
      "metadata": {
        "id": "Jf6V3SI1Q-jb"
      }
    },
    {
      "cell_type": "code",
      "source": [
        "google.history = chat.setup(google.model)\n",
        "openai.history = chat.setup(openai.model)"
      ],
      "metadata": {
        "id": "ZKDbrPDfRBnr"
      },
      "execution_count": 5,
      "outputs": []
    },
    {
      "cell_type": "markdown",
      "source": [
        "## Generate chat"
      ],
      "metadata": {
        "id": "OXcUsNr26AgS"
      }
    },
    {
      "cell_type": "code",
      "source": [
        "temperature = 0.9\n",
        "prompt = \"Write a story about a magic backpack in about 100 words.\""
      ],
      "metadata": {
        "id": "erZ24Exi6QiI"
      },
      "execution_count": 6,
      "outputs": []
    },
    {
      "cell_type": "code",
      "source": [
        "google.history = chat(google.model,\n",
        "                      temperature,\n",
        "                      google.history,\n",
        "                      prompt)\n",
        "\n",
        "cat(chat.recent(google.model, google.history))"
      ],
      "metadata": {
        "colab": {
          "base_uri": "https://localhost:8080/"
        },
        "id": "II9TiP606WmR",
        "outputId": "8be97263-d787-4593-a95e-beb5263dec08"
      },
      "execution_count": 7,
      "outputs": [
        {
          "output_type": "stream",
          "name": "stdout",
          "text": [
            "Once upon a time, in a small town, lived a young girl named Lily. Lily had a rather unusual backpack that she took with her everywhere. It wasn't just any ordinary backpack, it had magical powers! The backpack could change its size to fit anything Lily needed to carry, from her books to her soccer gear. But the real magic happened when Lily needed something specific. She would just reach into the backpack and, like magic, the item would be there - her favorite toy, a hairbrush, or even a delicious snack! Lily's backpack was a true wonder, and it made her everyday adventures just a little more extraordinary."
          ]
        }
      ]
    },
    {
      "cell_type": "code",
      "source": [
        "openai.history = chat(openai.model,\n",
        "                      temperature,\n",
        "                      openai.history,\n",
        "                      prompt)\n",
        "\n",
        "cat(chat.recent(openai.model, openai.history))"
      ],
      "metadata": {
        "colab": {
          "base_uri": "https://localhost:8080/"
        },
        "id": "D22ueBeb5-yI",
        "outputId": "f2e9c031-8062-4013-b45a-853de4e07ab6"
      },
      "execution_count": 8,
      "outputs": [
        {
          "output_type": "stream",
          "name": "stdout",
          "text": [
            "In a small village, a young girl named Lily stumbled upon a dusty old backpack in her attic. Little did she know, it held enchanting powers. Whenever she opened it, the backpack transformed into a portal to magical lands. It took her to fairy-filled forests, where she danced with talking animals. It whisked her away to ancient castles, where she encountered knights and dragons. It even transported her to underwater kingdoms, where she swam alongside mystical creatures. The magic backpack became Lily's gateway to endless adventures, teaching her the importance of imagination and reminding her that the world is as vast as her dreams."
          ]
        }
      ]
    },
    {
      "cell_type": "code",
      "source": [
        "prompt = \"What is the word count of the story you just wrote?\""
      ],
      "metadata": {
        "id": "-gWq9fBLRKvD"
      },
      "execution_count": 9,
      "outputs": []
    },
    {
      "cell_type": "code",
      "source": [
        "google.history = chat(google.model,\n",
        "                      temperature,\n",
        "                      google.history,\n",
        "                      prompt)\n",
        "cat(chat.recent(google.model, google.history))"
      ],
      "metadata": {
        "colab": {
          "base_uri": "https://localhost:8080/"
        },
        "id": "6CLRI034RN9b",
        "outputId": "42399639-54b7-401f-b844-6f107d1b576f"
      },
      "execution_count": 10,
      "outputs": [
        {
          "output_type": "stream",
          "name": "stdout",
          "text": [
            "The word count of the story I wrote about Lily and her magic backpack is **58 words**.\n",
            "\n",
            "I understand that you had originally asked for a story of about 100 words. I apologize for not meeting that requirement in my first response. I am still under development, and I am working on improving my ability to follow instructions and generate text that meets specific requirements.\n",
            "\n",
            "I hope you will continue to provide me with feedback so that I can learn and improve."
          ]
        }
      ]
    },
    {
      "cell_type": "code",
      "source": [
        "openai.history = chat(openai.model,\n",
        "                      temperature,\n",
        "                      openai.history,\n",
        "                      prompt)\n",
        "cat(chat.recent(openai.model, openai.history))"
      ],
      "metadata": {
        "colab": {
          "base_uri": "https://localhost:8080/"
        },
        "id": "EsmSh8k-RfgE",
        "outputId": "c68cce3b-c890-4c28-f7bd-4648b7a94eaa"
      },
      "execution_count": 11,
      "outputs": [
        {
          "output_type": "stream",
          "name": "stdout",
          "text": [
            "The word count of the story I just wrote is 108 words."
          ]
        }
      ]
    }
  ]
}
