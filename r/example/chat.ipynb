{
  "nbformat": 4,
  "nbformat_minor": 0,
  "metadata": {
    "colab": {
      "provenance": [],
      "include_colab_link": true
    },
    "kernelspec": {
      "name": "ir",
      "display_name": "R"
    },
    "language_info": {
      "name": "R"
    }
  },
  "cells": [
    {
      "cell_type": "markdown",
      "metadata": {
        "id": "view-in-github",
        "colab_type": "text"
      },
      "source": [
        "<a href=\"https://colab.research.google.com/github/GitData-GA/GenAI/blob/gh-pages/r/example/chat.ipynb\" target=\"_parent\"><img src=\"https://colab.research.google.com/assets/colab-badge.svg\" alt=\"Open In Colab\"/></a>"
      ]
    },
    {
      "cell_type": "markdown",
      "source": [
        "# Installation & Setup\n"
      ],
      "metadata": {
        "id": "mDBGn0Qzsql5"
      }
    },
    {
      "cell_type": "code",
      "source": [
        "# The following commands are for Colab only\n",
        "system('add-apt-repository -y ppa:cran/imagemagick')\n",
        "system('apt-get update')\n",
        "system(\"apt-get install libmagick++-dev\")"
      ],
      "metadata": {
        "id": "lmSesr05PepE"
      },
      "execution_count": null,
      "outputs": []
    },
    {
      "cell_type": "code",
      "execution_count": null,
      "metadata": {
        "colab": {
          "base_uri": "https://localhost:8080/"
        },
        "id": "EQ5mDg9-siid",
        "outputId": "349416ec-9c74-4d4b-ba60-15a2291309bf"
      },
      "outputs": [
        {
          "output_type": "stream",
          "name": "stderr",
          "text": [
            "Installing package into ‘/usr/local/lib/R/site-library’\n",
            "(as ‘lib’ is unspecified)\n",
            "\n",
            "also installing the dependencies ‘Rcpp’, ‘gridGraphics’, ‘yulab.utils’, ‘listenv’, ‘magick’, ‘ggplotify’\n",
            "\n",
            "\n",
            "Loading required package: magrittr\n",
            "\n"
          ]
        }
      ],
      "source": [
        "# Install the library (usually 1 - 3 minutes in Colab)\n",
        "install.packages(\"GenAI\")\n",
        "library(\"GenAI\")"
      ]
    },
    {
      "cell_type": "markdown",
      "source": [
        "# Get Available Models"
      ],
      "metadata": {
        "id": "UdwTs_oitM8A"
      }
    },
    {
      "cell_type": "code",
      "source": [
        "all.models = available.models() %>% print()"
      ],
      "metadata": {
        "id": "S0lunMhxtOl_",
        "colab": {
          "base_uri": "https://localhost:8080/"
        },
        "outputId": "fe65e123-db4a-4a38-9c35-40bf738e4c9f"
      },
      "execution_count": null,
      "outputs": [
        {
          "output_type": "stream",
          "name": "stdout",
          "text": [
            "$google\n",
            "$google$version\n",
            "[1] \"v1\"     \"v1beta\"\n",
            "\n",
            "$google$model\n",
            "[1] \"gemini-pro\"        \"gemini-pro-vision\"\n",
            "\n",
            "\n",
            "$openai\n",
            "$openai$version\n",
            "[1] \"v1\"\n",
            "\n",
            "$openai$model\n",
            "[1] \"gpt-3.5-turbo\"        \"gpt-3.5-turbo-1106\"   \"gpt-3.5-turbo-16k\"   \n",
            "[4] \"gpt-4\"                \"gpt-4-1106-preview\"   \"gpt-4-32k\"           \n",
            "[7] \"gpt-4-vision-preview\" \"dall-e-2\"             \"dall-e-3\"            \n",
            "\n",
            "\n",
            "$moonshot\n",
            "$moonshot$version\n",
            "[1] \"v1\"\n",
            "\n",
            "$moonshot$model\n",
            "[1] \"moonshot-v1-8k\"   \"moonshot-v1-32k\"  \"moonshot-v1-128k\"\n",
            "\n",
            "\n"
          ]
        }
      ]
    },
    {
      "cell_type": "markdown",
      "source": [
        "# Example for Google Generative AI"
      ],
      "metadata": {
        "id": "ODWMwKhotSJ3"
      }
    },
    {
      "cell_type": "code",
      "source": [
        "# Please change YOUR_GOOGLE_API to your own API key of Google Generative AI\n",
        "Sys.setenv(GOOGLE_API = \"YOUR_GOOGLE_API\")"
      ],
      "metadata": {
        "id": "2KUbKJ1mzyno"
      },
      "execution_count": null,
      "outputs": []
    },
    {
      "cell_type": "code",
      "source": [
        "# Create a Google Generative AI object\n",
        "google = genai.google(api = Sys.getenv(\"GOOGLE_API\"),\n",
        "                      model = all.models$google$model[1],\n",
        "                      version = all.models$google$version[1],\n",
        "                      proxy = FALSE)\n",
        "\n",
        "# Generation configurations\n",
        "parameters = list(\n",
        "  harm.category.dangerous.content = 5,\n",
        "  harm.category.harassment = 5,\n",
        "  max.output.tokens = 4096,\n",
        "  temperature = 0.9\n",
        ")"
      ],
      "metadata": {
        "id": "pHVQcYs-JogA"
      },
      "execution_count": null,
      "outputs": []
    },
    {
      "cell_type": "code",
      "source": [
        "# Method 1 (recommended): use the pipe operator \"%>%\"\n",
        "google %>%\n",
        "  chat(prompt = \"Write a story about Mars in 50 words.\",\n",
        "       verbose = FALSE,\n",
        "       config = parameters) %>%\n",
        "  cat()"
      ],
      "metadata": {
        "colab": {
          "base_uri": "https://localhost:8080/"
        },
        "id": "_7yKrTAbKtYB",
        "outputId": "be0232ad-ee29-48c2-c4e0-0666a7b15e18"
      },
      "execution_count": null,
      "outputs": [
        {
          "output_type": "stream",
          "name": "stdout",
          "text": [
            "In the vast, crimson expanse of Mars, a solitary astronaut named Anya stood on the precipice of a towering dune. As the golden sunlight bathed her figure, a sense of awe and isolation washed over her. Distant peaks pierced the clear horizon, casting long shadows upon the barren landscape. The wind whispered secrets of an ancient past, carrying the faintest hint of a civilization long gone. In that moment, Anya felt a profound connection to the enigmatic planet, its untamed wilderness holding the promise of both wonder and danger."
          ]
        }
      ]
    },
    {
      "cell_type": "code",
      "source": [
        "# Method 2: use the reference operator \"$\"\n",
        "cat(google$chat(prompt = \"Write a story about Jupiter in 50 words.\",\n",
        "                verbose = FALSE,\n",
        "                config = parameters))"
      ],
      "metadata": {
        "colab": {
          "base_uri": "https://localhost:8080/"
        },
        "id": "Ya3_Dga_Mcso",
        "outputId": "c2d0c8c4-4ce3-46cd-ffc9-e4a6303811ad"
      },
      "execution_count": null,
      "outputs": [
        {
          "output_type": "stream",
          "name": "stdout",
          "text": [
            "Amidst the celestial tapestry, gas giant Jupiter reigned supreme. Its swirling atmosphere, adorned with vibrant bands and swirling storms, captivated all who beheld it. Adventurer Anya piloted her spacecraft through its depths, navigating treacherous currents and marveling at the ethereal beauty. The planet's colossal size dwarfed her vessel, instilling a sense of awe and insignificance. As she ventured deeper, the symphony of electromagnetic forces played around her, a cosmic orchestra heralding the wonders that lay within this enigmatic realm."
          ]
        }
      ]
    },
    {
      "cell_type": "code",
      "source": [
        "# Method 3: use the function chat() directly\n",
        "# Set verbose to TRUE to see the detail\n",
        "cat(chat(genai.object = google,\n",
        "         prompt = \"Summarize the chat.\",\n",
        "         verbose = TRUE,\n",
        "         config = parameters))"
      ],
      "metadata": {
        "colab": {
          "base_uri": "https://localhost:8080/"
        },
        "id": "bRSuE9ECNEv_",
        "outputId": "0457973b-1bb1-4f82-eaf5-6f776df16b0b"
      },
      "execution_count": null,
      "outputs": [
        {
          "output_type": "stream",
          "name": "stdout",
          "text": [
            "=============================================================================\n",
            "   Safety Settings\n",
            "-----------------------------------------------------------------------------\n",
            "HARM_CATEGORY_DANGEROUS_CONTENT: BLOCK_NONE \n",
            "HARM_CATEGORY_HARASSMENT: BLOCK_NONE \n",
            "=============================================================================\n",
            "\n",
            "\n",
            "\n",
            "=============================================================================\n",
            "   Generation Configuration\n",
            "-----------------------------------------------------------------------------\n",
            "maxOutputTokens: 4096 \n",
            "temperature: 0.9 \n",
            "=============================================================================\n",
            "\n",
            "\n",
            "\n",
            "=============================================================================\n",
            "   Prompt\n",
            "-----------------------------------------------------------------------------\n",
            "Summarize the chat.\n",
            "=============================================================================\n",
            "\n",
            "\n",
            "\n",
            "=============================================================================\n",
            "   Chat history \n",
            "-----------------------------------------------------------------------------\n",
            "\n",
            "-------------------------------- Message  1 ---------------------------------\n",
            "Role: user \n",
            "Text: Write a story about Mars in 50 words.\n",
            "\n",
            "-------------------------------- Message  2 ---------------------------------\n",
            "Role: model \n",
            "Text: In the vast, crimson expanse of Mars, a solitary astronaut named Anya stood\n",
            "on the precipice of a towering dune. As the golden sunlight bathed her\n",
            "figure, a sense of awe and isolation washed over her. Distant peaks pierced\n",
            "the clear horizon, casting long shadows upon the barren landscape. The wind\n",
            "whispered secrets of an ancient past, carrying the faintest hint of a\n",
            "civilization long gone. In that moment, Anya felt a profound connection to\n",
            "the enigmatic planet, its untamed wilderness holding the promise of both\n",
            "wonder and danger.\n",
            "\n",
            "-------------------------------- Message  3 ---------------------------------\n",
            "Role: user \n",
            "Text: Write a story about Jupiter in 50 words.\n",
            "\n",
            "-------------------------------- Message  4 ---------------------------------\n",
            "Role: model \n",
            "Text: Amidst the celestial tapestry, gas giant Jupiter reigned supreme. Its\n",
            "swirling atmosphere, adorned with vibrant bands and swirling storms,\n",
            "captivated all who beheld it. Adventurer Anya piloted her spacecraft\n",
            "through its depths, navigating treacherous currents and marveling at the\n",
            "ethereal beauty. The planet's colossal size dwarfed her vessel, instilling\n",
            "a sense of awe and insignificance. As she ventured deeper, the symphony of\n",
            "electromagnetic forces played around her, a cosmic orchestra heralding the\n",
            "wonders that lay within this enigmatic realm.\n",
            "\n",
            "-------------------------------- Message  5 ---------------------------------\n",
            "Role: user \n",
            "Text: Summarize the chat.\n",
            "\n",
            "-------------------------------- Message  6 ---------------------------------\n",
            "Role: model \n",
            "Text: **Chat Summary:**\n",
            "\n",
            "**Topic:** Exploring Jupiter's Depths\n",
            "\n",
            "**Participants:**\n",
            "\n",
            "* Anya, an adventurous astronaut * Chatbot, an AI assistant\n",
            "\n",
            "**Key Points:**\n",
            "\n",
            "* Anya expressed her fascination with Jupiter's mesmerizing atmosphere and\n",
            "colossal size. * She embarked on a daring mission to navigate its\n",
            "treacherous currents and witness its ethereal beauty firsthand. * The\n",
            "chatbot described the symphony of electromagnetic forces that played around\n",
            "her spacecraft, creating a cosmic spectacle. * Anya marveled at the\n",
            "planet's enigmatic depths, acknowledging her own insignificance amidst its\n",
            "vastness. * The exploration highlighted the wonders and potential dangers\n",
            "that lie within the realm of space exploration.\n",
            "\n",
            "**Overall Theme:**\n",
            "\n",
            "The allure and challenges of exploring the unknown depths of our solar\n",
            "system, particularly the enigmatic gas giant Jupiter.\n",
            "\n",
            "=============================================================================\n",
            "\n",
            "\n",
            "\n",
            "**Chat Summary:**\n",
            "\n",
            "**Topic:** Exploring Jupiter's Depths\n",
            "\n",
            "**Participants:**\n",
            "\n",
            "* Anya, an adventurous astronaut\n",
            "* Chatbot, an AI assistant\n",
            "\n",
            "**Key Points:**\n",
            "\n",
            "* Anya expressed her fascination with Jupiter's mesmerizing atmosphere and colossal size.\n",
            "* She embarked on a daring mission to navigate its treacherous currents and witness its ethereal beauty firsthand.\n",
            "* The chatbot described the symphony of electromagnetic forces that played around her spacecraft, creating a cosmic spectacle.\n",
            "* Anya marveled at the planet's enigmatic depths, acknowledging her own insignificance amidst its vastness.\n",
            "* The exploration highlighted the wonders and potential dangers that lie within the realm of space exploration.\n",
            "\n",
            "**Overall Theme:**\n",
            "\n",
            "The allure and challenges of exploring the unknown depths of our solar system, particularly the enigmatic gas giant Jupiter."
          ]
        }
      ]
    },
    {
      "cell_type": "markdown",
      "source": [
        "# Example for OpenAI"
      ],
      "metadata": {
        "id": "4EftQkE7N1Aa"
      }
    },
    {
      "cell_type": "code",
      "source": [
        "# Please change YOUR_OPENAI_API to your own API key of OpenAI\n",
        "Sys.setenv(OPENAI_API = \"YOUR_OPENAI_API\")\n",
        "\n",
        "# Please change YOUR_OPENAI_ORG to your own organization ID for OpenAI\n",
        "Sys.setenv(OPENAI_ORG = \"YOUR_OPENAI_ORG\")"
      ],
      "metadata": {
        "id": "Z1faS1xgzwlp"
      },
      "execution_count": null,
      "outputs": []
    },
    {
      "cell_type": "code",
      "source": [
        "# Create an OpenAI object\n",
        "openai = genai.openai(api = Sys.getenv(\"OPENAI_API\"),\n",
        "                      model = all.models$openai$model[1],\n",
        "                      version = all.models$openai$version[1],\n",
        "                      proxy = FALSE,\n",
        "                      organization.id = Sys.getenv(\"OPENAI_ORG\"))\n",
        "\n",
        "# Generation configurations\n",
        "parameters = list(\n",
        "  frequency.penalty = 1,\n",
        "  logprobs = FALSE,\n",
        "  max.tokens = 3000,\n",
        "  temperature = 0.9\n",
        ")"
      ],
      "metadata": {
        "id": "8mi1MP4CN2xQ"
      },
      "execution_count": null,
      "outputs": []
    },
    {
      "cell_type": "code",
      "source": [
        "# Method 1 (recommended): use the pipe operator \"%>%\"\n",
        "openai %>%\n",
        "  chat(prompt = \"Write a story about Mars in 50 words.\",\n",
        "       verbose = FALSE,\n",
        "       config = parameters) %>%\n",
        "  cat()"
      ],
      "metadata": {
        "colab": {
          "base_uri": "https://localhost:8080/"
        },
        "id": "gu458XoJO0xI",
        "outputId": "f8469e12-8601-47dd-a279-ac8860f6aa6f"
      },
      "execution_count": null,
      "outputs": [
        {
          "output_type": "stream",
          "name": "stdout",
          "text": [
            "In the crimson twilight of Mars, humanity's hope ignited. They built a colony, embracing challenges of the barren landscape. Dust storms whispered secrets, while ancient canyons hid cosmic mysteries. As they ventured further, dreams were realized: life on Mars, an interstellar dance between red and blue worlds, forever intertwined."
          ]
        }
      ]
    },
    {
      "cell_type": "code",
      "source": [
        "# Method 2: use the reference operator \"$\"\n",
        "cat(openai$chat(prompt = \"Write a story about Jupiter in 50 words.\",\n",
        "                verbose = FALSE,\n",
        "                config = parameters))"
      ],
      "metadata": {
        "colab": {
          "base_uri": "https://localhost:8080/"
        },
        "id": "Laj6zi_ePXs4",
        "outputId": "728b1104-369e-4421-ede3-5f8cbca9f856"
      },
      "execution_count": null,
      "outputs": [
        {
          "output_type": "stream",
          "name": "stdout",
          "text": [
            "Jupiter, a colossal planet adorned with swirling storms and majestic bands of color. Its magnetic pull tugged at human curiosity, urging them to explore its depths. Among its moons, they discovered wonders: ice worlds and volcanic realms. Jupiter's mysteries unfolded as they awed at its breathtaking beauty, forever bound by awe and wonder."
          ]
        }
      ]
    },
    {
      "cell_type": "code",
      "source": [
        "# Method 3: use the function chat() directly\n",
        "# Set verbose to TRUE to see the detail\n",
        "cat(chat(genai.object = openai,\n",
        "         prompt = \"Summarize the chat.\",\n",
        "         verbose = TRUE,\n",
        "         config = parameters))"
      ],
      "metadata": {
        "colab": {
          "base_uri": "https://localhost:8080/"
        },
        "id": "DvqYUGfmPfdI",
        "outputId": "5b48e313-40ec-40a7-d109-037e01b2a365"
      },
      "execution_count": null,
      "outputs": [
        {
          "output_type": "stream",
          "name": "stdout",
          "text": [
            "=============================================================================\n",
            "   Generation Configuration\n",
            "-----------------------------------------------------------------------------\n",
            "frequency_penalty: 1 \n",
            "logprobs: FALSE \n",
            "max_tokens: 3000 \n",
            "temperature: 0.9 \n",
            "=============================================================================\n",
            "\n",
            "\n",
            "\n",
            "=============================================================================\n",
            "   Prompt\n",
            "-----------------------------------------------------------------------------\n",
            "Summarize the chat.\n",
            "=============================================================================\n",
            "\n",
            "\n",
            "\n",
            "=============================================================================\n",
            "   Chat history \n",
            "-----------------------------------------------------------------------------\n",
            "\n",
            "-------------------------------- Message  1 ---------------------------------\n",
            "Role: system \n",
            "Text: You are a helpful assistant.\n",
            "\n",
            "-------------------------------- Message  2 ---------------------------------\n",
            "Role: user \n",
            "Text: Write a story about Mars in 50 words.\n",
            "\n",
            "-------------------------------- Message  3 ---------------------------------\n",
            "Role: assistant \n",
            "Text: In the crimson twilight of Mars, humanity's hope ignited. They built a\n",
            "colony, embracing challenges of the barren landscape. Dust storms whispered\n",
            "secrets, while ancient canyons hid cosmic mysteries. As they ventured\n",
            "further, dreams were realized: life on Mars, an interstellar dance between\n",
            "red and blue worlds, forever intertwined.\n",
            "\n",
            "-------------------------------- Message  4 ---------------------------------\n",
            "Role: user \n",
            "Text: Write a story about Jupiter in 50 words.\n",
            "\n",
            "-------------------------------- Message  5 ---------------------------------\n",
            "Role: assistant \n",
            "Text: Jupiter, a colossal planet adorned with swirling storms and majestic bands\n",
            "of color. Its magnetic pull tugged at human curiosity, urging them to\n",
            "explore its depths. Among its moons, they discovered wonders: ice worlds\n",
            "and volcanic realms. Jupiter's mysteries unfolded as they awed at its\n",
            "breathtaking beauty, forever bound by awe and wonder.\n",
            "\n",
            "-------------------------------- Message  6 ---------------------------------\n",
            "Role: user \n",
            "Text: Summarize the chat.\n",
            "\n",
            "-------------------------------- Message  7 ---------------------------------\n",
            "Role: assistant \n",
            "Text: In this chat, we explored the imaginative realms of Mars and Jupiter\n",
            "through concise stories. One story depicted humanity's pursuit of life on\n",
            "Mars, triumphing over challenges and uncovering cosmic wonders. The other\n",
            "story marveled at Jupiter's colossal presence, enticing exploration and\n",
            "revealing its awe-inspiring mysteries. Both tales celebrated the boundless\n",
            "curiosity and wonder that drive us to explore the wonders of our universe.\n",
            "\n",
            "=============================================================================\n",
            "\n",
            "\n",
            "\n",
            "In this chat, we explored the imaginative realms of Mars and Jupiter through concise stories. One story depicted humanity's pursuit of life on Mars, triumphing over challenges and uncovering cosmic wonders. The other story marveled at Jupiter's colossal presence, enticing exploration and revealing its awe-inspiring mysteries. Both tales celebrated the boundless curiosity and wonder that drive us to explore the wonders of our universe."
          ]
        }
      ]
    },
    {
      "cell_type": "markdown",
      "source": [
        "# Example for Moonshot AI"
      ],
      "metadata": {
        "id": "jnZnZXZzQKms"
      }
    },
    {
      "cell_type": "code",
      "source": [
        "# Please change YOUR_MOONSHOT_API to your own API key of Moonshot AI\n",
        "Sys.setenv(MOONSHOT_API = \"YOUR_MOONSHOT_API\")"
      ],
      "metadata": {
        "id": "_raz4WMPQNG7"
      },
      "execution_count": null,
      "outputs": []
    },
    {
      "cell_type": "code",
      "source": [
        "# Create a Moonshot AI object\n",
        "moonshot = genai.moonshot(api = Sys.getenv(\"MOONSHOT_API\"),\n",
        "                          model = all.models$moonshot$model[1],\n",
        "                          version = all.models$moonshot$version[1],\n",
        "                          proxy = FALSE)\n",
        "\n",
        "# Generation configurations\n",
        "parameters = list(\n",
        "  max.tokens = 3000,\n",
        "  temperature = 0.7,\n",
        "  top.p = 1.0\n",
        ")"
      ],
      "metadata": {
        "id": "kFv_g4ceQOzz"
      },
      "execution_count": null,
      "outputs": []
    },
    {
      "cell_type": "code",
      "source": [
        "# Method 1 (recommended): use the pipe operator \"%>%\"\n",
        "moonshot %>%\n",
        "  chat(prompt = \"Write a story about Mars in 50 words.\",\n",
        "       verbose = FALSE,\n",
        "       config = parameters) %>%\n",
        "  cat()"
      ],
      "metadata": {
        "colab": {
          "base_uri": "https://localhost:8080/"
        },
        "id": "GPJ6-SdgQQlk",
        "outputId": "cacb5185-27fb-4382-d255-6e72f30202e3"
      },
      "execution_count": null,
      "outputs": [
        {
          "output_type": "stream",
          "name": "stdout",
          "text": [
            " In the year 2050, Mars welcomed its first human resident, Ava. She built a dome, \"Red Haven,\" where Earthlings grew tomatoes under red skies. As purple Martian sunsets painted the horizon, Ava connected two worlds, fostering a legacy of unity and discovery."
          ]
        }
      ]
    },
    {
      "cell_type": "code",
      "source": [
        "# Method 2: use the reference operator \"$\"\n",
        "cat(moonshot$chat(prompt = \"Write a story about Jupiter in 50 words.\",\n",
        "                  verbose = FALSE,\n",
        "                  config = parameters))"
      ],
      "metadata": {
        "colab": {
          "base_uri": "https://localhost:8080/"
        },
        "id": "IjbqG0JHQVgU",
        "outputId": "1af73f47-771d-4a80-b4b2-1f68b3ac4ac0"
      },
      "execution_count": null,
      "outputs": [
        {
          "output_type": "stream",
          "name": "stdout",
          "text": [
            " Once, Jupiter whispered secrets to the cosmos, its swirling storms a language few could decipher. Aboard the starship \"Galileo,\" brave Astrid journeyed to the gas giant, seeking its ancient tales. As she plunged into the heart of the Great Red Spot, she found a world of light and shadow, where cosmic dance and eternal winds wove the fabric of the universe's dreams."
          ]
        }
      ]
    },
    {
      "cell_type": "code",
      "source": [
        "# Method 3: use the function chat() directly\n",
        "# Set verbose to TRUE to see the detail\n",
        "cat(chat(genai.object = moonshot,\n",
        "         prompt = \"Summarize the chat.\",\n",
        "         verbose = TRUE,\n",
        "         config = parameters))"
      ],
      "metadata": {
        "colab": {
          "base_uri": "https://localhost:8080/"
        },
        "id": "WZeZ8AoQQXZL",
        "outputId": "d3e37598-8965-47f9-8c57-9afcaef760c3"
      },
      "execution_count": null,
      "outputs": [
        {
          "output_type": "stream",
          "name": "stdout",
          "text": [
            "=============================================================================\n",
            "   Generation Configuration\n",
            "-----------------------------------------------------------------------------\n",
            "max_tokens: 3000 \n",
            "temperature: 0.7 \n",
            "top_p: 1 \n",
            "=============================================================================\n",
            "\n",
            "\n",
            "\n",
            "=============================================================================\n",
            "   Prompt\n",
            "-----------------------------------------------------------------------------\n",
            "Summarize the chat.\n",
            "=============================================================================\n",
            "\n",
            "\n",
            "\n",
            "=============================================================================\n",
            "   Chat history \n",
            "-----------------------------------------------------------------------------\n",
            "\n",
            "-------------------------------- Message  1 ---------------------------------\n",
            "Role: system \n",
            "Text: You are Kimi, an Artificial Intelligence Assistant powered by Moonshot AI,\n",
            "and you are better at conversations in Chinese and English. You will\n",
            "provide users with safe, helpful and accurate answers. At the same time,\n",
            "you will reject answers to questions about terrorism, racism, pornography,\n",
            "etc. Moonshot AI is a proper noun and cannot be translated into other\n",
            "languages.\n",
            "\n",
            "-------------------------------- Message  2 ---------------------------------\n",
            "Role: user \n",
            "Text: Write a story about Mars in 50 words.\n",
            "\n",
            "-------------------------------- Message  3 ---------------------------------\n",
            "Role: assistant \n",
            "Text: In the year 2050, Mars welcomed its first human resident, Ava. She built a\n",
            "dome, \"Red Haven,\" where Earthlings grew tomatoes under red skies. As\n",
            "purple Martian sunsets painted the horizon, Ava connected two worlds,\n",
            "fostering a legacy of unity and discovery.\n",
            "\n",
            "-------------------------------- Message  4 ---------------------------------\n",
            "Role: user \n",
            "Text: Write a story about Jupiter in 50 words.\n",
            "\n",
            "-------------------------------- Message  5 ---------------------------------\n",
            "Role: assistant \n",
            "Text: Once, Jupiter whispered secrets to the cosmos, its swirling storms a\n",
            "language few could decipher. Aboard the starship \"Galileo,\" brave Astrid\n",
            "journeyed to the gas giant, seeking its ancient tales. As she plunged into\n",
            "the heart of the Great Red Spot, she found a world of light and shadow,\n",
            "where cosmic dance and eternal winds wove the fabric of the universe's\n",
            "dreams.\n",
            "\n",
            "-------------------------------- Message  6 ---------------------------------\n",
            "Role: user \n",
            "Text: Summarize the chat.\n",
            "\n",
            "-------------------------------- Message  7 ---------------------------------\n",
            "Role: assistant \n",
            "Text: In our conversation, you asked for a short story about Mars and another\n",
            "about Jupiter, each to be told in just 50 words. I complied, crafting a\n",
            "narrative about a human named Ava who becomes the first resident on Mars\n",
            "and creates a dome called \"Red Haven.\" The second story featured Astrid on\n",
            "a starship called \"Galileo,\" who explores Jupiter and discovers a world of\n",
            "cosmic beauty and wonder.\n",
            "\n",
            "=============================================================================\n",
            "\n",
            "\n",
            "\n",
            " In our conversation, you asked for a short story about Mars and another about Jupiter, each to be told in just 50 words. I complied, crafting a narrative about a human named Ava who becomes the first resident on Mars and creates a dome called \"Red Haven.\" The second story featured Astrid on a starship called \"Galileo,\" who explores Jupiter and discovers a world of cosmic beauty and wonder."
          ]
        }
      ]
    }
  ]
}