{
  "nbformat": 4,
  "nbformat_minor": 0,
  "metadata": {
    "colab": {
      "provenance": [],
      "authorship_tag": "ABX9TyNSrFxq9w6cROTQAV1b+w0T",
      "include_colab_link": true
    },
    "kernelspec": {
      "name": "ir",
      "display_name": "R"
    },
    "language_info": {
      "name": "R"
    }
  },
  "cells": [
    {
      "cell_type": "markdown",
      "metadata": {
        "id": "view-in-github",
        "colab_type": "text"
      },
      "source": [
        "<a href=\"https://colab.research.google.com/github/GitData-GA/GenAI/blob/gh-pages/R/example/available_models.ipynb\" target=\"_parent\"><img src=\"https://colab.research.google.com/assets/colab-badge.svg\" alt=\"Open In Colab\"/></a>"
      ]
    },
    {
      "cell_type": "markdown",
      "source": [
        "# Installation"
      ],
      "metadata": {
        "id": "E6z3XR62muaT"
      }
    },
    {
      "cell_type": "code",
      "execution_count": 1,
      "metadata": {
        "colab": {
          "base_uri": "https://localhost:8080/"
        },
        "id": "iynftfOXmfpS",
        "outputId": "6a120840-cd44-4784-b2cd-f998f508803f"
      },
      "outputs": [
        {
          "output_type": "stream",
          "name": "stderr",
          "text": [
            "Installing package into ‘/usr/local/lib/R/site-library’\n",
            "(as ‘lib’ is unspecified)\n",
            "\n",
            "\n",
            "Attaching package: ‘GenAI’\n",
            "\n",
            "\n",
            "The following object is masked from ‘package:graphics’:\n",
            "\n",
            "    text\n",
            "\n",
            "\n"
          ]
        }
      ],
      "source": [
        "install.packages(\"https://genai.gd.edu.kg/release/R/GenAI_latest.tar.gz\", repos=NULL, method=\"libcurl\")\n",
        "library(\"GenAI\")"
      ]
    },
    {
      "cell_type": "markdown",
      "source": [
        "# Example of `available.models`"
      ],
      "metadata": {
        "id": "K8l56vWzmwjq"
      }
    },
    {
      "cell_type": "code",
      "source": [
        "models = available.models()\n",
        "models"
      ],
      "metadata": {
        "colab": {
          "base_uri": "https://localhost:8080/",
          "height": 261
        },
        "id": "kCbrjF1zm23L",
        "outputId": "90b82b4c-5d7b-4e17-c76d-9260332ecc48"
      },
      "execution_count": 2,
      "outputs": [
        {
          "output_type": "display_data",
          "data": {
            "text/html": [
              "<dl>\n",
              "\t<dt>$google</dt>\n",
              "\t\t<dd><dl>\n",
              "\t<dt>$version</dt>\n",
              "\t\t<dd><style>\n",
              ".list-inline {list-style: none; margin:0; padding: 0}\n",
              ".list-inline>li {display: inline-block}\n",
              ".list-inline>li:not(:last-child)::after {content: \"\\00b7\"; padding: 0 .5ex}\n",
              "</style>\n",
              "<ol class=list-inline><li>'v1'</li><li>'v1beta'</li></ol>\n",
              "</dd>\n",
              "\t<dt>$model</dt>\n",
              "\t\t<dd><style>\n",
              ".list-inline {list-style: none; margin:0; padding: 0}\n",
              ".list-inline>li {display: inline-block}\n",
              ".list-inline>li:not(:last-child)::after {content: \"\\00b7\"; padding: 0 .5ex}\n",
              "</style>\n",
              "<ol class=list-inline><li>'gemini-pro'</li><li>'gemini-pro-vision'</li></ol>\n",
              "</dd>\n",
              "</dl>\n",
              "</dd>\n",
              "\t<dt>$openai</dt>\n",
              "\t\t<dd><dl>\n",
              "\t<dt>$version</dt>\n",
              "\t\t<dd>'v1'</dd>\n",
              "\t<dt>$model</dt>\n",
              "\t\t<dd><style>\n",
              ".list-inline {list-style: none; margin:0; padding: 0}\n",
              ".list-inline>li {display: inline-block}\n",
              ".list-inline>li:not(:last-child)::after {content: \"\\00b7\"; padding: 0 .5ex}\n",
              "</style>\n",
              "<ol class=list-inline><li>'gpt-3.5-turbo'</li><li>'gpt-3.5-turbo-16k'</li><li>'gpt-4'</li><li>'gpt-4-32k'</li><li>'gpt-4-vision-preview'</li></ol>\n",
              "</dd>\n",
              "</dl>\n",
              "</dd>\n",
              "</dl>\n"
            ],
            "text/markdown": "$google\n:   $version\n:   1. 'v1'\n2. 'v1beta'\n\n\n\n$model\n:   1. 'gemini-pro'\n2. 'gemini-pro-vision'\n\n\n\n\n\n\n$openai\n:   $version\n:   'v1'\n$model\n:   1. 'gpt-3.5-turbo'\n2. 'gpt-3.5-turbo-16k'\n3. 'gpt-4'\n4. 'gpt-4-32k'\n5. 'gpt-4-vision-preview'\n\n\n\n\n\n\n\n\n",
            "text/latex": "\\begin{description}\n\\item[\\$google] \\begin{description}\n\\item[\\$version] \\begin{enumerate*}\n\\item 'v1'\n\\item 'v1beta'\n\\end{enumerate*}\n\n\\item[\\$model] \\begin{enumerate*}\n\\item 'gemini-pro'\n\\item 'gemini-pro-vision'\n\\end{enumerate*}\n\n\\end{description}\n\n\\item[\\$openai] \\begin{description}\n\\item[\\$version] 'v1'\n\\item[\\$model] \\begin{enumerate*}\n\\item 'gpt-3.5-turbo'\n\\item 'gpt-3.5-turbo-16k'\n\\item 'gpt-4'\n\\item 'gpt-4-32k'\n\\item 'gpt-4-vision-preview'\n\\end{enumerate*}\n\n\\end{description}\n\n\\end{description}\n",
            "text/plain": [
              "$google\n",
              "$google$version\n",
              "[1] \"v1\"     \"v1beta\"\n",
              "\n",
              "$google$model\n",
              "[1] \"gemini-pro\"        \"gemini-pro-vision\"\n",
              "\n",
              "\n",
              "$openai\n",
              "$openai$version\n",
              "[1] \"v1\"\n",
              "\n",
              "$openai$model\n",
              "[1] \"gpt-3.5-turbo\"        \"gpt-3.5-turbo-16k\"    \"gpt-4\"               \n",
              "[4] \"gpt-4-32k\"            \"gpt-4-vision-preview\"\n",
              "\n"
            ]
          },
          "metadata": {}
        }
      ]
    }
  ]
}