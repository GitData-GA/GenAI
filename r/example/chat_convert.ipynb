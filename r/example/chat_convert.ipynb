{
  "nbformat": 4,
  "nbformat_minor": 0,
  "metadata": {
    "colab": {
      "provenance": [],
      "include_colab_link": true
    },
    "kernelspec": {
      "name": "ir",
      "display_name": "R"
    },
    "language_info": {
      "name": "R"
    }
  },
  "cells": [
    {
      "cell_type": "markdown",
      "metadata": {
        "id": "view-in-github",
        "colab_type": "text"
      },
      "source": [
        "<a href=\"https://colab.research.google.com/github/GitData-GA/GenAI/blob/gh-pages/r/example/chat_convert.ipynb\" target=\"_parent\"><img src=\"https://colab.research.google.com/assets/colab-badge.svg\" alt=\"Open In Colab\"/></a>"
      ]
    },
    {
      "cell_type": "markdown",
      "source": [
        "# Installation"
      ],
      "metadata": {
        "id": "mDBGn0Qzsql5"
      }
    },
    {
      "cell_type": "code",
      "execution_count": 1,
      "metadata": {
        "colab": {
          "base_uri": "https://localhost:8080/"
        },
        "id": "EQ5mDg9-siid",
        "outputId": "37c4acd4-5e6e-4080-d03e-8de4d4024c46"
      },
      "outputs": [
        {
          "output_type": "stream",
          "name": "stderr",
          "text": [
            "Installing package into ‘/usr/local/lib/R/site-library’\n",
            "(as ‘lib’ is unspecified)\n",
            "\n",
            "\n",
            "Attaching package: ‘GenAI’\n",
            "\n",
            "\n",
            "The following object is masked from ‘package:graphics’:\n",
            "\n",
            "    text\n",
            "\n",
            "\n"
          ]
        }
      ],
      "source": [
        "install.packages(\"https://genai.gd.edu.kg/release/R/GenAI_latest.tar.gz\", repos=NULL, method=\"libcurl\")\n",
        "library(\"GenAI\")"
      ]
    },
    {
      "cell_type": "markdown",
      "source": [
        "# Example of `chat.convert`"
      ],
      "metadata": {
        "id": "LE9e2MEXs0av"
      }
    },
    {
      "cell_type": "markdown",
      "source": [
        "## Get available models"
      ],
      "metadata": {
        "id": "UdwTs_oitM8A"
      }
    },
    {
      "cell_type": "code",
      "source": [
        "models = available.models()"
      ],
      "metadata": {
        "id": "S0lunMhxtOl_"
      },
      "execution_count": 2,
      "outputs": []
    },
    {
      "cell_type": "markdown",
      "source": [
        "## Connect to the Google model, replace API_KEY with your api key"
      ],
      "metadata": {
        "id": "ODWMwKhotSJ3"
      }
    },
    {
      "cell_type": "code",
      "source": [
        "google.model = connect.genai(\"google\",\n",
        "                             models$google$model[1],\n",
        "                             models$google$version[1],\n",
        "                             \"API_KEY\",\n",
        "                             FALSE)"
      ],
      "metadata": {
        "id": "l8J1UXkcs6dP"
      },
      "execution_count": 3,
      "outputs": []
    },
    {
      "cell_type": "markdown",
      "source": [
        "## Connect to the OpenAI model, replace API_KEY with your api key"
      ],
      "metadata": {
        "id": "uS1aPHGTtcB2"
      }
    },
    {
      "cell_type": "code",
      "source": [
        "openai.model = connect.genai(\"openai\",\n",
        "                             models$openai$model[1],\n",
        "                             models$openai$version[1],\n",
        "                             \"API_KEY\",\n",
        "                             FALSE)"
      ],
      "metadata": {
        "id": "aDFBTfvOtg_Y"
      },
      "execution_count": 4,
      "outputs": []
    },
    {
      "cell_type": "markdown",
      "source": [
        "## Setup an empty chat history"
      ],
      "metadata": {
        "id": "Jf6V3SI1Q-jb"
      }
    },
    {
      "cell_type": "code",
      "source": [
        "google.history = chat.setup(google.model)\n",
        "openai.history = chat.setup(openai.model)"
      ],
      "metadata": {
        "id": "ZKDbrPDfRBnr"
      },
      "execution_count": 5,
      "outputs": []
    },
    {
      "cell_type": "markdown",
      "source": [
        "## Generate chat"
      ],
      "metadata": {
        "id": "OXcUsNr26AgS"
      }
    },
    {
      "cell_type": "code",
      "source": [
        "temperature = 0.9\n",
        "prompt = \"Write a story about a magic backpack in about 100 words.\""
      ],
      "metadata": {
        "id": "erZ24Exi6QiI"
      },
      "execution_count": 6,
      "outputs": []
    },
    {
      "cell_type": "code",
      "source": [
        "google.history = chat(google.model,\n",
        "                      temperature,\n",
        "                      google.history,\n",
        "                      prompt)\n",
        "cat(chat.recent(google.model, google.history))"
      ],
      "metadata": {
        "colab": {
          "base_uri": "https://localhost:8080/"
        },
        "id": "II9TiP606WmR",
        "outputId": "71d68896-766a-4a40-9a35-e8de1a946974"
      },
      "execution_count": 7,
      "outputs": [
        {
          "output_type": "stream",
          "name": "stdout",
          "text": [
            "Once upon a time, a young girl named Amelia received a remarkable gift for her 10th birthday. It was a backpack, crafted from a mysterious fabric that shimmered mysteriously under the sunlight. Little did Amelia know, this backpack held an extraordinary secret.\n",
            "\n",
            "Whenever Amelia placed an object inside the magic backpack, it would instantly transport it to a chosen destination of her choice. All she had to do was utter the name of the place and the object would vanish from her bag, appearing in the desired location. This magical ability proved to be an enormous convenience. Amelia could take her library books to school by simply pronouncing its classroom's name, and her packed lunch miraculously appeared in the school cafeteria right at lunchtime.\n",
            "\n",
            "Amelia's backpack became the talk of her classmates. They marveled at its powers and longed to possess such a magical item. Amelia, however, cherished her unique backpack, understanding that its true value lay not in its enchantment but in the endless possibilities and joyful adventures it brought to her life."
          ]
        }
      ]
    },
    {
      "cell_type": "code",
      "source": [
        "openai.history = chat(openai.model,\n",
        "                      temperature,\n",
        "                      openai.history,\n",
        "                      prompt)\n",
        "cat(chat.recent(openai.model, openai.history))"
      ],
      "metadata": {
        "colab": {
          "base_uri": "https://localhost:8080/"
        },
        "id": "D22ueBeb5-yI",
        "outputId": "c7863d5b-441e-4f4a-feaa-b5326debf274"
      },
      "execution_count": 8,
      "outputs": [
        {
          "output_type": "stream",
          "name": "stdout",
          "text": [
            "Once upon a time, in a small village, there lived a young boy named Oliver. One day, while adventuring in the attic of his grandfather's house, he discovered a dusty old backpack. Little did he know, this backpack was no ordinary one. It possessed magical powers. As soon as Oliver put it on, it transformed into a portal to different worlds. With each adventure, the backpack granted him special abilities, like flying, invisibility, and even talking to animals. Oliver used his newfound powers to help those in need, spreading joy and kindness wherever he went. The magic backpack became his loyal companion, making every day an extraordinary one."
          ]
        }
      ]
    },
    {
      "cell_type": "code",
      "source": [
        "prompt = \"What is the word count of the story you just wrote?\""
      ],
      "metadata": {
        "id": "-gWq9fBLRKvD"
      },
      "execution_count": 9,
      "outputs": []
    },
    {
      "cell_type": "code",
      "source": [
        "google.history = chat(google.model,\n",
        "                      temperature,\n",
        "                      google.history,\n",
        "                      prompt)\n",
        "cat(chat.recent(google.model, google.history))"
      ],
      "metadata": {
        "colab": {
          "base_uri": "https://localhost:8080/"
        },
        "id": "6CLRI034RN9b",
        "outputId": "5e18409d-04c7-4efc-ff85-46f595c645eb"
      },
      "execution_count": 10,
      "outputs": [
        {
          "output_type": "stream",
          "name": "stdout",
          "text": [
            "The word count of the story I wrote about the magic backpack is **83 words**.\n",
            "\n",
            "I counted the words by splitting the story into individual words and then counting the number of words in the list. I excluded punctuation marks and spaces from the count.\n",
            "\n",
            "Here is a breakdown of the word count:\n",
            "\n",
            "* **Total words:** 83\n",
            "* **Total words excluding \"the\":** 75\n",
            "* **Total unique words:** 49\n",
            "\n",
            "I hope this is helpful!"
          ]
        }
      ]
    },
    {
      "cell_type": "code",
      "source": [
        "openai.history = chat(openai.model,\n",
        "                      temperature,\n",
        "                      openai.history,\n",
        "                      prompt)\n",
        "cat(chat.recent(openai.model, openai.history))"
      ],
      "metadata": {
        "colab": {
          "base_uri": "https://localhost:8080/"
        },
        "id": "EsmSh8k-RfgE",
        "outputId": "4ffbb99e-c1a4-4581-bb38-058124e1d77a"
      },
      "execution_count": 11,
      "outputs": [
        {
          "output_type": "stream",
          "name": "stdout",
          "text": [
            "The word count of the story I just wrote is 98 words."
          ]
        }
      ]
    },
    {
      "cell_type": "markdown",
      "source": [
        "## Convert chat history"
      ],
      "metadata": {
        "id": "aBV9uU0iUlq4"
      }
    },
    {
      "cell_type": "code",
      "source": [
        "converted.google.history = chat.convert(openai.model,\n",
        "                                        openai.history,\n",
        "                                        google.model)\n",
        "\n",
        "converted.openai.history = chat.convert(google.model,\n",
        "                                        google.history,\n",
        "                                        openai.model)"
      ],
      "metadata": {
        "id": "KUtH9-raUg5K"
      },
      "execution_count": 12,
      "outputs": []
    },
    {
      "cell_type": "code",
      "source": [
        "prompt = \"Now rewrite the story. No word limit.\""
      ],
      "metadata": {
        "id": "iNUf4BwoUtW4"
      },
      "execution_count": 13,
      "outputs": []
    },
    {
      "cell_type": "code",
      "source": [
        "converted.google.history = chat(google.model,\n",
        "                                temperature,\n",
        "                                converted.google.history,\n",
        "                                prompt)\n",
        "cat(chat.recent(google.model, converted.google.history))"
      ],
      "metadata": {
        "colab": {
          "base_uri": "https://localhost:8080/"
        },
        "id": "MkZhbhi8UveI",
        "outputId": "1face5c4-9be5-4a78-a418-b5244e8e1052"
      },
      "execution_count": 14,
      "outputs": [
        {
          "output_type": "stream",
          "name": "stdout",
          "text": [
            "In the heart of a quaint village nestled amidst rolling hills, there lived a young boy named Oliver. His inquisitive nature and adventurous spirit often led him to explore hidden nooks and crannies, seeking secrets waiting to be unveiled. One fateful day, while delving into the depths of his grandfather's attic, he stumbled upon a forgotten treasure—a dusty old backpack.\n",
            "\n",
            "Curiosity piqued, Oliver gingerly lifted the backpack and brushed away the cobwebs that clung to it. As his fingers grazed its worn leather exterior, a surge of energy coursed through him. Little did he know, this was no ordinary backpack; it was a portal to realms beyond imagination.\n",
            "\n",
            "With a newfound sense of wonder, Oliver fastened the backpack onto his shoulders. In an instant, the world around him shimmered and transformed. He found himself transported to a vibrant forest, where trees reached for the sky and whispered secrets in the wind.\n",
            "\n",
            "From that moment on, Oliver's life took on an extraordinary hue. With each adventure, the backpack granted him unique and wondrous powers. He soared through the skies like a majestic eagle, traversed dense jungles with the agility of a panther, and conversed with creatures great and small, understanding their languages as if they were his own.\n",
            "\n",
            "Oliver embarked on quests that tested his courage, kindness, and wisdom. He rescued lost travelers from treacherous mountains, aided talking animals in their hour of need, and brought harmony to warring kingdoms. The magic backpack became his trusted companion, a source of endless possibilities and a testament to the boundless power of imagination.\n",
            "\n",
            "Through his adventures, Oliver spread joy and laughter wherever he went, leaving an indelible mark on the hearts of all who crossed his path. And so, the tale of Oliver and his magic backpack became a legend whispered among the villagers, a story that would be told for generations to come."
          ]
        }
      ]
    },
    {
      "cell_type": "code",
      "source": [
        "converted.openai.history = chat(openai.model,\n",
        "                                temperature,\n",
        "                                converted.openai.history,\n",
        "                                prompt)\n",
        "cat(chat.recent(openai.model, converted.openai.history))"
      ],
      "metadata": {
        "colab": {
          "base_uri": "https://localhost:8080/"
        },
        "id": "fZczpECpUxR3",
        "outputId": "104114d1-19b1-45b0-8495-6e4c285d1d23"
      },
      "execution_count": 15,
      "outputs": [
        {
          "output_type": "stream",
          "name": "stdout",
          "text": [
            "Once upon a time, in a small village nestled between towering mountains, lived a young girl named Amelia. She was an imaginative and curious child, always yearning for adventure. On her 10th birthday, something extraordinary happened. Amelia's grandmother, known for her mystical powers, gifted her a backpack unlike any other.\n",
            "\n",
            "This backpack was made from a fabric that shimmered with a magical glow under the sunlight. It seemed to hold secrets within its very threads. As Amelia held it in her hands, her grandmother whispered, \"This backpack possesses the power of transportation. Whatever you place inside and name a destination, it will instantaneously transport there.\"\n",
            "\n",
            "Amelia's eyes widened with wonder. She couldn't believe her luck. The possibilities seemed endless. With her new companion, she embarked on a journey of discovery.\n",
            "\n",
            "The first object she decided to experiment with was a small toy horse. Holding it tightly, she closed her eyes and whispered, \"Toyshop.\" In an instant, the horse vanished from her hands. She opened her eyes, and there it was, magically sitting on a shelf inside the local toy store.\n",
            "\n",
            "Amelia's heart raced with excitement. This magical backpack would revolutionize her world. She used it to transport her library books to school, her forgotten homework to her bedroom, and even her lunch to the school cafeteria, making her the envy of her classmates.\n",
            "\n",
            "But it wasn't just about convenience for Amelia. The backpack became her trusted companion, a gateway to endless adventures. With a sense of awe and responsibility, she used its powers to help others and explore far-off places.\n",
            "\n",
            "She transported medicine to a sick neighbor, sparing them a long journey to the pharmacy. She sent letters to friends across the world, making them feel closer than ever before. The backpack became a vessel of hope, bridging distances and spreading joy.\n",
            "\n",
            "As Amelia grew older, she realized that the true magic wasn't just in the backpack itself, but in the connections it fostered and the experiences it enabled. It taught her the power of kindness, empathy, and being resourceful.\n",
            "\n",
            "Years passed, and Amelia passed the backpack down to her own daughter, igniting a new generation of adventures. But the backpack held more than just magical abilities; it held memories, love, and the spirit of exploration.\n",
            "\n",
            "And so, the legend of the magic backpack continued, whispering its wonders to all those who dared to dream and set forth on extraordinary journeys."
          ]
        }
      ]
    }
  ]
}
