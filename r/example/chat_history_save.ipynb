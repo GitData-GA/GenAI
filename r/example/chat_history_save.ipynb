{
  "nbformat": 4,
  "nbformat_minor": 0,
  "metadata": {
    "colab": {
      "provenance": [],
      "include_colab_link": true
    },
    "kernelspec": {
      "name": "ir",
      "display_name": "R"
    },
    "language_info": {
      "name": "R"
    }
  },
  "cells": [
    {
      "cell_type": "markdown",
      "metadata": {
        "id": "view-in-github",
        "colab_type": "text"
      },
      "source": [
        "<a href=\"https://colab.research.google.com/github/GitData-GA/GenAI/blob/gh-pages/r/example/chat_history_save.ipynb\" target=\"_parent\"><img src=\"https://colab.research.google.com/assets/colab-badge.svg\" alt=\"Open In Colab\"/></a>"
      ]
    },
    {
      "cell_type": "markdown",
      "source": [
        "# Installation & Setup\n"
      ],
      "metadata": {
        "id": "mDBGn0Qzsql5"
      }
    },
    {
      "cell_type": "code",
      "source": [
        "# The following commands are for Colab only\n",
        "system('add-apt-repository -y ppa:cran/imagemagick')\n",
        "system('apt-get update')\n",
        "system(\"apt-get install libmagick++-dev\")"
      ],
      "metadata": {
        "id": "vOn2PTjeC3xb"
      },
      "execution_count": 1,
      "outputs": []
    },
    {
      "cell_type": "code",
      "execution_count": 2,
      "metadata": {
        "colab": {
          "base_uri": "https://localhost:8080/"
        },
        "id": "EQ5mDg9-siid",
        "outputId": "58239498-b81f-45ae-c1e8-ed04a6e99beb"
      },
      "outputs": [
        {
          "output_type": "stream",
          "name": "stderr",
          "text": [
            "Installing package into ‘/usr/local/lib/R/site-library’\n",
            "(as ‘lib’ is unspecified)\n",
            "\n",
            "also installing the dependencies ‘Rcpp’, ‘gridGraphics’, ‘yulab.utils’, ‘listenv’, ‘magick’, ‘ggplotify’\n",
            "\n",
            "\n",
            "Loading required package: magrittr\n",
            "\n"
          ]
        }
      ],
      "source": [
        "# Install the library (usually 1 - 3 minutes in Colab)\n",
        "install.packages(\"GenAI\")\n",
        "library(\"GenAI\")"
      ]
    },
    {
      "cell_type": "markdown",
      "source": [
        "# Get Available Models"
      ],
      "metadata": {
        "id": "UdwTs_oitM8A"
      }
    },
    {
      "cell_type": "code",
      "source": [
        "all.models = available.models() %>% print()"
      ],
      "metadata": {
        "id": "S0lunMhxtOl_",
        "colab": {
          "base_uri": "https://localhost:8080/"
        },
        "outputId": "fd9dae64-7052-48aa-8be9-c1028e2c9a0a"
      },
      "execution_count": 3,
      "outputs": [
        {
          "output_type": "stream",
          "name": "stdout",
          "text": [
            "$google\n",
            "$google$version\n",
            "[1] \"v1\"     \"v1beta\"\n",
            "\n",
            "$google$model\n",
            "[1] \"gemini-pro\"                   \"gemini-pro-vision\"           \n",
            "[3] \"gemini-1.0-pro\"               \"gemini-1.0-pro-001\"          \n",
            "[5] \"gemini-1.0-pro-latest\"        \"gemini-1.0-pro-vision-latest\"\n",
            "\n",
            "\n",
            "$openai\n",
            "$openai$version\n",
            "[1] \"v1\"\n",
            "\n",
            "$openai$model\n",
            "[1] \"gpt-3.5-turbo\"        \"gpt-3.5-turbo-1106\"   \"gpt-3.5-turbo-16k\"   \n",
            "[4] \"gpt-4\"                \"gpt-4-1106-preview\"   \"gpt-4-32k\"           \n",
            "[7] \"gpt-4-vision-preview\" \"dall-e-2\"             \"dall-e-3\"            \n",
            "\n",
            "\n",
            "$moonshot\n",
            "$moonshot$version\n",
            "[1] \"v1\"\n",
            "\n",
            "$moonshot$model\n",
            "[1] \"moonshot-v1-8k\"   \"moonshot-v1-32k\"  \"moonshot-v1-128k\"\n",
            "\n",
            "\n"
          ]
        }
      ]
    },
    {
      "cell_type": "markdown",
      "source": [
        "# Example for Google Generative AI"
      ],
      "metadata": {
        "id": "-UQDLvx8C6WS"
      }
    },
    {
      "cell_type": "code",
      "source": [
        "# Please change YOUR_GOOGLE_API to your own API key of Google Generative AI\n",
        "Sys.setenv(GOOGLE_API = \"YOUR_GOOGLE_API\")"
      ],
      "metadata": {
        "id": "sQTVbYJYm-ar"
      },
      "execution_count": 4,
      "outputs": []
    },
    {
      "cell_type": "code",
      "source": [
        "# Create a Google Generative AI object\n",
        "google = genai.google(api = Sys.getenv(\"GOOGLE_API\"),\n",
        "                      model = all.models$google$model[1],\n",
        "                      version = all.models$google$version[1],\n",
        "                      proxy = FALSE)\n",
        "\n",
        "# Generation configurations\n",
        "parameters = list(\n",
        "  harm.category.dangerous.content = 5,\n",
        "  harm.category.harassment = 5,\n",
        "  max.output.tokens = 4096,\n",
        "  temperature = 0.9\n",
        ")"
      ],
      "metadata": {
        "id": "qtM6orwIC564"
      },
      "execution_count": 5,
      "outputs": []
    },
    {
      "cell_type": "code",
      "source": [
        "# Start a chat session\n",
        "prompts = c(\"Write a story about Mars in 50 words.\",\n",
        "            \"Write a story about Jupiter in 50 words.\",\n",
        "            \"Summarize the chat.\")\n",
        "for (prompt in prompts) {\n",
        "  google %>%\n",
        "    chat(prompt = prompt,\n",
        "         verbose = FALSE,\n",
        "         config = parameters) %>%\n",
        "    strwrap(width = 76, exdent = 0) %>%\n",
        "    paste(collapse = \"\\n\") %>%\n",
        "    cat(\"\\n\\n\\n\")\n",
        "}"
      ],
      "metadata": {
        "colab": {
          "base_uri": "https://localhost:8080/"
        },
        "id": "z3j_BQupDAL4",
        "outputId": "53ac4f44-2d3f-41cf-c3fd-1023c7e6710e"
      },
      "execution_count": 6,
      "outputs": [
        {
          "output_type": "stream",
          "name": "stdout",
          "text": [
            "In the desolate realm of Mars, a lone rover named Odyssey embarked on an\n",
            "extraordinary mission to uncover the planet's enigmatic past. As it\n",
            "traversed crimson sands and explored ancient canyons, Odyssey unearthed\n",
            "tantalizing clues, hinting at a once-thriving Martian civilization. But as\n",
            "the sun dipped below the horizon, casting long shadows across the barren\n",
            "landscape, the rover's journey took an unexpected turn, leaving its fate\n",
            "shrouded in the mysteries of the Red Planet. \n",
            "\n",
            "\n",
            "In the celestial expanse, Jupiter, the king of planets, reigned supreme.\n",
            "Its colossal form, adorned with swirling bands of gas, captivated\n",
            "astronomers. As storms raged across its surface, creating intricate\n",
            "patterns, a lone spacecraft ventured into its turbulent atmosphere. Amidst\n",
            "the deafening roar of thunder and lightning, the probe witnessed the\n",
            "immense power and beauty of this celestial giant, unraveling secrets that\n",
            "had eluded humanity for centuries. \n",
            "\n",
            "\n",
            "**Chat Summary:**\n",
            "\n",
            "The chat focused on writing short stories based on specific word limits and\n",
            "prompts related to celestial bodies. The user provided two prompts: Mars in\n",
            "50 words and Jupiter in 50 words.\n",
            "\n",
            "**Response 1 (Mars):**\n",
            "\n",
            "A lone rover named Odyssey explores the desolate Martian landscape,\n",
            "uncovering clues to a once-thriving civilization before its fate becomes\n",
            "shrouded in mystery.\n",
            "\n",
            "**Response 2 (Jupiter):**\n",
            "\n",
            "A spacecraft ventures into Jupiter's turbulent atmosphere, witnessing the\n",
            "immense power and beauty of the gas giant and unraveling its secrets.\n",
            "\n",
            "The user expressed satisfaction with both responses, particularly their\n",
            "conciseness and adherence to the prompts. The chat concluded with a\n",
            "positive tone and a sense of accomplishment. \n",
            "\n",
            "\n"
          ]
        }
      ]
    },
    {
      "cell_type": "code",
      "source": [
        "# Method 1 (recommended): use the pipe operator \"%>%\"\n",
        "google %>%\n",
        "  chat.history.save(file.name = \"saved_google_history\")"
      ],
      "metadata": {
        "id": "JQdIBu_1EAKJ"
      },
      "execution_count": 7,
      "outputs": []
    },
    {
      "cell_type": "code",
      "source": [
        "# Method 2: use the reference operator \"$\"\n",
        "google$chat.history.save(file.name = \"saved_google_history\")"
      ],
      "metadata": {
        "id": "jplOhCPmEZAC"
      },
      "execution_count": 8,
      "outputs": []
    },
    {
      "cell_type": "code",
      "source": [
        "# Method 3: use the function chat.history.save() directly\n",
        "chat.history.save(genai.object = google,\n",
        "                  file.name = \"saved_google_history\")"
      ],
      "metadata": {
        "id": "u3AxOsh3Ep84"
      },
      "execution_count": 9,
      "outputs": []
    },
    {
      "cell_type": "code",
      "source": [
        "# Print the saved chat history\n",
        "print(jsonlite::toJSON(jsonlite::read_json(\"saved_google_history.json\"),\n",
        "                       auto_unbox = TRUE,\n",
        "                       pretty = TRUE))"
      ],
      "metadata": {
        "colab": {
          "base_uri": "https://localhost:8080/"
        },
        "id": "0N4Swz09X-WL",
        "outputId": "c969cd67-7e63-48bf-8b48-f4ae0330c6b4"
      },
      "execution_count": 10,
      "outputs": [
        {
          "output_type": "stream",
          "name": "stdout",
          "text": [
            "[\n",
            "  {\n",
            "    \"role\": [\n",
            "      \"user\"\n",
            "    ],\n",
            "    \"parts\": {\n",
            "      \"text\": [\n",
            "        \"Write a story about Mars in 50 words.\"\n",
            "      ]\n",
            "    }\n",
            "  },\n",
            "  {\n",
            "    \"role\": [\n",
            "      \"model\"\n",
            "    ],\n",
            "    \"parts\": {\n",
            "      \"text\": [\n",
            "        \"In the desolate realm of Mars, a lone rover named Odyssey embarked on an extraordinary mission to uncover the planet's enigmatic past. As it traversed crimson sands and explored ancient canyons, Odyssey unearthed tantalizing clues, hinting at a once-thriving Martian civilization. But as the sun dipped below the horizon, casting long shadows across the barren landscape, the rover's journey took an unexpected turn, leaving its fate shrouded in the mysteries of the Red Planet.\"\n",
            "      ]\n",
            "    }\n",
            "  },\n",
            "  {\n",
            "    \"role\": [\n",
            "      \"user\"\n",
            "    ],\n",
            "    \"parts\": {\n",
            "      \"text\": [\n",
            "        \"Write a story about Jupiter in 50 words.\"\n",
            "      ]\n",
            "    }\n",
            "  },\n",
            "  {\n",
            "    \"role\": [\n",
            "      \"model\"\n",
            "    ],\n",
            "    \"parts\": {\n",
            "      \"text\": [\n",
            "        \"In the celestial expanse, Jupiter, the king of planets, reigned supreme. Its colossal form, adorned with swirling bands of gas, captivated astronomers. As storms raged across its surface, creating intricate patterns, a lone spacecraft ventured into its turbulent atmosphere. Amidst the deafening roar of thunder and lightning, the probe witnessed the immense power and beauty of this celestial giant, unraveling secrets that had eluded humanity for centuries.\\n\\n\"\n",
            "      ]\n",
            "    }\n",
            "  },\n",
            "  {\n",
            "    \"role\": [\n",
            "      \"user\"\n",
            "    ],\n",
            "    \"parts\": {\n",
            "      \"text\": [\n",
            "        \"Summarize the chat.\"\n",
            "      ]\n",
            "    }\n",
            "  },\n",
            "  {\n",
            "    \"role\": [\n",
            "      \"model\"\n",
            "    ],\n",
            "    \"parts\": {\n",
            "      \"text\": [\n",
            "        \"**Chat Summary:**\\n\\nThe chat focused on writing short stories based on specific word limits and prompts related to celestial bodies. The user provided two prompts: Mars in 50 words and Jupiter in 50 words.\\n\\n**Response 1 (Mars):**\\n\\nA lone rover named Odyssey explores the desolate Martian landscape, uncovering clues to a once-thriving civilization before its fate becomes shrouded in mystery.\\n\\n**Response 2 (Jupiter):**\\n\\nA spacecraft ventures into Jupiter's turbulent atmosphere, witnessing the immense power and beauty of the gas giant and unraveling its secrets.\\n\\nThe user expressed satisfaction with both responses, particularly their conciseness and adherence to the prompts. The chat concluded with a positive tone and a sense of accomplishment.\"\n",
            "      ]\n",
            "    }\n",
            "  }\n",
            "] \n"
          ]
        }
      ]
    },
    {
      "cell_type": "markdown",
      "source": [
        "# Example for OpenAI"
      ],
      "metadata": {
        "id": "UohYplX0ek4B"
      }
    },
    {
      "cell_type": "code",
      "source": [
        "# Please change YOUR_OPENAI_API to your own API key of OpenAI\n",
        "Sys.setenv(OPENAI_API = \"YOUR_OPENAI_API\")\n",
        "\n",
        "# Please change YOUR_OPENAI_ORG to your own organization ID for OpenAI\n",
        "Sys.setenv(OPENAI_ORG = \"YOUR_OPENAI_ORG\")"
      ],
      "metadata": {
        "id": "A7cw82tUnFBW"
      },
      "execution_count": 11,
      "outputs": []
    },
    {
      "cell_type": "code",
      "source": [
        "# Create an OpenAI object\n",
        "openai = genai.openai(api = Sys.getenv(\"OPENAI_API\"),\n",
        "                      model = all.models$openai$model[1],\n",
        "                      version = all.models$openai$version[1],\n",
        "                      proxy = FALSE,\n",
        "                      organization.id = Sys.getenv(\"OPENAI_ORG\"))\n",
        "\n",
        "# Generation configurations\n",
        "parameters = list(\n",
        "  frequency.penalty = 1,\n",
        "  logprobs = FALSE,\n",
        "  max.tokens = 3000,\n",
        "  temperature = 0.9\n",
        ")"
      ],
      "metadata": {
        "id": "VlQSbNWuelqB"
      },
      "execution_count": 12,
      "outputs": []
    },
    {
      "cell_type": "code",
      "source": [
        "# Start a chat session\n",
        "prompts = c(\"Write a story about Mars in 50 words.\",\n",
        "            \"Write a story about Jupiter in 50 words.\",\n",
        "            \"Summarize the chat.\")\n",
        "for (prompt in prompts) {\n",
        "  openai %>%\n",
        "    chat(prompt = prompt,\n",
        "         verbose = FALSE,\n",
        "         config = parameters) %>%\n",
        "    strwrap(width = 76, exdent = 0) %>%\n",
        "    paste(collapse = \"\\n\") %>%\n",
        "    cat(\"\\n\\n\\n\")\n",
        "}"
      ],
      "metadata": {
        "colab": {
          "base_uri": "https://localhost:8080/"
        },
        "id": "7xhNMQYJeuNY",
        "outputId": "c3c67bbd-5efd-484e-fccb-e8e8446f80cd"
      },
      "execution_count": 13,
      "outputs": [
        {
          "output_type": "stream",
          "name": "stdout",
          "text": [
            "In the crimson skies of Mars, rovers roam through ancient valleys,\n",
            "uncovering secrets etched in Martian soil. Colonists thrive within domed\n",
            "cities, dreaming of a new world. Amongst the rusty landscape, hope fuels\n",
            "human ambition to forge a destiny on this barren planet, unlocking the\n",
            "mysteries of our universe. \n",
            "\n",
            "\n",
            "Gigantic and majestic, Jupiter reigns as the king of our solar system. Its\n",
            "swirling storms create a mesmerizing tapestry of colorful chaos. Moons\n",
            "dance in its gravitational embrace, hiding untold wonders within their icy\n",
            "shells. A gas giant of unfathomable scale, Jupiter holds the keys to\n",
            "understanding the birth and mechanics of our universe. \n",
            "\n",
            "\n",
            "In this chat, the user requested a story about Mars in 50 words, and\n",
            "another story about Jupiter in 50 words. The stories highlight the\n",
            "mysteries and potential for exploration on both planets. \n",
            "\n",
            "\n"
          ]
        }
      ]
    },
    {
      "cell_type": "code",
      "source": [
        "# Method 1 (recommended): use the pipe operator \"%>%\"\n",
        "openai %>%\n",
        "  chat.history.save(file.name = \"saved_openai_history\")"
      ],
      "metadata": {
        "id": "c1UaW1Qoezsg"
      },
      "execution_count": 14,
      "outputs": []
    },
    {
      "cell_type": "code",
      "source": [
        "# Method 2: use the reference operator \"$\"\n",
        "openai$chat.history.save(file.name = \"saved_openai_history\")"
      ],
      "metadata": {
        "id": "RkmMrIEze2TA"
      },
      "execution_count": 15,
      "outputs": []
    },
    {
      "cell_type": "code",
      "source": [
        "# Method 3: use the function chat.history.save() directly\n",
        "chat.history.save(genai.object = openai,\n",
        "                  file.name = \"saved_openai_history\")"
      ],
      "metadata": {
        "id": "3EnJPLFNe6hw"
      },
      "execution_count": 16,
      "outputs": []
    },
    {
      "cell_type": "code",
      "source": [
        "# Print the saved chat history\n",
        "print(jsonlite::toJSON(jsonlite::read_json(\"saved_openai_history.json\"),\n",
        "                       auto_unbox = TRUE,\n",
        "                       pretty = TRUE))"
      ],
      "metadata": {
        "colab": {
          "base_uri": "https://localhost:8080/"
        },
        "id": "hFQfiKQPYiv7",
        "outputId": "abcfdae3-c1e0-4830-cee4-404d7472c8bb"
      },
      "execution_count": 17,
      "outputs": [
        {
          "output_type": "stream",
          "name": "stdout",
          "text": [
            "[\n",
            "  {\n",
            "    \"role\": [\n",
            "      \"system\"\n",
            "    ],\n",
            "    \"content\": [\n",
            "      \"You are a helpful assistant.\"\n",
            "    ]\n",
            "  },\n",
            "  {\n",
            "    \"role\": [\n",
            "      \"user\"\n",
            "    ],\n",
            "    \"content\": [\n",
            "      \"Write a story about Mars in 50 words.\"\n",
            "    ]\n",
            "  },\n",
            "  {\n",
            "    \"role\": [\n",
            "      \"assistant\"\n",
            "    ],\n",
            "    \"content\": [\n",
            "      \"In the crimson skies of Mars, rovers roam through ancient valleys, uncovering secrets etched in Martian soil. Colonists thrive within domed cities, dreaming of a new world. Amongst the rusty landscape, hope fuels human ambition to forge a destiny on this barren planet, unlocking the mysteries of our universe.\"\n",
            "    ]\n",
            "  },\n",
            "  {\n",
            "    \"role\": [\n",
            "      \"user\"\n",
            "    ],\n",
            "    \"content\": [\n",
            "      \"Write a story about Jupiter in 50 words.\"\n",
            "    ]\n",
            "  },\n",
            "  {\n",
            "    \"role\": [\n",
            "      \"assistant\"\n",
            "    ],\n",
            "    \"content\": [\n",
            "      \"Gigantic and majestic, Jupiter reigns as the king of our solar system. Its swirling storms create a mesmerizing tapestry of colorful chaos. Moons dance in its gravitational embrace, hiding untold wonders within their icy shells. A gas giant of unfathomable scale, Jupiter holds the keys to understanding the birth and mechanics of our universe.\"\n",
            "    ]\n",
            "  },\n",
            "  {\n",
            "    \"role\": [\n",
            "      \"user\"\n",
            "    ],\n",
            "    \"content\": [\n",
            "      \"Summarize the chat.\"\n",
            "    ]\n",
            "  },\n",
            "  {\n",
            "    \"role\": [\n",
            "      \"assistant\"\n",
            "    ],\n",
            "    \"content\": [\n",
            "      \"In this chat, the user requested a story about Mars in 50 words, and another story about Jupiter in 50 words. The stories highlight the mysteries and potential for exploration on both planets.\"\n",
            "    ]\n",
            "  }\n",
            "] \n"
          ]
        }
      ]
    },
    {
      "cell_type": "markdown",
      "source": [
        "# Example for Moonshot AI"
      ],
      "metadata": {
        "id": "_OhSuNdhDHt7"
      }
    },
    {
      "cell_type": "code",
      "source": [
        "# Please change YOUR_MOONSHOT_API to your own API key of Moonshot AI\n",
        "Sys.setenv(MOONSHOT_API = \"YOUR_MOONSHOT_API\")"
      ],
      "metadata": {
        "id": "PzS9dksgDG-0"
      },
      "execution_count": 18,
      "outputs": []
    },
    {
      "cell_type": "code",
      "source": [
        "# Create a Moonshot AI object\n",
        "moonshot = genai.moonshot(api = Sys.getenv(\"MOONSHOT_API\"),\n",
        "                          model = all.models$moonshot$model[1],\n",
        "                          version = all.models$moonshot$version[1],\n",
        "                          proxy = FALSE)\n",
        "\n",
        "# Generation configurations\n",
        "parameters = list(\n",
        "  max.tokens = 3000,\n",
        "  temperature = 0.7,\n",
        "  top.p = 1.0\n",
        ")"
      ],
      "metadata": {
        "id": "3sdYajM2DJ3i"
      },
      "execution_count": 19,
      "outputs": []
    },
    {
      "cell_type": "code",
      "source": [
        "# Start a chat session\n",
        "prompts = c(\"Write a story about Mars in 50 words.\",\n",
        "            \"Write a story about Jupiter in 50 words.\",\n",
        "            \"Summarize the chat.\")\n",
        "for (prompt in prompts) {\n",
        "  moonshot %>%\n",
        "    chat(prompt = prompt,\n",
        "         verbose = FALSE,\n",
        "         config = parameters) %>%\n",
        "    strwrap(width = 76, exdent = 0) %>%\n",
        "    paste(collapse = \"\\n\") %>%\n",
        "    cat(\"\\n\\n\\n\")\n",
        "}"
      ],
      "metadata": {
        "colab": {
          "base_uri": "https://localhost:8080/"
        },
        "id": "Nf0oWJLlDLME",
        "outputId": "1657a623-0e2d-4f1a-b056-19c505130da6"
      },
      "execution_count": 20,
      "outputs": [
        {
          "output_type": "stream",
          "name": "stdout",
          "text": [
            "In the year 2150, humans established MarsBase Alpha. Red dust storms gave\n",
            "way to bustling domes, cultivating Martian soil with Earth's seeds.\n",
            "Astronomer Li Hua, the first Martian-born, taught children the starry sky,\n",
            "while engineers harnessed solar winds for power. Mars became humanity's new\n",
            "frontier, a testament to resilience and hope. \n",
            "\n",
            "\n",
            "On a distant future, Earth's scientists sent the Probe II to explore\n",
            "Jupiter's Great Red Spot. The AI, named Jovian, descended through swirling\n",
            "storms, collecting data on the planet's methane seas and mighty storms.\n",
            "Surprisingly, beneath the tempests, Jovian discovered a hidden world—a\n",
            "realm of floating crystals, the birthplace of Jupiter's enigma. \n",
            "\n",
            "\n",
            "In our fictional narrative, set in the year 2150, humans have successfully\n",
            "created a settlement on Mars known as MarsBase Alpha. The planet is now\n",
            "home to thriving domes and agricultural efforts, with the first child born\n",
            "on Mars, Li Hua, who teaches the next generation about the stars. The story\n",
            "also mentions the Probe II mission to Jupiter, where an AI named Jovian\n",
            "descends into the planet's Great Red Spot and uncovers a hidden world\n",
            "beneath the storms, characterized by floating crystals. \n",
            "\n",
            "\n"
          ]
        }
      ]
    },
    {
      "cell_type": "code",
      "source": [
        "# Method 1 (recommended): use the pipe operator \"%>%\"\n",
        "moonshot %>%\n",
        "  chat.history.save(file.name = \"saved_moonshot_history\")"
      ],
      "metadata": {
        "id": "65Cm9yw4DUkq"
      },
      "execution_count": 21,
      "outputs": []
    },
    {
      "cell_type": "code",
      "source": [
        "# Method 2: use the reference operator \"$\"\n",
        "moonshot$chat.history.save(file.name = \"saved_moonshot_history\")"
      ],
      "metadata": {
        "id": "CV7xIUDgDWGa"
      },
      "execution_count": 22,
      "outputs": []
    },
    {
      "cell_type": "code",
      "source": [
        "# Method 3: use the function chat.history.save() directly\n",
        "chat.history.save(genai.object = moonshot,\n",
        "                  file.name = \"saved_moonshot_history\")"
      ],
      "metadata": {
        "id": "PKsOzoAiDXTi"
      },
      "execution_count": 23,
      "outputs": []
    },
    {
      "cell_type": "code",
      "source": [
        "# Print the saved chat history\n",
        "print(jsonlite::toJSON(jsonlite::read_json(\"saved_moonshot_history.json\"),\n",
        "                       auto_unbox = TRUE,\n",
        "                       pretty = TRUE))"
      ],
      "metadata": {
        "colab": {
          "base_uri": "https://localhost:8080/"
        },
        "id": "yZRMreAEY-bt",
        "outputId": "1b6d6cfb-878b-496a-bcb8-8d45c3742b4d"
      },
      "execution_count": 24,
      "outputs": [
        {
          "output_type": "stream",
          "name": "stdout",
          "text": [
            "[\n",
            "  {\n",
            "    \"role\": [\n",
            "      \"system\"\n",
            "    ],\n",
            "    \"content\": [\n",
            "      \"You are Kimi, an Artificial Intelligence Assistant powered by Moonshot AI, and you are better at conversations in Chinese and English. You will provide users with safe, helpful and accurate answers. At the same time, you will reject answers to questions about terrorism, racism, pornography, etc. Moonshot AI is a proper noun and cannot be translated into other languages.\"\n",
            "    ]\n",
            "  },\n",
            "  {\n",
            "    \"role\": [\n",
            "      \"user\"\n",
            "    ],\n",
            "    \"content\": [\n",
            "      \"Write a story about Mars in 50 words.\"\n",
            "    ]\n",
            "  },\n",
            "  {\n",
            "    \"role\": [\n",
            "      \"assistant\"\n",
            "    ],\n",
            "    \"content\": [\n",
            "      \" In the year 2150, humans established MarsBase Alpha. Red dust storms gave way to bustling domes, cultivating Martian soil with Earth's seeds. Astronomer Li Hua, the first Martian-born, taught children the starry sky, while engineers harnessed solar winds for power. Mars became humanity's new frontier, a testament to resilience and hope.\"\n",
            "    ]\n",
            "  },\n",
            "  {\n",
            "    \"role\": [\n",
            "      \"user\"\n",
            "    ],\n",
            "    \"content\": [\n",
            "      \"Write a story about Jupiter in 50 words.\"\n",
            "    ]\n",
            "  },\n",
            "  {\n",
            "    \"role\": [\n",
            "      \"assistant\"\n",
            "    ],\n",
            "    \"content\": [\n",
            "      \" On a distant future, Earth's scientists sent the Probe II to explore Jupiter's Great Red Spot. The AI, named Jovian, descended through swirling storms, collecting data on the planet's methane seas and mighty storms. Surprisingly, beneath the tempests, Jovian discovered a hidden world—a realm of floating crystals, the birthplace of Jupiter's enigma.\"\n",
            "    ]\n",
            "  },\n",
            "  {\n",
            "    \"role\": [\n",
            "      \"user\"\n",
            "    ],\n",
            "    \"content\": [\n",
            "      \"Summarize the chat.\"\n",
            "    ]\n",
            "  },\n",
            "  {\n",
            "    \"role\": [\n",
            "      \"assistant\"\n",
            "    ],\n",
            "    \"content\": [\n",
            "      \" In our fictional narrative, set in the year 2150, humans have successfully created a settlement on Mars known as MarsBase Alpha. The planet is now home to thriving domes and agricultural efforts, with the first child born on Mars, Li Hua, who teaches the next generation about the stars. The story also mentions the Probe II mission to Jupiter, where an AI named Jovian descends into the planet's Great Red Spot and uncovers a hidden world beneath the storms, characterized by floating crystals.\"\n",
            "    ]\n",
            "  }\n",
            "] \n"
          ]
        }
      ]
    }
  ]
}