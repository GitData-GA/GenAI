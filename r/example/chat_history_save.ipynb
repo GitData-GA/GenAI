{
  "nbformat": 4,
  "nbformat_minor": 0,
  "metadata": {
    "colab": {
      "provenance": [],
      "include_colab_link": true
    },
    "kernelspec": {
      "name": "ir",
      "display_name": "R"
    },
    "language_info": {
      "name": "R"
    }
  },
  "cells": [
    {
      "cell_type": "markdown",
      "metadata": {
        "id": "view-in-github",
        "colab_type": "text"
      },
      "source": [
        "<a href=\"https://colab.research.google.com/github/GitData-GA/GenAI/blob/gh-pages/r/example/chat_history_save.ipynb\" target=\"_parent\"><img src=\"https://colab.research.google.com/assets/colab-badge.svg\" alt=\"Open In Colab\"/></a>"
      ]
    },
    {
      "cell_type": "markdown",
      "source": [
        "# Installation & Setup\n"
      ],
      "metadata": {
        "id": "mDBGn0Qzsql5"
      }
    },
    {
      "cell_type": "code",
      "source": [
        "# The following commands are for Colab only\n",
        "system('add-apt-repository -y ppa:cran/imagemagick')\n",
        "system('apt-get update')\n",
        "system(\"apt-get install libmagick++-dev\")"
      ],
      "metadata": {
        "id": "vOn2PTjeC3xb"
      },
      "execution_count": null,
      "outputs": []
    },
    {
      "cell_type": "code",
      "execution_count": null,
      "metadata": {
        "colab": {
          "base_uri": "https://localhost:8080/"
        },
        "id": "EQ5mDg9-siid",
        "outputId": "cc9b17fe-fa11-402c-d8f2-86ff59f27816"
      },
      "outputs": [
        {
          "output_type": "stream",
          "name": "stderr",
          "text": [
            "Downloading package from url: https://genai.gd.edu.kg/release/R/GenAI_0.2.0.tar.gz\n",
            "\n"
          ]
        },
        {
          "output_type": "stream",
          "name": "stdout",
          "text": [
            "isoband      (0.2.6 -> 0.2.7 ) [CRAN]\n",
            "yulab.utils  (NA    -> 0.1.4 ) [CRAN]\n",
            "gridGraphics (NA    -> 0.5-1 ) [CRAN]\n",
            "curl         (5.0.2 -> 5.2.0 ) [CRAN]\n",
            "Rcpp         (NA    -> 1.0.12) [CRAN]\n",
            "openssl      (2.0.6 -> 2.1.1 ) [CRAN]\n",
            "ggplotify    (NA    -> 0.1.2 ) [CRAN]\n",
            "magick       (NA    -> 2.8.2 ) [CRAN]\n",
            "listenv      (NA    -> 0.9.1 ) [CRAN]\n"
          ]
        },
        {
          "output_type": "stream",
          "name": "stderr",
          "text": [
            "Installing 9 packages: isoband, yulab.utils, gridGraphics, curl, Rcpp, openssl, ggplotify, magick, listenv\n",
            "\n",
            "Installing packages into ‘/usr/local/lib/R/site-library’\n",
            "(as ‘lib’ is unspecified)\n",
            "\n"
          ]
        },
        {
          "output_type": "stream",
          "name": "stdout",
          "text": [
            "\u001b[36m──\u001b[39m \u001b[36mR CMD build\u001b[39m \u001b[36m─────────────────────────────────────────────────────────────────\u001b[39m\n",
            "* checking for file ‘/tmp/RtmpQnlLs4/remotes9829ec777a/GenAI/DESCRIPTION’ ... OK\n",
            "* preparing ‘GenAI’:\n",
            "* checking DESCRIPTION meta-information ... OK\n",
            "* checking for LF line-endings in source and make files and shell scripts\n",
            "* checking for empty or unneeded directories\n",
            "* building ‘GenAI_0.2.0.tar.gz’\n",
            "\n"
          ]
        },
        {
          "output_type": "stream",
          "name": "stderr",
          "text": [
            "Installing package into ‘/usr/local/lib/R/site-library’\n",
            "(as ‘lib’ is unspecified)\n",
            "\n",
            "Loading required package: magrittr\n",
            "\n"
          ]
        }
      ],
      "source": [
        "# Install the package (usually 1 - 3 minutes)\n",
        "remotes::install_url(\"https://genai.gd.edu.kg/release/R/GenAI_0.2.0.tar.gz\",\n",
        "                     dependencies = TRUE,\n",
        "                     method = \"libcurl\")\n",
        "library(\"GenAI\")"
      ]
    },
    {
      "cell_type": "markdown",
      "source": [
        "# Get Available Models"
      ],
      "metadata": {
        "id": "UdwTs_oitM8A"
      }
    },
    {
      "cell_type": "code",
      "source": [
        "all.models = available.models() %>% print()"
      ],
      "metadata": {
        "id": "S0lunMhxtOl_",
        "colab": {
          "base_uri": "https://localhost:8080/"
        },
        "outputId": "e11ff561-d4ce-4409-c2fa-43eee40eb56b"
      },
      "execution_count": null,
      "outputs": [
        {
          "output_type": "stream",
          "name": "stdout",
          "text": [
            "$google\n",
            "$google$version\n",
            "[1] \"v1\"     \"v1beta\"\n",
            "\n",
            "$google$model\n",
            "[1] \"gemini-pro\"        \"gemini-pro-vision\"\n",
            "\n",
            "\n",
            "$openai\n",
            "$openai$version\n",
            "[1] \"v1\"\n",
            "\n",
            "$openai$model\n",
            "[1] \"gpt-3.5-turbo\"        \"gpt-3.5-turbo-1106\"   \"gpt-3.5-turbo-16k\"   \n",
            "[4] \"gpt-4\"                \"gpt-4-1106-preview\"   \"gpt-4-32k\"           \n",
            "[7] \"gpt-4-vision-preview\" \"dall-e-2\"             \"dall-e-3\"            \n",
            "\n",
            "\n",
            "$moonshot\n",
            "$moonshot$version\n",
            "[1] \"v1\"\n",
            "\n",
            "$moonshot$model\n",
            "[1] \"moonshot-v1-8k\"   \"moonshot-v1-32k\"  \"moonshot-v1-128k\"\n",
            "\n",
            "\n"
          ]
        }
      ]
    },
    {
      "cell_type": "markdown",
      "source": [
        "# Example for Google Generative AI"
      ],
      "metadata": {
        "id": "-UQDLvx8C6WS"
      }
    },
    {
      "cell_type": "code",
      "source": [
        "# Please change YOUR_GOOGLE_API to your own API key of Google Generative AI\n",
        "Sys.setenv(GOOGLE_API = \"YOUR_GOOGLE_API\")"
      ],
      "metadata": {
        "id": "sQTVbYJYm-ar"
      },
      "execution_count": null,
      "outputs": []
    },
    {
      "cell_type": "code",
      "source": [
        "# Create a Google Generative AI object\n",
        "google = genai.google(api = Sys.getenv(\"GOOGLE_API\"),\n",
        "                      model = all.models$google$model[1],\n",
        "                      version = all.models$google$version[1],\n",
        "                      proxy = FALSE)\n",
        "\n",
        "# Generation configurations\n",
        "parameters = list(\n",
        "  harm.category.dangerous.content = 5,\n",
        "  harm.category.harassment = 5,\n",
        "  max.output.tokens = 4096,\n",
        "  temperature = 0.9\n",
        ")"
      ],
      "metadata": {
        "id": "qtM6orwIC564"
      },
      "execution_count": null,
      "outputs": []
    },
    {
      "cell_type": "code",
      "source": [
        "# Start a chat session\n",
        "prompts = c(\"Write a story about Mars in 50 words.\",\n",
        "            \"Write a story about Jupiter in 50 words.\",\n",
        "            \"Summarize the chat.\")\n",
        "for (prompt in prompts) {\n",
        "  google %>%\n",
        "    chat(prompt = prompt,\n",
        "         verbose = FALSE,\n",
        "         config = parameters) %>%\n",
        "    strwrap(width = 76, exdent = 0) %>%\n",
        "    paste(collapse = \"\\n\") %>%\n",
        "    cat(\"\\n\\n\\n\")\n",
        "}"
      ],
      "metadata": {
        "colab": {
          "base_uri": "https://localhost:8080/"
        },
        "id": "z3j_BQupDAL4",
        "outputId": "b6d1456e-bbd3-459e-c28e-fbffdf734ddf"
      },
      "execution_count": null,
      "outputs": [
        {
          "output_type": "stream",
          "name": "stdout",
          "text": [
            "In the vast expanse of the universe, Mars stood out as a crimson enigma.\n",
            "Once teeming with life, it now lay barren and desolate. Yet, beneath its\n",
            "rusted surface, remnants of ancient civilizations whispered tales of a\n",
            "forgotten past, beckoning intrepid explorers to uncover the secrets of the\n",
            "Red Planet. \n",
            "\n",
            "\n",
            "In the celestial ballet of the solar system, Jupiter reigned supreme. A\n",
            "colossal gas giant, swathed in swirling bands of color, it commanded\n",
            "attention with its tempestuous storms and enigmatic Great Red Spot. Beneath\n",
            "its vibrant atmosphere, a symphony of moons danced in intricate harmony,\n",
            "each harboring unique secrets and captivating the imaginations of\n",
            "stargazers across the universe. \n",
            "\n",
            "\n",
            "**Summary of the Chat:**\n",
            "\n",
            "* **Topic:** Potential Benefits and Drawbacks of Artificial Intelligence\n",
            "(AI) in Various Industries\n",
            "\n",
            "* **Key Points:**\n",
            "\n",
            "- **Benefits of AI:** - Increased efficiency and productivity - Improved\n",
            "accuracy and precision - Enhanced decision-making capabilities - Automation\n",
            "of repetitive and mundane tasks - Access to real-time data and insights\n",
            "\n",
            "- **Drawbacks of AI:** - Potential job displacement and economic inequality\n",
            "- Ethical concerns and biases in AI systems - Lack of transparency and\n",
            "explainability in AI algorithms - Security and privacy risks associated\n",
            "with AI - Potential misuse of AI for malicious purposes\n",
            "\n",
            "* **Industries Discussed:**\n",
            "\n",
            "- **Healthcare:** AI's role in disease diagnosis, personalized medicine,\n",
            "and drug discovery.  - **Finance:** AI's impact on fraud detection,\n",
            "algorithmic trading, and credit scoring.  - **Manufacturing:** AI-driven\n",
            "automation, predictive maintenance, and quality control.  -\n",
            "**Transportation:** Self-driving vehicles, traffic management, and\n",
            "logistics optimization.  - **Retail:** AI's influence on personalized\n",
            "recommendations, inventory management, and supply chain optimization.\n",
            "\n",
            "* **Overall Conclusion:**\n",
            "\n",
            "- AI has the potential to revolutionize industries, offering significant\n",
            "benefits in terms of efficiency, accuracy, and decision-making.  - However,\n",
            "it is crucial to address the potential drawbacks and risks associated with\n",
            "AI, such as job displacement, ethical concerns, and security\n",
            "vulnerabilities.  - Striking a balance between the benefits and drawbacks\n",
            "of AI is essential for ensuring responsible and ethical implementation\n",
            "across various industries. \n",
            "\n",
            "\n"
          ]
        }
      ]
    },
    {
      "cell_type": "code",
      "source": [
        "# Method 1 (recommended): use the pipe operator \"%>%\"\n",
        "google %>%\n",
        "  chat.history.save(file.name = \"saved_google_history\")"
      ],
      "metadata": {
        "id": "JQdIBu_1EAKJ"
      },
      "execution_count": null,
      "outputs": []
    },
    {
      "cell_type": "code",
      "source": [
        "# Method 2: use the reference operator \"$\"\n",
        "google$chat.history.save(file.name = \"saved_google_history\")"
      ],
      "metadata": {
        "id": "jplOhCPmEZAC"
      },
      "execution_count": null,
      "outputs": []
    },
    {
      "cell_type": "code",
      "source": [
        "# Method 3: use the function chat.history.save() directly\n",
        "chat.history.save(genai.object = google,\n",
        "                  file.name = \"saved_google_history\")"
      ],
      "metadata": {
        "id": "u3AxOsh3Ep84"
      },
      "execution_count": null,
      "outputs": []
    },
    {
      "cell_type": "code",
      "source": [
        "# Print the saved chat history\n",
        "print(jsonlite::toJSON(jsonlite::read_json(\"saved_google_history.json\"),\n",
        "                       auto_unbox = TRUE,\n",
        "                       pretty = TRUE))"
      ],
      "metadata": {
        "colab": {
          "base_uri": "https://localhost:8080/"
        },
        "id": "0N4Swz09X-WL",
        "outputId": "51ba9a8e-a2f9-4145-b50e-b8878d19bf35"
      },
      "execution_count": null,
      "outputs": [
        {
          "output_type": "stream",
          "name": "stdout",
          "text": [
            "[\n",
            "  {\n",
            "    \"role\": [\n",
            "      \"user\"\n",
            "    ],\n",
            "    \"parts\": {\n",
            "      \"text\": [\n",
            "        \"Write a story about Mars in 50 words.\"\n",
            "      ]\n",
            "    }\n",
            "  },\n",
            "  {\n",
            "    \"role\": [\n",
            "      \"model\"\n",
            "    ],\n",
            "    \"parts\": {\n",
            "      \"text\": [\n",
            "        \"In the vast expanse of the universe, Mars stood out as a crimson enigma. Once teeming with life, it now lay barren and desolate. Yet, beneath its rusted surface, remnants of ancient civilizations whispered tales of a forgotten past, beckoning intrepid explorers to uncover the secrets of the Red Planet.\"\n",
            "      ]\n",
            "    }\n",
            "  },\n",
            "  {\n",
            "    \"role\": [\n",
            "      \"user\"\n",
            "    ],\n",
            "    \"parts\": {\n",
            "      \"text\": [\n",
            "        \"Write a story about Jupiter in 50 words.\"\n",
            "      ]\n",
            "    }\n",
            "  },\n",
            "  {\n",
            "    \"role\": [\n",
            "      \"model\"\n",
            "    ],\n",
            "    \"parts\": {\n",
            "      \"text\": [\n",
            "        \"In the celestial ballet of the solar system, Jupiter reigned supreme. A colossal gas giant, swathed in swirling bands of color, it commanded attention with its tempestuous storms and enigmatic Great Red Spot. Beneath its vibrant atmosphere, a symphony of moons danced in intricate harmony, each harboring unique secrets and captivating the imaginations of stargazers across the universe.\"\n",
            "      ]\n",
            "    }\n",
            "  },\n",
            "  {\n",
            "    \"role\": [\n",
            "      \"user\"\n",
            "    ],\n",
            "    \"parts\": {\n",
            "      \"text\": [\n",
            "        \"Summarize the chat.\"\n",
            "      ]\n",
            "    }\n",
            "  },\n",
            "  {\n",
            "    \"role\": [\n",
            "      \"model\"\n",
            "    ],\n",
            "    \"parts\": {\n",
            "      \"text\": [\n",
            "        \"**Summary of the Chat:**\\n\\n* **Topic:** Potential Benefits and Drawbacks of Artificial Intelligence (AI) in Various Industries\\n\\n* **Key Points:**\\n\\n   - **Benefits of AI:**\\n     - Increased efficiency and productivity\\n     - Improved accuracy and precision\\n     - Enhanced decision-making capabilities\\n     - Automation of repetitive and mundane tasks\\n     - Access to real-time data and insights\\n\\n   - **Drawbacks of AI:**\\n     - Potential job displacement and economic inequality\\n     - Ethical concerns and biases in AI systems\\n     - Lack of transparency and explainability in AI algorithms\\n     - Security and privacy risks associated with AI\\n     - Potential misuse of AI for malicious purposes\\n\\n* **Industries Discussed:**\\n\\n   - **Healthcare:** AI's role in disease diagnosis, personalized medicine, and drug discovery.\\n   - **Finance:** AI's impact on fraud detection, algorithmic trading, and credit scoring.\\n   - **Manufacturing:** AI-driven automation, predictive maintenance, and quality control.\\n   - **Transportation:** Self-driving vehicles, traffic management, and logistics optimization.\\n   - **Retail:** AI's influence on personalized recommendations, inventory management, and supply chain optimization.\\n\\n* **Overall Conclusion:**\\n\\n   - AI has the potential to revolutionize industries, offering significant benefits in terms of efficiency, accuracy, and decision-making.\\n   - However, it is crucial to address the potential drawbacks and risks associated with AI, such as job displacement, ethical concerns, and security vulnerabilities.\\n   - Striking a balance between the benefits and drawbacks of AI is essential for ensuring responsible and ethical implementation across various industries.\"\n",
            "      ]\n",
            "    }\n",
            "  }\n",
            "] \n"
          ]
        }
      ]
    },
    {
      "cell_type": "markdown",
      "source": [
        "# Example for OpenAI"
      ],
      "metadata": {
        "id": "UohYplX0ek4B"
      }
    },
    {
      "cell_type": "code",
      "source": [
        "# Please change YOUR_OPENAI_API to your own API key of OpenAI\n",
        "Sys.setenv(OPENAI_API = \"YOUR_OPENAI_API\")\n",
        "\n",
        "# Please change YOUR_OPENAI_ORG to your own organization ID for OpenAI\n",
        "Sys.setenv(OPENAI_ORG = \"YOUR_OPENAI_ORG\")"
      ],
      "metadata": {
        "id": "A7cw82tUnFBW"
      },
      "execution_count": null,
      "outputs": []
    },
    {
      "cell_type": "code",
      "source": [
        "# Create an OpenAI object\n",
        "openai = genai.openai(api = Sys.getenv(\"OPENAI_API\"),\n",
        "                      model = all.models$openai$model[1],\n",
        "                      version = all.models$openai$version[1],\n",
        "                      proxy = FALSE,\n",
        "                      organization.id = Sys.getenv(\"OPENAI_ORG\"))\n",
        "\n",
        "# Generation configurations\n",
        "parameters = list(\n",
        "  frequency.penalty = 1,\n",
        "  logprobs = FALSE,\n",
        "  max.tokens = 3000,\n",
        "  temperature = 0.9\n",
        ")"
      ],
      "metadata": {
        "id": "VlQSbNWuelqB"
      },
      "execution_count": null,
      "outputs": []
    },
    {
      "cell_type": "code",
      "source": [
        "# Start a chat session\n",
        "prompts = c(\"Write a story about Mars in 50 words.\",\n",
        "            \"Write a story about Jupiter in 50 words.\",\n",
        "            \"Summarize the chat.\")\n",
        "for (prompt in prompts) {\n",
        "  openai %>%\n",
        "    chat(prompt = prompt,\n",
        "         verbose = FALSE,\n",
        "         config = parameters) %>%\n",
        "    strwrap(width = 76, exdent = 0) %>%\n",
        "    paste(collapse = \"\\n\") %>%\n",
        "    cat(\"\\n\\n\\n\")\n",
        "}"
      ],
      "metadata": {
        "colab": {
          "base_uri": "https://localhost:8080/"
        },
        "id": "7xhNMQYJeuNY",
        "outputId": "efb883fe-fe87-45fb-cb1d-09754bf474dd"
      },
      "execution_count": null,
      "outputs": [
        {
          "output_type": "stream",
          "name": "stdout",
          "text": [
            "In the crimson expanse of Mars, a lone rover navigates rocky terrain. Its\n",
            "mission: seek signs of life. As dust swirls and temperatures plummet, it\n",
            "perseveres in the quest for answers to humanity's greatest question: are we\n",
            "alone? With each discovery, hope reignites for a future beyond Earth's\n",
            "bounds. \n",
            "\n",
            "\n",
            "Jupiter, the behemoth of our solar system, hides fascinating secrets within\n",
            "its swirling storms. Its colossal atmosphere shelters moons with oceans\n",
            "beneath icy crusts. A probe dives into the depths of this gas giant,\n",
            "revealing alien landscapes and unlocking mysteries of cosmic creation.\n",
            "Jupiter's allure beckons humanity's relentless thirst for knowledge. \n",
            "\n",
            "\n",
            "In this chat, we explored short stories about two celestial bodies: Mars\n",
            "and Jupiter. The first story depicted a rover on Mars, determined to find\n",
            "signs of life amidst the harsh conditions. The second story centered around\n",
            "Jupiter, highlighting its vastness and the mysteries that lie within its\n",
            "storms and moons. Both stories touched on humanity's curiosity and longing\n",
            "for discovery beyond Earth's boundaries. \n",
            "\n",
            "\n"
          ]
        }
      ]
    },
    {
      "cell_type": "code",
      "source": [
        "# Method 1 (recommended): use the pipe operator \"%>%\"\n",
        "openai %>%\n",
        "  chat.history.save(file.name = \"saved_openai_history\")"
      ],
      "metadata": {
        "id": "c1UaW1Qoezsg"
      },
      "execution_count": null,
      "outputs": []
    },
    {
      "cell_type": "code",
      "source": [
        "# Method 2: use the reference operator \"$\"\n",
        "openai$chat.history.save(file.name = \"saved_openai_history\")"
      ],
      "metadata": {
        "id": "RkmMrIEze2TA"
      },
      "execution_count": null,
      "outputs": []
    },
    {
      "cell_type": "code",
      "source": [
        "# Method 3: use the function chat.history.save() directly\n",
        "chat.history.save(genai.object = openai,\n",
        "                  file.name = \"saved_openai_history\")"
      ],
      "metadata": {
        "id": "3EnJPLFNe6hw"
      },
      "execution_count": null,
      "outputs": []
    },
    {
      "cell_type": "code",
      "source": [
        "# Print the saved chat history\n",
        "print(jsonlite::toJSON(jsonlite::read_json(\"saved_openai_history.json\"),\n",
        "                       auto_unbox = TRUE,\n",
        "                       pretty = TRUE))"
      ],
      "metadata": {
        "colab": {
          "base_uri": "https://localhost:8080/"
        },
        "id": "hFQfiKQPYiv7",
        "outputId": "e4cce301-279c-41cf-a603-19d56e6aa9cf"
      },
      "execution_count": null,
      "outputs": [
        {
          "output_type": "stream",
          "name": "stdout",
          "text": [
            "[\n",
            "  {\n",
            "    \"role\": [\n",
            "      \"system\"\n",
            "    ],\n",
            "    \"content\": [\n",
            "      \"You are a helpful assistant.\"\n",
            "    ]\n",
            "  },\n",
            "  {\n",
            "    \"role\": [\n",
            "      \"user\"\n",
            "    ],\n",
            "    \"content\": [\n",
            "      \"Write a story about Mars in 50 words.\"\n",
            "    ]\n",
            "  },\n",
            "  {\n",
            "    \"role\": [\n",
            "      \"assistant\"\n",
            "    ],\n",
            "    \"content\": [\n",
            "      \"In the crimson expanse of Mars, a lone rover navigates rocky terrain. Its mission: seek signs of life. As dust swirls and temperatures plummet, it perseveres in the quest for answers to humanity's greatest question: are we alone? With each discovery, hope reignites for a future beyond Earth's bounds.\"\n",
            "    ]\n",
            "  },\n",
            "  {\n",
            "    \"role\": [\n",
            "      \"user\"\n",
            "    ],\n",
            "    \"content\": [\n",
            "      \"Write a story about Jupiter in 50 words.\"\n",
            "    ]\n",
            "  },\n",
            "  {\n",
            "    \"role\": [\n",
            "      \"assistant\"\n",
            "    ],\n",
            "    \"content\": [\n",
            "      \"Jupiter, the behemoth of our solar system, hides fascinating secrets within its swirling storms. Its colossal atmosphere shelters moons with oceans beneath icy crusts. A probe dives into the depths of this gas giant, revealing alien landscapes and unlocking mysteries of cosmic creation. Jupiter's allure beckons humanity's relentless thirst for knowledge.\"\n",
            "    ]\n",
            "  },\n",
            "  {\n",
            "    \"role\": [\n",
            "      \"user\"\n",
            "    ],\n",
            "    \"content\": [\n",
            "      \"Summarize the chat.\"\n",
            "    ]\n",
            "  },\n",
            "  {\n",
            "    \"role\": [\n",
            "      \"assistant\"\n",
            "    ],\n",
            "    \"content\": [\n",
            "      \"In this chat, we explored short stories about two celestial bodies: Mars and Jupiter. The first story depicted a rover on Mars, determined to find signs of life amidst the harsh conditions. The second story centered around Jupiter, highlighting its vastness and the mysteries that lie within its storms and moons. Both stories touched on humanity's curiosity and longing for discovery beyond Earth's boundaries.\"\n",
            "    ]\n",
            "  }\n",
            "] \n"
          ]
        }
      ]
    },
    {
      "cell_type": "markdown",
      "source": [
        "# Example for Moonshot AI"
      ],
      "metadata": {
        "id": "_OhSuNdhDHt7"
      }
    },
    {
      "cell_type": "code",
      "source": [
        "# Please change YOUR_MOONSHOT_API to your own API key of Moonshot AI\n",
        "Sys.setenv(MOONSHOT_API = \"YOUR_MOONSHOT_API\")"
      ],
      "metadata": {
        "id": "PzS9dksgDG-0"
      },
      "execution_count": null,
      "outputs": []
    },
    {
      "cell_type": "code",
      "source": [
        "# Create a Moonshot AI object\n",
        "moonshot = genai.moonshot(api = Sys.getenv(\"MOONSHOT_API\"),\n",
        "                          model = all.models$moonshot$model[1],\n",
        "                          version = all.models$moonshot$version[1],\n",
        "                          proxy = FALSE)\n",
        "\n",
        "# Generation configurations\n",
        "parameters = list(\n",
        "  max.tokens = 3000,\n",
        "  temperature = 0.7,\n",
        "  top.p = 1.0\n",
        ")"
      ],
      "metadata": {
        "id": "3sdYajM2DJ3i"
      },
      "execution_count": null,
      "outputs": []
    },
    {
      "cell_type": "code",
      "source": [
        "# Start a chat session\n",
        "prompts = c(\"Write a story about Mars in 50 words.\",\n",
        "            \"Write a story about Jupiter in 50 words.\",\n",
        "            \"Summarize the chat.\")\n",
        "for (prompt in prompts) {\n",
        "  moonshot %>%\n",
        "    chat(prompt = prompt,\n",
        "         verbose = FALSE,\n",
        "         config = parameters) %>%\n",
        "    strwrap(width = 76, exdent = 0) %>%\n",
        "    paste(collapse = \"\\n\") %>%\n",
        "    cat(\"\\n\\n\\n\")\n",
        "}"
      ],
      "metadata": {
        "colab": {
          "base_uri": "https://localhost:8080/"
        },
        "id": "Nf0oWJLlDLME",
        "outputId": "1bb214b3-d1d3-446b-922a-17b2f0d69159"
      },
      "execution_count": null,
      "outputs": [
        {
          "output_type": "stream",
          "name": "stdout",
          "text": [
            "In 2050, Mars became humanity's second home. Red dust gave way to vibrant\n",
            "biodomes, where Earth's plants thrived. Rovers roamed freely, while\n",
            "astronauts and Martians worked side-by-side, mining for rare minerals. A\n",
            "city, New Ares, emerged, its towering spires reflecting the red sky, a\n",
            "testament to the spirit of exploration. \n",
            "\n",
            "\n",
            "In the cosmic dance of celestial bodies, Jupiter, the majestic giant, spun\n",
            "slowly in the vastness of space. Its swirling storms whispered the secrets\n",
            "of the universe. Onboard the starship Odyssey, Captain Aria gazed at the\n",
            "gaseous beauty, her mission to study its moons' potential for life.\n",
            "Europa's icy surface hid subsurface oceans; a world within a world. Here,\n",
            "in the heart of Jupiter's realm, Aria dared to dream of discovering Earth's\n",
            "next neighbor. \n",
            "\n",
            "\n",
            "Absolutely, here's a summary of our interaction:\n",
            "\n",
            "You asked for a story about Mars, which I created, set in the future year\n",
            "of 2050, where Mars has become a second home for humans with biodomes and a\n",
            "new city named New Ares. You followed up with a request for a story about\n",
            "Jupiter, in which I described a starship captain named Aria studying the\n",
            "moons of Jupiter, particularly Europa, for signs of life.\n",
            "\n",
            "If you have any more questions or need further assistance, feel free to\n",
            "ask! \n",
            "\n",
            "\n"
          ]
        }
      ]
    },
    {
      "cell_type": "code",
      "source": [
        "# Method 1 (recommended): use the pipe operator \"%>%\"\n",
        "moonshot %>%\n",
        "  chat.history.save(file.name = \"saved_moonshot_history\")"
      ],
      "metadata": {
        "id": "65Cm9yw4DUkq"
      },
      "execution_count": null,
      "outputs": []
    },
    {
      "cell_type": "code",
      "source": [
        "# Method 2: use the reference operator \"$\"\n",
        "moonshot$chat.history.save(file.name = \"saved_moonshot_history\")"
      ],
      "metadata": {
        "id": "CV7xIUDgDWGa"
      },
      "execution_count": null,
      "outputs": []
    },
    {
      "cell_type": "code",
      "source": [
        "# Method 3: use the function chat.history.save() directly\n",
        "chat.history.save(genai.object = moonshot,\n",
        "                  file.name = \"saved_moonshot_history\")"
      ],
      "metadata": {
        "id": "PKsOzoAiDXTi"
      },
      "execution_count": null,
      "outputs": []
    },
    {
      "cell_type": "code",
      "source": [
        "# Print the saved chat history\n",
        "print(jsonlite::toJSON(jsonlite::read_json(\"saved_moonshot_history.json\"),\n",
        "                       auto_unbox = TRUE,\n",
        "                       pretty = TRUE))"
      ],
      "metadata": {
        "colab": {
          "base_uri": "https://localhost:8080/"
        },
        "id": "yZRMreAEY-bt",
        "outputId": "6fed5224-11d4-42d9-bbda-9de07b0a9dd3"
      },
      "execution_count": null,
      "outputs": [
        {
          "output_type": "stream",
          "name": "stdout",
          "text": [
            "[\n",
            "  {\n",
            "    \"role\": [\n",
            "      \"system\"\n",
            "    ],\n",
            "    \"content\": [\n",
            "      \"你是 Kimi，由 Moonshot AI 提供的人工智能助手，你更擅长中文和英文的对话。你会为用户提供安全，有帮助，准确的回答。同时，你会拒绝一些涉及恐怖主义，种族歧视，黄色暴力等问题的回答。Moonshot AI 为专有名词，不可翻译成其他语言。\"\n",
            "    ]\n",
            "  },\n",
            "  {\n",
            "    \"role\": [\n",
            "      \"user\"\n",
            "    ],\n",
            "    \"content\": [\n",
            "      \"Write a story about Mars in 50 words.\"\n",
            "    ]\n",
            "  },\n",
            "  {\n",
            "    \"role\": [\n",
            "      \"assistant\"\n",
            "    ],\n",
            "    \"content\": [\n",
            "      \" In 2050, Mars became humanity's second home. Red dust gave way to vibrant biodomes, where Earth's plants thrived. Rovers roamed freely, while astronauts and Martians worked side-by-side, mining for rare minerals. A city, New Ares, emerged, its towering spires reflecting the red sky, a testament to the spirit of exploration.\"\n",
            "    ]\n",
            "  },\n",
            "  {\n",
            "    \"role\": [\n",
            "      \"user\"\n",
            "    ],\n",
            "    \"content\": [\n",
            "      \"Write a story about Jupiter in 50 words.\"\n",
            "    ]\n",
            "  },\n",
            "  {\n",
            "    \"role\": [\n",
            "      \"assistant\"\n",
            "    ],\n",
            "    \"content\": [\n",
            "      \" In the cosmic dance of celestial bodies, Jupiter, the majestic giant, spun slowly in the vastness of space. Its swirling storms whispered the secrets of the universe. Onboard the starship Odyssey, Captain Aria gazed at the gaseous beauty, her mission to study its moons' potential for life. Europa's icy surface hid subsurface oceans; a world within a world. Here, in the heart of Jupiter's realm, Aria dared to dream of discovering Earth's next neighbor.\"\n",
            "    ]\n",
            "  },\n",
            "  {\n",
            "    \"role\": [\n",
            "      \"user\"\n",
            "    ],\n",
            "    \"content\": [\n",
            "      \"Summarize the chat.\"\n",
            "    ]\n",
            "  },\n",
            "  {\n",
            "    \"role\": [\n",
            "      \"assistant\"\n",
            "    ],\n",
            "    \"content\": [\n",
            "      \" Absolutely, here's a summary of our interaction:\\n\\nYou asked for a story about Mars, which I created, set in the future year of 2050, where Mars has become a second home for humans with biodomes and a new city named New Ares. You followed up with a request for a story about Jupiter, in which I described a starship captain named Aria studying the moons of Jupiter, particularly Europa, for signs of life.\\n\\nIf you have any more questions or need further assistance, feel free to ask!\"\n",
            "    ]\n",
            "  }\n",
            "] \n"
          ]
        }
      ]
    }
  ]
}