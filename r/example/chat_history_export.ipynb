{
  "nbformat": 4,
  "nbformat_minor": 0,
  "metadata": {
    "colab": {
      "provenance": [],
      "include_colab_link": true
    },
    "kernelspec": {
      "name": "ir",
      "display_name": "R"
    },
    "language_info": {
      "name": "R"
    }
  },
  "cells": [
    {
      "cell_type": "markdown",
      "metadata": {
        "id": "view-in-github",
        "colab_type": "text"
      },
      "source": [
        "<a href=\"https://colab.research.google.com/github/GitData-GA/GenAI/blob/gh-pages/r/example/chat_history_export.ipynb\" target=\"_parent\"><img src=\"https://colab.research.google.com/assets/colab-badge.svg\" alt=\"Open In Colab\"/></a>"
      ]
    },
    {
      "cell_type": "markdown",
      "source": [
        "# Installation & Setup\n"
      ],
      "metadata": {
        "id": "mDBGn0Qzsql5"
      }
    },
    {
      "cell_type": "code",
      "source": [
        "# The following commands are for Colab only\n",
        "system('add-apt-repository -y ppa:cran/imagemagick')\n",
        "system('apt-get update')\n",
        "system(\"apt-get install libmagick++-dev\")"
      ],
      "metadata": {
        "id": "vOn2PTjeC3xb"
      },
      "execution_count": null,
      "outputs": []
    },
    {
      "cell_type": "code",
      "execution_count": null,
      "metadata": {
        "colab": {
          "base_uri": "https://localhost:8080/"
        },
        "id": "EQ5mDg9-siid",
        "outputId": "37b95cd7-9c2a-44ee-aaa2-23353fc58b7c"
      },
      "outputs": [
        {
          "output_type": "stream",
          "name": "stderr",
          "text": [
            "Downloading package from url: https://genai.gd.edu.kg/release/R/GenAI_0.2.0.tar.gz\n",
            "\n"
          ]
        },
        {
          "output_type": "stream",
          "name": "stdout",
          "text": [
            "isoband      (0.2.6 -> 0.2.7 ) [CRAN]\n",
            "yulab.utils  (NA    -> 0.1.4 ) [CRAN]\n",
            "gridGraphics (NA    -> 0.5-1 ) [CRAN]\n",
            "curl         (5.0.2 -> 5.2.0 ) [CRAN]\n",
            "Rcpp         (NA    -> 1.0.12) [CRAN]\n",
            "openssl      (2.0.6 -> 2.1.1 ) [CRAN]\n",
            "ggplotify    (NA    -> 0.1.2 ) [CRAN]\n",
            "magick       (NA    -> 2.8.2 ) [CRAN]\n",
            "listenv      (NA    -> 0.9.1 ) [CRAN]\n"
          ]
        },
        {
          "output_type": "stream",
          "name": "stderr",
          "text": [
            "Installing 9 packages: isoband, yulab.utils, gridGraphics, curl, Rcpp, openssl, ggplotify, magick, listenv\n",
            "\n",
            "Installing packages into ‘/usr/local/lib/R/site-library’\n",
            "(as ‘lib’ is unspecified)\n",
            "\n"
          ]
        },
        {
          "output_type": "stream",
          "name": "stdout",
          "text": [
            "\u001b[36m──\u001b[39m \u001b[36mR CMD build\u001b[39m \u001b[36m─────────────────────────────────────────────────────────────────\u001b[39m\n",
            "* checking for file ‘/tmp/RtmppVNT37/remotesbf26331d81/GenAI/DESCRIPTION’ ... OK\n",
            "* preparing ‘GenAI’:\n",
            "* checking DESCRIPTION meta-information ... OK\n",
            "* checking for LF line-endings in source and make files and shell scripts\n",
            "* checking for empty or unneeded directories\n",
            "* building ‘GenAI_0.2.0.tar.gz’\n",
            "\n"
          ]
        },
        {
          "output_type": "stream",
          "name": "stderr",
          "text": [
            "Installing package into ‘/usr/local/lib/R/site-library’\n",
            "(as ‘lib’ is unspecified)\n",
            "\n",
            "Loading required package: magrittr\n",
            "\n"
          ]
        }
      ],
      "source": [
        "# Install the package (usually 1 - 3 minutes)\n",
        "remotes::install_url(\"https://genai.gd.edu.kg/release/R/GenAI_0.2.0.tar.gz\",\n",
        "                     dependencies = TRUE,\n",
        "                     method = \"libcurl\")\n",
        "library(\"GenAI\")"
      ]
    },
    {
      "cell_type": "markdown",
      "source": [
        "# Get Available Models"
      ],
      "metadata": {
        "id": "UdwTs_oitM8A"
      }
    },
    {
      "cell_type": "code",
      "source": [
        "all.models = available.models() %>% print()"
      ],
      "metadata": {
        "id": "S0lunMhxtOl_",
        "colab": {
          "base_uri": "https://localhost:8080/"
        },
        "outputId": "4ddb84f0-f2c1-4063-ec6f-ab8f0788eb59"
      },
      "execution_count": null,
      "outputs": [
        {
          "output_type": "stream",
          "name": "stdout",
          "text": [
            "$google\n",
            "$google$version\n",
            "[1] \"v1\"     \"v1beta\"\n",
            "\n",
            "$google$model\n",
            "[1] \"gemini-pro\"        \"gemini-pro-vision\"\n",
            "\n",
            "\n",
            "$openai\n",
            "$openai$version\n",
            "[1] \"v1\"\n",
            "\n",
            "$openai$model\n",
            "[1] \"gpt-3.5-turbo\"        \"gpt-3.5-turbo-1106\"   \"gpt-3.5-turbo-16k\"   \n",
            "[4] \"gpt-4\"                \"gpt-4-1106-preview\"   \"gpt-4-32k\"           \n",
            "[7] \"gpt-4-vision-preview\" \"dall-e-2\"             \"dall-e-3\"            \n",
            "\n",
            "\n",
            "$moonshot\n",
            "$moonshot$version\n",
            "[1] \"v1\"\n",
            "\n",
            "$moonshot$model\n",
            "[1] \"moonshot-v1-8k\"   \"moonshot-v1-32k\"  \"moonshot-v1-128k\"\n",
            "\n",
            "\n"
          ]
        }
      ]
    },
    {
      "cell_type": "markdown",
      "source": [
        "# Example for Google Generative AI"
      ],
      "metadata": {
        "id": "-UQDLvx8C6WS"
      }
    },
    {
      "cell_type": "code",
      "source": [
        "# Please change YOUR_GOOGLE_API to your own API key of Google Generative AI\n",
        "Sys.setenv(GOOGLE_API = \"YOUR_GOOGLE_API\")"
      ],
      "metadata": {
        "id": "sQTVbYJYm-ar"
      },
      "execution_count": null,
      "outputs": []
    },
    {
      "cell_type": "code",
      "source": [
        "# Create a Google Generative AI object\n",
        "google = genai.google(api = Sys.getenv(\"GOOGLE_API\"),\n",
        "                      model = all.models$google$model[1],\n",
        "                      version = all.models$google$version[1],\n",
        "                      proxy = FALSE)\n",
        "\n",
        "# Generation configurations\n",
        "parameters = list(\n",
        "  harm.category.dangerous.content = 5,\n",
        "  harm.category.harassment = 5,\n",
        "  max.output.tokens = 4096,\n",
        "  temperature = 0.9\n",
        ")"
      ],
      "metadata": {
        "id": "qtM6orwIC564"
      },
      "execution_count": null,
      "outputs": []
    },
    {
      "cell_type": "code",
      "source": [
        "# Start a chat session\n",
        "prompts = c(\"Write a story about Mars in 50 words.\",\n",
        "            \"Write a story about Jupiter in 50 words.\",\n",
        "            \"Summarize the chat.\")\n",
        "for (prompt in prompts) {\n",
        "  google %>%\n",
        "    chat(prompt = prompt,\n",
        "         verbose = FALSE,\n",
        "         config = parameters) %>%\n",
        "    strwrap(width = 76, exdent = 0) %>%\n",
        "    paste(collapse = \"\\n\") %>%\n",
        "    cat(\"\\n\\n\\n\")\n",
        "}"
      ],
      "metadata": {
        "colab": {
          "base_uri": "https://localhost:8080/"
        },
        "id": "z3j_BQupDAL4",
        "outputId": "e9bc72c9-64c8-4988-eba1-ec75f023f00d"
      },
      "execution_count": null,
      "outputs": [
        {
          "output_type": "stream",
          "name": "stdout",
          "text": [
            "In the vast expanse of the cosmos, amidst the celestial tapestry, Mars\n",
            "stood as an enigma. Once teeming with life, its once vibrant rivers now\n",
            "etched into its rust-colored surface, a haunting reminder of a bygone era.\n",
            "As humanity gazed upon this barren world, questions lingered like cosmic\n",
            "whispers, yearning to be answered, waiting for the day when the secrets of\n",
            "Mars would finally be unveiled. \n",
            "\n",
            "\n",
            "In the celestial expanse, Jupiter reigns supreme, a gaseous giant adorned\n",
            "with swirling storms and vibrant colors. Its colossal mass commands a\n",
            "gravitational court, orchestrating the dance of its moons, each a world\n",
            "unto itself. Beneath its tumultuous atmosphere, mysteries abound, from the\n",
            "enigmatic Great Red Spot to the hidden depths of its swirling clouds.\n",
            "Jupiter, a celestial enigma, beckons humanity to unravel its secrets, to\n",
            "glimpse the wonders that lie within its tempestuous embrace. \n",
            "\n",
            "\n",
            "The chat focused on writing compelling short stories within a 50-word\n",
            "constraint. We explored various techniques to craft impactful narratives,\n",
            "such as using evocative language, creating vivid imagery, and employing\n",
            "strong verbs. We also discussed the importance of capturing the reader's\n",
            "attention from the very beginning and leaving them with a lasting\n",
            "impression.\n",
            "\n",
            "Additionally, we delved into specific examples of short stories written\n",
            "within this constraint, analyzing their strengths and identifying elements\n",
            "that contributed to their effectiveness. We also explored different genres\n",
            "and themes that can be successfully conveyed in such a concise format.\n",
            "\n",
            "Overall, the chat provided a comprehensive overview of the art of writing\n",
            "engaging and impactful short stories within a 50-word limit. It highlighted\n",
            "the importance of carefully selecting words, crafting vivid imagery, and\n",
            "weaving a compelling narrative that resonates with readers despite its\n",
            "brevity. \n",
            "\n",
            "\n"
          ]
        }
      ]
    },
    {
      "cell_type": "code",
      "source": [
        "# Method 1 (recommended): use the pipe operator \"%>%\"\n",
        "exported.google.history = google %>%\n",
        "  chat.history.export()"
      ],
      "metadata": {
        "id": "JQdIBu_1EAKJ"
      },
      "execution_count": null,
      "outputs": []
    },
    {
      "cell_type": "code",
      "source": [
        "# Method 2: use the reference operator \"$\"\n",
        "exported.google.history = google$chat.history.export()"
      ],
      "metadata": {
        "id": "jplOhCPmEZAC"
      },
      "execution_count": null,
      "outputs": []
    },
    {
      "cell_type": "code",
      "source": [
        "# Method 3: use the function chat.history.export() directly\n",
        "exported.google.history = chat.history.export(genai.object = google)"
      ],
      "metadata": {
        "id": "u3AxOsh3Ep84"
      },
      "execution_count": null,
      "outputs": []
    },
    {
      "cell_type": "code",
      "source": [
        "# Print the exported chat history\n",
        "print(exported.google.history)"
      ],
      "metadata": {
        "colab": {
          "base_uri": "https://localhost:8080/"
        },
        "id": "0N4Swz09X-WL",
        "outputId": "0d4874cf-788f-494d-f28c-e54c1c3ef2af"
      },
      "execution_count": null,
      "outputs": [
        {
          "output_type": "stream",
          "name": "stdout",
          "text": [
            "[[1]]\n",
            "[[1]]$role\n",
            "[1] \"user\"\n",
            "\n",
            "[[1]]$parts\n",
            "[[1]]$parts$text\n",
            "[1] \"Write a story about Mars in 50 words.\"\n",
            "\n",
            "\n",
            "\n",
            "[[2]]\n",
            "[[2]]$role\n",
            "[1] \"model\"\n",
            "\n",
            "[[2]]$parts\n",
            "[[2]]$parts$text\n",
            "[1] \"In the vast expanse of the cosmos, amidst the celestial tapestry, Mars stood as an enigma. Once teeming with life, its once vibrant rivers now etched into its rust-colored surface, a haunting reminder of a bygone era. As humanity gazed upon this barren world, questions lingered like cosmic whispers, yearning to be answered, waiting for the day when the secrets of Mars would finally be unveiled.\"\n",
            "\n",
            "\n",
            "\n",
            "[[3]]\n",
            "[[3]]$role\n",
            "[1] \"user\"\n",
            "\n",
            "[[3]]$parts\n",
            "[[3]]$parts$text\n",
            "[1] \"Write a story about Jupiter in 50 words.\"\n",
            "\n",
            "\n",
            "\n",
            "[[4]]\n",
            "[[4]]$role\n",
            "[1] \"model\"\n",
            "\n",
            "[[4]]$parts\n",
            "[[4]]$parts$text\n",
            "[1] \"In the celestial expanse, Jupiter reigns supreme, a gaseous giant adorned with swirling storms and vibrant colors. Its colossal mass commands a gravitational court, orchestrating the dance of its moons, each a world unto itself. Beneath its tumultuous atmosphere, mysteries abound, from the enigmatic Great Red Spot to the hidden depths of its swirling clouds. Jupiter, a celestial enigma, beckons humanity to unravel its secrets, to glimpse the wonders that lie within its tempestuous embrace.\"\n",
            "\n",
            "\n",
            "\n",
            "[[5]]\n",
            "[[5]]$role\n",
            "[1] \"user\"\n",
            "\n",
            "[[5]]$parts\n",
            "[[5]]$parts$text\n",
            "[1] \"Summarize the chat.\"\n",
            "\n",
            "\n",
            "\n",
            "[[6]]\n",
            "[[6]]$role\n",
            "[1] \"model\"\n",
            "\n",
            "[[6]]$parts\n",
            "[[6]]$parts$text\n",
            "[1] \"The chat focused on writing compelling short stories within a 50-word constraint. We explored various techniques to craft impactful narratives, such as using evocative language, creating vivid imagery, and employing strong verbs. We also discussed the importance of capturing the reader's attention from the very beginning and leaving them with a lasting impression.\\n\\nAdditionally, we delved into specific examples of short stories written within this constraint, analyzing their strengths and identifying elements that contributed to their effectiveness. We also explored different genres and themes that can be successfully conveyed in such a concise format.\\n\\nOverall, the chat provided a comprehensive overview of the art of writing engaging and impactful short stories within a 50-word limit. It highlighted the importance of carefully selecting words, crafting vivid imagery, and weaving a compelling narrative that resonates with readers despite its brevity.\"\n",
            "\n",
            "\n",
            "\n"
          ]
        }
      ]
    },
    {
      "cell_type": "markdown",
      "source": [
        "# Example for OpenAI"
      ],
      "metadata": {
        "id": "UohYplX0ek4B"
      }
    },
    {
      "cell_type": "code",
      "source": [
        "# Please change YOUR_OPENAI_API to your own API key of OpenAI\n",
        "Sys.setenv(OPENAI_API = \"YOUR_OPENAI_API\")\n",
        "\n",
        "# Please change YOUR_OPENAI_ORG to your own organization ID for OpenAI\n",
        "Sys.setenv(OPENAI_ORG = \"YOUR_OPENAI_ORG\")"
      ],
      "metadata": {
        "id": "A7cw82tUnFBW"
      },
      "execution_count": null,
      "outputs": []
    },
    {
      "cell_type": "code",
      "source": [
        "# Create an OpenAI object\n",
        "openai = genai.openai(api = Sys.getenv(\"OPENAI_API\"),\n",
        "                      model = all.models$openai$model[1],\n",
        "                      version = all.models$openai$version[1],\n",
        "                      proxy = FALSE,\n",
        "                      organization.id = Sys.getenv(\"OPENAI_ORG\"))\n",
        "\n",
        "# Generation configurations\n",
        "parameters = list(\n",
        "  frequency.penalty = 1,\n",
        "  logprobs = FALSE,\n",
        "  max.tokens = 3000,\n",
        "  temperature = 0.9\n",
        ")"
      ],
      "metadata": {
        "id": "VlQSbNWuelqB"
      },
      "execution_count": null,
      "outputs": []
    },
    {
      "cell_type": "code",
      "source": [
        "# Start a chat session\n",
        "prompts = c(\"Write a story about Mars in 50 words.\",\n",
        "            \"Write a story about Jupiter in 50 words.\",\n",
        "            \"Summarize the chat.\")\n",
        "for (prompt in prompts) {\n",
        "  openai %>%\n",
        "    chat(prompt = prompt,\n",
        "         verbose = FALSE,\n",
        "         config = parameters) %>%\n",
        "    strwrap(width = 76, exdent = 0) %>%\n",
        "    paste(collapse = \"\\n\") %>%\n",
        "    cat(\"\\n\\n\\n\")\n",
        "}"
      ],
      "metadata": {
        "colab": {
          "base_uri": "https://localhost:8080/"
        },
        "id": "7xhNMQYJeuNY",
        "outputId": "431d692c-75d1-4f99-9cc5-0b2bd4f12655"
      },
      "execution_count": null,
      "outputs": [
        {
          "output_type": "stream",
          "name": "stdout",
          "text": [
            "Mars, a mysterious red planet, once harbored the dreams of Earth's\n",
            "explorers. Dust storms painted its barren landscape with an eerie beauty.\n",
            "Humans walked its surface, searching for signs of life. They found none,\n",
            "yet hope remains; perhaps Mars will one day reveal its secrets to those who\n",
            "dare to venture forth. \n",
            "\n",
            "\n",
            "Jupiter, the giant of our solar system, with its swirling storms and\n",
            "majestic rings, held a magnetic allure. Satellites observed its tumultuous\n",
            "atmosphere; fascinated scientists sought answers. Gas giants intrigued the\n",
            "curious minds of humanity, unveiling celestial wonders never before\n",
            "witnessed. Jupiter's secrets remain untamed, beckoning us to explore\n",
            "further into the depths of space. \n",
            "\n",
            "\n",
            "In this chat, the user requested two stories summarized in 50 words each,\n",
            "one about Mars and another about Jupiter. The stories captured the intrigue\n",
            "and exploration of these planets, highlighting their mysteries and\n",
            "potential for future discovery. \n",
            "\n",
            "\n"
          ]
        }
      ]
    },
    {
      "cell_type": "code",
      "source": [
        "# Method 1 (recommended): use the pipe operator \"%>%\"\n",
        "exported.openai.history = openai %>%\n",
        "  chat.history.export()"
      ],
      "metadata": {
        "id": "c1UaW1Qoezsg"
      },
      "execution_count": null,
      "outputs": []
    },
    {
      "cell_type": "code",
      "source": [
        "# Method 2: use the reference operator \"$\"\n",
        "exported.openai.history = openai$chat.history.export()"
      ],
      "metadata": {
        "id": "RkmMrIEze2TA"
      },
      "execution_count": null,
      "outputs": []
    },
    {
      "cell_type": "code",
      "source": [
        "# Method 3: use the function chat.history.export() directly\n",
        "exported.openai.history = chat.history.export(genai.object = openai)"
      ],
      "metadata": {
        "id": "3EnJPLFNe6hw"
      },
      "execution_count": null,
      "outputs": []
    },
    {
      "cell_type": "code",
      "source": [
        "# Print the exported chat history\n",
        "print(exported.openai.history)"
      ],
      "metadata": {
        "colab": {
          "base_uri": "https://localhost:8080/"
        },
        "id": "hFQfiKQPYiv7",
        "outputId": "587ee4c3-8149-420a-e2a1-30542b1a1d54"
      },
      "execution_count": null,
      "outputs": [
        {
          "output_type": "stream",
          "name": "stdout",
          "text": [
            "[[1]]\n",
            "[[1]]$role\n",
            "[1] \"system\"\n",
            "\n",
            "[[1]]$content\n",
            "[1] \"You are a helpful assistant.\"\n",
            "\n",
            "\n",
            "[[2]]\n",
            "[[2]]$role\n",
            "[1] \"user\"\n",
            "\n",
            "[[2]]$content\n",
            "[1] \"Write a story about Mars in 50 words.\"\n",
            "\n",
            "\n",
            "[[3]]\n",
            "[[3]]$role\n",
            "[1] \"assistant\"\n",
            "\n",
            "[[3]]$content\n",
            "[1] \"Mars, a mysterious red planet, once harbored the dreams of Earth's explorers. Dust storms painted its barren landscape with an eerie beauty. Humans walked its surface, searching for signs of life. They found none, yet hope remains; perhaps Mars will one day reveal its secrets to those who dare to venture forth.\"\n",
            "\n",
            "\n",
            "[[4]]\n",
            "[[4]]$role\n",
            "[1] \"user\"\n",
            "\n",
            "[[4]]$content\n",
            "[1] \"Write a story about Jupiter in 50 words.\"\n",
            "\n",
            "\n",
            "[[5]]\n",
            "[[5]]$role\n",
            "[1] \"assistant\"\n",
            "\n",
            "[[5]]$content\n",
            "[1] \"Jupiter, the giant of our solar system, with its swirling storms and majestic rings, held a magnetic allure. Satellites observed its tumultuous atmosphere; fascinated scientists sought answers. Gas giants intrigued the curious minds of humanity, unveiling celestial wonders never before witnessed. Jupiter's secrets remain untamed, beckoning us to explore further into the depths of space.\"\n",
            "\n",
            "\n",
            "[[6]]\n",
            "[[6]]$role\n",
            "[1] \"user\"\n",
            "\n",
            "[[6]]$content\n",
            "[1] \"Summarize the chat.\"\n",
            "\n",
            "\n",
            "[[7]]\n",
            "[[7]]$role\n",
            "[1] \"assistant\"\n",
            "\n",
            "[[7]]$content\n",
            "[1] \"In this chat, the user requested two stories summarized in 50 words each, one about Mars and another about Jupiter. The stories captured the intrigue and exploration of these planets, highlighting their mysteries and potential for future discovery.\"\n",
            "\n",
            "\n"
          ]
        }
      ]
    },
    {
      "cell_type": "markdown",
      "source": [
        "# Example for Moonshot AI"
      ],
      "metadata": {
        "id": "_OhSuNdhDHt7"
      }
    },
    {
      "cell_type": "code",
      "source": [
        "# Please change YOUR_MOONSHOT_API to your own API key of Moonshot AI\n",
        "Sys.setenv(MOONSHOT_API = \"YOUR_MOONSHOT_API\")"
      ],
      "metadata": {
        "id": "PzS9dksgDG-0"
      },
      "execution_count": null,
      "outputs": []
    },
    {
      "cell_type": "code",
      "source": [
        "# Create a Moonshot AI object\n",
        "moonshot = genai.moonshot(api = Sys.getenv(\"MOONSHOT_API\"),\n",
        "                          model = all.models$moonshot$model[1],\n",
        "                          version = all.models$moonshot$version[1],\n",
        "                          proxy = FALSE)\n",
        "\n",
        "# Generation configurations\n",
        "parameters = list(\n",
        "  max.tokens = 3000,\n",
        "  temperature = 0.7,\n",
        "  top.p = 1.0\n",
        ")"
      ],
      "metadata": {
        "id": "3sdYajM2DJ3i"
      },
      "execution_count": null,
      "outputs": []
    },
    {
      "cell_type": "code",
      "source": [
        "# Start a chat session\n",
        "prompts = c(\"Write a story about Mars in 50 words.\",\n",
        "            \"Write a story about Jupiter in 50 words.\",\n",
        "            \"Summarize the chat.\")\n",
        "for (prompt in prompts) {\n",
        "  moonshot %>%\n",
        "    chat(prompt = prompt,\n",
        "         verbose = FALSE,\n",
        "         config = parameters) %>%\n",
        "    strwrap(width = 76, exdent = 0) %>%\n",
        "    paste(collapse = \"\\n\") %>%\n",
        "    cat(\"\\n\\n\\n\")\n",
        "}"
      ],
      "metadata": {
        "colab": {
          "base_uri": "https://localhost:8080/"
        },
        "id": "Nf0oWJLlDLME",
        "outputId": "90fe32f8-26d6-463f-eeb7-5e772100d076"
      },
      "execution_count": null,
      "outputs": [
        {
          "output_type": "stream",
          "name": "stdout",
          "text": [
            "In 2054, Mars Colony Alpha thrived. Red soil was transformed into lush\n",
            "gardens. Astronauts, now Martians, harvested crops under domes, their\n",
            "breath visible in the thin air. Rovers traversed canyons, unearthing\n",
            "ancient secrets. A new language fused Earthly tongues, as children played\n",
            "under twin moons, dreaming of Earth's blue skies. \n",
            "\n",
            "\n",
            "Far beyond Earth's blue horizon, Jupiter loomed, its swirling storms\n",
            "whispering cosmic secrets. Astronauts from the ISS Farsight orbited the gas\n",
            "giant, collecting data. On board, Dr. Ava, a brilliant astrobiologist,\n",
            "discovered signs of life in Europa's subsurface ocean, awakening humanity's\n",
            "hope for interplanetary kinship. \n",
            "\n",
            "\n",
            "A user requested a story about Mars in 50 words, envisioning a future where\n",
            "Mars is colonized with thriving gardens, domes for living, and humans\n",
            "adapting to life on the red planet. Another story was requested about\n",
            "Jupiter, where astronauts gather data from a space station, and a discovery\n",
            "of potential life in Europa's ocean reignites humanity's dream of finding\n",
            "extraterrestrial life. \n",
            "\n",
            "\n"
          ]
        }
      ]
    },
    {
      "cell_type": "code",
      "source": [
        "# Method 1 (recommended): use the pipe operator \"%>%\"\n",
        "exported.moonshot.history = moonshot %>%\n",
        "  chat.history.export()"
      ],
      "metadata": {
        "id": "65Cm9yw4DUkq"
      },
      "execution_count": null,
      "outputs": []
    },
    {
      "cell_type": "code",
      "source": [
        "# Method 2: use the reference operator \"$\"\n",
        "exported.moonshot.history = moonshot$chat.history.export()"
      ],
      "metadata": {
        "id": "CV7xIUDgDWGa"
      },
      "execution_count": null,
      "outputs": []
    },
    {
      "cell_type": "code",
      "source": [
        "# Method 3: use the function chat.history.export() directly\n",
        "exported.moonshot.history = chat.history.export(genai.object = moonshot)"
      ],
      "metadata": {
        "id": "PKsOzoAiDXTi"
      },
      "execution_count": null,
      "outputs": []
    },
    {
      "cell_type": "code",
      "source": [
        "# Print the exported chat history\n",
        "print(exported.moonshot.history)"
      ],
      "metadata": {
        "colab": {
          "base_uri": "https://localhost:8080/"
        },
        "id": "yZRMreAEY-bt",
        "outputId": "fb52aacd-0d2c-4717-e346-77b71207a81e"
      },
      "execution_count": null,
      "outputs": [
        {
          "output_type": "stream",
          "name": "stdout",
          "text": [
            "[[1]]\n",
            "[[1]]$role\n",
            "[1] \"system\"\n",
            "\n",
            "[[1]]$content\n",
            "[1] \"你是 Kimi，由 Moonshot AI 提供的人工智能助手，你更擅长中文和英文的对话。你会为用户提供安全，有帮助，准确的回答。同时，你会拒绝一些涉及恐怖主义，种族歧视，黄色暴力等问题的回答。Moonshot AI 为专有名词，不可翻译成其他语言。\"\n",
            "\n",
            "\n",
            "[[2]]\n",
            "[[2]]$role\n",
            "[1] \"user\"\n",
            "\n",
            "[[2]]$content\n",
            "[1] \"Write a story about Mars in 50 words.\"\n",
            "\n",
            "\n",
            "[[3]]\n",
            "[[3]]$role\n",
            "[1] \"assistant\"\n",
            "\n",
            "[[3]]$content\n",
            "[1] \" In 2054, Mars Colony Alpha thrived. Red soil was transformed into lush gardens. Astronauts, now Martians, harvested crops under domes, their breath visible in the thin air. Rovers traversed canyons, unearthing ancient secrets. A new language fused Earthly tongues, as children played under twin moons, dreaming of Earth's blue skies.\"\n",
            "\n",
            "\n",
            "[[4]]\n",
            "[[4]]$role\n",
            "[1] \"user\"\n",
            "\n",
            "[[4]]$content\n",
            "[1] \"Write a story about Jupiter in 50 words.\"\n",
            "\n",
            "\n",
            "[[5]]\n",
            "[[5]]$role\n",
            "[1] \"assistant\"\n",
            "\n",
            "[[5]]$content\n",
            "[1] \" Far beyond Earth's blue horizon, Jupiter loomed, its swirling storms whispering cosmic secrets. Astronauts from the ISS Farsight orbited the gas giant, collecting data. On board, Dr. Ava, a brilliant astrobiologist, discovered signs of life in Europa's subsurface ocean, awakening humanity's hope for interplanetary kinship.\"\n",
            "\n",
            "\n",
            "[[6]]\n",
            "[[6]]$role\n",
            "[1] \"user\"\n",
            "\n",
            "[[6]]$content\n",
            "[1] \"Summarize the chat.\"\n",
            "\n",
            "\n",
            "[[7]]\n",
            "[[7]]$role\n",
            "[1] \"assistant\"\n",
            "\n",
            "[[7]]$content\n",
            "[1] \" A user requested a story about Mars in 50 words, envisioning a future where Mars is colonized with thriving gardens, domes for living, and humans adapting to life on the red planet. Another story was requested about Jupiter, where astronauts gather data from a space station, and a discovery of potential life in Europa's ocean reignites humanity's dream of finding extraterrestrial life.\"\n",
            "\n",
            "\n"
          ]
        }
      ]
    }
  ]
}