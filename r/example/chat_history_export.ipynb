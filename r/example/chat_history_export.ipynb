{
  "nbformat": 4,
  "nbformat_minor": 0,
  "metadata": {
    "colab": {
      "provenance": [],
      "include_colab_link": true
    },
    "kernelspec": {
      "name": "ir",
      "display_name": "R"
    },
    "language_info": {
      "name": "R"
    }
  },
  "cells": [
    {
      "cell_type": "markdown",
      "metadata": {
        "id": "view-in-github",
        "colab_type": "text"
      },
      "source": [
        "<a href=\"https://colab.research.google.com/github/GitData-GA/GenAI/blob/gh-pages/r/example/chat_history_export.ipynb\" target=\"_parent\"><img src=\"https://colab.research.google.com/assets/colab-badge.svg\" alt=\"Open In Colab\"/></a>"
      ]
    },
    {
      "cell_type": "markdown",
      "source": [
        "# Installation & Setup\n"
      ],
      "metadata": {
        "id": "mDBGn0Qzsql5"
      }
    },
    {
      "cell_type": "code",
      "source": [
        "# The following commands are for Colab only\n",
        "system('add-apt-repository -y ppa:cran/imagemagick')\n",
        "system('apt-get update')\n",
        "system(\"apt-get install libmagick++-dev\")"
      ],
      "metadata": {
        "id": "vOn2PTjeC3xb"
      },
      "execution_count": null,
      "outputs": []
    },
    {
      "cell_type": "code",
      "execution_count": null,
      "metadata": {
        "colab": {
          "base_uri": "https://localhost:8080/"
        },
        "id": "EQ5mDg9-siid",
        "outputId": "f2c08f5d-0947-421c-ef42-d7b8c9e2ee81"
      },
      "outputs": [
        {
          "output_type": "stream",
          "name": "stderr",
          "text": [
            "Installing package into ‘/usr/local/lib/R/site-library’\n",
            "(as ‘lib’ is unspecified)\n",
            "\n",
            "also installing the dependencies ‘Rcpp’, ‘gridGraphics’, ‘yulab.utils’, ‘listenv’, ‘magick’, ‘ggplotify’\n",
            "\n",
            "\n",
            "Loading required package: magrittr\n",
            "\n"
          ]
        }
      ],
      "source": [
        "# Install the library (usually 1 - 3 minutes in Colab)\n",
        "install.packages(\"GenAI\")\n",
        "library(\"GenAI\")"
      ]
    },
    {
      "cell_type": "markdown",
      "source": [
        "# Get Available Models"
      ],
      "metadata": {
        "id": "UdwTs_oitM8A"
      }
    },
    {
      "cell_type": "code",
      "source": [
        "all.models = available.models() %>% print()"
      ],
      "metadata": {
        "id": "S0lunMhxtOl_",
        "colab": {
          "base_uri": "https://localhost:8080/"
        },
        "outputId": "a7284d79-0be3-4afd-a66d-d0b4486ea7ba"
      },
      "execution_count": null,
      "outputs": [
        {
          "output_type": "stream",
          "name": "stdout",
          "text": [
            "$google\n",
            "$google$version\n",
            "[1] \"v1\"     \"v1beta\"\n",
            "\n",
            "$google$model\n",
            "[1] \"gemini-pro\"                   \"gemini-pro-vision\"           \n",
            "[3] \"gemini-1.0-pro\"               \"gemini-1.0-pro-001\"          \n",
            "[5] \"gemini-1.0-pro-latest\"        \"gemini-1.0-pro-vision-latest\"\n",
            "\n",
            "\n",
            "$openai\n",
            "$openai$version\n",
            "[1] \"v1\"\n",
            "\n",
            "$openai$model\n",
            "[1] \"gpt-3.5-turbo\"        \"gpt-3.5-turbo-1106\"   \"gpt-3.5-turbo-16k\"   \n",
            "[4] \"gpt-4\"                \"gpt-4-1106-preview\"   \"gpt-4-32k\"           \n",
            "[7] \"gpt-4-vision-preview\" \"dall-e-2\"             \"dall-e-3\"            \n",
            "\n",
            "\n",
            "$moonshot\n",
            "$moonshot$version\n",
            "[1] \"v1\"\n",
            "\n",
            "$moonshot$model\n",
            "[1] \"moonshot-v1-8k\"   \"moonshot-v1-32k\"  \"moonshot-v1-128k\"\n",
            "\n",
            "\n"
          ]
        }
      ]
    },
    {
      "cell_type": "markdown",
      "source": [
        "# Example for Google Generative AI"
      ],
      "metadata": {
        "id": "-UQDLvx8C6WS"
      }
    },
    {
      "cell_type": "code",
      "source": [
        "# Please change YOUR_GOOGLE_API to your own API key of Google Generative AI\n",
        "Sys.setenv(GOOGLE_API = \"YOUR_GOOGLE_API\")"
      ],
      "metadata": {
        "id": "sQTVbYJYm-ar"
      },
      "execution_count": null,
      "outputs": []
    },
    {
      "cell_type": "code",
      "source": [
        "# Create a Google Generative AI object\n",
        "google = genai.google(api = Sys.getenv(\"GOOGLE_API\"),\n",
        "                      model = all.models$google$model[1],\n",
        "                      version = all.models$google$version[1],\n",
        "                      proxy = FALSE)\n",
        "\n",
        "# Generation configurations\n",
        "parameters = list(\n",
        "  harm.category.dangerous.content = 5,\n",
        "  harm.category.harassment = 5,\n",
        "  max.output.tokens = 4096,\n",
        "  temperature = 0.9\n",
        ")"
      ],
      "metadata": {
        "id": "qtM6orwIC564"
      },
      "execution_count": null,
      "outputs": []
    },
    {
      "cell_type": "code",
      "source": [
        "# Start a chat session\n",
        "prompts = c(\"Write a story about Mars in 50 words.\",\n",
        "            \"Write a story about Jupiter in 50 words.\",\n",
        "            \"Summarize the chat.\")\n",
        "for (prompt in prompts) {\n",
        "  google %>%\n",
        "    chat(prompt = prompt,\n",
        "         verbose = FALSE,\n",
        "         config = parameters) %>%\n",
        "    strwrap(width = 76, exdent = 0) %>%\n",
        "    paste(collapse = \"\\n\") %>%\n",
        "    cat(\"\\n\\n\\n\")\n",
        "}"
      ],
      "metadata": {
        "colab": {
          "base_uri": "https://localhost:8080/"
        },
        "id": "z3j_BQupDAL4",
        "outputId": "c608aab7-e11b-4d2f-cbf3-ef10c8184ea7"
      },
      "execution_count": null,
      "outputs": [
        {
          "output_type": "stream",
          "name": "stdout",
          "text": [
            "In the desolate wilderness of Mars, Curiosity, a lone rover, explored the\n",
            "barren landscape. Amidst towering dunes and ancient craters, it discovered\n",
            "remnants of a once-flowing river, a tantalizing clue hinting at life's\n",
            "long-lost secrets on the Red Planet. \n",
            "\n",
            "\n",
            "Amidst the swirling storms of Jupiter, a colossal tempest emerged. Its\n",
            "swirling vortex stretched thousands of kilometers, dwarfing Earth's largest\n",
            "hurricanes. Lightning crackled and thunder roared as the tempest raged, a\n",
            "celestial dance of unimaginable power and beauty. \n",
            "\n",
            "\n",
            "**User:** I'm interested in learning more about space exploration. Can you\n",
            "tell me about Mars?\n",
            "\n",
            "**Assistant:** Mars is the fourth planet from the Sun and the second\n",
            "smallest planet in our solar system. It is known as the \"Red Planet\" due to\n",
            "its reddish appearance caused by iron oxide on its surface. Mars has a thin\n",
            "atmosphere and a surface that is covered in craters, volcanoes, and\n",
            "canyons. It also has two small moons, Phobos and Deimos.\n",
            "\n",
            "**User:** That's fascinating! What about Jupiter?\n",
            "\n",
            "**Assistant:** Jupiter is the fifth planet from the Sun and the largest\n",
            "planet in our solar system. It is a gas giant, composed mostly of hydrogen\n",
            "and helium. Jupiter has a thick atmosphere with distinctive cloud bands and\n",
            "a Great Red Spot, which is a giant storm that has been raging for\n",
            "centuries. Jupiter also has a faint ring system and numerous moons,\n",
            "including the four Galilean moons: Io, Europa, Ganymede, and Callisto.\n",
            "\n",
            "**User:** Thank you! This is very informative.\n",
            "\n",
            "**Assistant:** You're welcome! I'm glad I could be of assistance. If you\n",
            "have any more questions about space exploration, feel free to ask. \n",
            "\n",
            "\n"
          ]
        }
      ]
    },
    {
      "cell_type": "code",
      "source": [
        "# Method 1 (recommended): use the pipe operator \"%>%\"\n",
        "exported.google.history = google %>%\n",
        "  chat.history.export()"
      ],
      "metadata": {
        "id": "JQdIBu_1EAKJ"
      },
      "execution_count": null,
      "outputs": []
    },
    {
      "cell_type": "code",
      "source": [
        "# Method 2: use the reference operator \"$\"\n",
        "exported.google.history = google$chat.history.export()"
      ],
      "metadata": {
        "id": "jplOhCPmEZAC"
      },
      "execution_count": null,
      "outputs": []
    },
    {
      "cell_type": "code",
      "source": [
        "# Method 3: use the function chat.history.export() directly\n",
        "exported.google.history = chat.history.export(genai.object = google)"
      ],
      "metadata": {
        "id": "u3AxOsh3Ep84"
      },
      "execution_count": null,
      "outputs": []
    },
    {
      "cell_type": "code",
      "source": [
        "# Print the exported chat history\n",
        "print(exported.google.history)"
      ],
      "metadata": {
        "colab": {
          "base_uri": "https://localhost:8080/"
        },
        "id": "0N4Swz09X-WL",
        "outputId": "2261169e-eff8-4576-c7d2-637472e1e9af"
      },
      "execution_count": null,
      "outputs": [
        {
          "output_type": "stream",
          "name": "stdout",
          "text": [
            "[[1]]\n",
            "[[1]]$role\n",
            "[1] \"user\"\n",
            "\n",
            "[[1]]$parts\n",
            "[[1]]$parts$text\n",
            "[1] \"Write a story about Mars in 50 words.\"\n",
            "\n",
            "\n",
            "\n",
            "[[2]]\n",
            "[[2]]$role\n",
            "[1] \"model\"\n",
            "\n",
            "[[2]]$parts\n",
            "[[2]]$parts$text\n",
            "[1] \"In the desolate wilderness of Mars, Curiosity, a lone rover, explored the barren landscape. Amidst towering dunes and ancient craters, it discovered remnants of a once-flowing river, a tantalizing clue hinting at life's long-lost secrets on the Red Planet.\"\n",
            "\n",
            "\n",
            "\n",
            "[[3]]\n",
            "[[3]]$role\n",
            "[1] \"user\"\n",
            "\n",
            "[[3]]$parts\n",
            "[[3]]$parts$text\n",
            "[1] \"Write a story about Jupiter in 50 words.\"\n",
            "\n",
            "\n",
            "\n",
            "[[4]]\n",
            "[[4]]$role\n",
            "[1] \"model\"\n",
            "\n",
            "[[4]]$parts\n",
            "[[4]]$parts$text\n",
            "[1] \"Amidst the swirling storms of Jupiter, a colossal tempest emerged. Its swirling vortex stretched thousands of kilometers, dwarfing Earth's largest hurricanes. Lightning crackled and thunder roared as the tempest raged, a celestial dance of unimaginable power and beauty.\"\n",
            "\n",
            "\n",
            "\n",
            "[[5]]\n",
            "[[5]]$role\n",
            "[1] \"user\"\n",
            "\n",
            "[[5]]$parts\n",
            "[[5]]$parts$text\n",
            "[1] \"Summarize the chat.\"\n",
            "\n",
            "\n",
            "\n",
            "[[6]]\n",
            "[[6]]$role\n",
            "[1] \"model\"\n",
            "\n",
            "[[6]]$parts\n",
            "[[6]]$parts$text\n",
            "[1] \"**User:** I'm interested in learning more about space exploration. Can you tell me about Mars?\\n\\n**Assistant:** Mars is the fourth planet from the Sun and the second smallest planet in our solar system. It is known as the \\\"Red Planet\\\" due to its reddish appearance caused by iron oxide on its surface. Mars has a thin atmosphere and a surface that is covered in craters, volcanoes, and canyons. It also has two small moons, Phobos and Deimos.\\n\\n**User:** That's fascinating! What about Jupiter?\\n\\n**Assistant:** Jupiter is the fifth planet from the Sun and the largest planet in our solar system. It is a gas giant, composed mostly of hydrogen and helium. Jupiter has a thick atmosphere with distinctive cloud bands and a Great Red Spot, which is a giant storm that has been raging for centuries. Jupiter also has a faint ring system and numerous moons, including the four Galilean moons: Io, Europa, Ganymede, and Callisto.\\n\\n**User:** Thank you! This is very informative.\\n\\n**Assistant:** You're welcome! I'm glad I could be of assistance. If you have any more questions about space exploration, feel free to ask.\"\n",
            "\n",
            "\n",
            "\n"
          ]
        }
      ]
    },
    {
      "cell_type": "markdown",
      "source": [
        "# Example for OpenAI"
      ],
      "metadata": {
        "id": "UohYplX0ek4B"
      }
    },
    {
      "cell_type": "code",
      "source": [
        "# Please change YOUR_OPENAI_API to your own API key of OpenAI\n",
        "Sys.setenv(OPENAI_API = \"YOUR_OPENAI_API\")\n",
        "\n",
        "# Please change YOUR_OPENAI_ORG to your own organization ID for OpenAI\n",
        "Sys.setenv(OPENAI_ORG = \"YOUR_OPENAI_ORG\")"
      ],
      "metadata": {
        "id": "A7cw82tUnFBW"
      },
      "execution_count": null,
      "outputs": []
    },
    {
      "cell_type": "code",
      "source": [
        "# Create an OpenAI object\n",
        "openai = genai.openai(api = Sys.getenv(\"OPENAI_API\"),\n",
        "                      model = all.models$openai$model[1],\n",
        "                      version = all.models$openai$version[1],\n",
        "                      proxy = FALSE,\n",
        "                      organization.id = Sys.getenv(\"OPENAI_ORG\"))\n",
        "\n",
        "# Generation configurations\n",
        "parameters = list(\n",
        "  frequency.penalty = 1,\n",
        "  logprobs = FALSE,\n",
        "  max.tokens = 3000,\n",
        "  temperature = 0.9\n",
        ")"
      ],
      "metadata": {
        "id": "VlQSbNWuelqB"
      },
      "execution_count": null,
      "outputs": []
    },
    {
      "cell_type": "code",
      "source": [
        "# Start a chat session\n",
        "prompts = c(\"Write a story about Mars in 50 words.\",\n",
        "            \"Write a story about Jupiter in 50 words.\",\n",
        "            \"Summarize the chat.\")\n",
        "for (prompt in prompts) {\n",
        "  openai %>%\n",
        "    chat(prompt = prompt,\n",
        "         verbose = FALSE,\n",
        "         config = parameters) %>%\n",
        "    strwrap(width = 76, exdent = 0) %>%\n",
        "    paste(collapse = \"\\n\") %>%\n",
        "    cat(\"\\n\\n\\n\")\n",
        "}"
      ],
      "metadata": {
        "colab": {
          "base_uri": "https://localhost:8080/"
        },
        "id": "7xhNMQYJeuNY",
        "outputId": "3e4e4f9f-931b-4636-bc88-59cfd93155b2"
      },
      "execution_count": null,
      "outputs": [
        {
          "output_type": "stream",
          "name": "stdout",
          "text": [
            "In a barren red land, curiosity roams. Humans send rovers to explore the\n",
            "mysteries of Mars. Deep beneath the surface, signs of life are discovered.\n",
            "Excitement spreads on Earth as dreams of another world come alive. A new\n",
            "chapter unfolds as we journey closer to the stars. \n",
            "\n",
            "\n",
            "Jupiter, the giant among our celestial neighbors. Its swirling storms\n",
            "captivate astronomers' gaze. Beneath its colorful clouds, a grand symphony\n",
            "plays. Moons dance in perfect harmony while Jupiter's magnetic embrace\n",
            "protects them all. A majestic planet, a beacon of wonder and limitless\n",
            "potential in the vastness of space. \n",
            "\n",
            "\n",
            "In this chat, we crafted short stories about Mars and Jupiter. The tale of\n",
            "Mars encompassed the discovery of signs of life beneath its surface,\n",
            "sparking excitement and a sense of exploration. For Jupiter, we marveled at\n",
            "its size, swirling storms, harmonious moons, and protective magnetic\n",
            "field—portraying it as a majestic planet full of wonder. \n",
            "\n",
            "\n"
          ]
        }
      ]
    },
    {
      "cell_type": "code",
      "source": [
        "# Method 1 (recommended): use the pipe operator \"%>%\"\n",
        "exported.openai.history = openai %>%\n",
        "  chat.history.export()"
      ],
      "metadata": {
        "id": "c1UaW1Qoezsg"
      },
      "execution_count": null,
      "outputs": []
    },
    {
      "cell_type": "code",
      "source": [
        "# Method 2: use the reference operator \"$\"\n",
        "exported.openai.history = openai$chat.history.export()"
      ],
      "metadata": {
        "id": "RkmMrIEze2TA"
      },
      "execution_count": null,
      "outputs": []
    },
    {
      "cell_type": "code",
      "source": [
        "# Method 3: use the function chat.history.export() directly\n",
        "exported.openai.history = chat.history.export(genai.object = openai)"
      ],
      "metadata": {
        "id": "3EnJPLFNe6hw"
      },
      "execution_count": null,
      "outputs": []
    },
    {
      "cell_type": "code",
      "source": [
        "# Print the exported chat history\n",
        "print(exported.openai.history)"
      ],
      "metadata": {
        "colab": {
          "base_uri": "https://localhost:8080/"
        },
        "id": "hFQfiKQPYiv7",
        "outputId": "3b596315-e993-4967-b5e9-48cdc99f4534"
      },
      "execution_count": null,
      "outputs": [
        {
          "output_type": "stream",
          "name": "stdout",
          "text": [
            "[[1]]\n",
            "[[1]]$role\n",
            "[1] \"system\"\n",
            "\n",
            "[[1]]$content\n",
            "[1] \"You are a helpful assistant.\"\n",
            "\n",
            "\n",
            "[[2]]\n",
            "[[2]]$role\n",
            "[1] \"user\"\n",
            "\n",
            "[[2]]$content\n",
            "[1] \"Write a story about Mars in 50 words.\"\n",
            "\n",
            "\n",
            "[[3]]\n",
            "[[3]]$role\n",
            "[1] \"assistant\"\n",
            "\n",
            "[[3]]$content\n",
            "[1] \"In a barren red land, curiosity roams. Humans send rovers to explore the mysteries of Mars. Deep beneath the surface, signs of life are discovered. Excitement spreads on Earth as dreams of another world come alive. A new chapter unfolds as we journey closer to the stars.\"\n",
            "\n",
            "\n",
            "[[4]]\n",
            "[[4]]$role\n",
            "[1] \"user\"\n",
            "\n",
            "[[4]]$content\n",
            "[1] \"Write a story about Jupiter in 50 words.\"\n",
            "\n",
            "\n",
            "[[5]]\n",
            "[[5]]$role\n",
            "[1] \"assistant\"\n",
            "\n",
            "[[5]]$content\n",
            "[1] \"Jupiter, the giant among our celestial neighbors. Its swirling storms captivate astronomers' gaze. Beneath its colorful clouds, a grand symphony plays. Moons dance in perfect harmony while Jupiter's magnetic embrace protects them all. A majestic planet, a beacon of wonder and limitless potential in the vastness of space.\"\n",
            "\n",
            "\n",
            "[[6]]\n",
            "[[6]]$role\n",
            "[1] \"user\"\n",
            "\n",
            "[[6]]$content\n",
            "[1] \"Summarize the chat.\"\n",
            "\n",
            "\n",
            "[[7]]\n",
            "[[7]]$role\n",
            "[1] \"assistant\"\n",
            "\n",
            "[[7]]$content\n",
            "[1] \"In this chat, we crafted short stories about Mars and Jupiter. The tale of Mars encompassed the discovery of signs of life beneath its surface, sparking excitement and a sense of exploration. For Jupiter, we marveled at its size, swirling storms, harmonious moons, and protective magnetic field—portraying it as a majestic planet full of wonder.\"\n",
            "\n",
            "\n"
          ]
        }
      ]
    },
    {
      "cell_type": "markdown",
      "source": [
        "# Example for Moonshot AI"
      ],
      "metadata": {
        "id": "_OhSuNdhDHt7"
      }
    },
    {
      "cell_type": "code",
      "source": [
        "# Please change YOUR_MOONSHOT_API to your own API key of Moonshot AI\n",
        "Sys.setenv(MOONSHOT_API = \"YOUR_MOONSHOT_API\")"
      ],
      "metadata": {
        "id": "PzS9dksgDG-0"
      },
      "execution_count": null,
      "outputs": []
    },
    {
      "cell_type": "code",
      "source": [
        "# Create a Moonshot AI object\n",
        "moonshot = genai.moonshot(api = Sys.getenv(\"MOONSHOT_API\"),\n",
        "                          model = all.models$moonshot$model[1],\n",
        "                          version = all.models$moonshot$version[1],\n",
        "                          proxy = FALSE)\n",
        "\n",
        "# Generation configurations\n",
        "parameters = list(\n",
        "  max.tokens = 3000,\n",
        "  temperature = 0.7,\n",
        "  top.p = 1.0\n",
        ")"
      ],
      "metadata": {
        "id": "3sdYajM2DJ3i"
      },
      "execution_count": null,
      "outputs": []
    },
    {
      "cell_type": "code",
      "source": [
        "# Start a chat session\n",
        "prompts = c(\"Write a story about Mars in 50 words.\",\n",
        "            \"Write a story about Jupiter in 50 words.\",\n",
        "            \"Summarize the chat.\")\n",
        "for (prompt in prompts) {\n",
        "  moonshot %>%\n",
        "    chat(prompt = prompt,\n",
        "         verbose = FALSE,\n",
        "         config = parameters) %>%\n",
        "    strwrap(width = 76, exdent = 0) %>%\n",
        "    paste(collapse = \"\\n\") %>%\n",
        "    cat(\"\\n\\n\\n\")\n",
        "}"
      ],
      "metadata": {
        "colab": {
          "base_uri": "https://localhost:8080/"
        },
        "id": "Nf0oWJLlDLME",
        "outputId": "91d78a83-e1ed-4d8f-9752-dcda7bd0e3f5"
      },
      "execution_count": null,
      "outputs": [
        {
          "output_type": "stream",
          "name": "stdout",
          "text": [
            "In 2050, Mars became humanity's second home. Red dust gave way to thriving\n",
            "colonies, their domes glowing green with life. Rovers scurried, unearthing\n",
            "secrets of the ancient past, while children gazed at twin Earths in the\n",
            "night sky, dreaming of future wonders. \n",
            "\n",
            "\n",
            "In a distant future, Jupiter's Great Red Spot turned stormy whispers into a\n",
            "cosmic symphony. Astronauts built floating observatories, where they\n",
            "watched swirling clouds dance to the gas giant's rhythm. A daring mission\n",
            "descended, discovering a hidden oasis beneath the tumult, teeming with\n",
            "life, yet untouched by the eye of the storm above. \n",
            "\n",
            "\n",
            "You asked me to write a story about Mars, which I did, creating a brief\n",
            "narrative set in 2050 about Mars becoming a new home for humanity with\n",
            "thriving colonies and children marveling at the sight of Earth from their\n",
            "new planet. Then, you requested a similar story about Jupiter, which I\n",
            "provided, imagining a future where the Great Red Spot on Jupiter is a\n",
            "source of scientific fascination and where life is discovered in a hidden\n",
            "oasis beneath its tumultuous atmosphere. \n",
            "\n",
            "\n"
          ]
        }
      ]
    },
    {
      "cell_type": "code",
      "source": [
        "# Method 1 (recommended): use the pipe operator \"%>%\"\n",
        "exported.moonshot.history = moonshot %>%\n",
        "  chat.history.export()"
      ],
      "metadata": {
        "id": "65Cm9yw4DUkq"
      },
      "execution_count": null,
      "outputs": []
    },
    {
      "cell_type": "code",
      "source": [
        "# Method 2: use the reference operator \"$\"\n",
        "exported.moonshot.history = moonshot$chat.history.export()"
      ],
      "metadata": {
        "id": "CV7xIUDgDWGa"
      },
      "execution_count": null,
      "outputs": []
    },
    {
      "cell_type": "code",
      "source": [
        "# Method 3: use the function chat.history.export() directly\n",
        "exported.moonshot.history = chat.history.export(genai.object = moonshot)"
      ],
      "metadata": {
        "id": "PKsOzoAiDXTi"
      },
      "execution_count": null,
      "outputs": []
    },
    {
      "cell_type": "code",
      "source": [
        "# Print the exported chat history\n",
        "print(exported.moonshot.history)"
      ],
      "metadata": {
        "colab": {
          "base_uri": "https://localhost:8080/"
        },
        "id": "yZRMreAEY-bt",
        "outputId": "aa1fae28-d401-4dd2-c572-51029b1a9cfe"
      },
      "execution_count": null,
      "outputs": [
        {
          "output_type": "stream",
          "name": "stdout",
          "text": [
            "[[1]]\n",
            "[[1]]$role\n",
            "[1] \"system\"\n",
            "\n",
            "[[1]]$content\n",
            "[1] \"You are Kimi, an Artificial Intelligence Assistant powered by Moonshot AI, and you are better at conversations in Chinese and English. You will provide users with safe, helpful and accurate answers. At the same time, you will reject answers to questions about terrorism, racism, pornography, etc. Moonshot AI is a proper noun and cannot be translated into other languages.\"\n",
            "\n",
            "\n",
            "[[2]]\n",
            "[[2]]$role\n",
            "[1] \"user\"\n",
            "\n",
            "[[2]]$content\n",
            "[1] \"Write a story about Mars in 50 words.\"\n",
            "\n",
            "\n",
            "[[3]]\n",
            "[[3]]$role\n",
            "[1] \"assistant\"\n",
            "\n",
            "[[3]]$content\n",
            "[1] \" In 2050, Mars became humanity's second home. Red dust gave way to thriving colonies, their domes glowing green with life. Rovers scurried, unearthing secrets of the ancient past, while children gazed at twin Earths in the night sky, dreaming of future wonders.\"\n",
            "\n",
            "\n",
            "[[4]]\n",
            "[[4]]$role\n",
            "[1] \"user\"\n",
            "\n",
            "[[4]]$content\n",
            "[1] \"Write a story about Jupiter in 50 words.\"\n",
            "\n",
            "\n",
            "[[5]]\n",
            "[[5]]$role\n",
            "[1] \"assistant\"\n",
            "\n",
            "[[5]]$content\n",
            "[1] \" In a distant future, Jupiter's Great Red Spot turned stormy whispers into a cosmic symphony. Astronauts built floating observatories, where they watched swirling clouds dance to the gas giant's rhythm. A daring mission descended, discovering a hidden oasis beneath the tumult, teeming with life, yet untouched by the eye of the storm above.\"\n",
            "\n",
            "\n",
            "[[6]]\n",
            "[[6]]$role\n",
            "[1] \"user\"\n",
            "\n",
            "[[6]]$content\n",
            "[1] \"Summarize the chat.\"\n",
            "\n",
            "\n",
            "[[7]]\n",
            "[[7]]$role\n",
            "[1] \"assistant\"\n",
            "\n",
            "[[7]]$content\n",
            "[1] \" You asked me to write a story about Mars, which I did, creating a brief narrative set in 2050 about Mars becoming a new home for humanity with thriving colonies and children marveling at the sight of Earth from their new planet. Then, you requested a similar story about Jupiter, which I provided, imagining a future where the Great Red Spot on Jupiter is a source of scientific fascination and where life is discovered in a hidden oasis beneath its tumultuous atmosphere.\"\n",
            "\n",
            "\n"
          ]
        }
      ]
    }
  ]
}