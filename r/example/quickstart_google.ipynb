{
  "nbformat": 4,
  "nbformat_minor": 0,
  "metadata": {
    "colab": {
      "provenance": [],
      "authorship_tag": "ABX9TyOQ4FaDHqpdgJv1myYCjrVB",
      "include_colab_link": true
    },
    "kernelspec": {
      "name": "ir",
      "display_name": "R"
    },
    "language_info": {
      "name": "R"
    }
  },
  "cells": [
    {
      "cell_type": "markdown",
      "metadata": {
        "id": "view-in-github",
        "colab_type": "text"
      },
      "source": [
        "<a href=\"https://colab.research.google.com/github/GitData-GA/GenAI/blob/gh-pages/r/example/quickstart_google.ipynb\" target=\"_parent\"><img src=\"https://colab.research.google.com/assets/colab-badge.svg\" alt=\"Open In Colab\"/></a>"
      ]
    },
    {
      "cell_type": "markdown",
      "source": [
        "# Installation & Setup"
      ],
      "metadata": {
        "id": "-vgD91x6XTCN"
      }
    },
    {
      "cell_type": "code",
      "execution_count": null,
      "metadata": {
        "colab": {
          "base_uri": "https://localhost:8080/"
        },
        "id": "RJXEP3e7XEeN",
        "outputId": "a83cd702-cd94-424f-c3b8-103f579c08e6"
      },
      "outputs": [
        {
          "output_type": "stream",
          "name": "stderr",
          "text": [
            "Installing package into ‘/usr/local/lib/R/site-library’\n",
            "(as ‘lib’ is unspecified)\n",
            "\n",
            "also installing the dependencies ‘Rcpp’, ‘gridGraphics’, ‘yulab.utils’, ‘listenv’, ‘magick’, ‘ggplotify’\n",
            "\n",
            "\n",
            "Loading required package: magrittr\n",
            "\n"
          ]
        }
      ],
      "source": [
        "# The following commands are for Colab only\n",
        "system('add-apt-repository -y ppa:cran/imagemagick')\n",
        "system('apt-get update')\n",
        "system(\"apt-get install libmagick++-dev\")\n",
        "\n",
        "# Install the library (usually 1 - 3 minutes in Colab)\n",
        "install.packages(\"GenAI\")\n",
        "\n",
        "# Import the library\n",
        "library(\"GenAI\")"
      ]
    },
    {
      "cell_type": "markdown",
      "source": [
        "# Get Available Models"
      ],
      "metadata": {
        "id": "tFcnc4kULoD-"
      }
    },
    {
      "cell_type": "code",
      "source": [
        "all.models = available.models() %>% print()"
      ],
      "metadata": {
        "colab": {
          "base_uri": "https://localhost:8080/"
        },
        "id": "h1a8dEDFLlAY",
        "outputId": "e24c7288-1119-40ba-f022-97a35fd50178"
      },
      "execution_count": null,
      "outputs": [
        {
          "output_type": "stream",
          "name": "stdout",
          "text": [
            "$google\n",
            "$google$version\n",
            "[1] \"v1\"     \"v1beta\"\n",
            "\n",
            "$google$model\n",
            "[1] \"gemini-pro\"        \"gemini-pro-vision\"\n",
            "\n",
            "\n",
            "$openai\n",
            "$openai$version\n",
            "[1] \"v1\"\n",
            "\n",
            "$openai$model\n",
            "[1] \"gpt-3.5-turbo\"        \"gpt-3.5-turbo-1106\"   \"gpt-3.5-turbo-16k\"   \n",
            "[4] \"gpt-4\"                \"gpt-4-1106-preview\"   \"gpt-4-32k\"           \n",
            "[7] \"gpt-4-vision-preview\" \"dall-e-2\"             \"dall-e-3\"            \n",
            "\n",
            "\n",
            "$moonshot\n",
            "$moonshot$version\n",
            "[1] \"v1\"\n",
            "\n",
            "$moonshot$model\n",
            "[1] \"moonshot-v1-8k\"   \"moonshot-v1-32k\"  \"moonshot-v1-128k\"\n",
            "\n",
            "\n"
          ]
        }
      ]
    },
    {
      "cell_type": "markdown",
      "source": [
        "# Create a Google Generative AI object"
      ],
      "metadata": {
        "id": "ic3XrHR_MJfb"
      }
    },
    {
      "cell_type": "code",
      "source": [
        "# Please change YOUR_GOOGLE_API to your own API key of Google Generative AI\n",
        "Sys.setenv(GOOGLE_API = \"YOUR_GOOGLE_API\")\n",
        "\n",
        "# Create a Google Generative AI object\n",
        "google = genai.google(api = Sys.getenv(\"GOOGLE_API\"),\n",
        "                      model = all.models$google$model[1],\n",
        "                      version = all.models$google$version[1],\n",
        "                      proxy = FALSE)"
      ],
      "metadata": {
        "id": "Fxz1KUuwMF_F"
      },
      "execution_count": null,
      "outputs": []
    },
    {
      "cell_type": "markdown",
      "source": [
        "# Text Generation"
      ],
      "metadata": {
        "id": "wxVNEnr1XrXq"
      }
    },
    {
      "cell_type": "code",
      "source": [
        "google %>%\n",
        "  txt(\"Please write a story about Mars in 50 words.\") %>%\n",
        "  cat()"
      ],
      "metadata": {
        "colab": {
          "base_uri": "https://localhost:8080/"
        },
        "id": "WzA6DO_KXgvb",
        "outputId": "6e485c78-8128-4bc7-a5e0-7450cc6e5083"
      },
      "execution_count": null,
      "outputs": [
        {
          "output_type": "stream",
          "name": "stdout",
          "text": [
            "In the vastness of space, Mars beckoned with its enigmatic red hue. Rovers, like intrepid explorers, ventured across its barren landscape, uncovering secrets buried beneath ancient layers of sand and stone. Beneath its surface, whispers of a long-lost past reverberated, hinting at the possibility of life once teeming within its desolate embrace."
          ]
        }
      ]
    },
    {
      "cell_type": "markdown",
      "source": [
        "# Chat Generation"
      ],
      "metadata": {
        "id": "QbhEYmGEXpj6"
      }
    },
    {
      "cell_type": "code",
      "source": [
        "google %>%\n",
        "  chat(\"Please write a story about Mars in 50 words.\") %>%\n",
        "  cat()"
      ],
      "metadata": {
        "colab": {
          "base_uri": "https://localhost:8080/"
        },
        "id": "hgD7nBLXXilS",
        "outputId": "fdc41f34-6623-4929-8bb3-3b719806fa90"
      },
      "execution_count": null,
      "outputs": [
        {
          "output_type": "stream",
          "name": "stdout",
          "text": [
            "In 2100, Mars is a thriving hub of human exploration. Dr. Anya Petrova, a brilliant astrobiologist, discovers ancient fossils beneath its crimson sands, hinting at the planet's once-teeming life. Her revelation ignites a fire of wonder and curiosity, propelling humanity to unravel the mysteries of the Red Planet."
          ]
        }
      ]
    },
    {
      "cell_type": "code",
      "source": [
        "google %>%\n",
        "  chat(\"Please write a story about Jupiter in 50 words.\") %>%\n",
        "  cat()"
      ],
      "metadata": {
        "colab": {
          "base_uri": "https://localhost:8080/"
        },
        "id": "WURXyDE_Xktq",
        "outputId": "cdb9c4c0-d73b-4049-fe00-58e7035ec9ed"
      },
      "execution_count": null,
      "outputs": [
        {
          "output_type": "stream",
          "name": "stdout",
          "text": [
            "Amidst the swirling tempests of Jupiter, a lone spacecraft embarked on a perilous mission. Captain Emily Carter, a seasoned astronaut, guided her crew through the planet's tumultuous atmosphere, their hearts pounding with anticipation. As they breached the clouds, they witnessed a breathtaking symphony of colors and storms, a celestial dance that forever etched itself into their souls."
          ]
        }
      ]
    },
    {
      "cell_type": "code",
      "source": [
        "google %>%\n",
        "  chat(\"Please write a story about Earth in 50 words.\") %>%\n",
        "  cat()"
      ],
      "metadata": {
        "colab": {
          "base_uri": "https://localhost:8080/"
        },
        "id": "PJmUB_SvMfT-",
        "outputId": "75bee577-1f15-473a-b7d7-1d0a7d47f833"
      },
      "execution_count": null,
      "outputs": [
        {
          "output_type": "stream",
          "name": "stdout",
          "text": [
            "In a bustling metropolis on Earth, amidst towering skyscrapers and vibrant streets, a young artist named Maya captured the city's soul on canvas. Her brushstrokes danced across the page, weaving a tapestry of human connection, diversity, and the indomitable spirit that thrived within the concrete jungle. Maya's art became a testament to the beauty and resilience of the human experience."
          ]
        }
      ]
    },
    {
      "cell_type": "markdown",
      "source": [
        "# Print the Chat History"
      ],
      "metadata": {
        "id": "TVkYeqI0MhLZ"
      }
    },
    {
      "cell_type": "code",
      "source": [
        "google %>%\n",
        "  chat.history.print()"
      ],
      "metadata": {
        "colab": {
          "base_uri": "https://localhost:8080/"
        },
        "id": "eHtizwXoMjl-",
        "outputId": "fdcb69b0-0690-403b-d4fc-0922c0f1d5b6"
      },
      "execution_count": null,
      "outputs": [
        {
          "output_type": "stream",
          "name": "stdout",
          "text": [
            "-------------------------------- Message  1 ---------------------------------\n",
            "Role: user \n",
            "Text: Please write a story about Mars in 50 words.\n",
            "\n",
            "-------------------------------- Message  2 ---------------------------------\n",
            "Role: model \n",
            "Text: In 2100, Mars is a thriving hub of human exploration. Dr. Anya Petrova, a\n",
            "brilliant astrobiologist, discovers ancient fossils beneath its crimson\n",
            "sands, hinting at the planet's once-teeming life. Her revelation ignites a\n",
            "fire of wonder and curiosity, propelling humanity to unravel the mysteries\n",
            "of the Red Planet.\n",
            "\n",
            "-------------------------------- Message  3 ---------------------------------\n",
            "Role: user \n",
            "Text: Please write a story about Jupiter in 50 words.\n",
            "\n",
            "-------------------------------- Message  4 ---------------------------------\n",
            "Role: model \n",
            "Text: Amidst the swirling tempests of Jupiter, a lone spacecraft embarked on a\n",
            "perilous mission. Captain Emily Carter, a seasoned astronaut, guided her\n",
            "crew through the planet's tumultuous atmosphere, their hearts pounding with\n",
            "anticipation. As they breached the clouds, they witnessed a breathtaking\n",
            "symphony of colors and storms, a celestial dance that forever etched itself\n",
            "into their souls.\n",
            "\n",
            "-------------------------------- Message  5 ---------------------------------\n",
            "Role: user \n",
            "Text: Please write a story about Earth in 50 words.\n",
            "\n",
            "-------------------------------- Message  6 ---------------------------------\n",
            "Role: model \n",
            "Text: In a bustling metropolis on Earth, amidst towering skyscrapers and vibrant\n",
            "streets, a young artist named Maya captured the city's soul on canvas. Her\n",
            "brushstrokes danced across the page, weaving a tapestry of human\n",
            "connection, diversity, and the indomitable spirit that thrived within the\n",
            "concrete jungle. Maya's art became a testament to the beauty and resilience\n",
            "of the human experience.\n",
            "\n"
          ]
        }
      ]
    }
  ]
}