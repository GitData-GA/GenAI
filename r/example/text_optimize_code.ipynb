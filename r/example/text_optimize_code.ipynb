{
  "nbformat": 4,
  "nbformat_minor": 0,
  "metadata": {
    "colab": {
      "provenance": [],
      "include_colab_link": true
    },
    "kernelspec": {
      "name": "ir",
      "display_name": "R"
    },
    "language_info": {
      "name": "R"
    }
  },
  "cells": [
    {
      "cell_type": "markdown",
      "metadata": {
        "id": "view-in-github",
        "colab_type": "text"
      },
      "source": [
        "<a href=\"https://colab.research.google.com/github/GitData-GA/GenAI/blob/gh-pages/R/example/text_optimize_code.ipynb\" target=\"_parent\"><img src=\"https://colab.research.google.com/assets/colab-badge.svg\" alt=\"Open In Colab\"/></a>"
      ]
    },
    {
      "cell_type": "markdown",
      "source": [
        "# Installation"
      ],
      "metadata": {
        "id": "mDBGn0Qzsql5"
      }
    },
    {
      "cell_type": "code",
      "execution_count": 1,
      "metadata": {
        "colab": {
          "base_uri": "https://localhost:8080/"
        },
        "id": "EQ5mDg9-siid",
        "outputId": "a66aeb54-0b8b-4dcc-9566-93fe314b5b49"
      },
      "outputs": [
        {
          "output_type": "stream",
          "name": "stderr",
          "text": [
            "Installing package into ‘/usr/local/lib/R/site-library’\n",
            "(as ‘lib’ is unspecified)\n",
            "\n",
            "\n",
            "Attaching package: ‘GenAI’\n",
            "\n",
            "\n",
            "The following object is masked from ‘package:graphics’:\n",
            "\n",
            "    text\n",
            "\n",
            "\n"
          ]
        }
      ],
      "source": [
        "install.packages(\"https://genai.gd.edu.kg/release/R/GenAI_latest.tar.gz\", repos=NULL, method=\"libcurl\")\n",
        "library(\"GenAI\")"
      ]
    },
    {
      "cell_type": "markdown",
      "source": [
        "# Example of `text.optimize.code`"
      ],
      "metadata": {
        "id": "LE9e2MEXs0av"
      }
    },
    {
      "cell_type": "markdown",
      "source": [
        "## Get available models"
      ],
      "metadata": {
        "id": "UdwTs_oitM8A"
      }
    },
    {
      "cell_type": "code",
      "source": [
        "models = available.models()"
      ],
      "metadata": {
        "id": "S0lunMhxtOl_"
      },
      "execution_count": 2,
      "outputs": []
    },
    {
      "cell_type": "markdown",
      "source": [
        "## Connect to the Google model, replace API_KEY with your api key"
      ],
      "metadata": {
        "id": "ODWMwKhotSJ3"
      }
    },
    {
      "cell_type": "code",
      "source": [
        "google.model = connect.genai(\"google\",\n",
        "                             models$google$model[1],\n",
        "                             models$google$version[1],\n",
        "                             \"API_KEY\",\n",
        "                             FALSE)"
      ],
      "metadata": {
        "id": "l8J1UXkcs6dP"
      },
      "execution_count": 3,
      "outputs": []
    },
    {
      "cell_type": "markdown",
      "source": [
        "## Connect to the OpenAI model, replace API_KEY with your api key"
      ],
      "metadata": {
        "id": "uS1aPHGTtcB2"
      }
    },
    {
      "cell_type": "code",
      "source": [
        "openai.model = connect.genai(\"openai\",\n",
        "                             models$openai$model[1],\n",
        "                             models$openai$version[1],\n",
        "                             \"API_KEY\",\n",
        "                             FALSE)"
      ],
      "metadata": {
        "id": "aDFBTfvOtg_Y"
      },
      "execution_count": 4,
      "outputs": []
    },
    {
      "cell_type": "markdown",
      "source": [
        "## Generate text"
      ],
      "metadata": {
        "id": "OXcUsNr26AgS"
      }
    },
    {
      "cell_type": "code",
      "source": [
        "temperature = 0.9\n",
        "prompt = \"foo <- function(n) {\n",
        "            if (n <= 0) {\n",
        "              return(0)\n",
        "            } else if (n == 1) {\n",
        "              return(1)\n",
        "            } else {\n",
        "              return(foo(n - 1) + foo(n - 2))\n",
        "            }\n",
        "          }\"\n",
        "goal = \"Improve the runtime of the function\""
      ],
      "metadata": {
        "id": "erZ24Exi6QiI"
      },
      "execution_count": 5,
      "outputs": []
    },
    {
      "cell_type": "code",
      "source": [
        "optimized.code = text.optimize.code(google.model,\n",
        "                                    temperature,\n",
        "                                    prompt,\n",
        "                                    goal,\n",
        "                                    language = \"R\")\n",
        "cat(optimized.code)"
      ],
      "metadata": {
        "colab": {
          "base_uri": "https://localhost:8080/"
        },
        "id": "II9TiP606WmR",
        "outputId": "ea106eeb-8169-4a85-ae90-700ed883439c"
      },
      "execution_count": 6,
      "outputs": [
        {
          "output_type": "stream",
          "name": "stdout",
          "text": [
            "The provided code has a recursive implementation of the Fibonacci sequence, which can be optimized for better runtime performance. Here's an optimized version:\n",
            "\n",
            "```r\n",
            "fib_memo <- numeric(50) # Initialize memoization array\n",
            "\n",
            "foo <- function(n) {\n",
            "  if (n <= 0) {\n",
            "    return(0)\n",
            "  } else if (n == 1) {\n",
            "    return(1)\n",
            "  } else if (!is.na(fib_memo[n])) {\n",
            "    return(fib_memo[n]) # Return from memoization array if value is already stored\n",
            "  } else {\n",
            "    result <- foo(n - 1) + foo(n - 2)\n",
            "    fib_memo[n] <- result # Store the result in the memoization array\n",
            "    return(result)\n",
            "  }\n",
            "}\n",
            "```\n",
            "\n",
            "In this optimized version:\n",
            "\n",
            "1. **Memoization Array**: Introducing a memoization array `fib_memo` to store previously computed Fibonacci numbers. This array is initialized with a size of 50, which can be adjusted based on the range of values you're interested in.\n",
            "\n",
            "2. **Memoization Logic**: Before calculating `foo(n)`, we first check if the result is already stored in the `fib_memo` array. If it is, we simply return the stored value, avoiding redundant calculations.\n",
            "\n",
            "3. **Early Termination**: The conditions for `n <= 0` and `n == 1` are checked first to handle base cases efficiently.\n",
            "\n",
            "By utilizing memoization, this optimized code can greatly improve the runtime performance, especially for larger values of `n`."
          ]
        }
      ]
    },
    {
      "cell_type": "code",
      "source": [
        "optimized.code = text.optimize.code(openai.model,\n",
        "                                    temperature,\n",
        "                                    prompt,\n",
        "                                    goal,\n",
        "                                    language = \"R\")\n",
        "cat(optimized.code)"
      ],
      "metadata": {
        "colab": {
          "base_uri": "https://localhost:8080/"
        },
        "id": "D22ueBeb5-yI",
        "outputId": "fe99bea1-712b-451a-fbb0-cc3d38f1815e"
      },
      "execution_count": 7,
      "outputs": [
        {
          "output_type": "stream",
          "name": "stdout",
          "text": [
            "One way to optimize the runtime of this function is to use memoization technique to avoid redundant calculations.\n",
            "\n",
            "Here's the optimized version of the code:\n",
            "\n",
            "```R\n",
            "# Create a memoization table to store computed values\n",
            "memo <- c(0, 1)\n",
            "\n",
            "# Update the function to use memoization\n",
            "foo <- function(n) {\n",
            "  if (n <= 0) {\n",
            "    return(0)\n",
            "  } else if (n <= length(memo)) {\n",
            "    return(memo[n])\n",
            "  } else {\n",
            "    result <- foo(n - 1) + foo(n - 2)\n",
            "    memo <<- c(memo, result)  # Update the memoization table\n",
            "    return(result)\n",
            "  }\n",
            "}\n",
            "```\n",
            "\n",
            "With this optimized version, the function will only compute each Fibonacci number once and store the result in the `memo` table. Subsequent calls for the same number will retrieve the value directly from the table instead of recomputing it. This can greatly improve the runtime of the function, especially for larger values of `n`."
          ]
        }
      ]
    }
  ]
}