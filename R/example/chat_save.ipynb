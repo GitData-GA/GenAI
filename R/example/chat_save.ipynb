{
  "nbformat": 4,
  "nbformat_minor": 0,
  "metadata": {
    "colab": {
      "provenance": [],
      "include_colab_link": true
    },
    "kernelspec": {
      "name": "ir",
      "display_name": "R"
    },
    "language_info": {
      "name": "R"
    }
  },
  "cells": [
    {
      "cell_type": "markdown",
      "metadata": {
        "id": "view-in-github",
        "colab_type": "text"
      },
      "source": [
        "<a href=\"https://colab.research.google.com/github/GitData-GA/GenAI/blob/gh-pages/R/example/chat_save.ipynb\" target=\"_parent\"><img src=\"https://colab.research.google.com/assets/colab-badge.svg\" alt=\"Open In Colab\"/></a>"
      ]
    },
    {
      "cell_type": "markdown",
      "source": [
        "# Installation"
      ],
      "metadata": {
        "id": "mDBGn0Qzsql5"
      }
    },
    {
      "cell_type": "code",
      "execution_count": 1,
      "metadata": {
        "colab": {
          "base_uri": "https://localhost:8080/"
        },
        "id": "EQ5mDg9-siid",
        "outputId": "973d657f-8400-44ee-8cec-45ad7e0d969e"
      },
      "outputs": [
        {
          "output_type": "stream",
          "name": "stderr",
          "text": [
            "Installing package into ‘/usr/local/lib/R/site-library’\n",
            "(as ‘lib’ is unspecified)\n",
            "\n",
            "\n",
            "Attaching package: ‘GenAI’\n",
            "\n",
            "\n",
            "The following object is masked from ‘package:graphics’:\n",
            "\n",
            "    text\n",
            "\n",
            "\n"
          ]
        }
      ],
      "source": [
        "install.packages(\"https://genai.gd.edu.kg/release/R/GenAI_latest.tar.gz\", repos=NULL, method=\"libcurl\")\n",
        "library(\"GenAI\")"
      ]
    },
    {
      "cell_type": "markdown",
      "source": [
        "# Example of `chat`"
      ],
      "metadata": {
        "id": "LE9e2MEXs0av"
      }
    },
    {
      "cell_type": "markdown",
      "source": [
        "## Get available models"
      ],
      "metadata": {
        "id": "UdwTs_oitM8A"
      }
    },
    {
      "cell_type": "code",
      "source": [
        "models = available.models()"
      ],
      "metadata": {
        "id": "S0lunMhxtOl_"
      },
      "execution_count": 2,
      "outputs": []
    },
    {
      "cell_type": "markdown",
      "source": [
        "## Connect to the Google model, replace API_KEY with your api key"
      ],
      "metadata": {
        "id": "ODWMwKhotSJ3"
      }
    },
    {
      "cell_type": "code",
      "source": [
        "google.model = connect.genai(\"google\",\n",
        "                             models$google$model[1],\n",
        "                             models$google$version[1],\n",
        "                             \"API_KEY\",\n",
        "                             FALSE)"
      ],
      "metadata": {
        "id": "l8J1UXkcs6dP"
      },
      "execution_count": 3,
      "outputs": []
    },
    {
      "cell_type": "markdown",
      "source": [
        "## Connect to the OpenAI model, replace API_KEY with your api key"
      ],
      "metadata": {
        "id": "uS1aPHGTtcB2"
      }
    },
    {
      "cell_type": "code",
      "source": [
        "openai.model = connect.genai(\"openai\",\n",
        "                             models$openai$model[1],\n",
        "                             models$openai$version[1],\n",
        "                             \"API_KEY\",\n",
        "                             FALSE)"
      ],
      "metadata": {
        "id": "aDFBTfvOtg_Y"
      },
      "execution_count": 4,
      "outputs": []
    },
    {
      "cell_type": "markdown",
      "source": [
        "## Setup an empty chat history"
      ],
      "metadata": {
        "id": "Jf6V3SI1Q-jb"
      }
    },
    {
      "cell_type": "code",
      "source": [
        "google.history = chat.setup(google.model)\n",
        "openai.history = chat.setup(openai.model)"
      ],
      "metadata": {
        "id": "ZKDbrPDfRBnr"
      },
      "execution_count": 5,
      "outputs": []
    },
    {
      "cell_type": "markdown",
      "source": [
        "## Generate chat"
      ],
      "metadata": {
        "id": "OXcUsNr26AgS"
      }
    },
    {
      "cell_type": "code",
      "source": [
        "temperature = 0.9\n",
        "prompt = \"Write a story about a magic backpack in about 100 words.\""
      ],
      "metadata": {
        "id": "erZ24Exi6QiI"
      },
      "execution_count": 6,
      "outputs": []
    },
    {
      "cell_type": "code",
      "source": [
        "google.history = chat(google.model,\n",
        "                      temperature,\n",
        "                      google.history,\n",
        "                      prompt)\n",
        "\n",
        "cat(chat.recent(google.model, google.history))"
      ],
      "metadata": {
        "colab": {
          "base_uri": "https://localhost:8080/"
        },
        "id": "II9TiP606WmR",
        "outputId": "2597f8b9-d7c7-40a7-ba66-6eacf8e1b8fb"
      },
      "execution_count": 7,
      "outputs": [
        {
          "output_type": "stream",
          "name": "stdout",
          "text": [
            "In the quaint little town of Harmonyville, lived a cheerful youngster named Emma. Emma possessed a marvelous backpack that held a remarkable secret. It was no ordinary backpack, as it had the magical ability to grant her anything she desired.\n",
            "\n",
            "Each day, Emma embarked on exhilarating adventures with her magical companion. She wished for a world filled with colorful butterflies, and in an instant, she found herself amidst a garden blooming with vibrant hues. When she craved a taste of sweetness, the backpack materialized delicious treats that tickled her taste buds.\n",
            "\n",
            "However, Emma soon realized that the true magic lay not in the material desires but in the simple joys of sharing and kindness. She discovered happiness in using her magical backpack to bring joy to others. The backpack became a catalyst for spreading smiles and laughter throughout Harmonyville, making it a place where magic truly thrived."
          ]
        }
      ]
    },
    {
      "cell_type": "code",
      "source": [
        "openai.history = chat(openai.model,\n",
        "                      temperature,\n",
        "                      openai.history,\n",
        "                      prompt)\n",
        "\n",
        "cat(chat.recent(openai.model, openai.history))"
      ],
      "metadata": {
        "colab": {
          "base_uri": "https://localhost:8080/"
        },
        "id": "D22ueBeb5-yI",
        "outputId": "70e926fd-f449-49af-9b0a-37f9867b0c1e"
      },
      "execution_count": 8,
      "outputs": [
        {
          "output_type": "stream",
          "name": "stdout",
          "text": [
            "Once there was a young girl named Lily who discovered a magic backpack. No matter what she wished for, the backpack would provide it. Whether it was a pencil during a test or a snack when she was hungry, the backpack always had a solution. One day, Lily realized that she could use the backpack's magic to help others. She started filling the backpack with books for a struggling library and clothes for those in need. The magic backpack became a symbol of kindness and generosity in their community. And so, Lily and her backpack inspired others to spread joy and make a difference in the world."
          ]
        }
      ]
    },
    {
      "cell_type": "code",
      "source": [
        "prompt = \"What is the word count of the story you just wrote?\""
      ],
      "metadata": {
        "id": "-gWq9fBLRKvD"
      },
      "execution_count": 9,
      "outputs": []
    },
    {
      "cell_type": "code",
      "source": [
        "google.history = chat(google.model,\n",
        "                      temperature,\n",
        "                      google.history,\n",
        "                      prompt)\n",
        "cat(chat.recent(google.model, google.history))"
      ],
      "metadata": {
        "colab": {
          "base_uri": "https://localhost:8080/"
        },
        "id": "6CLRI034RN9b",
        "outputId": "9e0a48bc-d198-4a71-b01e-4dcb1430d735"
      },
      "execution_count": 10,
      "outputs": [
        {
          "output_type": "stream",
          "name": "stdout",
          "text": [
            "The word count of the story I wrote is **63 words**.\n",
            "\n",
            "Please note that this word count does not include the title or any additional instructions or context provided in the prompt. It only counts the words that are part of the story itself."
          ]
        }
      ]
    },
    {
      "cell_type": "code",
      "source": [
        "openai.history = chat(openai.model,\n",
        "                      temperature,\n",
        "                      openai.history,\n",
        "                      prompt)\n",
        "cat(chat.recent(openai.model, openai.history))"
      ],
      "metadata": {
        "colab": {
          "base_uri": "https://localhost:8080/"
        },
        "id": "EsmSh8k-RfgE",
        "outputId": "d0f14de2-4300-43f8-9d12-26e61aa82c16"
      },
      "execution_count": 11,
      "outputs": [
        {
          "output_type": "stream",
          "name": "stdout",
          "text": [
            "The word count of the story I just wrote is 104 words."
          ]
        }
      ]
    },
    {
      "cell_type": "markdown",
      "source": [
        "## Save chat history"
      ],
      "metadata": {
        "id": "FYdCPphxbSLl"
      }
    },
    {
      "cell_type": "code",
      "source": [
        "chat.save(google.history,\n",
        "          \"google_history\",\n",
        "          \"json\")\n",
        "\n",
        "chat.save(openai.history,\n",
        "          \"openai_history\",\n",
        "          \"json\")"
      ],
      "metadata": {
        "id": "I5p6dTPubUGt"
      },
      "execution_count": 12,
      "outputs": []
    }
  ]
}