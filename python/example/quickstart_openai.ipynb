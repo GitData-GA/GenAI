{
  "nbformat": 4,
  "nbformat_minor": 0,
  "metadata": {
    "colab": {
      "provenance": [],
      "authorship_tag": "ABX9TyMdJ1vS9o0b9Bue5G+DyLY+",
      "include_colab_link": true
    },
    "kernelspec": {
      "name": "python3",
      "display_name": "Python 3"
    },
    "language_info": {
      "name": "python"
    }
  },
  "cells": [
    {
      "cell_type": "markdown",
      "metadata": {
        "id": "view-in-github",
        "colab_type": "text"
      },
      "source": [
        "<a href=\"https://colab.research.google.com/github/GitData-GA/GenAI/blob/gh-pages/python/example/quickstart_openai.ipynb\" target=\"_parent\"><img src=\"https://colab.research.google.com/assets/colab-badge.svg\" alt=\"Open In Colab\"/></a>"
      ]
    },
    {
      "cell_type": "markdown",
      "source": [
        "# GeAI quickstart for OpenAI's models"
      ],
      "metadata": {
        "id": "-vgD91x6XTCN"
      }
    },
    {
      "cell_type": "code",
      "source": [
        "pip install GeAI"
      ],
      "metadata": {
        "colab": {
          "base_uri": "https://localhost:8080/"
        },
        "id": "Q4fCEEMWEMvw",
        "outputId": "dee8bff1-3f94-4fb1-b486-c1bb08e3c945"
      },
      "execution_count": 1,
      "outputs": [
        {
          "output_type": "stream",
          "name": "stdout",
          "text": [
            "Collecting GeAI\n",
            "  Downloading GeAI-0.1.8-py3-none-any.whl (10 kB)\n",
            "Installing collected packages: GeAI\n",
            "Successfully installed GeAI-0.1.8\n"
          ]
        }
      ]
    },
    {
      "cell_type": "code",
      "execution_count": 2,
      "metadata": {
        "id": "RJXEP3e7XEeN"
      },
      "outputs": [],
      "source": [
        "# Import the library\n",
        "import GeAI as ga\n",
        "\n",
        "# Get supported models\n",
        "models = ga.available_models()\n",
        "\n",
        "# Select a model and connect, replace API_KEY with your api key\n",
        "openai_model = ga.connect('openai',\n",
        "                          models['openai']['model'][0],\n",
        "                          models['openai']['version'][0],\n",
        "                          'API_KEY',\n",
        "                          proxy = False)"
      ]
    },
    {
      "cell_type": "markdown",
      "source": [
        "# Text generation"
      ],
      "metadata": {
        "id": "wxVNEnr1XrXq"
      }
    },
    {
      "cell_type": "code",
      "source": [
        "openai_text = ga.txt(openai_model,\n",
        "                     0.9,\n",
        "                     \"Write a story about a magic backpack.\")\n",
        "print(openai_text)"
      ],
      "metadata": {
        "colab": {
          "base_uri": "https://localhost:8080/"
        },
        "id": "WzA6DO_KXgvb",
        "outputId": "4ef1985e-ab34-463f-844e-e4a1170c0633"
      },
      "execution_count": 3,
      "outputs": [
        {
          "output_type": "stream",
          "name": "stdout",
          "text": [
            "Once upon a time in a small village, there lived a young girl named Lily. Lily was an adventurous and curious soul, always seeking new and exciting things to explore. One day, while she was playing in the forest near her home, she stumbled upon a magical backpack hidden beneath a tall oak tree.\n",
            "\n",
            "The backpack was made of a shimmering and mysterious material, embroidered with intricate patterns that seemed to dance in the sunlight. Without hesitation, Lily decided to take the backpack home. Little did she know that this backpack had the power to grant her wishes.\n",
            "\n",
            "As soon as Lily arrived home and placed the backpack on her bedroom floor, it started emitting a soft, magical glow. With wide-eyed wonder, she cautiously unzipped the backpack and found a letter tucked inside. The letter read:\n",
            "\n",
            "\"Dear Lily,\n",
            "\n",
            "Congratulations on finding the enchanted backpack. This backpack has the ability to fulfill your deepest desires. All you have to do is whisper your wish into its secret pocket and it will be granted. However, be wise with your wishes, for every wish comes with a consequence.\n",
            "\n",
            "Use this power to spread joy, kindness, and love.\n",
            "\n",
            "With love,\n",
            "The Backpack Guardian\"\n",
            "\n",
            "Lily was thrilled and could hardly contain her excitement. She thought about all the incredible things she could do with this magical backpack. But the guardian's words echoed in her mind, reminding her to be wise with her wishes and use the power for good.\n",
            "\n",
            "The next morning, Lily decided to test the magic backpack's powers. She whispered her first wish into the secret pocket, \"I wish for beautiful flowers to bloom throughout the village.\" Instantly, a wave of colorful petals began sprouting from the ground, filling the village with an enchanting aroma and bringing smiles to everyone's faces.\n",
            "\n",
            "Eager to explore more possibilities, Lily wished for the school playground to magically transform into a magnificent amusement park. As she arrived at school, she found a carousel spinning, roller coasters zooming, and cotton candy stands popping up everywhere. The children cheered and laughed, relishing in the newfound joy.\n",
            "\n",
            "But as time went on, Lily started to understand the consequences of her wishes. The more she relied on the backpack's magic, the less appreciation the villagers had for the simple joys of life. The flowers became ordinary, and the amusement park lost its novelty.\n",
            "\n",
            "Realizing the true power of the backpack, Lily decided to use it wisely and thoughtfully. She started asking for things that would bring long-lasting happiness and make a positive impact on others' lives. She wished for a library where people could gather to read and learn, and for a community garden to teach everyone the joy of growing their own food.\n",
            "\n",
            "With each wish, Lily saw how the backpack's magic could foster kindness, learning, and unity within the village. The consequences became less severe, because her wishes were selfless and meant to bring joy to everyone around her.\n",
            "\n",
            "Eventually, word spread about the magic backpack and Lily's incredible ability to make wishes come true. People throughout the village began seeking her advice, and together they used the backpack's power to create a better world for all.\n",
            "\n",
            "From that day forward, Lily became known as the guardian of the magical backpack. She taught others to use their wishes wisely, and together they transformed their village into a place filled with love, harmony, and endless possibilities.\n",
            "\n",
            "And so, the magical backpack found its rightful owner in Lily, who used its power to bring happiness to others and make the world a better place, one wish at a time.\n"
          ]
        }
      ]
    }
  ]
}