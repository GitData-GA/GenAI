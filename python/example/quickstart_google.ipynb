{
  "nbformat": 4,
  "nbformat_minor": 0,
  "metadata": {
    "colab": {
      "provenance": [],
      "authorship_tag": "ABX9TyP9BnuhqGqzfbNgkR5RNnfb",
      "include_colab_link": true
    },
    "kernelspec": {
      "name": "python3",
      "display_name": "Python 3"
    },
    "language_info": {
      "name": "python"
    }
  },
  "cells": [
    {
      "cell_type": "markdown",
      "metadata": {
        "id": "view-in-github",
        "colab_type": "text"
      },
      "source": [
        "<a href=\"https://colab.research.google.com/github/GitData-GA/GenAI/blob/gh-pages/python/example/quickstart_google.ipynb\" target=\"_parent\"><img src=\"https://colab.research.google.com/assets/colab-badge.svg\" alt=\"Open In Colab\"/></a>"
      ]
    },
    {
      "cell_type": "markdown",
      "source": [
        "# GeAI quickstart for Google's models"
      ],
      "metadata": {
        "id": "-vgD91x6XTCN"
      }
    },
    {
      "cell_type": "code",
      "source": [
        "pip install GeAI"
      ],
      "metadata": {
        "colab": {
          "base_uri": "https://localhost:8080/"
        },
        "id": "Q4fCEEMWEMvw",
        "outputId": "fb2ddcd4-c3b7-4e12-831a-2b400bb721e1"
      },
      "execution_count": 1,
      "outputs": [
        {
          "output_type": "stream",
          "name": "stdout",
          "text": [
            "Requirement already satisfied: GeAI in /usr/local/lib/python3.10/dist-packages (0.1.8)\n"
          ]
        }
      ]
    },
    {
      "cell_type": "code",
      "execution_count": 2,
      "metadata": {
        "id": "RJXEP3e7XEeN"
      },
      "outputs": [],
      "source": [
        "# Import the library\n",
        "import GeAI as ga\n",
        "\n",
        "# Get supported models\n",
        "models = ga.available_models()\n",
        "\n",
        "# Select a model and connect, replace API_KEY with your api key\n",
        "google_model = ga.connect('google',\n",
        "                          models['google']['model'][0],\n",
        "                          models['google']['version'][0],\n",
        "                          'API_KEY',\n",
        "                          proxy = False)"
      ]
    },
    {
      "cell_type": "markdown",
      "source": [
        "# Text generation"
      ],
      "metadata": {
        "id": "wxVNEnr1XrXq"
      }
    },
    {
      "cell_type": "code",
      "source": [
        "google_text = ga.txt(google_model,\n",
        "                     0.9,\n",
        "                     \"Write a story about a magic backpack.\")\n",
        "print(google_text)"
      ],
      "metadata": {
        "colab": {
          "base_uri": "https://localhost:8080/"
        },
        "id": "WzA6DO_KXgvb",
        "outputId": "a1c35929-eba2-4931-9409-1102e20cccad"
      },
      "execution_count": 3,
      "outputs": [
        {
          "output_type": "stream",
          "name": "stdout",
          "text": [
            "In the quaint town of Willow brook, nestled amidst lush greenery and babbling brooks, lived a young girl named Luna. With her untamed imagination and mischievous smile, Luna was a force to be reckoned with. One day, while rummaging through her grandfather's attic, Luna stumbled upon an old dusty backpack. Intrigued, she unzipped it and a kaleidoscope of radiant colors spilled forth.\n",
            "\n",
            "Upon closer inspection, Luna discovered that this was no ordinary backpack. It was imbued with magic, capable of granting its owner unique abilities. With a gleam in her eye, Luna slipped it over her shoulders and embarked on a series of extraordinary adventures. \n",
            "\n",
            "The first enchantment Luna uncovered was the power of invisibility. By whispering a secret incantation, she could vanish into thin air, leaving behind nothing but echoes of laughter. Luna delighted in playing pranks on her friends and family, appearing and disappearing like a mischievous fairy.\n",
            "\n",
            "As she delved deeper into the backpack's secrets, Luna discovered the ability to fly. Strapping it onto her back, she soared into the sky, painting patterns with her carefree laughter. The wind whispered through her hair as she left a trail of vibrant hues in her wake, mesmerizing all who witnessed her aerial artistry.\n",
            "\n",
            "But the backpack held further surprises. It could conjure fantastical creatures, each with exceptional powers. Luna befriended a mischievous dragon with shimmering scales, who breathed dancing flames that illuminated the night sky. Together, they embarked on thrilling quests, rescuing lost treasures and defeating formidable foes.\n",
            "\n",
            "News of Luna and her enchanted backpack spread like wildfire throughout Willow brook. People flocked from neighboring towns and villages, marveling at the magical wonders she showcased. Luna, ever the entertainer, reveled in the spotlight, using her extraordinary abilities to bring joy and awe to everyone around her.\n",
            "\n",
            "As Luna's adventures continued, she realized that the true magic of the backpack lay not in its extraordinary powers, but in the connections it forged. It taught her the power of friendship, the value of laughter, and the boundless limits of her own imagination. \n",
            "\n",
            "With every escapade, Luna and her magical backpack became symbols of hope and wonder in the hearts of the people of Willow brook. And so, the tale of the magic backpack and the mischievous girl who carried it was passed down through generations, inspiring countless hearts and reminding everyone of the magic that lies within us all.\n"
          ]
        }
      ]
    }
  ]
}